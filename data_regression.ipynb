{
 "cells": [
  {
   "cell_type": "code",
   "execution_count": 58,
   "metadata": {},
   "outputs": [],
   "source": [
    "import pandas as pd\n",
    "import numpy as np\n",
    "from matplotlib import pyplot as plt"
   ]
  },
  {
   "cell_type": "code",
   "execution_count": 59,
   "metadata": {},
   "outputs": [],
   "source": [
    "data = pd.read_csv(\"surveydata.csv\",sep=',',header=0)"
   ]
  },
  {
   "cell_type": "code",
   "execution_count": 60,
   "metadata": {},
   "outputs": [
    {
     "data": {
      "text/html": [
       "<div>\n",
       "<style scoped>\n",
       "    .dataframe tbody tr th:only-of-type {\n",
       "        vertical-align: middle;\n",
       "    }\n",
       "\n",
       "    .dataframe tbody tr th {\n",
       "        vertical-align: top;\n",
       "    }\n",
       "\n",
       "    .dataframe thead th {\n",
       "        text-align: right;\n",
       "    }\n",
       "</style>\n",
       "<table border=\"1\" class=\"dataframe\">\n",
       "  <thead>\n",
       "    <tr style=\"text-align: right;\">\n",
       "      <th></th>\n",
       "      <th>id</th>\n",
       "      <th>提交答卷时间</th>\n",
       "      <th>所用时间</th>\n",
       "      <th>来源</th>\n",
       "      <th>来源详情</th>\n",
       "      <th>来自IP</th>\n",
       "      <th>目前恋爱状态</th>\n",
       "      <th>恋爱次数</th>\n",
       "      <th>结婚意愿</th>\n",
       "      <th>4、您的理想结婚年龄为</th>\n",
       "      <th>...</th>\n",
       "      <th>性别</th>\n",
       "      <th>年龄</th>\n",
       "      <th>来自</th>\n",
       "      <th>户口</th>\n",
       "      <th>25、请问您目前从事的职业为</th>\n",
       "      <th>26、请问您的最高学历是（包括在读）</th>\n",
       "      <th>27、请问您是否为独生子女</th>\n",
       "      <th>28、请问您的月消费区间为</th>\n",
       "      <th>29、如果您对我们的调查结果感兴趣，可以留下您的电子邮箱地址，我们将在课题完成后向您发送研究报告</th>\n",
       "      <th>总分</th>\n",
       "    </tr>\n",
       "  </thead>\n",
       "  <tbody>\n",
       "    <tr>\n",
       "      <th>0</th>\n",
       "      <td>1</td>\n",
       "      <td>2022/11/10 12:54</td>\n",
       "      <td>250秒</td>\n",
       "      <td>微信</td>\n",
       "      <td>NaN</td>\n",
       "      <td>202.120.235.202(上海-上海)</td>\n",
       "      <td>单身，无恋爱打算</td>\n",
       "      <td>3</td>\n",
       "      <td>不知道，顺其自然</td>\n",
       "      <td>26-30</td>\n",
       "      <td>...</td>\n",
       "      <td>男</td>\n",
       "      <td>23</td>\n",
       "      <td>山东</td>\n",
       "      <td>城镇</td>\n",
       "      <td>全日制学生</td>\n",
       "      <td>硕士</td>\n",
       "      <td>是</td>\n",
       "      <td>5000-1万</td>\n",
       "      <td>(空)</td>\n",
       "      <td>0</td>\n",
       "    </tr>\n",
       "    <tr>\n",
       "      <th>1</th>\n",
       "      <td>2</td>\n",
       "      <td>2022/11/10 12:54</td>\n",
       "      <td>183秒</td>\n",
       "      <td>微信</td>\n",
       "      <td>NaN</td>\n",
       "      <td>202.120.235.88(上海-上海)</td>\n",
       "      <td>单身，无恋爱打算</td>\n",
       "      <td>0</td>\n",
       "      <td>不知道，顺其自然</td>\n",
       "      <td>26-30</td>\n",
       "      <td>...</td>\n",
       "      <td>男</td>\n",
       "      <td>21</td>\n",
       "      <td>上海</td>\n",
       "      <td>城镇</td>\n",
       "      <td>全日制学生</td>\n",
       "      <td>硕士</td>\n",
       "      <td>是</td>\n",
       "      <td>1000-3000</td>\n",
       "      <td>(空)</td>\n",
       "      <td>0</td>\n",
       "    </tr>\n",
       "    <tr>\n",
       "      <th>2</th>\n",
       "      <td>3</td>\n",
       "      <td>2022/11/10 12:55</td>\n",
       "      <td>166秒</td>\n",
       "      <td>微信</td>\n",
       "      <td>NaN</td>\n",
       "      <td>223.104.210.217(上海-上海)</td>\n",
       "      <td>单身，有恋爱打算</td>\n",
       "      <td>1</td>\n",
       "      <td>有结婚打算</td>\n",
       "      <td>26-30</td>\n",
       "      <td>...</td>\n",
       "      <td>男</td>\n",
       "      <td>23</td>\n",
       "      <td>上海</td>\n",
       "      <td>城镇</td>\n",
       "      <td>全日制学生</td>\n",
       "      <td>硕士</td>\n",
       "      <td>是</td>\n",
       "      <td>1000-3000</td>\n",
       "      <td>(空)</td>\n",
       "      <td>0</td>\n",
       "    </tr>\n",
       "    <tr>\n",
       "      <th>3</th>\n",
       "      <td>4</td>\n",
       "      <td>2022/11/10 12:55</td>\n",
       "      <td>170秒</td>\n",
       "      <td>手机提交</td>\n",
       "      <td>直接访问</td>\n",
       "      <td>183.192.11.120(上海-上海)</td>\n",
       "      <td>单身，有恋爱打算</td>\n",
       "      <td>3</td>\n",
       "      <td>有结婚打算</td>\n",
       "      <td>26-30</td>\n",
       "      <td>...</td>\n",
       "      <td>男</td>\n",
       "      <td>22</td>\n",
       "      <td>上海</td>\n",
       "      <td>城镇</td>\n",
       "      <td>全日制学生</td>\n",
       "      <td>本科</td>\n",
       "      <td>是</td>\n",
       "      <td>3000-5000</td>\n",
       "      <td>(空)</td>\n",
       "      <td>0</td>\n",
       "    </tr>\n",
       "    <tr>\n",
       "      <th>4</th>\n",
       "      <td>5</td>\n",
       "      <td>2022/11/10 12:56</td>\n",
       "      <td>254秒</td>\n",
       "      <td>微信</td>\n",
       "      <td>NaN</td>\n",
       "      <td>101.82.242.152(上海-上海)</td>\n",
       "      <td>单身，无恋爱打算</td>\n",
       "      <td>1</td>\n",
       "      <td>不知道，顺其自然</td>\n",
       "      <td>26-30</td>\n",
       "      <td>...</td>\n",
       "      <td>女</td>\n",
       "      <td>22</td>\n",
       "      <td>湖北</td>\n",
       "      <td>城镇</td>\n",
       "      <td>全日制学生</td>\n",
       "      <td>硕士</td>\n",
       "      <td>是</td>\n",
       "      <td>1000-3000</td>\n",
       "      <td>(空)</td>\n",
       "      <td>0</td>\n",
       "    </tr>\n",
       "    <tr>\n",
       "      <th>...</th>\n",
       "      <td>...</td>\n",
       "      <td>...</td>\n",
       "      <td>...</td>\n",
       "      <td>...</td>\n",
       "      <td>...</td>\n",
       "      <td>...</td>\n",
       "      <td>...</td>\n",
       "      <td>...</td>\n",
       "      <td>...</td>\n",
       "      <td>...</td>\n",
       "      <td>...</td>\n",
       "      <td>...</td>\n",
       "      <td>...</td>\n",
       "      <td>...</td>\n",
       "      <td>...</td>\n",
       "      <td>...</td>\n",
       "      <td>...</td>\n",
       "      <td>...</td>\n",
       "      <td>...</td>\n",
       "      <td>...</td>\n",
       "      <td>...</td>\n",
       "    </tr>\n",
       "    <tr>\n",
       "      <th>540</th>\n",
       "      <td>541</td>\n",
       "      <td>2022/11/27 20:31</td>\n",
       "      <td>185秒</td>\n",
       "      <td>手机提交</td>\n",
       "      <td>直接访问</td>\n",
       "      <td>202.200.238.130(陕西-西安)</td>\n",
       "      <td>正在恋爱中</td>\n",
       "      <td>2</td>\n",
       "      <td>有结婚打算</td>\n",
       "      <td>26-30</td>\n",
       "      <td>...</td>\n",
       "      <td>男</td>\n",
       "      <td>23</td>\n",
       "      <td>河南</td>\n",
       "      <td>农村</td>\n",
       "      <td>全日制学生</td>\n",
       "      <td>硕士</td>\n",
       "      <td>否</td>\n",
       "      <td>1000-3000</td>\n",
       "      <td>(空)</td>\n",
       "      <td>0</td>\n",
       "    </tr>\n",
       "    <tr>\n",
       "      <th>541</th>\n",
       "      <td>542</td>\n",
       "      <td>2022/11/27 21:17</td>\n",
       "      <td>179秒</td>\n",
       "      <td>手机提交</td>\n",
       "      <td>直接访问</td>\n",
       "      <td>1.85.33.73(陕西-西安)</td>\n",
       "      <td>单身，有恋爱打算</td>\n",
       "      <td>2</td>\n",
       "      <td>有结婚打算</td>\n",
       "      <td>26-30</td>\n",
       "      <td>...</td>\n",
       "      <td>男</td>\n",
       "      <td>20</td>\n",
       "      <td>河南</td>\n",
       "      <td>城镇</td>\n",
       "      <td>全日制学生</td>\n",
       "      <td>本科</td>\n",
       "      <td>是</td>\n",
       "      <td>1000-3000</td>\n",
       "      <td>(空)</td>\n",
       "      <td>0</td>\n",
       "    </tr>\n",
       "    <tr>\n",
       "      <th>542</th>\n",
       "      <td>543</td>\n",
       "      <td>2022/11/29 0:37</td>\n",
       "      <td>269秒</td>\n",
       "      <td>手机提交</td>\n",
       "      <td>直接访问</td>\n",
       "      <td>61.185.212.153(陕西-西安)</td>\n",
       "      <td>正在恋爱中</td>\n",
       "      <td>2</td>\n",
       "      <td>有结婚打算</td>\n",
       "      <td>26-30</td>\n",
       "      <td>...</td>\n",
       "      <td>男</td>\n",
       "      <td>24</td>\n",
       "      <td>河北</td>\n",
       "      <td>城镇</td>\n",
       "      <td>全日制学生</td>\n",
       "      <td>硕士</td>\n",
       "      <td>是</td>\n",
       "      <td>1000-3000</td>\n",
       "      <td>835981083@qq.com</td>\n",
       "      <td>0</td>\n",
       "    </tr>\n",
       "    <tr>\n",
       "      <th>543</th>\n",
       "      <td>544</td>\n",
       "      <td>2022/11/29 9:08</td>\n",
       "      <td>237秒</td>\n",
       "      <td>手机提交</td>\n",
       "      <td>直接访问</td>\n",
       "      <td>113.201.132.189(陕西-西安)</td>\n",
       "      <td>正在恋爱中</td>\n",
       "      <td>1</td>\n",
       "      <td>有结婚打算</td>\n",
       "      <td>26-30</td>\n",
       "      <td>...</td>\n",
       "      <td>男</td>\n",
       "      <td>22</td>\n",
       "      <td>河北</td>\n",
       "      <td>农村</td>\n",
       "      <td>全日制学生</td>\n",
       "      <td>本科</td>\n",
       "      <td>否</td>\n",
       "      <td>1000-3000</td>\n",
       "      <td>2463021186@qq.com</td>\n",
       "      <td>0</td>\n",
       "    </tr>\n",
       "    <tr>\n",
       "      <th>544</th>\n",
       "      <td>545</td>\n",
       "      <td>2022/11/29 10:59</td>\n",
       "      <td>315秒</td>\n",
       "      <td>手机提交</td>\n",
       "      <td>直接访问</td>\n",
       "      <td>202.200.233.61(陕西-西安)</td>\n",
       "      <td>单身，有恋爱打算</td>\n",
       "      <td>1</td>\n",
       "      <td>不会，但接受同居</td>\n",
       "      <td>(跳过)</td>\n",
       "      <td>...</td>\n",
       "      <td>男</td>\n",
       "      <td>22</td>\n",
       "      <td>河北</td>\n",
       "      <td>城镇</td>\n",
       "      <td>全日制学生</td>\n",
       "      <td>硕士</td>\n",
       "      <td>否</td>\n",
       "      <td>1000-3000</td>\n",
       "      <td>ztw17330277102@163.com</td>\n",
       "      <td>0</td>\n",
       "    </tr>\n",
       "  </tbody>\n",
       "</table>\n",
       "<p>545 rows × 66 columns</p>\n",
       "</div>"
      ],
      "text/plain": [
       "      id            提交答卷时间  所用时间    来源  来源详情                    来自IP  \\\n",
       "0      1  2022/11/10 12:54  250秒    微信   NaN  202.120.235.202(上海-上海)   \n",
       "1      2  2022/11/10 12:54  183秒    微信   NaN   202.120.235.88(上海-上海)   \n",
       "2      3  2022/11/10 12:55  166秒    微信   NaN  223.104.210.217(上海-上海)   \n",
       "3      4  2022/11/10 12:55  170秒  手机提交  直接访问   183.192.11.120(上海-上海)   \n",
       "4      5  2022/11/10 12:56  254秒    微信   NaN   101.82.242.152(上海-上海)   \n",
       "..   ...               ...   ...   ...   ...                     ...   \n",
       "540  541  2022/11/27 20:31  185秒  手机提交  直接访问  202.200.238.130(陕西-西安)   \n",
       "541  542  2022/11/27 21:17  179秒  手机提交  直接访问       1.85.33.73(陕西-西安)   \n",
       "542  543   2022/11/29 0:37  269秒  手机提交  直接访问   61.185.212.153(陕西-西安)   \n",
       "543  544   2022/11/29 9:08  237秒  手机提交  直接访问  113.201.132.189(陕西-西安)   \n",
       "544  545  2022/11/29 10:59  315秒  手机提交  直接访问   202.200.233.61(陕西-西安)   \n",
       "\n",
       "       目前恋爱状态 恋爱次数      结婚意愿 4、您的理想结婚年龄为  ... 性别  年龄  来自  户口 25、请问您目前从事的职业为  \\\n",
       "0    单身，无恋爱打算    3  不知道，顺其自然       26-30  ...  男  23  山东  城镇          全日制学生   \n",
       "1    单身，无恋爱打算    0  不知道，顺其自然       26-30  ...  男  21  上海  城镇          全日制学生   \n",
       "2    单身，有恋爱打算    1     有结婚打算       26-30  ...  男  23  上海  城镇          全日制学生   \n",
       "3    单身，有恋爱打算    3     有结婚打算       26-30  ...  男  22  上海  城镇          全日制学生   \n",
       "4    单身，无恋爱打算    1  不知道，顺其自然       26-30  ...  女  22  湖北  城镇          全日制学生   \n",
       "..        ...  ...       ...         ...  ... ..  ..  ..  ..            ...   \n",
       "540     正在恋爱中    2     有结婚打算       26-30  ...  男  23  河南  农村          全日制学生   \n",
       "541  单身，有恋爱打算    2     有结婚打算       26-30  ...  男  20  河南  城镇          全日制学生   \n",
       "542     正在恋爱中    2     有结婚打算       26-30  ...  男  24  河北  城镇          全日制学生   \n",
       "543     正在恋爱中    1     有结婚打算       26-30  ...  男  22  河北  农村          全日制学生   \n",
       "544  单身，有恋爱打算    1  不会，但接受同居        (跳过)  ...  男  22  河北  城镇          全日制学生   \n",
       "\n",
       "    26、请问您的最高学历是（包括在读） 27、请问您是否为独生子女 28、请问您的月消费区间为  \\\n",
       "0                   硕士             是       5000-1万   \n",
       "1                   硕士             是     1000-3000   \n",
       "2                   硕士             是     1000-3000   \n",
       "3                   本科             是     3000-5000   \n",
       "4                   硕士             是     1000-3000   \n",
       "..                 ...           ...           ...   \n",
       "540                 硕士             否     1000-3000   \n",
       "541                 本科             是     1000-3000   \n",
       "542                 硕士             是     1000-3000   \n",
       "543                 本科             否     1000-3000   \n",
       "544                 硕士             否     1000-3000   \n",
       "\n",
       "    29、如果您对我们的调查结果感兴趣，可以留下您的电子邮箱地址，我们将在课题完成后向您发送研究报告 总分  \n",
       "0                                                (空)  0  \n",
       "1                                                (空)  0  \n",
       "2                                                (空)  0  \n",
       "3                                                (空)  0  \n",
       "4                                                (空)  0  \n",
       "..                                               ... ..  \n",
       "540                                              (空)  0  \n",
       "541                                              (空)  0  \n",
       "542                                 835981083@qq.com  0  \n",
       "543                                2463021186@qq.com  0  \n",
       "544                           ztw17330277102@163.com  0  \n",
       "\n",
       "[545 rows x 66 columns]"
      ]
     },
     "execution_count": 60,
     "metadata": {},
     "output_type": "execute_result"
    }
   ],
   "source": [
    "data"
   ]
  },
  {
   "attachments": {},
   "cell_type": "markdown",
   "metadata": {},
   "source": [
    "### 截取需要分析的数据"
   ]
  },
  {
   "cell_type": "code",
   "execution_count": 61,
   "metadata": {},
   "outputs": [
    {
     "data": {
      "text/plain": [
       "性别          0\n",
       "目前恋爱状态      0\n",
       "恋爱次数        0\n",
       "结婚意愿        0\n",
       "意愿子女数       0\n",
       "理想子女数       0\n",
       "动漫          0\n",
       "综艺          0\n",
       "体育/电竞       0\n",
       "明星          0\n",
       "科技/数码       0\n",
       "网文          0\n",
       "游戏          0\n",
       "微博          0\n",
       "知乎          0\n",
       "豆瓣          0\n",
       "虎扑          0\n",
       "百度贴吧        0\n",
       "小红书         0\n",
       "B站          0\n",
       "短视频         0\n",
       "朋友圈秀恩爱晒娃    0\n",
       "恋爱相亲育儿综艺    0\n",
       "国家生育政策      0\n",
       "专家教授发表看法    0\n",
       "娱乐圈情感八卦     0\n",
       "身边人经历       0\n",
       "艺术作品        0\n",
       "dtype: int64"
      ]
     },
     "execution_count": 61,
     "metadata": {},
     "output_type": "execute_result"
    }
   ],
   "source": [
    "#截取出需要用于机器学习算法分析的数据\n",
    "df = data[['性别','目前恋爱状态','恋爱次数','结婚意愿','意愿子女数','理想子女数',\n",
    "            '动漫','综艺','体育/电竞','明星','科技/数码','网文','游戏',\n",
    "            '微博','知乎','豆瓣','虎扑','百度贴吧','小红书','B站','短视频',\n",
    "            '朋友圈秀恩爱晒娃','恋爱相亲育儿综艺','国家生育政策','专家教授发表看法','娱乐圈情感八卦','身边人经历','艺术作品']]\n",
    "\n",
    "df.isnull().sum() #检查有无缺失值。发现没有"
   ]
  },
  {
   "cell_type": "code",
   "execution_count": 62,
   "metadata": {},
   "outputs": [
    {
     "name": "stderr",
     "output_type": "stream",
     "text": [
      "C:\\Users\\24561\\AppData\\Local\\Temp\\ipykernel_22448\\1338704866.py:1: SettingWithCopyWarning: \n",
      "A value is trying to be set on a copy of a slice from a DataFrame\n",
      "\n",
      "See the caveats in the documentation: https://pandas.pydata.org/pandas-docs/stable/user_guide/indexing.html#returning-a-view-versus-a-copy\n",
      "  df.loc[df['恋爱次数']=='4及以上','恋爱次数'] = 4 #设定恋爱次数为4及以上的统统变为4\n",
      "C:\\Users\\24561\\AppData\\Local\\Temp\\ipykernel_22448\\1338704866.py:2: SettingWithCopyWarning: \n",
      "A value is trying to be set on a copy of a slice from a DataFrame\n",
      "\n",
      "See the caveats in the documentation: https://pandas.pydata.org/pandas-docs/stable/user_guide/indexing.html#returning-a-view-versus-a-copy\n",
      "  df.loc[df['意愿子女数']=='4个及以上','意愿子女数'] = 4 #设定意愿子女数为4及以上的统统变为4\n",
      "C:\\Users\\24561\\AppData\\Local\\Temp\\ipykernel_22448\\1338704866.py:3: SettingWithCopyWarning: \n",
      "A value is trying to be set on a copy of a slice from a DataFrame\n",
      "\n",
      "See the caveats in the documentation: https://pandas.pydata.org/pandas-docs/stable/user_guide/indexing.html#returning-a-view-versus-a-copy\n",
      "  df.loc[df['理想子女数']=='4个及以上','理想子女数'] = 4 #设定理想子女数为4及以上的统统变为4\n",
      "C:\\Users\\24561\\AppData\\Local\\Temp\\ipykernel_22448\\1338704866.py:5: SettingWithCopyWarning: \n",
      "A value is trying to be set on a copy of a slice from a DataFrame.\n",
      "Try using .loc[row_indexer,col_indexer] = value instead\n",
      "\n",
      "See the caveats in the documentation: https://pandas.pydata.org/pandas-docs/stable/user_guide/indexing.html#returning-a-view-versus-a-copy\n",
      "  df[['恋爱次数','意愿子女数','理想子女数']] = df[['恋爱次数','意愿子女数','理想子女数']].astype(int) #将数值字段全变为Int类型\n"
     ]
    }
   ],
   "source": [
    "df.loc[df['恋爱次数']=='4及以上','恋爱次数'] = 4 #设定恋爱次数为4及以上的统统变为4\n",
    "df.loc[df['意愿子女数']=='4个及以上','意愿子女数'] = 4 #设定意愿子女数为4及以上的统统变为4\n",
    "df.loc[df['理想子女数']=='4个及以上','理想子女数'] = 4 #设定理想子女数为4及以上的统统变为4\n",
    "\n",
    "df[['恋爱次数','意愿子女数','理想子女数']] = df[['恋爱次数','意愿子女数','理想子女数']].astype(int) #将数值字段全变为Int类型\n",
    "df_y = df[['恋爱次数','意愿子女数','理想子女数']]  #这些可以认为是回归的因变量\n",
    "df_y.columns = ['恋爱次数','意愿子女数','理想子女数']  #给因变量y附上列名"
   ]
  },
  {
   "cell_type": "code",
   "execution_count": 63,
   "metadata": {},
   "outputs": [
    {
     "data": {
      "text/plain": [
       "性别          object\n",
       "目前恋爱状态      object\n",
       "恋爱次数         int32\n",
       "结婚意愿        object\n",
       "意愿子女数        int32\n",
       "理想子女数        int32\n",
       "动漫          object\n",
       "综艺          object\n",
       "体育/电竞       object\n",
       "明星          object\n",
       "科技/数码       object\n",
       "网文          object\n",
       "游戏          object\n",
       "微博          object\n",
       "知乎          object\n",
       "豆瓣          object\n",
       "虎扑          object\n",
       "百度贴吧        object\n",
       "小红书         object\n",
       "B站          object\n",
       "短视频         object\n",
       "朋友圈秀恩爱晒娃    object\n",
       "恋爱相亲育儿综艺    object\n",
       "国家生育政策      object\n",
       "专家教授发表看法    object\n",
       "娱乐圈情感八卦     object\n",
       "身边人经历       object\n",
       "艺术作品        object\n",
       "dtype: object"
      ]
     },
     "execution_count": 63,
     "metadata": {},
     "output_type": "execute_result"
    }
   ],
   "source": [
    "df.dtypes #查看字段属性，发现全为object属性。需要将其中的一些变为int属性"
   ]
  },
  {
   "attachments": {},
   "cell_type": "markdown",
   "metadata": {},
   "source": [
    "### 数据预处理"
   ]
  },
  {
   "cell_type": "code",
   "execution_count": 64,
   "metadata": {},
   "outputs": [],
   "source": [
    "#数据预处理导库（主要针对类别数据）\n",
    "from sklearn.preprocessing import LabelEncoder\n",
    "from sklearn.preprocessing import OrdinalEncoder\n",
    "from sklearn.preprocessing import OneHotEncoder\n",
    "from sklearn.preprocessing import Binarizer\n",
    "from sklearn.preprocessing import KBinsDiscretizer"
   ]
  },
  {
   "cell_type": "code",
   "execution_count": 65,
   "metadata": {},
   "outputs": [],
   "source": [
    "le = LabelEncoder()\n",
    "le_f = le.fit(df['性别'])\n",
    "sex_label = le_f.transform(df['性别']) #性别：男生为1，女生为0\n",
    "df_sex = pd.DataFrame(sex_label)\n",
    "df_sex.columns = ['性别']"
   ]
  },
  {
   "cell_type": "code",
   "execution_count": 66,
   "metadata": {},
   "outputs": [],
   "source": [
    "oe_marri = OrdinalEncoder(categories=[['不会，打算单身','不会，但接受同居','不知道，顺其自然','有结婚打算']]) #结婚意愿为一个分类的指标\n",
    "oe_mariager = oe_marri.fit(np.array(df.loc[:,'结婚意愿']).reshape(-1,1))\n",
    "marriage_intent = oe_marriage.transform(np.array(df.loc[:,'结婚意愿']).reshape(-1,1)) #结婚意愿：0:不会，打算单身 1:不会，接受同居 2：不知道，顺其自然 3:打算结婚\n",
    "df_marriageintent = pd.DataFrame(marriage_intent)\n",
    "df_marriageintent.columns = ['结婚意愿']"
   ]
  },
  {
   "cell_type": "code",
   "execution_count": 67,
   "metadata": {},
   "outputs": [],
   "source": [
    "column_num = len(df.loc[:,'动漫':'游戏'].columns)\n",
    "cates1 = [\"不参与\",\"参与较少\",\"参与较多\",\"参与程度极高\"]\n",
    "oe_part = OrdinalEncoder(categories=[cates1]*column_num) #对圈层参与程度进行程度的等级化,此刻需要按照一定顺序\n",
    "oe_participate = oe_part.fit(df.loc[:,'动漫':'游戏'])\n",
    "participation = oe_participate.transform(df.loc[:,'动漫':'游戏'])  #0：不参与 1：参与较少 2：参与较多 3：参与程度极高\n",
    "df_participation = pd.DataFrame(participation)\n",
    "df_participation.columns = ['动漫','综艺','体育/电竞','明星','科技/数码','网文','游戏']"
   ]
  },
  {
   "cell_type": "code",
   "execution_count": 68,
   "metadata": {},
   "outputs": [],
   "source": [
    "column_num = len(df.loc[:,'微博':'短视频'].columns)\n",
    "cates2 = [\"完全不使用\",\"使用较少\",\"使用较多\",\"使用频率极高\"]\n",
    "oe_use = OrdinalEncoder(categories=[cates2]*column_num) #对APP使用程度进行程度的等级化,此刻需要按照一定顺序\n",
    "oe_usage = oe_use.fit(df.loc[:,'微博':'短视频'])\n",
    "usage = oe_usage.transform(df.loc[:,'微博':'短视频'])  #0：完全不使用 1：使用较少 2：使用较多 3：使用频率极高\n",
    "df_usage = pd.DataFrame(usage)\n",
    "df_usage.columns = ['微博','知乎','豆瓣','虎扑','百度贴吧','小红书','B站','短视频']"
   ]
  },
  {
   "cell_type": "code",
   "execution_count": 69,
   "metadata": {},
   "outputs": [],
   "source": [
    "column_num = len(df.loc[:,'朋友圈秀恩爱晒娃':'艺术作品'].columns)\n",
    "cates3 = [\"完全不影响\",\"影响较少\",\"影响较大\",\"影响极大\"]\n",
    "oe_influ = OrdinalEncoder(categories=[cates3]*column_num) #对受互联网影响程度进行程度的等级化,此刻需要按照一定顺序\n",
    "oe_influence = oe_influ.fit(df.loc[:,'朋友圈秀恩爱晒娃':'艺术作品'])\n",
    "influence = oe_influence.transform(df.loc[:,'朋友圈秀恩爱晒娃':'艺术作品'])  #0：完全不影响 1：影响较少 2：影响较大 3：影响极大\n",
    "df_influence = pd.DataFrame(influence)\n",
    "df_influence.columns = ['朋友圈秀恩爱晒娃','恋爱相亲育儿综艺','国家生育政策','专家教授发表看法','娱乐圈情感八卦','身边人经历','艺术作品']"
   ]
  },
  {
   "cell_type": "code",
   "execution_count": 70,
   "metadata": {},
   "outputs": [
    {
     "data": {
      "text/html": [
       "<div>\n",
       "<style scoped>\n",
       "    .dataframe tbody tr th:only-of-type {\n",
       "        vertical-align: middle;\n",
       "    }\n",
       "\n",
       "    .dataframe tbody tr th {\n",
       "        vertical-align: top;\n",
       "    }\n",
       "\n",
       "    .dataframe thead th {\n",
       "        text-align: right;\n",
       "    }\n",
       "</style>\n",
       "<table border=\"1\" class=\"dataframe\">\n",
       "  <thead>\n",
       "    <tr style=\"text-align: right;\">\n",
       "      <th></th>\n",
       "      <th>朋友圈秀恩爱晒娃</th>\n",
       "      <th>恋爱相亲育儿综艺</th>\n",
       "      <th>国家生育政策</th>\n",
       "      <th>专家教授发表看法</th>\n",
       "      <th>娱乐圈情感八卦</th>\n",
       "      <th>身边人经历</th>\n",
       "      <th>艺术作品</th>\n",
       "    </tr>\n",
       "  </thead>\n",
       "  <tbody>\n",
       "    <tr>\n",
       "      <th>0</th>\n",
       "      <td>2.0</td>\n",
       "      <td>0.0</td>\n",
       "      <td>1.0</td>\n",
       "      <td>1.0</td>\n",
       "      <td>1.0</td>\n",
       "      <td>3.0</td>\n",
       "      <td>2.0</td>\n",
       "    </tr>\n",
       "    <tr>\n",
       "      <th>1</th>\n",
       "      <td>2.0</td>\n",
       "      <td>1.0</td>\n",
       "      <td>1.0</td>\n",
       "      <td>0.0</td>\n",
       "      <td>0.0</td>\n",
       "      <td>2.0</td>\n",
       "      <td>1.0</td>\n",
       "    </tr>\n",
       "    <tr>\n",
       "      <th>2</th>\n",
       "      <td>1.0</td>\n",
       "      <td>0.0</td>\n",
       "      <td>2.0</td>\n",
       "      <td>0.0</td>\n",
       "      <td>0.0</td>\n",
       "      <td>2.0</td>\n",
       "      <td>0.0</td>\n",
       "    </tr>\n",
       "    <tr>\n",
       "      <th>3</th>\n",
       "      <td>1.0</td>\n",
       "      <td>1.0</td>\n",
       "      <td>0.0</td>\n",
       "      <td>0.0</td>\n",
       "      <td>0.0</td>\n",
       "      <td>1.0</td>\n",
       "      <td>0.0</td>\n",
       "    </tr>\n",
       "    <tr>\n",
       "      <th>4</th>\n",
       "      <td>0.0</td>\n",
       "      <td>0.0</td>\n",
       "      <td>3.0</td>\n",
       "      <td>0.0</td>\n",
       "      <td>0.0</td>\n",
       "      <td>2.0</td>\n",
       "      <td>0.0</td>\n",
       "    </tr>\n",
       "    <tr>\n",
       "      <th>...</th>\n",
       "      <td>...</td>\n",
       "      <td>...</td>\n",
       "      <td>...</td>\n",
       "      <td>...</td>\n",
       "      <td>...</td>\n",
       "      <td>...</td>\n",
       "      <td>...</td>\n",
       "    </tr>\n",
       "    <tr>\n",
       "      <th>540</th>\n",
       "      <td>0.0</td>\n",
       "      <td>0.0</td>\n",
       "      <td>0.0</td>\n",
       "      <td>0.0</td>\n",
       "      <td>0.0</td>\n",
       "      <td>0.0</td>\n",
       "      <td>0.0</td>\n",
       "    </tr>\n",
       "    <tr>\n",
       "      <th>541</th>\n",
       "      <td>1.0</td>\n",
       "      <td>1.0</td>\n",
       "      <td>3.0</td>\n",
       "      <td>1.0</td>\n",
       "      <td>1.0</td>\n",
       "      <td>2.0</td>\n",
       "      <td>2.0</td>\n",
       "    </tr>\n",
       "    <tr>\n",
       "      <th>542</th>\n",
       "      <td>0.0</td>\n",
       "      <td>0.0</td>\n",
       "      <td>1.0</td>\n",
       "      <td>0.0</td>\n",
       "      <td>1.0</td>\n",
       "      <td>2.0</td>\n",
       "      <td>1.0</td>\n",
       "    </tr>\n",
       "    <tr>\n",
       "      <th>543</th>\n",
       "      <td>1.0</td>\n",
       "      <td>0.0</td>\n",
       "      <td>0.0</td>\n",
       "      <td>0.0</td>\n",
       "      <td>0.0</td>\n",
       "      <td>2.0</td>\n",
       "      <td>1.0</td>\n",
       "    </tr>\n",
       "    <tr>\n",
       "      <th>544</th>\n",
       "      <td>2.0</td>\n",
       "      <td>0.0</td>\n",
       "      <td>1.0</td>\n",
       "      <td>0.0</td>\n",
       "      <td>0.0</td>\n",
       "      <td>2.0</td>\n",
       "      <td>2.0</td>\n",
       "    </tr>\n",
       "  </tbody>\n",
       "</table>\n",
       "<p>545 rows × 7 columns</p>\n",
       "</div>"
      ],
      "text/plain": [
       "     朋友圈秀恩爱晒娃  恋爱相亲育儿综艺  国家生育政策  专家教授发表看法  娱乐圈情感八卦  身边人经历  艺术作品\n",
       "0         2.0       0.0     1.0       1.0      1.0    3.0   2.0\n",
       "1         2.0       1.0     1.0       0.0      0.0    2.0   1.0\n",
       "2         1.0       0.0     2.0       0.0      0.0    2.0   0.0\n",
       "3         1.0       1.0     0.0       0.0      0.0    1.0   0.0\n",
       "4         0.0       0.0     3.0       0.0      0.0    2.0   0.0\n",
       "..        ...       ...     ...       ...      ...    ...   ...\n",
       "540       0.0       0.0     0.0       0.0      0.0    0.0   0.0\n",
       "541       1.0       1.0     3.0       1.0      1.0    2.0   2.0\n",
       "542       0.0       0.0     1.0       0.0      1.0    2.0   1.0\n",
       "543       1.0       0.0     0.0       0.0      0.0    2.0   1.0\n",
       "544       2.0       0.0     1.0       0.0      0.0    2.0   2.0\n",
       "\n",
       "[545 rows x 7 columns]"
      ]
     },
     "execution_count": 70,
     "metadata": {},
     "output_type": "execute_result"
    }
   ],
   "source": [
    "df_influence"
   ]
  },
  {
   "cell_type": "code",
   "execution_count": 71,
   "metadata": {},
   "outputs": [],
   "source": [
    "df_pro = pd.concat([df_y,df_sex,df_marriageintent,df_participation,df_usage,df_influence],axis=1)"
   ]
  },
  {
   "cell_type": "code",
   "execution_count": 72,
   "metadata": {},
   "outputs": [
    {
     "data": {
      "text/html": [
       "<div>\n",
       "<style scoped>\n",
       "    .dataframe tbody tr th:only-of-type {\n",
       "        vertical-align: middle;\n",
       "    }\n",
       "\n",
       "    .dataframe tbody tr th {\n",
       "        vertical-align: top;\n",
       "    }\n",
       "\n",
       "    .dataframe thead th {\n",
       "        text-align: right;\n",
       "    }\n",
       "</style>\n",
       "<table border=\"1\" class=\"dataframe\">\n",
       "  <thead>\n",
       "    <tr style=\"text-align: right;\">\n",
       "      <th></th>\n",
       "      <th>恋爱次数</th>\n",
       "      <th>意愿子女数</th>\n",
       "      <th>理想子女数</th>\n",
       "      <th>性别</th>\n",
       "      <th>结婚意愿</th>\n",
       "      <th>动漫</th>\n",
       "      <th>综艺</th>\n",
       "      <th>体育/电竞</th>\n",
       "      <th>明星</th>\n",
       "      <th>科技/数码</th>\n",
       "      <th>...</th>\n",
       "      <th>小红书</th>\n",
       "      <th>B站</th>\n",
       "      <th>短视频</th>\n",
       "      <th>朋友圈秀恩爱晒娃</th>\n",
       "      <th>恋爱相亲育儿综艺</th>\n",
       "      <th>国家生育政策</th>\n",
       "      <th>专家教授发表看法</th>\n",
       "      <th>娱乐圈情感八卦</th>\n",
       "      <th>身边人经历</th>\n",
       "      <th>艺术作品</th>\n",
       "    </tr>\n",
       "  </thead>\n",
       "  <tbody>\n",
       "    <tr>\n",
       "      <th>0</th>\n",
       "      <td>3</td>\n",
       "      <td>2</td>\n",
       "      <td>2</td>\n",
       "      <td>1</td>\n",
       "      <td>2.0</td>\n",
       "      <td>1.0</td>\n",
       "      <td>0.0</td>\n",
       "      <td>2.0</td>\n",
       "      <td>1.0</td>\n",
       "      <td>2.0</td>\n",
       "      <td>...</td>\n",
       "      <td>1.0</td>\n",
       "      <td>3.0</td>\n",
       "      <td>0.0</td>\n",
       "      <td>2.0</td>\n",
       "      <td>0.0</td>\n",
       "      <td>1.0</td>\n",
       "      <td>1.0</td>\n",
       "      <td>1.0</td>\n",
       "      <td>3.0</td>\n",
       "      <td>2.0</td>\n",
       "    </tr>\n",
       "    <tr>\n",
       "      <th>1</th>\n",
       "      <td>0</td>\n",
       "      <td>1</td>\n",
       "      <td>1</td>\n",
       "      <td>1</td>\n",
       "      <td>2.0</td>\n",
       "      <td>0.0</td>\n",
       "      <td>0.0</td>\n",
       "      <td>0.0</td>\n",
       "      <td>0.0</td>\n",
       "      <td>0.0</td>\n",
       "      <td>...</td>\n",
       "      <td>1.0</td>\n",
       "      <td>1.0</td>\n",
       "      <td>0.0</td>\n",
       "      <td>2.0</td>\n",
       "      <td>1.0</td>\n",
       "      <td>1.0</td>\n",
       "      <td>0.0</td>\n",
       "      <td>0.0</td>\n",
       "      <td>2.0</td>\n",
       "      <td>1.0</td>\n",
       "    </tr>\n",
       "    <tr>\n",
       "      <th>2</th>\n",
       "      <td>1</td>\n",
       "      <td>2</td>\n",
       "      <td>1</td>\n",
       "      <td>1</td>\n",
       "      <td>3.0</td>\n",
       "      <td>3.0</td>\n",
       "      <td>0.0</td>\n",
       "      <td>2.0</td>\n",
       "      <td>0.0</td>\n",
       "      <td>1.0</td>\n",
       "      <td>...</td>\n",
       "      <td>0.0</td>\n",
       "      <td>3.0</td>\n",
       "      <td>1.0</td>\n",
       "      <td>1.0</td>\n",
       "      <td>0.0</td>\n",
       "      <td>2.0</td>\n",
       "      <td>0.0</td>\n",
       "      <td>0.0</td>\n",
       "      <td>2.0</td>\n",
       "      <td>0.0</td>\n",
       "    </tr>\n",
       "    <tr>\n",
       "      <th>3</th>\n",
       "      <td>3</td>\n",
       "      <td>2</td>\n",
       "      <td>2</td>\n",
       "      <td>1</td>\n",
       "      <td>3.0</td>\n",
       "      <td>1.0</td>\n",
       "      <td>2.0</td>\n",
       "      <td>2.0</td>\n",
       "      <td>0.0</td>\n",
       "      <td>1.0</td>\n",
       "      <td>...</td>\n",
       "      <td>1.0</td>\n",
       "      <td>3.0</td>\n",
       "      <td>0.0</td>\n",
       "      <td>1.0</td>\n",
       "      <td>1.0</td>\n",
       "      <td>0.0</td>\n",
       "      <td>0.0</td>\n",
       "      <td>0.0</td>\n",
       "      <td>1.0</td>\n",
       "      <td>0.0</td>\n",
       "    </tr>\n",
       "    <tr>\n",
       "      <th>4</th>\n",
       "      <td>1</td>\n",
       "      <td>0</td>\n",
       "      <td>0</td>\n",
       "      <td>0</td>\n",
       "      <td>2.0</td>\n",
       "      <td>3.0</td>\n",
       "      <td>2.0</td>\n",
       "      <td>1.0</td>\n",
       "      <td>1.0</td>\n",
       "      <td>2.0</td>\n",
       "      <td>...</td>\n",
       "      <td>3.0</td>\n",
       "      <td>3.0</td>\n",
       "      <td>0.0</td>\n",
       "      <td>0.0</td>\n",
       "      <td>0.0</td>\n",
       "      <td>3.0</td>\n",
       "      <td>0.0</td>\n",
       "      <td>0.0</td>\n",
       "      <td>2.0</td>\n",
       "      <td>0.0</td>\n",
       "    </tr>\n",
       "    <tr>\n",
       "      <th>...</th>\n",
       "      <td>...</td>\n",
       "      <td>...</td>\n",
       "      <td>...</td>\n",
       "      <td>...</td>\n",
       "      <td>...</td>\n",
       "      <td>...</td>\n",
       "      <td>...</td>\n",
       "      <td>...</td>\n",
       "      <td>...</td>\n",
       "      <td>...</td>\n",
       "      <td>...</td>\n",
       "      <td>...</td>\n",
       "      <td>...</td>\n",
       "      <td>...</td>\n",
       "      <td>...</td>\n",
       "      <td>...</td>\n",
       "      <td>...</td>\n",
       "      <td>...</td>\n",
       "      <td>...</td>\n",
       "      <td>...</td>\n",
       "      <td>...</td>\n",
       "    </tr>\n",
       "    <tr>\n",
       "      <th>540</th>\n",
       "      <td>2</td>\n",
       "      <td>1</td>\n",
       "      <td>0</td>\n",
       "      <td>1</td>\n",
       "      <td>3.0</td>\n",
       "      <td>1.0</td>\n",
       "      <td>0.0</td>\n",
       "      <td>3.0</td>\n",
       "      <td>0.0</td>\n",
       "      <td>1.0</td>\n",
       "      <td>...</td>\n",
       "      <td>0.0</td>\n",
       "      <td>2.0</td>\n",
       "      <td>0.0</td>\n",
       "      <td>0.0</td>\n",
       "      <td>0.0</td>\n",
       "      <td>0.0</td>\n",
       "      <td>0.0</td>\n",
       "      <td>0.0</td>\n",
       "      <td>0.0</td>\n",
       "      <td>0.0</td>\n",
       "    </tr>\n",
       "    <tr>\n",
       "      <th>541</th>\n",
       "      <td>2</td>\n",
       "      <td>0</td>\n",
       "      <td>0</td>\n",
       "      <td>1</td>\n",
       "      <td>3.0</td>\n",
       "      <td>3.0</td>\n",
       "      <td>0.0</td>\n",
       "      <td>1.0</td>\n",
       "      <td>0.0</td>\n",
       "      <td>3.0</td>\n",
       "      <td>...</td>\n",
       "      <td>0.0</td>\n",
       "      <td>3.0</td>\n",
       "      <td>0.0</td>\n",
       "      <td>1.0</td>\n",
       "      <td>1.0</td>\n",
       "      <td>3.0</td>\n",
       "      <td>1.0</td>\n",
       "      <td>1.0</td>\n",
       "      <td>2.0</td>\n",
       "      <td>2.0</td>\n",
       "    </tr>\n",
       "    <tr>\n",
       "      <th>542</th>\n",
       "      <td>2</td>\n",
       "      <td>1</td>\n",
       "      <td>2</td>\n",
       "      <td>1</td>\n",
       "      <td>3.0</td>\n",
       "      <td>2.0</td>\n",
       "      <td>1.0</td>\n",
       "      <td>1.0</td>\n",
       "      <td>1.0</td>\n",
       "      <td>1.0</td>\n",
       "      <td>...</td>\n",
       "      <td>2.0</td>\n",
       "      <td>3.0</td>\n",
       "      <td>1.0</td>\n",
       "      <td>0.0</td>\n",
       "      <td>0.0</td>\n",
       "      <td>1.0</td>\n",
       "      <td>0.0</td>\n",
       "      <td>1.0</td>\n",
       "      <td>2.0</td>\n",
       "      <td>1.0</td>\n",
       "    </tr>\n",
       "    <tr>\n",
       "      <th>543</th>\n",
       "      <td>1</td>\n",
       "      <td>1</td>\n",
       "      <td>1</td>\n",
       "      <td>1</td>\n",
       "      <td>3.0</td>\n",
       "      <td>1.0</td>\n",
       "      <td>0.0</td>\n",
       "      <td>2.0</td>\n",
       "      <td>0.0</td>\n",
       "      <td>0.0</td>\n",
       "      <td>...</td>\n",
       "      <td>0.0</td>\n",
       "      <td>2.0</td>\n",
       "      <td>1.0</td>\n",
       "      <td>1.0</td>\n",
       "      <td>0.0</td>\n",
       "      <td>0.0</td>\n",
       "      <td>0.0</td>\n",
       "      <td>0.0</td>\n",
       "      <td>2.0</td>\n",
       "      <td>1.0</td>\n",
       "    </tr>\n",
       "    <tr>\n",
       "      <th>544</th>\n",
       "      <td>1</td>\n",
       "      <td>1</td>\n",
       "      <td>2</td>\n",
       "      <td>1</td>\n",
       "      <td>1.0</td>\n",
       "      <td>2.0</td>\n",
       "      <td>0.0</td>\n",
       "      <td>0.0</td>\n",
       "      <td>0.0</td>\n",
       "      <td>1.0</td>\n",
       "      <td>...</td>\n",
       "      <td>1.0</td>\n",
       "      <td>3.0</td>\n",
       "      <td>1.0</td>\n",
       "      <td>2.0</td>\n",
       "      <td>0.0</td>\n",
       "      <td>1.0</td>\n",
       "      <td>0.0</td>\n",
       "      <td>0.0</td>\n",
       "      <td>2.0</td>\n",
       "      <td>2.0</td>\n",
       "    </tr>\n",
       "  </tbody>\n",
       "</table>\n",
       "<p>545 rows × 27 columns</p>\n",
       "</div>"
      ],
      "text/plain": [
       "     恋爱次数  意愿子女数  理想子女数  性别  结婚意愿   动漫   综艺  体育/电竞   明星  科技/数码  ...  小红书   B站  \\\n",
       "0       3      2      2   1   2.0  1.0  0.0    2.0  1.0    2.0  ...  1.0  3.0   \n",
       "1       0      1      1   1   2.0  0.0  0.0    0.0  0.0    0.0  ...  1.0  1.0   \n",
       "2       1      2      1   1   3.0  3.0  0.0    2.0  0.0    1.0  ...  0.0  3.0   \n",
       "3       3      2      2   1   3.0  1.0  2.0    2.0  0.0    1.0  ...  1.0  3.0   \n",
       "4       1      0      0   0   2.0  3.0  2.0    1.0  1.0    2.0  ...  3.0  3.0   \n",
       "..    ...    ...    ...  ..   ...  ...  ...    ...  ...    ...  ...  ...  ...   \n",
       "540     2      1      0   1   3.0  1.0  0.0    3.0  0.0    1.0  ...  0.0  2.0   \n",
       "541     2      0      0   1   3.0  3.0  0.0    1.0  0.0    3.0  ...  0.0  3.0   \n",
       "542     2      1      2   1   3.0  2.0  1.0    1.0  1.0    1.0  ...  2.0  3.0   \n",
       "543     1      1      1   1   3.0  1.0  0.0    2.0  0.0    0.0  ...  0.0  2.0   \n",
       "544     1      1      2   1   1.0  2.0  0.0    0.0  0.0    1.0  ...  1.0  3.0   \n",
       "\n",
       "     短视频  朋友圈秀恩爱晒娃  恋爱相亲育儿综艺  国家生育政策  专家教授发表看法  娱乐圈情感八卦  身边人经历  艺术作品  \n",
       "0    0.0       2.0       0.0     1.0       1.0      1.0    3.0   2.0  \n",
       "1    0.0       2.0       1.0     1.0       0.0      0.0    2.0   1.0  \n",
       "2    1.0       1.0       0.0     2.0       0.0      0.0    2.0   0.0  \n",
       "3    0.0       1.0       1.0     0.0       0.0      0.0    1.0   0.0  \n",
       "4    0.0       0.0       0.0     3.0       0.0      0.0    2.0   0.0  \n",
       "..   ...       ...       ...     ...       ...      ...    ...   ...  \n",
       "540  0.0       0.0       0.0     0.0       0.0      0.0    0.0   0.0  \n",
       "541  0.0       1.0       1.0     3.0       1.0      1.0    2.0   2.0  \n",
       "542  1.0       0.0       0.0     1.0       0.0      1.0    2.0   1.0  \n",
       "543  1.0       1.0       0.0     0.0       0.0      0.0    2.0   1.0  \n",
       "544  1.0       2.0       0.0     1.0       0.0      0.0    2.0   2.0  \n",
       "\n",
       "[545 rows x 27 columns]"
      ]
     },
     "execution_count": 72,
     "metadata": {},
     "output_type": "execute_result"
    }
   ],
   "source": [
    "df_pro"
   ]
  },
  {
   "cell_type": "code",
   "execution_count": 73,
   "metadata": {},
   "outputs": [
    {
     "data": {
      "text/plain": [
       "恋爱次数          int32\n",
       "意愿子女数         int32\n",
       "理想子女数         int32\n",
       "性别            int32\n",
       "结婚意愿        float64\n",
       "动漫          float64\n",
       "综艺          float64\n",
       "体育/电竞       float64\n",
       "明星          float64\n",
       "科技/数码       float64\n",
       "网文          float64\n",
       "游戏          float64\n",
       "微博          float64\n",
       "知乎          float64\n",
       "豆瓣          float64\n",
       "虎扑          float64\n",
       "百度贴吧        float64\n",
       "小红书         float64\n",
       "B站          float64\n",
       "短视频         float64\n",
       "朋友圈秀恩爱晒娃    float64\n",
       "恋爱相亲育儿综艺    float64\n",
       "国家生育政策      float64\n",
       "专家教授发表看法    float64\n",
       "娱乐圈情感八卦     float64\n",
       "身边人经历       float64\n",
       "艺术作品        float64\n",
       "dtype: object"
      ]
     },
     "execution_count": 73,
     "metadata": {},
     "output_type": "execute_result"
    }
   ],
   "source": [
    "df_pro.dtypes #查看每个字段的类型"
   ]
  },
  {
   "attachments": {},
   "cell_type": "markdown",
   "metadata": {},
   "source": [
    "### 分析男女性别差异抽样"
   ]
  },
  {
   "cell_type": "code",
   "execution_count": 74,
   "metadata": {},
   "outputs": [],
   "source": [
    "#单拎出男性与女性的数据用于分析性别差异\n",
    "df_male = df_pro[df_pro['性别']==1]\n",
    "df_female = df_pro[df_pro['性别']==0]\n",
    "df_male = df_male.reset_index(drop = True)\n",
    "df_female = df_female.reset_index(drop = True)\n",
    "\n",
    "#对男性与女性进行抽样，保证样本的平衡性\n",
    "import random\n",
    "index_choice_male = random.sample(list(df_male.index.values),200)\n",
    "index_choice_female = random.sample(list(df_female.index.values),200)\n",
    "df_male_chose = df_male.iloc[index_choice_male,:]\n",
    "df_female_chose = df_female.iloc[index_choice_female,:]\n",
    "df_male_chose = df_male_chose.reset_index(drop = True) #抽样后重新设定Index\n",
    "df_female_chose = df_female_chose.reset_index(drop = True)"
   ]
  },
  {
   "attachments": {},
   "cell_type": "markdown",
   "metadata": {},
   "source": [
    "### 取出要研究的特征与标签"
   ]
  },
  {
   "cell_type": "code",
   "execution_count": 75,
   "metadata": {},
   "outputs": [],
   "source": [
    "#先探究整体的情况。取出圈层、APP使用情况与互联网受影响因素的特征\n",
    "df_circle = df_pro.loc[:,'动漫':'游戏']\n",
    "df_app = df_pro.loc[:,'微博':'短视频']\n",
    "df_exposure = df_pro.loc[:,'朋友圈秀恩爱晒娃':'艺术作品']\n",
    "#取出结婚意愿作为Label\n",
    "label_marry = df_pro.loc[:,'结婚意愿']\n",
    "label_idealchild = df_pro.loc[:,'理想子女数']\n",
    "label_desirechild = df_pro.loc[:,'意愿子女数']"
   ]
  },
  {
   "cell_type": "code",
   "execution_count": 76,
   "metadata": {},
   "outputs": [],
   "source": [
    "#对于抽样出的男性与女性，同样取出特征与标签\n",
    "df_circle_male = df_male_chose.loc[:,'动漫':'游戏']\n",
    "df_app_male = df_male_chose.loc[:,'微博':'短视频']\n",
    "df_exposure_male = df_male_chose.loc[:,'朋友圈秀恩爱晒娃':'艺术作品']\n",
    "label_marry_male = df_male_chose.loc[:,'结婚意愿']\n",
    "label_idealchild_male = df_male_chose.loc[:,'理想子女数']\n",
    "label_desirechild_male = df_male_chose.loc[:,'意愿子女数']\n",
    "\n",
    "df_circle_female = df_female_chose.loc[:,'动漫':'游戏']\n",
    "df_app_female = df_female_chose.loc[:,'微博':'短视频']\n",
    "df_exposure_female = df_female_chose.loc[:,'朋友圈秀恩爱晒娃':'艺术作品']\n",
    "label_marry_female = df_female_chose.loc[:,'结婚意愿']\n",
    "label_idealchild_female = df_female_chose.loc[:,'理想子女数']\n",
    "label_desirechild_female = df_female_chose.loc[:,'意愿子女数']"
   ]
  },
  {
   "cell_type": "code",
   "execution_count": 77,
   "metadata": {},
   "outputs": [],
   "source": [
    "#导入机器学习包，用于聚类与回归分析\n",
    "from sklearn.linear_model import LogisticRegression  #逻辑回归用于返回婚育意愿的权值（逻辑回归的系数用于表现重要程度）\n",
    "from sklearn.tree import DecisionTreeClassifier  #决策树可以输出某特征的重要程度\n"
   ]
  },
  {
   "attachments": {},
   "cell_type": "markdown",
   "metadata": {},
   "source": [
    "## 对结婚意愿的分析——逻辑回归"
   ]
  },
  {
   "attachments": {},
   "cell_type": "markdown",
   "metadata": {},
   "source": [
    "### 关于结婚意愿的圈层分析（逻辑回归）"
   ]
  },
  {
   "cell_type": "code",
   "execution_count": 78,
   "metadata": {},
   "outputs": [
    {
     "name": "stdout",
     "output_type": "stream",
     "text": [
      "[[ 0.0744248  -0.15550266 -0.31251467  0.01949785  0.05441428 -0.01292333\n",
      "   0.11641326]\n",
      " [ 0.02198177  0.09759857 -0.11086852 -0.0809261   0.0564749   0.03124381\n",
      "  -0.0079272 ]\n",
      " [-0.06603721 -0.00759954  0.17824779  0.13409928 -0.07982724  0.09850734\n",
      "  -0.04401081]\n",
      " [-0.03036935  0.06550363  0.2451354  -0.07267103 -0.03106194 -0.11682782\n",
      "  -0.06447524]]\n"
     ]
    }
   ],
   "source": [
    "#先看一下整体的情况\n",
    "lr = LogisticRegression(solver=\"sag\",C=0.5,max_iter=1000,multi_class='multinomial')\n",
    "lr_all = lr.fit(df_circle,label_marry)\n",
    "coef_all = lr_all.coef_\n",
    "print(coef_all)"
   ]
  },
  {
   "cell_type": "code",
   "execution_count": 79,
   "metadata": {},
   "outputs": [
    {
     "name": "stdout",
     "output_type": "stream",
     "text": [
      "[-0.20120073  0.27891038  0.98103325 -0.03074062 -0.19636539 -0.12222497\n",
      " -0.28937455]\n"
     ]
    }
   ],
   "source": [
    "#用系数coef矩阵和[0,1,2,3]做内积得出不同圈层对于结婚意愿的贡献\n",
    "marry_cate = np.array([0,1,2,3])\n",
    "circle_contribute_all = np.matmul(marry_cate,coef_all)\n",
    "print(circle_contribute_all)"
   ]
  },
  {
   "cell_type": "code",
   "execution_count": 80,
   "metadata": {},
   "outputs": [
    {
     "name": "stdout",
     "output_type": "stream",
     "text": [
      "[[ 0.03149737  0.04067545 -0.42589877 -0.69471705 -0.11891615 -0.30501021\n",
      "   0.35697042]\n",
      " [-0.07972259  0.12110905 -0.00403776 -0.0666063   0.19702769  0.07586944\n",
      "   0.04582812]\n",
      " [-0.05169267 -0.13739155  0.2250037   0.4645628  -0.00754237  0.19410804\n",
      "  -0.2926387 ]\n",
      " [ 0.0999179  -0.02439295  0.20493283  0.29676054 -0.07056916  0.03503273\n",
      "  -0.11015984]]\n"
     ]
    }
   ],
   "source": [
    "#再看一下男性的情况\n",
    "lr_m = LogisticRegression(solver=\"sag\",C=0.5,max_iter=1000,multi_class='multinomial')\n",
    "lr_male = lr_m.fit(df_circle_male,label_marry_male)\n",
    "coef_male = lr_male.coef_\n",
    "print(coef_male)"
   ]
  },
  {
   "cell_type": "code",
   "execution_count": 81,
   "metadata": {},
   "outputs": [
    {
     "name": "stdout",
     "output_type": "stream",
     "text": [
      "[ 0.11664575 -0.22685289  1.06076813  1.75280093 -0.02976454  0.56918372\n",
      " -0.8699288 ]\n"
     ]
    }
   ],
   "source": [
    "circle_contribute_male = np.matmul(marry_cate,coef_male)\n",
    "print(circle_contribute_male)"
   ]
  },
  {
   "cell_type": "code",
   "execution_count": 82,
   "metadata": {},
   "outputs": [
    {
     "name": "stdout",
     "output_type": "stream",
     "text": [
      "[[ 0.06334828 -0.30808328  0.40168903 -0.04696508  0.02989144  0.2612529\n",
      "  -0.18106282]\n",
      " [ 0.28960027 -0.05684812 -0.30106363  0.10256853  0.18047409 -0.1065574\n",
      "  -0.09339154]\n",
      " [-0.10017515 -0.04664919  0.0075313   0.15627793  0.03592193 -0.02580812\n",
      "   0.07706358]\n",
      " [-0.25277341  0.41158059 -0.1081567  -0.21188137 -0.24628747 -0.12888738\n",
      "   0.19739078]]\n"
     ]
    }
   ],
   "source": [
    "#再看一下女性的情况\n",
    "lr_w = LogisticRegression(solver=\"sag\",C=0.5,max_iter=1000,multi_class='multinomial')\n",
    "lr_female = lr_w.fit(df_circle_female,label_marry_female)\n",
    "coef_female = lr_female.coef_\n",
    "print(coef_female)"
   ]
  },
  {
   "cell_type": "code",
   "execution_count": 83,
   "metadata": {},
   "outputs": [
    {
     "name": "stdout",
     "output_type": "stream",
     "text": [
      "[-0.66907024  1.08459528 -0.61047112 -0.22051974 -0.48654445 -0.54483577\n",
      "  0.65290794]\n"
     ]
    }
   ],
   "source": [
    "circle_contribute_female = np.matmul(marry_cate,coef_female)\n",
    "print(circle_contribute_female)"
   ]
  },
  {
   "attachments": {},
   "cell_type": "markdown",
   "metadata": {},
   "source": [
    "### 关于结婚意愿的APP使用分析（逻辑回归）"
   ]
  },
  {
   "cell_type": "code",
   "execution_count": 84,
   "metadata": {},
   "outputs": [
    {
     "name": "stdout",
     "output_type": "stream",
     "text": [
      "[[ 0.17367079 -0.3580139  -0.16437825 -0.45116413  0.18706773 -0.0753875\n",
      "  -0.05615384 -0.24751159]\n",
      " [ 0.07052526 -0.01562488  0.14499543 -0.15905329  0.07339265  0.09705658\n",
      "  -0.10612129  0.0095794 ]\n",
      " [-0.07315495  0.26114954 -0.01785436  0.25917368 -0.27088402 -0.07750452\n",
      "   0.14418028  0.12638158]\n",
      " [-0.1710411   0.11248923  0.03723717  0.35104374  0.01042363  0.05583543\n",
      "   0.01809485  0.1115506 ]]\n"
     ]
    }
   ],
   "source": [
    "#先看一下整体的情况\n",
    "lr = LogisticRegression(solver=\"sag\",C=0.5,max_iter=1000,multi_class='multinomial')\n",
    "lr_all = lr.fit(df_app,label_marry)\n",
    "coef_app_all = lr_all.coef_\n",
    "print(coef_app_all)"
   ]
  },
  {
   "cell_type": "code",
   "execution_count": 85,
   "metadata": {},
   "outputs": [
    {
     "name": "stdout",
     "output_type": "stream",
     "text": [
      "[-0.58890793  0.84414191  0.22099823  1.41242529 -0.43710448  0.10955385\n",
      "  0.23652382  0.59699438]\n"
     ]
    }
   ],
   "source": [
    "#用系数coef矩阵和[0,1,2,3]做内积得出不同APP使用情况对于结婚意愿的贡献\n",
    "app_cate = np.array([0,1,2,3])\n",
    "app_contribute_all = np.matmul(app_cate,coef_app_all)\n",
    "print(app_contribute_all)"
   ]
  },
  {
   "cell_type": "code",
   "execution_count": 86,
   "metadata": {},
   "outputs": [
    {
     "name": "stdout",
     "output_type": "stream",
     "text": [
      "[[ 0.0749929  -0.42255905  0.07544298 -0.22733456  0.24761366 -0.05053518\n",
      "   0.0568562  -0.42943981]\n",
      " [ 0.12651189  0.12632268 -0.16531267 -0.15942943  0.11333811  0.2946227\n",
      "   0.02481812  0.15781482]\n",
      " [-0.13281413  0.22641123 -0.05430239  0.26190566 -0.28572319 -0.37488043\n",
      "  -0.04692764  0.07714698]\n",
      " [-0.06869067  0.06982513  0.14417208  0.12485833 -0.07522858  0.13079291\n",
      "  -0.03474668  0.19447802]]\n"
     ]
    }
   ],
   "source": [
    "#再看一下男性的情况\n",
    "lr_m = LogisticRegression(solver=\"sag\",C=0.5,max_iter=1000,multi_class='multinomial')\n",
    "lr_male = lr_m.fit(df_app_male,label_marry_male)\n",
    "coef_app_male = lr_male.coef_\n",
    "print(coef_app_male)"
   ]
  },
  {
   "cell_type": "code",
   "execution_count": 87,
   "metadata": {},
   "outputs": [
    {
     "name": "stdout",
     "output_type": "stream",
     "text": [
      "[-0.34518836  0.78862054  0.15859879  0.73895687 -0.68379401 -0.06275943\n",
      " -0.1732772   0.89554282]\n"
     ]
    }
   ],
   "source": [
    "app_contribute_male = np.matmul(app_cate,coef_app_male)\n",
    "print(app_contribute_male)"
   ]
  },
  {
   "cell_type": "code",
   "execution_count": 88,
   "metadata": {},
   "outputs": [
    {
     "name": "stdout",
     "output_type": "stream",
     "text": [
      "[[ 0.07640407 -0.10093186 -0.11596395 -0.45622351 -0.18666574 -0.11400877\n",
      "  -0.00980117  0.05269937]\n",
      " [ 0.20543957 -0.17853725  0.18807608  0.04827787  0.06438307 -0.25837137\n",
      "  -0.09698751 -0.04719035]\n",
      " [-0.0550075   0.14022818 -0.07143685  0.42520668 -0.04522153  0.03130669\n",
      "   0.16359036  0.03583728]\n",
      " [-0.22683614  0.13924093 -0.00067528 -0.01726104  0.1675042   0.34107345\n",
      "  -0.05680168 -0.04134631]]\n"
     ]
    }
   ],
   "source": [
    "#再看一下女性的情况\n",
    "lr_w = LogisticRegression(solver=\"sag\",C=0.5,max_iter=1000,multi_class='multinomial')\n",
    "lr_female = lr_w.fit(df_app_female,label_marry_female)\n",
    "coef_app_female = lr_female.coef_\n",
    "print(coef_app_female)"
   ]
  },
  {
   "cell_type": "code",
   "execution_count": 89,
   "metadata": {},
   "outputs": [
    {
     "name": "stdout",
     "output_type": "stream",
     "text": [
      "[-0.58508385  0.51964189  0.04317653  0.8469081   0.47645262  0.82746237\n",
      "  0.05978816 -0.09955471]\n"
     ]
    }
   ],
   "source": [
    "app_contribute_female = np.matmul(app_cate,coef_app_female)\n",
    "print(app_contribute_female)"
   ]
  },
  {
   "attachments": {},
   "cell_type": "markdown",
   "metadata": {},
   "source": [
    "### 关于结婚意愿的互联网影响程度分析（逻辑回归）"
   ]
  },
  {
   "cell_type": "code",
   "execution_count": 90,
   "metadata": {},
   "outputs": [
    {
     "name": "stdout",
     "output_type": "stream",
     "text": [
      "[[-0.63859612 -0.48413946 -0.19501321 -0.13821433  0.38190527 -0.00815083\n",
      "   0.0664105 ]\n",
      " [-0.14972691  0.06502159  0.17371199 -0.14834023 -0.11355301  0.20332845\n",
      "   0.21581386]\n",
      " [ 0.1691903   0.12398288 -0.0396189   0.18516283 -0.03947067 -0.01976049\n",
      "  -0.15618127]\n",
      " [ 0.61913273  0.29513499  0.06092012  0.10139174 -0.22888159 -0.17541713\n",
      "  -0.12604309]]\n"
     ]
    }
   ],
   "source": [
    "#先看一下整体的情况\n",
    "lr = LogisticRegression(solver=\"sag\",C=0.5,max_iter=1000,multi_class='multinomial')\n",
    "lr_all = lr.fit(df_exposure,label_marry)\n",
    "coef_exposure_all = lr_all.coef_\n",
    "print(coef_exposure_all)"
   ]
  },
  {
   "cell_type": "code",
   "execution_count": 91,
   "metadata": {},
   "outputs": [
    {
     "name": "stdout",
     "output_type": "stream",
     "text": [
      "[ 2.0460519   1.19839233  0.27723455  0.52616064 -0.87913911 -0.36244391\n",
      " -0.47467796]\n"
     ]
    }
   ],
   "source": [
    "#用系数coef矩阵和[0,1,2,3]做内积得出不同APP使用情况对于结婚意愿的贡献\n",
    "exposure_cate = np.array([0,1,2,3])\n",
    "exposure_contribute_all = np.matmul(exposure_cate,coef_exposure_all)\n",
    "print(exposure_contribute_all)"
   ]
  },
  {
   "cell_type": "code",
   "execution_count": 92,
   "metadata": {},
   "outputs": [
    {
     "name": "stdout",
     "output_type": "stream",
     "text": [
      "[[-0.57186219 -0.51726642 -0.04240574 -0.52769624 -0.07447462 -0.31730523\n",
      "   0.24300771]\n",
      " [ 0.0036198   0.14646361 -0.01643181 -0.06975129  0.08607528  0.14236342\n",
      "   0.15470255]\n",
      " [ 0.17384241  0.06727774  0.07724794  0.40578187 -0.09736158  0.03683563\n",
      "  -0.20603875]\n",
      " [ 0.39439998  0.30352507 -0.01841039  0.19166567  0.08576092  0.13810618\n",
      "  -0.19167152]]\n"
     ]
    }
   ],
   "source": [
    "#再看一下男性的情况\n",
    "lr_m = LogisticRegression(solver=\"sag\",C=0.5,max_iter=1000,multi_class='multinomial')\n",
    "lr_male = lr_m.fit(df_exposure_male,label_marry_male)\n",
    "coef_exposure_male = lr_male.coef_\n",
    "print(coef_exposure_male)"
   ]
  },
  {
   "cell_type": "code",
   "execution_count": 93,
   "metadata": {},
   "outputs": [
    {
     "name": "stdout",
     "output_type": "stream",
     "text": [
      "[ 1.53450457  1.19159431  0.08283292  1.31680945  0.14863488  0.63035321\n",
      " -0.83238949]\n"
     ]
    }
   ],
   "source": [
    "exposure_contribute_male = np.matmul(exposure_cate,coef_exposure_male)\n",
    "print(exposure_contribute_male)"
   ]
  },
  {
   "cell_type": "code",
   "execution_count": 94,
   "metadata": {},
   "outputs": [
    {
     "name": "stdout",
     "output_type": "stream",
     "text": [
      "[[-0.20789276 -0.30682085 -0.37793453 -0.07053939  0.12112458  0.23872027\n",
      "   0.07665367]\n",
      " [-0.26216463 -0.22757851  0.28976313 -0.10151855 -0.1021473   0.22883367\n",
      "   0.18686043]\n",
      " [ 0.18658259 -0.03204473 -0.02641277  0.05373499  0.24889625 -0.17234362\n",
      "  -0.09985676]\n",
      " [ 0.2834748   0.56644408  0.11458416  0.11832295 -0.26787353 -0.29521032\n",
      "  -0.16365734]]\n"
     ]
    }
   ],
   "source": [
    "#再看一下女性的情况\n",
    "lr_m = LogisticRegression(solver=\"sag\",C=0.5,max_iter=1000,multi_class='multinomial')\n",
    "lr_female = lr_m.fit(df_exposure_female,label_marry_female)\n",
    "coef_exposure_female = lr_female.coef_\n",
    "print(coef_exposure_female)"
   ]
  },
  {
   "cell_type": "code",
   "execution_count": 95,
   "metadata": {},
   "outputs": [
    {
     "name": "stdout",
     "output_type": "stream",
     "text": [
      "[ 0.96142495  1.40766428  0.58069009  0.36092028 -0.4079754  -1.00148452\n",
      " -0.50382511]\n"
     ]
    }
   ],
   "source": [
    "exposure_contribute_female = np.matmul(exposure_cate,coef_exposure_female)\n",
    "print(exposure_contribute_female)"
   ]
  },
  {
   "attachments": {},
   "cell_type": "markdown",
   "metadata": {},
   "source": [
    "## 对生育意愿的分析——最小二乘"
   ]
  },
  {
   "attachments": {},
   "cell_type": "markdown",
   "metadata": {},
   "source": [
    "### 理想子女数"
   ]
  },
  {
   "attachments": {},
   "cell_type": "markdown",
   "metadata": {},
   "source": [
    "#### 关于理想子女数的圈层分析"
   ]
  },
  {
   "cell_type": "code",
   "execution_count": 96,
   "metadata": {},
   "outputs": [],
   "source": [
    "from sklearn.linear_model import LinearRegression #导入最小二乘回归包"
   ]
  },
  {
   "cell_type": "code",
   "execution_count": 97,
   "metadata": {},
   "outputs": [
    {
     "name": "stdout",
     "output_type": "stream",
     "text": [
      "[-0.06223395 -0.0300993   0.1508804  -0.07967577  0.10503281 -0.00867723\n",
      " -0.09836936]\n"
     ]
    }
   ],
   "source": [
    "#先看一下整体的情况\n",
    "lreg = LinearRegression()\n",
    "lreg_all = lreg.fit(df_circle,label_idealchild)\n",
    "coef_circle_all = lreg_all.coef_\n",
    "print(coef_circle_all)"
   ]
  },
  {
   "cell_type": "code",
   "execution_count": 98,
   "metadata": {},
   "outputs": [
    {
     "name": "stdout",
     "output_type": "stream",
     "text": [
      "[-0.05180627 -0.19505968  0.0230289   0.15969591  0.08667928 -0.01985025\n",
      " -0.09815876]\n"
     ]
    }
   ],
   "source": [
    "#再看一下男性的情况\n",
    "lreg_m = LinearRegression()\n",
    "lreg_male = lreg_m.fit(df_circle_male,label_idealchild_male)\n",
    "coef_circle_male = lreg_male.coef_\n",
    "print(coef_circle_male)"
   ]
  },
  {
   "cell_type": "code",
   "execution_count": 99,
   "metadata": {},
   "outputs": [
    {
     "name": "stdout",
     "output_type": "stream",
     "text": [
      "[-0.07082028  0.13557176  0.13895592 -0.08865706  0.07880668 -0.00172037\n",
      " -0.14941178]\n"
     ]
    }
   ],
   "source": [
    "#再看一下女性的情况\n",
    "lreg_w = LinearRegression()\n",
    "lreg_female = lreg_w.fit(df_circle_female,label_idealchild_female)\n",
    "coef_circle_female = lreg_female.coef_\n",
    "print(coef_circle_female)"
   ]
  },
  {
   "attachments": {},
   "cell_type": "markdown",
   "metadata": {},
   "source": [
    "#### 关于理想子女数的APP使用分析"
   ]
  },
  {
   "cell_type": "code",
   "execution_count": 100,
   "metadata": {},
   "outputs": [
    {
     "name": "stdout",
     "output_type": "stream",
     "text": [
      "[-0.15148916  0.01704012 -0.01831816  0.2516807  -0.01626274  0.02874623\n",
      "  0.08444744  0.07603745]\n"
     ]
    }
   ],
   "source": [
    "#先看一下整体的情况\n",
    "lreg = LinearRegression()\n",
    "lreg_app_all = lreg.fit(df_app,label_idealchild)\n",
    "coef_app_all = lreg_app_all.coef_\n",
    "print(coef_app_all)"
   ]
  },
  {
   "cell_type": "code",
   "execution_count": 101,
   "metadata": {},
   "outputs": [
    {
     "name": "stdout",
     "output_type": "stream",
     "text": [
      "[-0.00559477  0.00762039 -0.01887522  0.16792712 -0.03673832 -0.10564275\n",
      "  0.07632009  0.0542373 ]\n"
     ]
    }
   ],
   "source": [
    "#再看一下男性的情况\n",
    "lreg_m = LinearRegression()\n",
    "lreg_app_male = lreg_m.fit(df_app_male,label_idealchild_male)\n",
    "coef_app_male = lreg_app_male.coef_\n",
    "print(coef_app_male)"
   ]
  },
  {
   "cell_type": "code",
   "execution_count": 102,
   "metadata": {},
   "outputs": [
    {
     "name": "stdout",
     "output_type": "stream",
     "text": [
      "[-0.13399932  0.00569503 -0.04625305  0.29716183  0.01027432  0.26277855\n",
      "  0.02186903  0.05345739]\n"
     ]
    }
   ],
   "source": [
    "#再看一下女性的情况\n",
    "lreg_w = LinearRegression()\n",
    "lreg_app_female = lreg_w.fit(df_app_female,label_idealchild_female)\n",
    "coef_app_female = lreg_app_female.coef_\n",
    "print(coef_app_female)"
   ]
  },
  {
   "attachments": {},
   "cell_type": "markdown",
   "metadata": {},
   "source": [
    "#### 关于理想子女数的互联网影响程度分析"
   ]
  },
  {
   "cell_type": "code",
   "execution_count": 103,
   "metadata": {},
   "outputs": [
    {
     "name": "stdout",
     "output_type": "stream",
     "text": [
      "[ 0.34453461 -0.02610751  0.00239863  0.12113413 -0.24072855 -0.00711665\n",
      "  0.00843666]\n"
     ]
    }
   ],
   "source": [
    "#先看一下整体的情况\n",
    "lreg = LinearRegression()\n",
    "lreg_exposure_all = lreg.fit(df_exposure,label_idealchild)\n",
    "coef_exposure_all = lreg_exposure_all.coef_\n",
    "print(coef_exposure_all)"
   ]
  },
  {
   "cell_type": "code",
   "execution_count": 104,
   "metadata": {},
   "outputs": [
    {
     "name": "stdout",
     "output_type": "stream",
     "text": [
      "[ 0.20641902 -0.23722812  0.14159779  0.200778   -0.05065208  0.00447903\n",
      "  0.00174593]\n"
     ]
    }
   ],
   "source": [
    "#再看一下男性的情况\n",
    "lreg_m = LinearRegression()\n",
    "lreg_exposure_male = lreg_m.fit(df_exposure_male,label_idealchild_male)\n",
    "coef_exposure_male = lreg_exposure_male.coef_\n",
    "print(coef_exposure_male)"
   ]
  },
  {
   "cell_type": "code",
   "execution_count": 105,
   "metadata": {},
   "outputs": [
    {
     "name": "stdout",
     "output_type": "stream",
     "text": [
      "[ 0.45400273  0.20423173 -0.12194291  0.10212327 -0.28924864  0.06660546\n",
      "  0.01722073]\n"
     ]
    }
   ],
   "source": [
    "#再看一下女性的情况\n",
    "lreg_w = LinearRegression()\n",
    "lreg_exposure_female = lreg_w.fit(df_exposure_female,label_idealchild_female)\n",
    "coef_exposure_female = lreg_exposure_female.coef_\n",
    "print(coef_exposure_female)"
   ]
  },
  {
   "attachments": {},
   "cell_type": "markdown",
   "metadata": {},
   "source": [
    "### 意愿子女数"
   ]
  },
  {
   "attachments": {},
   "cell_type": "markdown",
   "metadata": {},
   "source": [
    "#### 关于意愿子女数的圈层分析"
   ]
  },
  {
   "cell_type": "code",
   "execution_count": 106,
   "metadata": {},
   "outputs": [
    {
     "name": "stdout",
     "output_type": "stream",
     "text": [
      "[-0.07281261 -0.00378015  0.14556015 -0.01214417  0.13537047 -0.02077914\n",
      " -0.06071995]\n"
     ]
    }
   ],
   "source": [
    "#先看一下整体的情况\n",
    "lreg = LinearRegression()\n",
    "lreg_circle_all = lreg.fit(df_circle,label_desirechild)\n",
    "coef_circle_all2 = lreg_circle_all.coef_\n",
    "print(coef_circle_all2)"
   ]
  },
  {
   "cell_type": "code",
   "execution_count": 107,
   "metadata": {},
   "outputs": [
    {
     "name": "stdout",
     "output_type": "stream",
     "text": [
      "[-0.00090281 -0.16415222  0.09363406  0.05679786  0.11711461  0.09300011\n",
      " -0.11770275]\n"
     ]
    }
   ],
   "source": [
    "#再看一下男性的情况\n",
    "lreg_m = LinearRegression()\n",
    "lreg_circle_male = lreg_m.fit(df_circle_male,label_desirechild_male)\n",
    "coef_circle_male2 = lreg_circle_male.coef_\n",
    "print(coef_circle_male2)\n"
   ]
  },
  {
   "cell_type": "code",
   "execution_count": 108,
   "metadata": {},
   "outputs": [
    {
     "name": "stdout",
     "output_type": "stream",
     "text": [
      "[-1.06061811e-01  1.66466447e-01  2.05213095e-01 -1.49333284e-04\n",
      "  3.97179597e-02 -8.56945491e-02  1.04926244e-02]\n"
     ]
    }
   ],
   "source": [
    "#再看一下女性的情况\n",
    "lreg_w = LinearRegression()\n",
    "lreg_circle_female = lreg_w.fit(df_circle_female,label_desirechild_female)\n",
    "coef_circle_female2 = lreg_circle_female.coef_\n",
    "print(coef_circle_female2)"
   ]
  },
  {
   "attachments": {},
   "cell_type": "markdown",
   "metadata": {},
   "source": [
    "#### 关于意愿子女数的APP使用分析"
   ]
  },
  {
   "cell_type": "code",
   "execution_count": 109,
   "metadata": {},
   "outputs": [
    {
     "name": "stdout",
     "output_type": "stream",
     "text": [
      "[-0.15754787  0.03078593 -0.01390147  0.15474015  0.02760757  0.04075169\n",
      "  0.05872939  0.10073075]\n"
     ]
    }
   ],
   "source": [
    "#先看一下整体的情况\n",
    "lreg = LinearRegression()\n",
    "lreg_app_all = lreg.fit(df_app,label_desirechild)\n",
    "coef_app_all2 = lreg_app_all.coef_\n",
    "print(coef_app_all2)\n"
   ]
  },
  {
   "cell_type": "code",
   "execution_count": 110,
   "metadata": {},
   "outputs": [
    {
     "name": "stdout",
     "output_type": "stream",
     "text": [
      "[-0.06882681  0.06786224 -0.09471297 -0.00592894  0.02189702 -0.00809815\n",
      "  0.05024808  0.13318442]\n"
     ]
    }
   ],
   "source": [
    "#再看一下男性的情况\n",
    "lreg_m = LinearRegression()\n",
    "lreg_app_male = lreg_m.fit(df_app_male,label_desirechild_male)\n",
    "coef_app_male2 = lreg_app_male.coef_\n",
    "print(coef_app_male2)"
   ]
  },
  {
   "cell_type": "code",
   "execution_count": 111,
   "metadata": {},
   "outputs": [
    {
     "name": "stdout",
     "output_type": "stream",
     "text": [
      "[-0.16326516 -0.0400502  -0.03407294  0.34984445  0.08258659  0.19781971\n",
      "  0.05378058  0.03010418]\n"
     ]
    }
   ],
   "source": [
    "#再看一下女性的情况\n",
    "lreg_w = LinearRegression()\n",
    "lreg_app_female = lreg_w.fit(df_app_female,label_desirechild_female)\n",
    "coef_app_female2 = lreg_app_female.coef_\n",
    "print(coef_app_female2)"
   ]
  },
  {
   "attachments": {},
   "cell_type": "markdown",
   "metadata": {},
   "source": [
    "#### 关于意愿子女数的互联网影响程度分析"
   ]
  },
  {
   "cell_type": "code",
   "execution_count": 112,
   "metadata": {},
   "outputs": [
    {
     "name": "stdout",
     "output_type": "stream",
     "text": [
      "[ 0.24542474  0.00126807 -0.00303417  0.16000761 -0.06966272 -0.0454789\n",
      "  0.02072607]\n"
     ]
    }
   ],
   "source": [
    "#先看一下整体的情况\n",
    "lreg = LinearRegression()\n",
    "lreg_exposure_all = lreg.fit(df_exposure,label_desirechild)\n",
    "coef_exposure_all2 = lreg_exposure_all.coef_\n",
    "print(coef_exposure_all2)\n"
   ]
  },
  {
   "cell_type": "code",
   "execution_count": 113,
   "metadata": {},
   "outputs": [
    {
     "name": "stdout",
     "output_type": "stream",
     "text": [
      "[ 0.23261796 -0.12962545  0.21030482  0.21654204 -0.06063046 -0.10013836\n",
      "  0.00749121]\n"
     ]
    }
   ],
   "source": [
    "#再看一下男性的情况\n",
    "lreg_m = LinearRegression()\n",
    "lreg_exposure_male = lreg_m.fit(df_exposure_male,label_desirechild_male)\n",
    "coef_exposure_male2 = lreg_exposure_male.coef_\n",
    "print(coef_exposure_male2)\n"
   ]
  },
  {
   "cell_type": "code",
   "execution_count": 114,
   "metadata": {},
   "outputs": [
    {
     "name": "stdout",
     "output_type": "stream",
     "text": [
      "[ 0.15321749  0.1276135  -0.12324309  0.23655781 -0.0019368   0.03548903\n",
      " -0.01679767]\n"
     ]
    }
   ],
   "source": [
    "#再看一下女性的情况\n",
    "lreg_w = LinearRegression()\n",
    "lreg_exposure_female = lreg_w.fit(df_exposure_female,label_desirechild_female)\n",
    "coef_exposure_female2 = lreg_exposure_female.coef_\n",
    "print(coef_exposure_female2)"
   ]
  },
  {
   "cell_type": "code",
   "execution_count": 121,
   "metadata": {},
   "outputs": [
    {
     "name": "stdout",
     "output_type": "stream",
     "text": [
      "          0         0         0         0         0         0         0  \\\n",
      "0 -0.201201 -0.062234 -0.072813  0.116646 -0.051806 -0.000903 -0.669070   \n",
      "1  0.278910 -0.030099 -0.003780 -0.226853 -0.195060 -0.164152  1.084595   \n",
      "2  0.981033  0.150880  0.145560  1.060768  0.023029  0.093634 -0.610471   \n",
      "3 -0.030741 -0.079676 -0.012144  1.752801  0.159696  0.056798 -0.220520   \n",
      "4 -0.196365  0.105033  0.135370 -0.029765  0.086679  0.117115 -0.486544   \n",
      "5 -0.122225 -0.008677 -0.020779  0.569184 -0.019850  0.093000 -0.544836   \n",
      "6 -0.289375 -0.098369 -0.060720 -0.869929 -0.098159 -0.117703  0.652908   \n",
      "\n",
      "          0         0  \n",
      "0 -0.070820 -0.106062  \n",
      "1  0.135572  0.166466  \n",
      "2  0.138956  0.205213  \n",
      "3 -0.088657 -0.000149  \n",
      "4  0.078807  0.039718  \n",
      "5 -0.001720 -0.085695  \n",
      "6 -0.149412  0.010493  \n"
     ]
    }
   ],
   "source": [
    "table1 = pd.concat([pd.DataFrame(circle_contribute_all),pd.DataFrame(coef_circle_all),pd.DataFrame(coef_circle_all2),\n",
    "                    pd.DataFrame(circle_contribute_male),pd.DataFrame(coef_circle_male),pd.DataFrame(coef_circle_male2),\n",
    "                    pd.DataFrame(circle_contribute_female),pd.DataFrame(coef_circle_female),pd.DataFrame(coef_circle_female2)],axis=1)\n",
    "\n",
    "print(table1)"
   ]
  },
  {
   "cell_type": "code",
   "execution_count": 122,
   "metadata": {},
   "outputs": [
    {
     "name": "stdout",
     "output_type": "stream",
     "text": [
      "          0         0         0         0         0         0         0  \\\n",
      "0 -0.588908 -0.151489 -0.157548 -0.345188 -0.005595 -0.068827 -0.585084   \n",
      "1  0.844142  0.017040  0.030786  0.788621  0.007620  0.067862  0.519642   \n",
      "2  0.220998 -0.018318 -0.013901  0.158599 -0.018875 -0.094713  0.043177   \n",
      "3  1.412425  0.251681  0.154740  0.738957  0.167927 -0.005929  0.846908   \n",
      "4 -0.437104 -0.016263  0.027608 -0.683794 -0.036738  0.021897  0.476453   \n",
      "5  0.109554  0.028746  0.040752 -0.062759 -0.105643 -0.008098  0.827462   \n",
      "6  0.236524  0.084447  0.058729 -0.173277  0.076320  0.050248  0.059788   \n",
      "7  0.596994  0.076037  0.100731  0.895543  0.054237  0.133184 -0.099555   \n",
      "\n",
      "          0         0  \n",
      "0 -0.133999 -0.163265  \n",
      "1  0.005695 -0.040050  \n",
      "2 -0.046253 -0.034073  \n",
      "3  0.297162  0.349844  \n",
      "4  0.010274  0.082587  \n",
      "5  0.262779  0.197820  \n",
      "6  0.021869  0.053781  \n",
      "7  0.053457  0.030104  \n"
     ]
    }
   ],
   "source": [
    "table2 = pd.concat([pd.DataFrame(app_contribute_all),pd.DataFrame(coef_app_all),pd.DataFrame(coef_app_all2),\n",
    "                    pd.DataFrame(app_contribute_male),pd.DataFrame(coef_app_male),pd.DataFrame(coef_app_male2),\n",
    "                    pd.DataFrame(app_contribute_female),pd.DataFrame(coef_app_female),pd.DataFrame(coef_app_female2)],axis=1)\n",
    "\n",
    "print(table2)"
   ]
  },
  {
   "cell_type": "code",
   "execution_count": 123,
   "metadata": {},
   "outputs": [
    {
     "name": "stdout",
     "output_type": "stream",
     "text": [
      "          0         0         0         0         0         0         0  \\\n",
      "0  2.046052  0.344535  0.245425  1.534505  0.206419  0.232618  0.961425   \n",
      "1  1.198392 -0.026108  0.001268  1.191594 -0.237228 -0.129625  1.407664   \n",
      "2  0.277235  0.002399 -0.003034  0.082833  0.141598  0.210305  0.580690   \n",
      "3  0.526161  0.121134  0.160008  1.316809  0.200778  0.216542  0.360920   \n",
      "4 -0.879139 -0.240729 -0.069663  0.148635 -0.050652 -0.060630 -0.407975   \n",
      "5 -0.362444 -0.007117 -0.045479  0.630353  0.004479 -0.100138 -1.001485   \n",
      "6 -0.474678  0.008437  0.020726 -0.832389  0.001746  0.007491 -0.503825   \n",
      "\n",
      "          0         0  \n",
      "0  0.454003  0.153217  \n",
      "1  0.204232  0.127614  \n",
      "2 -0.121943 -0.123243  \n",
      "3  0.102123  0.236558  \n",
      "4 -0.289249 -0.001937  \n",
      "5  0.066605  0.035489  \n",
      "6  0.017221 -0.016798  \n"
     ]
    }
   ],
   "source": [
    "table3 = pd.concat([pd.DataFrame(exposure_contribute_all),pd.DataFrame(coef_exposure_all),pd.DataFrame(coef_exposure_all2),\n",
    "                    pd.DataFrame(exposure_contribute_male),pd.DataFrame(coef_exposure_male),pd.DataFrame(coef_exposure_male2),\n",
    "                    pd.DataFrame(exposure_contribute_female),pd.DataFrame(coef_exposure_female),pd.DataFrame(coef_exposure_female2)],axis=1)\n",
    "\n",
    "print(table3)"
   ]
  }
 ],
 "metadata": {
  "kernelspec": {
   "display_name": "Python 3",
   "language": "python",
   "name": "python3"
  },
  "language_info": {
   "codemirror_mode": {
    "name": "ipython",
    "version": 3
   },
   "file_extension": ".py",
   "mimetype": "text/x-python",
   "name": "python",
   "nbconvert_exporter": "python",
   "pygments_lexer": "ipython3",
   "version": "3.10.5 (tags/v3.10.5:f377153, Jun  6 2022, 16:14:13) [MSC v.1929 64 bit (AMD64)]"
  },
  "orig_nbformat": 4,
  "vscode": {
   "interpreter": {
    "hash": "47e86d731e077963188d400b641a1f5cee6401b89b8a1175acb1a082248e2517"
   }
  }
 },
 "nbformat": 4,
 "nbformat_minor": 2
}
