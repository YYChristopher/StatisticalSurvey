{
 "cells": [
  {
   "cell_type": "code",
   "execution_count": 1,
   "id": "a13c8665",
   "metadata": {},
   "outputs": [],
   "source": [
    "import pandas as pd\n",
    "import matplotlib.pyplot as plt\n",
    "import numpy as np\n",
    "from scipy import stats"
   ]
  },
  {
   "cell_type": "code",
   "execution_count": 2,
   "id": "a1329101",
   "metadata": {},
   "outputs": [],
   "source": [
    "df = pd.read_excel(\"关于婚育意愿的调查.xlsx\")"
   ]
  },
  {
   "cell_type": "code",
   "execution_count": 3,
   "id": "2e0b254b",
   "metadata": {},
   "outputs": [],
   "source": [
    "df = pd.concat([df[df[\"21、您的性别\"]==\"男\" ][:200],df[df[\"21、您的性别\"]==\"女\"][:200]],axis = 0)"
   ]
  },
  {
   "cell_type": "code",
   "execution_count": 4,
   "id": "fa1b6121",
   "metadata": {},
   "outputs": [],
   "source": [
    "df.to_csv('sample200.csv')"
   ]
  },
  {
   "cell_type": "markdown",
   "id": "31111998",
   "metadata": {},
   "source": [
    "## 1、性别和结婚意愿"
   ]
  },
  {
   "cell_type": "code",
   "execution_count": null,
   "id": "122fef99",
   "metadata": {},
   "outputs": [],
   "source": []
  },
  {
   "cell_type": "code",
   "execution_count": 5,
   "id": "21a375d3",
   "metadata": {},
   "outputs": [],
   "source": [
    "df1 = df[[\"21、您的性别\",\"3、请问您的结婚意愿为\",\"所用时间\"]]"
   ]
  },
  {
   "cell_type": "code",
   "execution_count": 6,
   "id": "932bcb2e",
   "metadata": {},
   "outputs": [
    {
     "data": {
      "text/html": [
       "<div>\n",
       "<style scoped>\n",
       "    .dataframe tbody tr th:only-of-type {\n",
       "        vertical-align: middle;\n",
       "    }\n",
       "\n",
       "    .dataframe tbody tr th {\n",
       "        vertical-align: top;\n",
       "    }\n",
       "\n",
       "    .dataframe thead th {\n",
       "        text-align: right;\n",
       "    }\n",
       "</style>\n",
       "<table border=\"1\" class=\"dataframe\">\n",
       "  <thead>\n",
       "    <tr style=\"text-align: right;\">\n",
       "      <th>3、请问您的结婚意愿为</th>\n",
       "      <th>不会，但接受同居</th>\n",
       "      <th>不会，打算单身</th>\n",
       "      <th>不知道，顺其自然</th>\n",
       "      <th>有结婚打算</th>\n",
       "      <th>All</th>\n",
       "    </tr>\n",
       "    <tr>\n",
       "      <th>21、您的性别</th>\n",
       "      <th></th>\n",
       "      <th></th>\n",
       "      <th></th>\n",
       "      <th></th>\n",
       "      <th></th>\n",
       "    </tr>\n",
       "  </thead>\n",
       "  <tbody>\n",
       "    <tr>\n",
       "      <th>女</th>\n",
       "      <td>22</td>\n",
       "      <td>18</td>\n",
       "      <td>97</td>\n",
       "      <td>63</td>\n",
       "      <td>200</td>\n",
       "    </tr>\n",
       "    <tr>\n",
       "      <th>男</th>\n",
       "      <td>18</td>\n",
       "      <td>15</td>\n",
       "      <td>68</td>\n",
       "      <td>99</td>\n",
       "      <td>200</td>\n",
       "    </tr>\n",
       "    <tr>\n",
       "      <th>All</th>\n",
       "      <td>40</td>\n",
       "      <td>33</td>\n",
       "      <td>165</td>\n",
       "      <td>162</td>\n",
       "      <td>400</td>\n",
       "    </tr>\n",
       "  </tbody>\n",
       "</table>\n",
       "</div>"
      ],
      "text/plain": [
       "3、请问您的结婚意愿为  不会，但接受同居  不会，打算单身  不知道，顺其自然  有结婚打算  All\n",
       "21、您的性别                                             \n",
       "女                  22       18        97     63  200\n",
       "男                  18       15        68     99  200\n",
       "All                40       33       165    162  400"
      ]
     },
     "execution_count": 6,
     "metadata": {},
     "output_type": "execute_result"
    }
   ],
   "source": [
    "df1_res = pd.crosstab(df1[\"21、您的性别\"],df1[\"3、请问您的结婚意愿为\"],margins=True)\n",
    "df1_res"
   ]
  },
  {
   "cell_type": "code",
   "execution_count": 7,
   "id": "91164362",
   "metadata": {},
   "outputs": [
    {
     "data": {
      "text/plain": [
       "array([[22, 18, 97, 63],\n",
       "       [18, 15, 68, 99]], dtype=int64)"
      ]
     },
     "execution_count": 7,
     "metadata": {},
     "output_type": "execute_result"
    }
   ],
   "source": [
    "import numpy as np\n",
    "df1_chi = np.array([df1_res.iloc[0][0:4],df1_res.iloc[1][0:4]])\n",
    "df1_chi"
   ]
  },
  {
   "cell_type": "code",
   "execution_count": 8,
   "id": "fe37adc8",
   "metadata": {},
   "outputs": [],
   "source": [
    "from scipy import stats"
   ]
  },
  {
   "cell_type": "code",
   "execution_count": 9,
   "id": "49797dd4",
   "metadata": {},
   "outputs": [
    {
     "data": {
      "text/plain": [
       "(13.76969696969697, 0.003236000282935631, 3)"
      ]
     },
     "execution_count": 9,
     "metadata": {},
     "output_type": "execute_result"
    }
   ],
   "source": [
    "stats.chi2_contingency(df1_chi)[:3]"
   ]
  },
  {
   "cell_type": "markdown",
   "id": "b699458e",
   "metadata": {},
   "source": [
    "## p值小于0.05，拒绝了性别和结婚意愿具有独立性的原假设，通过列联表可以明显看出男性比女性的结婚意愿更强，女性更多地选择了顺其自然。"
   ]
  },
  {
   "cell_type": "markdown",
   "id": "c4c328f9",
   "metadata": {},
   "source": [
    "## 2、性别和恋爱状态"
   ]
  },
  {
   "cell_type": "code",
   "execution_count": 10,
   "id": "6eaa9858",
   "metadata": {},
   "outputs": [],
   "source": [
    "df2 = df[[\"21、您的性别\",\"1、请问您目前的恋爱状态为\",\"所用时间\"]]"
   ]
  },
  {
   "cell_type": "code",
   "execution_count": 11,
   "id": "08ec6855",
   "metadata": {},
   "outputs": [
    {
     "data": {
      "text/html": [
       "<div>\n",
       "<style scoped>\n",
       "    .dataframe tbody tr th:only-of-type {\n",
       "        vertical-align: middle;\n",
       "    }\n",
       "\n",
       "    .dataframe tbody tr th {\n",
       "        vertical-align: top;\n",
       "    }\n",
       "\n",
       "    .dataframe thead th {\n",
       "        text-align: right;\n",
       "    }\n",
       "</style>\n",
       "<table border=\"1\" class=\"dataframe\">\n",
       "  <thead>\n",
       "    <tr style=\"text-align: right;\">\n",
       "      <th>1、请问您目前的恋爱状态为</th>\n",
       "      <th>单身，无恋爱打算</th>\n",
       "      <th>单身，有恋爱打算</th>\n",
       "      <th>正在恋爱中</th>\n",
       "      <th>All</th>\n",
       "    </tr>\n",
       "    <tr>\n",
       "      <th>21、您的性别</th>\n",
       "      <th></th>\n",
       "      <th></th>\n",
       "      <th></th>\n",
       "      <th></th>\n",
       "    </tr>\n",
       "  </thead>\n",
       "  <tbody>\n",
       "    <tr>\n",
       "      <th>女</th>\n",
       "      <td>76</td>\n",
       "      <td>58</td>\n",
       "      <td>66</td>\n",
       "      <td>200</td>\n",
       "    </tr>\n",
       "    <tr>\n",
       "      <th>男</th>\n",
       "      <td>71</td>\n",
       "      <td>82</td>\n",
       "      <td>47</td>\n",
       "      <td>200</td>\n",
       "    </tr>\n",
       "    <tr>\n",
       "      <th>All</th>\n",
       "      <td>147</td>\n",
       "      <td>140</td>\n",
       "      <td>113</td>\n",
       "      <td>400</td>\n",
       "    </tr>\n",
       "  </tbody>\n",
       "</table>\n",
       "</div>"
      ],
      "text/plain": [
       "1、请问您目前的恋爱状态为  单身，无恋爱打算  单身，有恋爱打算  正在恋爱中  All\n",
       "21、您的性别                                      \n",
       "女                    76        58     66  200\n",
       "男                    71        82     47  200\n",
       "All                 147       140    113  400"
      ]
     },
     "execution_count": 11,
     "metadata": {},
     "output_type": "execute_result"
    }
   ],
   "source": [
    "df2_res = pd.crosstab(df2[\"21、您的性别\"],df2[\"1、请问您目前的恋爱状态为\"],margins=True)\n",
    "df2_res"
   ]
  },
  {
   "cell_type": "code",
   "execution_count": 12,
   "id": "2d4ef008",
   "metadata": {},
   "outputs": [
    {
     "data": {
      "text/plain": [
       "array([[76, 58, 66],\n",
       "       [71, 82, 47]], dtype=int64)"
      ]
     },
     "execution_count": 12,
     "metadata": {},
     "output_type": "execute_result"
    }
   ],
   "source": [
    "df2_chi = np.array([df2_res.iloc[0][0:3],df2_res.iloc[1][0:3]])\n",
    "df2_chi"
   ]
  },
  {
   "cell_type": "code",
   "execution_count": 13,
   "id": "d8ca41bf",
   "metadata": {},
   "outputs": [
    {
     "data": {
      "text/plain": [
       "(7.479044006983324, 0.023765460223769488, 2)"
      ]
     },
     "execution_count": 13,
     "metadata": {},
     "output_type": "execute_result"
    }
   ],
   "source": [
    "stats.chi2_contingency(df2_chi)[:3]"
   ]
  },
  {
   "cell_type": "markdown",
   "id": "3b9e4698",
   "metadata": {},
   "source": [
    "## 3、性别和促进因素"
   ]
  },
  {
   "cell_type": "code",
   "execution_count": 14,
   "id": "d787c829",
   "metadata": {},
   "outputs": [],
   "source": [
    "df3= df[[\"21、您的性别\",\"5、请问您认为或您见到的促进结婚的因素有哪些\",\"所用时间\"]]"
   ]
  },
  {
   "cell_type": "code",
   "execution_count": 15,
   "id": "261d14c7",
   "metadata": {},
   "outputs": [],
   "source": [
    "dic3 = {\"性别\":[],\"促进因素\":[],\"所用时间\":[]}"
   ]
  },
  {
   "cell_type": "code",
   "execution_count": 16,
   "id": "183bbacc",
   "metadata": {},
   "outputs": [
    {
     "data": {
      "text/html": [
       "<div>\n",
       "<style scoped>\n",
       "    .dataframe tbody tr th:only-of-type {\n",
       "        vertical-align: middle;\n",
       "    }\n",
       "\n",
       "    .dataframe tbody tr th {\n",
       "        vertical-align: top;\n",
       "    }\n",
       "\n",
       "    .dataframe thead th {\n",
       "        text-align: right;\n",
       "    }\n",
       "</style>\n",
       "<table border=\"1\" class=\"dataframe\">\n",
       "  <thead>\n",
       "    <tr style=\"text-align: right;\">\n",
       "      <th></th>\n",
       "      <th>21、您的性别</th>\n",
       "      <th>5、请问您认为或您见到的促进结婚的因素有哪些</th>\n",
       "      <th>所用时间</th>\n",
       "    </tr>\n",
       "  </thead>\n",
       "  <tbody>\n",
       "    <tr>\n",
       "      <th>0</th>\n",
       "      <td>男</td>\n",
       "      <td>婚姻能够提供情感、陪伴或精神寄托┋婚姻可以带来物质经济保障┋来自长辈的压力┋生理需求</td>\n",
       "      <td>250秒</td>\n",
       "    </tr>\n",
       "    <tr>\n",
       "      <th>1</th>\n",
       "      <td>男</td>\n",
       "      <td>婚姻能够提供情感、陪伴或精神寄托┋婚姻是人生的必需项┋来自长辈的压力</td>\n",
       "      <td>183秒</td>\n",
       "    </tr>\n",
       "    <tr>\n",
       "      <th>2</th>\n",
       "      <td>男</td>\n",
       "      <td>婚姻能够提供情感、陪伴或精神寄托┋有生儿育女的期望┋生理需求</td>\n",
       "      <td>166秒</td>\n",
       "    </tr>\n",
       "    <tr>\n",
       "      <th>3</th>\n",
       "      <td>男</td>\n",
       "      <td>婚姻能够提供情感、陪伴或精神寄托┋婚姻是人生的必需项</td>\n",
       "      <td>170秒</td>\n",
       "    </tr>\n",
       "    <tr>\n",
       "      <th>6</th>\n",
       "      <td>男</td>\n",
       "      <td>婚姻能够提供情感、陪伴或精神寄托┋婚姻是人生的必需项</td>\n",
       "      <td>180秒</td>\n",
       "    </tr>\n",
       "    <tr>\n",
       "      <th>...</th>\n",
       "      <td>...</td>\n",
       "      <td>...</td>\n",
       "      <td>...</td>\n",
       "    </tr>\n",
       "    <tr>\n",
       "      <th>487</th>\n",
       "      <td>女</td>\n",
       "      <td>婚姻能够提供情感、陪伴或精神寄托┋婚姻是人生的必需项┋婚姻可以带来物质经济保障</td>\n",
       "      <td>228秒</td>\n",
       "    </tr>\n",
       "    <tr>\n",
       "      <th>492</th>\n",
       "      <td>女</td>\n",
       "      <td>婚姻能够提供情感、陪伴或精神寄托┋生理需求┋其他〖足够喜欢〗</td>\n",
       "      <td>357秒</td>\n",
       "    </tr>\n",
       "    <tr>\n",
       "      <th>494</th>\n",
       "      <td>女</td>\n",
       "      <td>婚姻能够提供情感、陪伴或精神寄托┋生理需求</td>\n",
       "      <td>267秒</td>\n",
       "    </tr>\n",
       "    <tr>\n",
       "      <th>502</th>\n",
       "      <td>女</td>\n",
       "      <td>婚姻能够提供情感、陪伴或精神寄托┋婚姻是人生的必需项┋有生儿育女的期望┋婚姻可以带来物质经济...</td>\n",
       "      <td>200秒</td>\n",
       "    </tr>\n",
       "    <tr>\n",
       "      <th>506</th>\n",
       "      <td>女</td>\n",
       "      <td>婚姻能够提供情感、陪伴或精神寄托</td>\n",
       "      <td>84秒</td>\n",
       "    </tr>\n",
       "  </tbody>\n",
       "</table>\n",
       "<p>400 rows × 3 columns</p>\n",
       "</div>"
      ],
      "text/plain": [
       "    21、您的性别                             5、请问您认为或您见到的促进结婚的因素有哪些  所用时间\n",
       "0         男         婚姻能够提供情感、陪伴或精神寄托┋婚姻可以带来物质经济保障┋来自长辈的压力┋生理需求  250秒\n",
       "1         男                 婚姻能够提供情感、陪伴或精神寄托┋婚姻是人生的必需项┋来自长辈的压力  183秒\n",
       "2         男                     婚姻能够提供情感、陪伴或精神寄托┋有生儿育女的期望┋生理需求  166秒\n",
       "3         男                         婚姻能够提供情感、陪伴或精神寄托┋婚姻是人生的必需项  170秒\n",
       "6         男                         婚姻能够提供情感、陪伴或精神寄托┋婚姻是人生的必需项  180秒\n",
       "..      ...                                                ...   ...\n",
       "487       女            婚姻能够提供情感、陪伴或精神寄托┋婚姻是人生的必需项┋婚姻可以带来物质经济保障  228秒\n",
       "492       女                     婚姻能够提供情感、陪伴或精神寄托┋生理需求┋其他〖足够喜欢〗  357秒\n",
       "494       女                              婚姻能够提供情感、陪伴或精神寄托┋生理需求  267秒\n",
       "502       女  婚姻能够提供情感、陪伴或精神寄托┋婚姻是人生的必需项┋有生儿育女的期望┋婚姻可以带来物质经济...  200秒\n",
       "506       女                                   婚姻能够提供情感、陪伴或精神寄托   84秒\n",
       "\n",
       "[400 rows x 3 columns]"
      ]
     },
     "execution_count": 16,
     "metadata": {},
     "output_type": "execute_result"
    }
   ],
   "source": [
    "df3"
   ]
  },
  {
   "cell_type": "code",
   "execution_count": 17,
   "id": "436e9c46",
   "metadata": {},
   "outputs": [
    {
     "data": {
      "text/plain": [
       "(['婚姻能够提供情感、陪伴或精神寄托', '婚姻可以带来物质经济保障', '来自长辈的压力', '生理需求'], (400, 3))"
      ]
     },
     "execution_count": 17,
     "metadata": {},
     "output_type": "execute_result"
    }
   ],
   "source": [
    "df3.iloc[0,1].split(\"┋\"),df3.shape"
   ]
  },
  {
   "cell_type": "code",
   "execution_count": 18,
   "id": "3986be07",
   "metadata": {},
   "outputs": [],
   "source": [
    "for i in range(df3.shape[0]):\n",
    "    if \"其他\" not in df3.iloc[i,1]:\n",
    "        alis = df3.iloc[i,1].split(\"┋\")\n",
    "        for a in alis:\n",
    "            dic3[\"性别\"].append(df3.iloc[i,0])\n",
    "            dic3[\"促进因素\"].append(a)\n",
    "            dic3[\"所用时间\"].append(df3.iloc[i,2])"
   ]
  },
  {
   "cell_type": "code",
   "execution_count": 19,
   "id": "7ab6734e",
   "metadata": {},
   "outputs": [
    {
     "data": {
      "text/html": [
       "<div>\n",
       "<style scoped>\n",
       "    .dataframe tbody tr th:only-of-type {\n",
       "        vertical-align: middle;\n",
       "    }\n",
       "\n",
       "    .dataframe tbody tr th {\n",
       "        vertical-align: top;\n",
       "    }\n",
       "\n",
       "    .dataframe thead th {\n",
       "        text-align: right;\n",
       "    }\n",
       "</style>\n",
       "<table border=\"1\" class=\"dataframe\">\n",
       "  <thead>\n",
       "    <tr style=\"text-align: right;\">\n",
       "      <th></th>\n",
       "      <th>性别</th>\n",
       "      <th>促进因素</th>\n",
       "      <th>所用时间</th>\n",
       "    </tr>\n",
       "  </thead>\n",
       "  <tbody>\n",
       "    <tr>\n",
       "      <th>0</th>\n",
       "      <td>男</td>\n",
       "      <td>婚姻能够提供情感、陪伴或精神寄托</td>\n",
       "      <td>250秒</td>\n",
       "    </tr>\n",
       "    <tr>\n",
       "      <th>1</th>\n",
       "      <td>男</td>\n",
       "      <td>婚姻可以带来物质经济保障</td>\n",
       "      <td>250秒</td>\n",
       "    </tr>\n",
       "    <tr>\n",
       "      <th>2</th>\n",
       "      <td>男</td>\n",
       "      <td>来自长辈的压力</td>\n",
       "      <td>250秒</td>\n",
       "    </tr>\n",
       "    <tr>\n",
       "      <th>3</th>\n",
       "      <td>男</td>\n",
       "      <td>生理需求</td>\n",
       "      <td>250秒</td>\n",
       "    </tr>\n",
       "    <tr>\n",
       "      <th>4</th>\n",
       "      <td>男</td>\n",
       "      <td>婚姻能够提供情感、陪伴或精神寄托</td>\n",
       "      <td>183秒</td>\n",
       "    </tr>\n",
       "    <tr>\n",
       "      <th>...</th>\n",
       "      <td>...</td>\n",
       "      <td>...</td>\n",
       "      <td>...</td>\n",
       "    </tr>\n",
       "    <tr>\n",
       "      <th>988</th>\n",
       "      <td>女</td>\n",
       "      <td>婚姻是人生的必需项</td>\n",
       "      <td>200秒</td>\n",
       "    </tr>\n",
       "    <tr>\n",
       "      <th>989</th>\n",
       "      <td>女</td>\n",
       "      <td>有生儿育女的期望</td>\n",
       "      <td>200秒</td>\n",
       "    </tr>\n",
       "    <tr>\n",
       "      <th>990</th>\n",
       "      <td>女</td>\n",
       "      <td>婚姻可以带来物质经济保障</td>\n",
       "      <td>200秒</td>\n",
       "    </tr>\n",
       "    <tr>\n",
       "      <th>991</th>\n",
       "      <td>女</td>\n",
       "      <td>生理需求</td>\n",
       "      <td>200秒</td>\n",
       "    </tr>\n",
       "    <tr>\n",
       "      <th>992</th>\n",
       "      <td>女</td>\n",
       "      <td>婚姻能够提供情感、陪伴或精神寄托</td>\n",
       "      <td>84秒</td>\n",
       "    </tr>\n",
       "  </tbody>\n",
       "</table>\n",
       "<p>993 rows × 3 columns</p>\n",
       "</div>"
      ],
      "text/plain": [
       "    性别              促进因素  所用时间\n",
       "0    男  婚姻能够提供情感、陪伴或精神寄托  250秒\n",
       "1    男      婚姻可以带来物质经济保障  250秒\n",
       "2    男           来自长辈的压力  250秒\n",
       "3    男              生理需求  250秒\n",
       "4    男  婚姻能够提供情感、陪伴或精神寄托  183秒\n",
       "..  ..               ...   ...\n",
       "988  女         婚姻是人生的必需项  200秒\n",
       "989  女          有生儿育女的期望  200秒\n",
       "990  女      婚姻可以带来物质经济保障  200秒\n",
       "991  女              生理需求  200秒\n",
       "992  女  婚姻能够提供情感、陪伴或精神寄托   84秒\n",
       "\n",
       "[993 rows x 3 columns]"
      ]
     },
     "execution_count": 19,
     "metadata": {},
     "output_type": "execute_result"
    }
   ],
   "source": [
    "df3_ = pd.DataFrame(dic3)\n",
    "df3_"
   ]
  },
  {
   "cell_type": "code",
   "execution_count": 20,
   "id": "f25dbc9d",
   "metadata": {},
   "outputs": [],
   "source": [
    "df3_.to_csv('促进因素.csv')"
   ]
  },
  {
   "cell_type": "code",
   "execution_count": 122,
   "id": "12cd91e8",
   "metadata": {},
   "outputs": [
    {
     "data": {
      "text/html": [
       "<div>\n",
       "<style scoped>\n",
       "    .dataframe tbody tr th:only-of-type {\n",
       "        vertical-align: middle;\n",
       "    }\n",
       "\n",
       "    .dataframe tbody tr th {\n",
       "        vertical-align: top;\n",
       "    }\n",
       "\n",
       "    .dataframe thead th {\n",
       "        text-align: right;\n",
       "    }\n",
       "</style>\n",
       "<table border=\"1\" class=\"dataframe\">\n",
       "  <thead>\n",
       "    <tr style=\"text-align: right;\">\n",
       "      <th>促进因素</th>\n",
       "      <th>为了获得婚育政策上的优待</th>\n",
       "      <th>婚姻可以带来物质经济保障</th>\n",
       "      <th>婚姻是人生的必需项</th>\n",
       "      <th>婚姻能够提供情感、陪伴或精神寄托</th>\n",
       "      <th>有生儿育女的期望</th>\n",
       "      <th>来自同龄人的压力</th>\n",
       "      <th>来自长辈的压力</th>\n",
       "      <th>生理需求</th>\n",
       "      <th>All</th>\n",
       "    </tr>\n",
       "    <tr>\n",
       "      <th>性别</th>\n",
       "      <th></th>\n",
       "      <th></th>\n",
       "      <th></th>\n",
       "      <th></th>\n",
       "      <th></th>\n",
       "      <th></th>\n",
       "      <th></th>\n",
       "      <th></th>\n",
       "      <th></th>\n",
       "    </tr>\n",
       "  </thead>\n",
       "  <tbody>\n",
       "    <tr>\n",
       "      <th>女</th>\n",
       "      <td>18</td>\n",
       "      <td>60</td>\n",
       "      <td>31</td>\n",
       "      <td>165</td>\n",
       "      <td>47</td>\n",
       "      <td>25</td>\n",
       "      <td>66</td>\n",
       "      <td>44</td>\n",
       "      <td>456</td>\n",
       "    </tr>\n",
       "    <tr>\n",
       "      <th>男</th>\n",
       "      <td>14</td>\n",
       "      <td>47</td>\n",
       "      <td>63</td>\n",
       "      <td>166</td>\n",
       "      <td>81</td>\n",
       "      <td>25</td>\n",
       "      <td>64</td>\n",
       "      <td>77</td>\n",
       "      <td>537</td>\n",
       "    </tr>\n",
       "    <tr>\n",
       "      <th>All</th>\n",
       "      <td>32</td>\n",
       "      <td>107</td>\n",
       "      <td>94</td>\n",
       "      <td>331</td>\n",
       "      <td>128</td>\n",
       "      <td>50</td>\n",
       "      <td>130</td>\n",
       "      <td>121</td>\n",
       "      <td>993</td>\n",
       "    </tr>\n",
       "  </tbody>\n",
       "</table>\n",
       "</div>"
      ],
      "text/plain": [
       "促进因素  为了获得婚育政策上的优待  婚姻可以带来物质经济保障  婚姻是人生的必需项  婚姻能够提供情感、陪伴或精神寄托  有生儿育女的期望  \\\n",
       "性别                                                                        \n",
       "女               18            60         31               165        47   \n",
       "男               14            47         63               166        81   \n",
       "All             32           107         94               331       128   \n",
       "\n",
       "促进因素  来自同龄人的压力  来自长辈的压力  生理需求  All  \n",
       "性别                                  \n",
       "女           25       66    44  456  \n",
       "男           25       64    77  537  \n",
       "All         50      130   121  993  "
      ]
     },
     "execution_count": 122,
     "metadata": {},
     "output_type": "execute_result"
    }
   ],
   "source": [
    "df3_res = pd.crosstab(df3_[\"性别\"],df3_[\"促进因素\"],margins=True)\n",
    "df3_res"
   ]
  },
  {
   "cell_type": "code",
   "execution_count": 125,
   "id": "34022187",
   "metadata": {},
   "outputs": [
    {
     "data": {
      "text/plain": [
       "array([[ 18,  60,  31, 165,  47,  25,  66,  44],\n",
       "       [ 14,  47,  63, 166,  81,  25,  64,  77]], dtype=int64)"
      ]
     },
     "execution_count": 125,
     "metadata": {},
     "output_type": "execute_result"
    }
   ],
   "source": [
    "df3_chi = np.array([df3_res.iloc[0][0:8],df3_res.iloc[1][0:8]])\n",
    "df3_chi"
   ]
  },
  {
   "cell_type": "code",
   "execution_count": 126,
   "id": "db8b44ea",
   "metadata": {},
   "outputs": [
    {
     "data": {
      "text/plain": [
       "(24.594493414948055, 0.000895143492363509, 7)"
      ]
     },
     "execution_count": 126,
     "metadata": {},
     "output_type": "execute_result"
    }
   ],
   "source": [
    "stats.chi2_contingency(df3_chi)[:3]"
   ]
  },
  {
   "cell_type": "markdown",
   "id": "c77a84ce",
   "metadata": {},
   "source": [
    "## 4、性别和抑制因素"
   ]
  },
  {
   "cell_type": "code",
   "execution_count": 21,
   "id": "ec055eed",
   "metadata": {},
   "outputs": [],
   "source": [
    "df4 = df[[\"21、您的性别\",\"6、请问您认为或您见到的抑制结婚的因素有哪些\",\"所用时间\"]]"
   ]
  },
  {
   "cell_type": "code",
   "execution_count": 22,
   "id": "c2d47b31",
   "metadata": {},
   "outputs": [],
   "source": [
    "dic4 = {\"性别\":[],\"抑制因素\":[],\"所用时间\":[]}"
   ]
  },
  {
   "cell_type": "code",
   "execution_count": 23,
   "id": "717b304c",
   "metadata": {},
   "outputs": [],
   "source": [
    "for i in range(df4.shape[0]):\n",
    "    if \"其他\" not in df4.iloc[i,1]:\n",
    "        alis = df4.iloc[i,1].split(\"┋\")\n",
    "        for a in alis:\n",
    "            dic4[\"性别\"].append(df4.iloc[i,0])\n",
    "            dic4[\"抑制因素\"].append(a)\n",
    "            dic4[\"所用时间\"].append(df4.iloc[i,2])"
   ]
  },
  {
   "cell_type": "code",
   "execution_count": 24,
   "id": "4f7e1712",
   "metadata": {},
   "outputs": [
    {
     "data": {
      "text/html": [
       "<div>\n",
       "<style scoped>\n",
       "    .dataframe tbody tr th:only-of-type {\n",
       "        vertical-align: middle;\n",
       "    }\n",
       "\n",
       "    .dataframe tbody tr th {\n",
       "        vertical-align: top;\n",
       "    }\n",
       "\n",
       "    .dataframe thead th {\n",
       "        text-align: right;\n",
       "    }\n",
       "</style>\n",
       "<table border=\"1\" class=\"dataframe\">\n",
       "  <thead>\n",
       "    <tr style=\"text-align: right;\">\n",
       "      <th></th>\n",
       "      <th>性别</th>\n",
       "      <th>抑制因素</th>\n",
       "      <th>所用时间</th>\n",
       "    </tr>\n",
       "  </thead>\n",
       "  <tbody>\n",
       "    <tr>\n",
       "      <th>0</th>\n",
       "      <td>男</td>\n",
       "      <td>结婚成本较高</td>\n",
       "      <td>250秒</td>\n",
       "    </tr>\n",
       "    <tr>\n",
       "      <th>1</th>\n",
       "      <td>男</td>\n",
       "      <td>生育成本较高</td>\n",
       "      <td>250秒</td>\n",
       "    </tr>\n",
       "    <tr>\n",
       "      <th>2</th>\n",
       "      <td>男</td>\n",
       "      <td>工作压力和社会压力较大</td>\n",
       "      <td>250秒</td>\n",
       "    </tr>\n",
       "    <tr>\n",
       "      <th>3</th>\n",
       "      <td>男</td>\n",
       "      <td>现代人享受单身生活的自由感</td>\n",
       "      <td>250秒</td>\n",
       "    </tr>\n",
       "    <tr>\n",
       "      <th>4</th>\n",
       "      <td>男</td>\n",
       "      <td>对于照料双方父母、子女等事宜的担忧</td>\n",
       "      <td>250秒</td>\n",
       "    </tr>\n",
       "    <tr>\n",
       "      <th>...</th>\n",
       "      <td>...</td>\n",
       "      <td>...</td>\n",
       "      <td>...</td>\n",
       "    </tr>\n",
       "    <tr>\n",
       "      <th>2035</th>\n",
       "      <td>女</td>\n",
       "      <td>生育成本较高</td>\n",
       "      <td>200秒</td>\n",
       "    </tr>\n",
       "    <tr>\n",
       "      <th>2036</th>\n",
       "      <td>女</td>\n",
       "      <td>工作压力和社会压力较大</td>\n",
       "      <td>200秒</td>\n",
       "    </tr>\n",
       "    <tr>\n",
       "      <th>2037</th>\n",
       "      <td>女</td>\n",
       "      <td>结婚成本较高</td>\n",
       "      <td>84秒</td>\n",
       "    </tr>\n",
       "    <tr>\n",
       "      <th>2038</th>\n",
       "      <td>女</td>\n",
       "      <td>生育成本较高</td>\n",
       "      <td>84秒</td>\n",
       "    </tr>\n",
       "    <tr>\n",
       "      <th>2039</th>\n",
       "      <td>女</td>\n",
       "      <td>工作压力和社会压力较大</td>\n",
       "      <td>84秒</td>\n",
       "    </tr>\n",
       "  </tbody>\n",
       "</table>\n",
       "<p>2040 rows × 3 columns</p>\n",
       "</div>"
      ],
      "text/plain": [
       "     性别               抑制因素  所用时间\n",
       "0     男             结婚成本较高  250秒\n",
       "1     男             生育成本较高  250秒\n",
       "2     男        工作压力和社会压力较大  250秒\n",
       "3     男      现代人享受单身生活的自由感  250秒\n",
       "4     男  对于照料双方父母、子女等事宜的担忧  250秒\n",
       "...  ..                ...   ...\n",
       "2035  女             生育成本较高  200秒\n",
       "2036  女        工作压力和社会压力较大  200秒\n",
       "2037  女             结婚成本较高   84秒\n",
       "2038  女             生育成本较高   84秒\n",
       "2039  女        工作压力和社会压力较大   84秒\n",
       "\n",
       "[2040 rows x 3 columns]"
      ]
     },
     "execution_count": 24,
     "metadata": {},
     "output_type": "execute_result"
    }
   ],
   "source": [
    "df4_ = pd.DataFrame(dic4)\n",
    "df4_"
   ]
  },
  {
   "cell_type": "code",
   "execution_count": 25,
   "id": "29f49ee5",
   "metadata": {},
   "outputs": [],
   "source": [
    "df4_.to_csv('抑制因素.csv')"
   ]
  },
  {
   "cell_type": "code",
   "execution_count": 11,
   "id": "cfd010fe",
   "metadata": {},
   "outputs": [
    {
     "data": {
      "text/html": [
       "<div>\n",
       "<style scoped>\n",
       "    .dataframe tbody tr th:only-of-type {\n",
       "        vertical-align: middle;\n",
       "    }\n",
       "\n",
       "    .dataframe tbody tr th {\n",
       "        vertical-align: top;\n",
       "    }\n",
       "\n",
       "    .dataframe thead th {\n",
       "        text-align: right;\n",
       "    }\n",
       "</style>\n",
       "<table border=\"1\" class=\"dataframe\">\n",
       "  <thead>\n",
       "    <tr style=\"text-align: right;\">\n",
       "      <th>抑制因素</th>\n",
       "      <th>对于照料双方父母、子女等事宜的担忧</th>\n",
       "      <th>对于结婚本身欲望较低</th>\n",
       "      <th>工作压力和社会压力较大</th>\n",
       "      <th>父母长辈对子女伴侣要求较高</th>\n",
       "      <th>现代人享受单身生活的自由感</th>\n",
       "      <th>生育成本较高</th>\n",
       "      <th>社会对于不婚等现象越来越包容</th>\n",
       "      <th>离婚成本较高</th>\n",
       "      <th>结婚成本较高</th>\n",
       "      <th>难以找到物质条件上满意的结婚对象</th>\n",
       "      <th>难以找到观念、生活方式都契合的对象</th>\n",
       "      <th>All</th>\n",
       "    </tr>\n",
       "    <tr>\n",
       "      <th>性别</th>\n",
       "      <th></th>\n",
       "      <th></th>\n",
       "      <th></th>\n",
       "      <th></th>\n",
       "      <th></th>\n",
       "      <th></th>\n",
       "      <th></th>\n",
       "      <th></th>\n",
       "      <th></th>\n",
       "      <th></th>\n",
       "      <th></th>\n",
       "      <th></th>\n",
       "    </tr>\n",
       "  </thead>\n",
       "  <tbody>\n",
       "    <tr>\n",
       "      <th>女</th>\n",
       "      <td>88</td>\n",
       "      <td>94</td>\n",
       "      <td>131</td>\n",
       "      <td>45</td>\n",
       "      <td>119</td>\n",
       "      <td>138</td>\n",
       "      <td>69</td>\n",
       "      <td>70</td>\n",
       "      <td>114</td>\n",
       "      <td>90</td>\n",
       "      <td>141</td>\n",
       "      <td>1099</td>\n",
       "    </tr>\n",
       "    <tr>\n",
       "      <th>男</th>\n",
       "      <td>65</td>\n",
       "      <td>63</td>\n",
       "      <td>145</td>\n",
       "      <td>50</td>\n",
       "      <td>95</td>\n",
       "      <td>142</td>\n",
       "      <td>46</td>\n",
       "      <td>33</td>\n",
       "      <td>144</td>\n",
       "      <td>49</td>\n",
       "      <td>109</td>\n",
       "      <td>941</td>\n",
       "    </tr>\n",
       "    <tr>\n",
       "      <th>All</th>\n",
       "      <td>153</td>\n",
       "      <td>157</td>\n",
       "      <td>276</td>\n",
       "      <td>95</td>\n",
       "      <td>214</td>\n",
       "      <td>280</td>\n",
       "      <td>115</td>\n",
       "      <td>103</td>\n",
       "      <td>258</td>\n",
       "      <td>139</td>\n",
       "      <td>250</td>\n",
       "      <td>2040</td>\n",
       "    </tr>\n",
       "  </tbody>\n",
       "</table>\n",
       "</div>"
      ],
      "text/plain": [
       "抑制因素  对于照料双方父母、子女等事宜的担忧  对于结婚本身欲望较低  工作压力和社会压力较大  父母长辈对子女伴侣要求较高  \\\n",
       "性别                                                                \n",
       "女                    88          94          131             45   \n",
       "男                    65          63          145             50   \n",
       "All                 153         157          276             95   \n",
       "\n",
       "抑制因素  现代人享受单身生活的自由感  生育成本较高  社会对于不婚等现象越来越包容  离婚成本较高  结婚成本较高  难以找到物质条件上满意的结婚对象  \\\n",
       "性别                                                                              \n",
       "女               119     138              69      70     114                90   \n",
       "男                95     142              46      33     144                49   \n",
       "All             214     280             115     103     258               139   \n",
       "\n",
       "抑制因素  难以找到观念、生活方式都契合的对象   All  \n",
       "性别                             \n",
       "女                   141  1099  \n",
       "男                   109   941  \n",
       "All                 250  2040  "
      ]
     },
     "execution_count": 11,
     "metadata": {},
     "output_type": "execute_result"
    }
   ],
   "source": [
    "df4_res = pd.crosstab(df4_[\"性别\"],df4_[\"抑制因素\"],margins=True)\n",
    "df4_res"
   ]
  },
  {
   "cell_type": "code",
   "execution_count": 15,
   "id": "b430c79d",
   "metadata": {},
   "outputs": [
    {
     "data": {
      "text/plain": [
       "array([[ 88,  94, 131,  45, 119, 138,  69,  70, 114,  90, 141],\n",
       "       [ 65,  63, 145,  50,  95, 142,  46,  33, 144,  49, 109]],\n",
       "      dtype=int64)"
      ]
     },
     "execution_count": 15,
     "metadata": {},
     "output_type": "execute_result"
    }
   ],
   "source": [
    "df4_chi = np.array([df4_res.iloc[0][0:11],df4_res.iloc[1][0:11]])\n",
    "df4_chi"
   ]
  },
  {
   "cell_type": "code",
   "execution_count": 16,
   "id": "5379cb02",
   "metadata": {},
   "outputs": [
    {
     "data": {
      "text/plain": [
       "(38.865615815362055, 2.6801559920722607e-05, 10)"
      ]
     },
     "execution_count": 16,
     "metadata": {},
     "output_type": "execute_result"
    }
   ],
   "source": [
    "stats.chi2_contingency(df4_chi)[:3]"
   ]
  },
  {
   "cell_type": "markdown",
   "id": "6aa1bacd",
   "metadata": {},
   "source": [
    "## 5.1 性别和婚前同居"
   ]
  },
  {
   "cell_type": "code",
   "execution_count": 36,
   "id": "25bdf8d3",
   "metadata": {},
   "outputs": [],
   "source": [
    "def cross_ananlysis(var):\n",
    "    dff = df[[\"21、您的性别\",var,\"所用时间\"]]\n",
    "    dff_res = pd.crosstab(dff[\"21、您的性别\"],dff[var],margins=True)\n",
    "    dff_chi = np.array([dff_res.iloc[0][0:(dff_res.shape[1]-1)],dff_res.iloc[1][0:(dff_res.shape[1]-1)]])\n",
    "    return dff_res,dff_chi,stats.chi2_contingency(dff_chi)[:3]\n",
    "    "
   ]
  },
  {
   "cell_type": "code",
   "execution_count": 37,
   "id": "5f2bdb8f",
   "metadata": {},
   "outputs": [],
   "source": [
    "df5_1_res,df5_1_chi,df5_1_ana = cross_ananlysis(\"7、请问您对于以下婚姻行为的认同度为—婚前同居\")"
   ]
  },
  {
   "cell_type": "code",
   "execution_count": 38,
   "id": "e35a890d",
   "metadata": {},
   "outputs": [
    {
     "data": {
      "text/html": [
       "<div>\n",
       "<style scoped>\n",
       "    .dataframe tbody tr th:only-of-type {\n",
       "        vertical-align: middle;\n",
       "    }\n",
       "\n",
       "    .dataframe tbody tr th {\n",
       "        vertical-align: top;\n",
       "    }\n",
       "\n",
       "    .dataframe thead th {\n",
       "        text-align: right;\n",
       "    }\n",
       "</style>\n",
       "<table border=\"1\" class=\"dataframe\">\n",
       "  <thead>\n",
       "    <tr style=\"text-align: right;\">\n",
       "      <th>7、请问您对于以下婚姻行为的认同度为—婚前同居</th>\n",
       "      <th>不太认同</th>\n",
       "      <th>不认同</th>\n",
       "      <th>认同</th>\n",
       "      <th>较认同</th>\n",
       "      <th>All</th>\n",
       "    </tr>\n",
       "    <tr>\n",
       "      <th>21、您的性别</th>\n",
       "      <th></th>\n",
       "      <th></th>\n",
       "      <th></th>\n",
       "      <th></th>\n",
       "      <th></th>\n",
       "    </tr>\n",
       "  </thead>\n",
       "  <tbody>\n",
       "    <tr>\n",
       "      <th>女</th>\n",
       "      <td>26</td>\n",
       "      <td>21</td>\n",
       "      <td>82</td>\n",
       "      <td>71</td>\n",
       "      <td>200</td>\n",
       "    </tr>\n",
       "    <tr>\n",
       "      <th>男</th>\n",
       "      <td>27</td>\n",
       "      <td>16</td>\n",
       "      <td>90</td>\n",
       "      <td>67</td>\n",
       "      <td>200</td>\n",
       "    </tr>\n",
       "    <tr>\n",
       "      <th>All</th>\n",
       "      <td>53</td>\n",
       "      <td>37</td>\n",
       "      <td>172</td>\n",
       "      <td>138</td>\n",
       "      <td>400</td>\n",
       "    </tr>\n",
       "  </tbody>\n",
       "</table>\n",
       "</div>"
      ],
      "text/plain": [
       "7、请问您对于以下婚姻行为的认同度为—婚前同居  不太认同  不认同   认同  较认同  All\n",
       "21、您的性别                                          \n",
       "女                          26   21   82   71  200\n",
       "男                          27   16   90   67  200\n",
       "All                        53   37  172  138  400"
      ]
     },
     "execution_count": 38,
     "metadata": {},
     "output_type": "execute_result"
    }
   ],
   "source": [
    "df5_1_res"
   ]
  },
  {
   "cell_type": "code",
   "execution_count": 39,
   "id": "44c6c218",
   "metadata": {},
   "outputs": [
    {
     "data": {
      "text/plain": [
       "array([[26, 21, 82, 71],\n",
       "       [27, 16, 90, 67]], dtype=int64)"
      ]
     },
     "execution_count": 39,
     "metadata": {},
     "output_type": "execute_result"
    }
   ],
   "source": [
    "df5_1_chi"
   ]
  },
  {
   "cell_type": "code",
   "execution_count": 40,
   "id": "cf53dc71",
   "metadata": {},
   "outputs": [
    {
     "data": {
      "text/plain": [
       "(1.1825786524452988, 0.7571856310825741, 3)"
      ]
     },
     "execution_count": 40,
     "metadata": {},
     "output_type": "execute_result"
    }
   ],
   "source": [
    "df5_1_ana"
   ]
  },
  {
   "cell_type": "markdown",
   "id": "caad642d",
   "metadata": {},
   "source": [
    "## 5.2 性别和婚前性行为"
   ]
  },
  {
   "cell_type": "code",
   "execution_count": 41,
   "id": "af5b20d4",
   "metadata": {},
   "outputs": [],
   "source": [
    "df5_2_res,df5_2_chi,df5_2_ana = cross_ananlysis(\"7、婚前性行为\")"
   ]
  },
  {
   "cell_type": "code",
   "execution_count": 42,
   "id": "f9812b9c",
   "metadata": {},
   "outputs": [
    {
     "data": {
      "text/html": [
       "<div>\n",
       "<style scoped>\n",
       "    .dataframe tbody tr th:only-of-type {\n",
       "        vertical-align: middle;\n",
       "    }\n",
       "\n",
       "    .dataframe tbody tr th {\n",
       "        vertical-align: top;\n",
       "    }\n",
       "\n",
       "    .dataframe thead th {\n",
       "        text-align: right;\n",
       "    }\n",
       "</style>\n",
       "<table border=\"1\" class=\"dataframe\">\n",
       "  <thead>\n",
       "    <tr style=\"text-align: right;\">\n",
       "      <th>7、婚前性行为</th>\n",
       "      <th>不太认同</th>\n",
       "      <th>不认同</th>\n",
       "      <th>认同</th>\n",
       "      <th>较认同</th>\n",
       "      <th>All</th>\n",
       "    </tr>\n",
       "    <tr>\n",
       "      <th>21、您的性别</th>\n",
       "      <th></th>\n",
       "      <th></th>\n",
       "      <th></th>\n",
       "      <th></th>\n",
       "      <th></th>\n",
       "    </tr>\n",
       "  </thead>\n",
       "  <tbody>\n",
       "    <tr>\n",
       "      <th>女</th>\n",
       "      <td>37</td>\n",
       "      <td>28</td>\n",
       "      <td>81</td>\n",
       "      <td>54</td>\n",
       "      <td>200</td>\n",
       "    </tr>\n",
       "    <tr>\n",
       "      <th>男</th>\n",
       "      <td>39</td>\n",
       "      <td>14</td>\n",
       "      <td>88</td>\n",
       "      <td>59</td>\n",
       "      <td>200</td>\n",
       "    </tr>\n",
       "    <tr>\n",
       "      <th>All</th>\n",
       "      <td>76</td>\n",
       "      <td>42</td>\n",
       "      <td>169</td>\n",
       "      <td>113</td>\n",
       "      <td>400</td>\n",
       "    </tr>\n",
       "  </tbody>\n",
       "</table>\n",
       "</div>"
      ],
      "text/plain": [
       "7、婚前性行为  不太认同  不认同   认同  较认同  All\n",
       "21、您的性别                          \n",
       "女          37   28   81   54  200\n",
       "男          39   14   88   59  200\n",
       "All        76   42  169  113  400"
      ]
     },
     "execution_count": 42,
     "metadata": {},
     "output_type": "execute_result"
    }
   ],
   "source": [
    "df5_2_res"
   ]
  },
  {
   "cell_type": "code",
   "execution_count": 43,
   "id": "63df8372",
   "metadata": {},
   "outputs": [
    {
     "data": {
      "text/plain": [
       "array([[37, 28, 81, 54],\n",
       "       [39, 14, 88, 59]], dtype=int64)"
      ]
     },
     "execution_count": 43,
     "metadata": {},
     "output_type": "execute_result"
    }
   ],
   "source": [
    "df5_2_chi"
   ]
  },
  {
   "cell_type": "code",
   "execution_count": 45,
   "id": "40887f5b",
   "metadata": {},
   "outputs": [
    {
     "data": {
      "text/plain": [
       "(5.230478012069499, 0.15567771601131553, 3)"
      ]
     },
     "execution_count": 45,
     "metadata": {},
     "output_type": "execute_result"
    }
   ],
   "source": [
    "df5_2_ana"
   ]
  },
  {
   "cell_type": "markdown",
   "id": "3741d4b6",
   "metadata": {},
   "source": [
    "## 5.3 性别和不婚（有关联）"
   ]
  },
  {
   "cell_type": "code",
   "execution_count": 46,
   "id": "0d456aab",
   "metadata": {},
   "outputs": [],
   "source": [
    "df5_3_res,df5_3_chi,df5_3_ana = cross_ananlysis(\"7、不婚\")"
   ]
  },
  {
   "cell_type": "code",
   "execution_count": 48,
   "id": "ab122614",
   "metadata": {},
   "outputs": [
    {
     "data": {
      "text/html": [
       "<div>\n",
       "<style scoped>\n",
       "    .dataframe tbody tr th:only-of-type {\n",
       "        vertical-align: middle;\n",
       "    }\n",
       "\n",
       "    .dataframe tbody tr th {\n",
       "        vertical-align: top;\n",
       "    }\n",
       "\n",
       "    .dataframe thead th {\n",
       "        text-align: right;\n",
       "    }\n",
       "</style>\n",
       "<table border=\"1\" class=\"dataframe\">\n",
       "  <thead>\n",
       "    <tr style=\"text-align: right;\">\n",
       "      <th>7、不婚</th>\n",
       "      <th>不太认同</th>\n",
       "      <th>不认同</th>\n",
       "      <th>认同</th>\n",
       "      <th>较认同</th>\n",
       "      <th>All</th>\n",
       "    </tr>\n",
       "    <tr>\n",
       "      <th>21、您的性别</th>\n",
       "      <th></th>\n",
       "      <th></th>\n",
       "      <th></th>\n",
       "      <th></th>\n",
       "      <th></th>\n",
       "    </tr>\n",
       "  </thead>\n",
       "  <tbody>\n",
       "    <tr>\n",
       "      <th>女</th>\n",
       "      <td>26</td>\n",
       "      <td>8</td>\n",
       "      <td>107</td>\n",
       "      <td>59</td>\n",
       "      <td>200</td>\n",
       "    </tr>\n",
       "    <tr>\n",
       "      <th>男</th>\n",
       "      <td>55</td>\n",
       "      <td>38</td>\n",
       "      <td>64</td>\n",
       "      <td>43</td>\n",
       "      <td>200</td>\n",
       "    </tr>\n",
       "    <tr>\n",
       "      <th>All</th>\n",
       "      <td>81</td>\n",
       "      <td>46</td>\n",
       "      <td>171</td>\n",
       "      <td>102</td>\n",
       "      <td>400</td>\n",
       "    </tr>\n",
       "  </tbody>\n",
       "</table>\n",
       "</div>"
      ],
      "text/plain": [
       "7、不婚     不太认同  不认同   认同  较认同  All\n",
       "21、您的性别                          \n",
       "女          26    8  107   59  200\n",
       "男          55   38   64   43  200\n",
       "All        81   46  171  102  400"
      ]
     },
     "execution_count": 48,
     "metadata": {},
     "output_type": "execute_result"
    }
   ],
   "source": [
    "df5_3_res"
   ]
  },
  {
   "cell_type": "code",
   "execution_count": 49,
   "id": "e01d9872",
   "metadata": {},
   "outputs": [
    {
     "data": {
      "text/plain": [
       "array([[ 26,   8, 107,  59],\n",
       "       [ 55,  38,  64,  43]], dtype=int64)"
      ]
     },
     "execution_count": 49,
     "metadata": {},
     "output_type": "execute_result"
    }
   ],
   "source": [
    "df5_3_chi"
   ]
  },
  {
   "cell_type": "code",
   "execution_count": 50,
   "id": "d5c06ae2",
   "metadata": {},
   "outputs": [
    {
     "data": {
      "text/plain": [
       "(43.27060285933172, 2.156027923724087e-09, 3)"
      ]
     },
     "execution_count": 50,
     "metadata": {},
     "output_type": "execute_result"
    }
   ],
   "source": [
    "df5_3_ana"
   ]
  },
  {
   "cell_type": "markdown",
   "id": "8811472b",
   "metadata": {},
   "source": [
    "## 5.4性别和丁克（有关联）"
   ]
  },
  {
   "cell_type": "code",
   "execution_count": 51,
   "id": "4c6a86ce",
   "metadata": {},
   "outputs": [],
   "source": [
    "df5_4_res,df5_4_chi,df5_4_ana = cross_ananlysis(\"7、丁克（不生孩子）\")"
   ]
  },
  {
   "cell_type": "code",
   "execution_count": 52,
   "id": "ee4df963",
   "metadata": {},
   "outputs": [
    {
     "data": {
      "text/html": [
       "<div>\n",
       "<style scoped>\n",
       "    .dataframe tbody tr th:only-of-type {\n",
       "        vertical-align: middle;\n",
       "    }\n",
       "\n",
       "    .dataframe tbody tr th {\n",
       "        vertical-align: top;\n",
       "    }\n",
       "\n",
       "    .dataframe thead th {\n",
       "        text-align: right;\n",
       "    }\n",
       "</style>\n",
       "<table border=\"1\" class=\"dataframe\">\n",
       "  <thead>\n",
       "    <tr style=\"text-align: right;\">\n",
       "      <th>7、丁克（不生孩子）</th>\n",
       "      <th>不太认同</th>\n",
       "      <th>不认同</th>\n",
       "      <th>认同</th>\n",
       "      <th>较认同</th>\n",
       "      <th>All</th>\n",
       "    </tr>\n",
       "    <tr>\n",
       "      <th>21、您的性别</th>\n",
       "      <th></th>\n",
       "      <th></th>\n",
       "      <th></th>\n",
       "      <th></th>\n",
       "      <th></th>\n",
       "    </tr>\n",
       "  </thead>\n",
       "  <tbody>\n",
       "    <tr>\n",
       "      <th>女</th>\n",
       "      <td>29</td>\n",
       "      <td>9</td>\n",
       "      <td>110</td>\n",
       "      <td>52</td>\n",
       "      <td>200</td>\n",
       "    </tr>\n",
       "    <tr>\n",
       "      <th>男</th>\n",
       "      <td>44</td>\n",
       "      <td>47</td>\n",
       "      <td>63</td>\n",
       "      <td>46</td>\n",
       "      <td>200</td>\n",
       "    </tr>\n",
       "    <tr>\n",
       "      <th>All</th>\n",
       "      <td>73</td>\n",
       "      <td>56</td>\n",
       "      <td>173</td>\n",
       "      <td>98</td>\n",
       "      <td>400</td>\n",
       "    </tr>\n",
       "  </tbody>\n",
       "</table>\n",
       "</div>"
      ],
      "text/plain": [
       "7、丁克（不生孩子）  不太认同  不认同   认同  较认同  All\n",
       "21、您的性别                             \n",
       "女             29    9  110   52  200\n",
       "男             44   47   63   46  200\n",
       "All           73   56  173   98  400"
      ]
     },
     "execution_count": 52,
     "metadata": {},
     "output_type": "execute_result"
    }
   ],
   "source": [
    "df5_4_res"
   ]
  },
  {
   "cell_type": "code",
   "execution_count": 53,
   "id": "5365aca1",
   "metadata": {},
   "outputs": [
    {
     "data": {
      "text/plain": [
       "array([[ 29,   9, 110,  52],\n",
       "       [ 44,  47,  63,  46]], dtype=int64)"
      ]
     },
     "execution_count": 53,
     "metadata": {},
     "output_type": "execute_result"
    }
   ],
   "source": [
    "df5_4_chi"
   ]
  },
  {
   "cell_type": "code",
   "execution_count": 54,
   "id": "d8f13154",
   "metadata": {},
   "outputs": [
    {
     "data": {
      "text/plain": [
       "(42.00403913247934, 4.004216035787537e-09, 3)"
      ]
     },
     "execution_count": 54,
     "metadata": {},
     "output_type": "execute_result"
    }
   ],
   "source": [
    "df5_4_ana"
   ]
  },
  {
   "cell_type": "markdown",
   "id": "5530f4ee",
   "metadata": {},
   "source": [
    "## 5.5 性别和同性恋行为（有关联）"
   ]
  },
  {
   "cell_type": "code",
   "execution_count": 55,
   "id": "d1651bcc",
   "metadata": {},
   "outputs": [],
   "source": [
    "df5_5_res,df5_5_chi,df5_5_ana = cross_ananlysis(\"7、同性恋行为\")"
   ]
  },
  {
   "cell_type": "code",
   "execution_count": 56,
   "id": "72adadb3",
   "metadata": {},
   "outputs": [
    {
     "data": {
      "text/html": [
       "<div>\n",
       "<style scoped>\n",
       "    .dataframe tbody tr th:only-of-type {\n",
       "        vertical-align: middle;\n",
       "    }\n",
       "\n",
       "    .dataframe tbody tr th {\n",
       "        vertical-align: top;\n",
       "    }\n",
       "\n",
       "    .dataframe thead th {\n",
       "        text-align: right;\n",
       "    }\n",
       "</style>\n",
       "<table border=\"1\" class=\"dataframe\">\n",
       "  <thead>\n",
       "    <tr style=\"text-align: right;\">\n",
       "      <th>7、同性恋行为</th>\n",
       "      <th>不太认同</th>\n",
       "      <th>不认同</th>\n",
       "      <th>认同</th>\n",
       "      <th>较认同</th>\n",
       "      <th>All</th>\n",
       "    </tr>\n",
       "    <tr>\n",
       "      <th>21、您的性别</th>\n",
       "      <th></th>\n",
       "      <th></th>\n",
       "      <th></th>\n",
       "      <th></th>\n",
       "      <th></th>\n",
       "    </tr>\n",
       "  </thead>\n",
       "  <tbody>\n",
       "    <tr>\n",
       "      <th>女</th>\n",
       "      <td>28</td>\n",
       "      <td>5</td>\n",
       "      <td>101</td>\n",
       "      <td>66</td>\n",
       "      <td>200</td>\n",
       "    </tr>\n",
       "    <tr>\n",
       "      <th>男</th>\n",
       "      <td>42</td>\n",
       "      <td>75</td>\n",
       "      <td>41</td>\n",
       "      <td>42</td>\n",
       "      <td>200</td>\n",
       "    </tr>\n",
       "    <tr>\n",
       "      <th>All</th>\n",
       "      <td>70</td>\n",
       "      <td>80</td>\n",
       "      <td>142</td>\n",
       "      <td>108</td>\n",
       "      <td>400</td>\n",
       "    </tr>\n",
       "  </tbody>\n",
       "</table>\n",
       "</div>"
      ],
      "text/plain": [
       "7、同性恋行为  不太认同  不认同   认同  较认同  All\n",
       "21、您的性别                          \n",
       "女          28    5  101   66  200\n",
       "男          42   75   41   42  200\n",
       "All        70   80  142  108  400"
      ]
     },
     "execution_count": 56,
     "metadata": {},
     "output_type": "execute_result"
    }
   ],
   "source": [
    "df5_5_res"
   ]
  },
  {
   "cell_type": "code",
   "execution_count": 57,
   "id": "880a0186",
   "metadata": {},
   "outputs": [
    {
     "data": {
      "text/plain": [
       "array([[ 28,   5, 101,  66],\n",
       "       [ 42,  75,  41,  42]], dtype=int64)"
      ]
     },
     "execution_count": 57,
     "metadata": {},
     "output_type": "execute_result"
    }
   ],
   "source": [
    "df5_5_chi"
   ]
  },
  {
   "cell_type": "code",
   "execution_count": 58,
   "id": "996ed663",
   "metadata": {},
   "outputs": [
    {
     "data": {
      "text/plain": [
       "(94.73544600938968, 2.104599231139597e-20, 3)"
      ]
     },
     "execution_count": 58,
     "metadata": {},
     "output_type": "execute_result"
    }
   ],
   "source": [
    "df5_5_ana"
   ]
  },
  {
   "cell_type": "markdown",
   "id": "918348fe",
   "metadata": {},
   "source": [
    "## 5.6 性别和闪婚行为"
   ]
  },
  {
   "cell_type": "code",
   "execution_count": 60,
   "id": "036f6aa8",
   "metadata": {},
   "outputs": [],
   "source": [
    "df5_6_res,df5_6_chi,df5_6_ana = cross_ananlysis(\"7、闪婚行为\")"
   ]
  },
  {
   "cell_type": "code",
   "execution_count": 61,
   "id": "4832295c",
   "metadata": {},
   "outputs": [
    {
     "data": {
      "text/html": [
       "<div>\n",
       "<style scoped>\n",
       "    .dataframe tbody tr th:only-of-type {\n",
       "        vertical-align: middle;\n",
       "    }\n",
       "\n",
       "    .dataframe tbody tr th {\n",
       "        vertical-align: top;\n",
       "    }\n",
       "\n",
       "    .dataframe thead th {\n",
       "        text-align: right;\n",
       "    }\n",
       "</style>\n",
       "<table border=\"1\" class=\"dataframe\">\n",
       "  <thead>\n",
       "    <tr style=\"text-align: right;\">\n",
       "      <th>7、闪婚行为</th>\n",
       "      <th>不太认同</th>\n",
       "      <th>不认同</th>\n",
       "      <th>认同</th>\n",
       "      <th>较认同</th>\n",
       "      <th>All</th>\n",
       "    </tr>\n",
       "    <tr>\n",
       "      <th>21、您的性别</th>\n",
       "      <th></th>\n",
       "      <th></th>\n",
       "      <th></th>\n",
       "      <th></th>\n",
       "      <th></th>\n",
       "    </tr>\n",
       "  </thead>\n",
       "  <tbody>\n",
       "    <tr>\n",
       "      <th>女</th>\n",
       "      <td>101</td>\n",
       "      <td>37</td>\n",
       "      <td>27</td>\n",
       "      <td>35</td>\n",
       "      <td>200</td>\n",
       "    </tr>\n",
       "    <tr>\n",
       "      <th>男</th>\n",
       "      <td>71</td>\n",
       "      <td>78</td>\n",
       "      <td>27</td>\n",
       "      <td>24</td>\n",
       "      <td>200</td>\n",
       "    </tr>\n",
       "    <tr>\n",
       "      <th>All</th>\n",
       "      <td>172</td>\n",
       "      <td>115</td>\n",
       "      <td>54</td>\n",
       "      <td>59</td>\n",
       "      <td>400</td>\n",
       "    </tr>\n",
       "  </tbody>\n",
       "</table>\n",
       "</div>"
      ],
      "text/plain": [
       "7、闪婚行为   不太认同  不认同  认同  较认同  All\n",
       "21、您的性别                         \n",
       "女         101   37  27   35  200\n",
       "男          71   78  27   24  200\n",
       "All       172  115  54   59  400"
      ]
     },
     "execution_count": 61,
     "metadata": {},
     "output_type": "execute_result"
    }
   ],
   "source": [
    "df5_6_res"
   ]
  },
  {
   "cell_type": "code",
   "execution_count": 62,
   "id": "79c3d5a2",
   "metadata": {},
   "outputs": [
    {
     "data": {
      "text/plain": [
       "array([[101,  37,  27,  35],\n",
       "       [ 71,  78,  27,  24]], dtype=int64)"
      ]
     },
     "execution_count": 62,
     "metadata": {},
     "output_type": "execute_result"
    }
   ],
   "source": [
    "df5_6_chi"
   ]
  },
  {
   "cell_type": "code",
   "execution_count": 63,
   "id": "455e6047",
   "metadata": {},
   "outputs": [
    {
     "data": {
      "text/plain": [
       "(21.90079690150983, 6.84060100840436e-05, 3)"
      ]
     },
     "execution_count": 63,
     "metadata": {},
     "output_type": "execute_result"
    }
   ],
   "source": [
    "df5_6_ana"
   ]
  },
  {
   "cell_type": "markdown",
   "id": "04aecea6",
   "metadata": {},
   "source": [
    "## 5.7 性别和非婚生育"
   ]
  },
  {
   "cell_type": "code",
   "execution_count": 65,
   "id": "7ceb1a64",
   "metadata": {},
   "outputs": [],
   "source": [
    "df5_7_res,df5_7_chi,df5_7_ana = cross_ananlysis(\"7、非婚生育\")"
   ]
  },
  {
   "cell_type": "code",
   "execution_count": 66,
   "id": "6135e456",
   "metadata": {},
   "outputs": [
    {
     "data": {
      "text/html": [
       "<div>\n",
       "<style scoped>\n",
       "    .dataframe tbody tr th:only-of-type {\n",
       "        vertical-align: middle;\n",
       "    }\n",
       "\n",
       "    .dataframe tbody tr th {\n",
       "        vertical-align: top;\n",
       "    }\n",
       "\n",
       "    .dataframe thead th {\n",
       "        text-align: right;\n",
       "    }\n",
       "</style>\n",
       "<table border=\"1\" class=\"dataframe\">\n",
       "  <thead>\n",
       "    <tr style=\"text-align: right;\">\n",
       "      <th>7、非婚生育</th>\n",
       "      <th>不太认同</th>\n",
       "      <th>不认同</th>\n",
       "      <th>认同</th>\n",
       "      <th>较认同</th>\n",
       "      <th>All</th>\n",
       "    </tr>\n",
       "    <tr>\n",
       "      <th>21、您的性别</th>\n",
       "      <th></th>\n",
       "      <th></th>\n",
       "      <th></th>\n",
       "      <th></th>\n",
       "      <th></th>\n",
       "    </tr>\n",
       "  </thead>\n",
       "  <tbody>\n",
       "    <tr>\n",
       "      <th>女</th>\n",
       "      <td>74</td>\n",
       "      <td>68</td>\n",
       "      <td>34</td>\n",
       "      <td>24</td>\n",
       "      <td>200</td>\n",
       "    </tr>\n",
       "    <tr>\n",
       "      <th>男</th>\n",
       "      <td>62</td>\n",
       "      <td>98</td>\n",
       "      <td>25</td>\n",
       "      <td>15</td>\n",
       "      <td>200</td>\n",
       "    </tr>\n",
       "    <tr>\n",
       "      <th>All</th>\n",
       "      <td>136</td>\n",
       "      <td>166</td>\n",
       "      <td>59</td>\n",
       "      <td>39</td>\n",
       "      <td>400</td>\n",
       "    </tr>\n",
       "  </tbody>\n",
       "</table>\n",
       "</div>"
      ],
      "text/plain": [
       "7、非婚生育   不太认同  不认同  认同  较认同  All\n",
       "21、您的性别                         \n",
       "女          74   68  34   24  200\n",
       "男          62   98  25   15  200\n",
       "All       136  166  59   39  400"
      ]
     },
     "execution_count": 66,
     "metadata": {},
     "output_type": "execute_result"
    }
   ],
   "source": [
    "df5_7_res"
   ]
  },
  {
   "cell_type": "code",
   "execution_count": 67,
   "id": "15996e35",
   "metadata": {},
   "outputs": [
    {
     "data": {
      "text/plain": [
       "array([[74, 68, 34, 24],\n",
       "       [62, 98, 25, 15]], dtype=int64)"
      ]
     },
     "execution_count": 67,
     "metadata": {},
     "output_type": "execute_result"
    }
   ],
   "source": [
    "df5_7_chi"
   ]
  },
  {
   "cell_type": "code",
   "execution_count": 68,
   "id": "84183f7c",
   "metadata": {},
   "outputs": [
    {
     "data": {
      "text/plain": [
       "(9.930314709254997, 0.019167868941997433, 3)"
      ]
     },
     "execution_count": 68,
     "metadata": {},
     "output_type": "execute_result"
    }
   ],
   "source": [
    "df5_7_ana"
   ]
  },
  {
   "cell_type": "markdown",
   "id": "7ff2105c",
   "metadata": {},
   "source": [
    "## 5.8 性别和堕胎"
   ]
  },
  {
   "cell_type": "code",
   "execution_count": 69,
   "id": "b91739f6",
   "metadata": {},
   "outputs": [],
   "source": [
    "df5_8_res,df5_8_chi,df5_8_ana = cross_ananlysis(\"7、堕胎\")"
   ]
  },
  {
   "cell_type": "code",
   "execution_count": 70,
   "id": "2f733ee7",
   "metadata": {},
   "outputs": [
    {
     "data": {
      "text/html": [
       "<div>\n",
       "<style scoped>\n",
       "    .dataframe tbody tr th:only-of-type {\n",
       "        vertical-align: middle;\n",
       "    }\n",
       "\n",
       "    .dataframe tbody tr th {\n",
       "        vertical-align: top;\n",
       "    }\n",
       "\n",
       "    .dataframe thead th {\n",
       "        text-align: right;\n",
       "    }\n",
       "</style>\n",
       "<table border=\"1\" class=\"dataframe\">\n",
       "  <thead>\n",
       "    <tr style=\"text-align: right;\">\n",
       "      <th>7、堕胎</th>\n",
       "      <th>不太认同</th>\n",
       "      <th>不认同</th>\n",
       "      <th>认同</th>\n",
       "      <th>较认同</th>\n",
       "      <th>All</th>\n",
       "    </tr>\n",
       "    <tr>\n",
       "      <th>21、您的性别</th>\n",
       "      <th></th>\n",
       "      <th></th>\n",
       "      <th></th>\n",
       "      <th></th>\n",
       "      <th></th>\n",
       "    </tr>\n",
       "  </thead>\n",
       "  <tbody>\n",
       "    <tr>\n",
       "      <th>女</th>\n",
       "      <td>51</td>\n",
       "      <td>44</td>\n",
       "      <td>59</td>\n",
       "      <td>46</td>\n",
       "      <td>200</td>\n",
       "    </tr>\n",
       "    <tr>\n",
       "      <th>男</th>\n",
       "      <td>52</td>\n",
       "      <td>80</td>\n",
       "      <td>42</td>\n",
       "      <td>26</td>\n",
       "      <td>200</td>\n",
       "    </tr>\n",
       "    <tr>\n",
       "      <th>All</th>\n",
       "      <td>103</td>\n",
       "      <td>124</td>\n",
       "      <td>101</td>\n",
       "      <td>72</td>\n",
       "      <td>400</td>\n",
       "    </tr>\n",
       "  </tbody>\n",
       "</table>\n",
       "</div>"
      ],
      "text/plain": [
       "7、堕胎     不太认同  不认同   认同  较认同  All\n",
       "21、您的性别                          \n",
       "女          51   44   59   46  200\n",
       "男          52   80   42   26  200\n",
       "All       103  124  101   72  400"
      ]
     },
     "execution_count": 70,
     "metadata": {},
     "output_type": "execute_result"
    }
   ],
   "source": [
    "df5_8_res"
   ]
  },
  {
   "cell_type": "code",
   "execution_count": 71,
   "id": "1ec43740",
   "metadata": {},
   "outputs": [
    {
     "data": {
      "text/plain": [
       "array([[51, 44, 59, 46],\n",
       "       [52, 80, 42, 26]], dtype=int64)"
      ]
     },
     "execution_count": 71,
     "metadata": {},
     "output_type": "execute_result"
    }
   ],
   "source": [
    "df5_8_chi"
   ]
  },
  {
   "cell_type": "code",
   "execution_count": 72,
   "id": "92b1a755",
   "metadata": {},
   "outputs": [
    {
     "data": {
      "text/plain": [
       "(18.878263335259298, 0.00028971028170090435, 3)"
      ]
     },
     "execution_count": 72,
     "metadata": {},
     "output_type": "execute_result"
    }
   ],
   "source": [
    "df5_8_ana"
   ]
  },
  {
   "cell_type": "markdown",
   "id": "db4f7a06",
   "metadata": {},
   "source": [
    "## 5.9 性别和开放性关系"
   ]
  },
  {
   "cell_type": "code",
   "execution_count": 73,
   "id": "5ad5383e",
   "metadata": {},
   "outputs": [],
   "source": [
    "df5_9_res,df5_9_chi,df5_9_ana = cross_ananlysis(\"7、开放性关系\")"
   ]
  },
  {
   "cell_type": "code",
   "execution_count": 74,
   "id": "5865b22c",
   "metadata": {},
   "outputs": [
    {
     "data": {
      "text/html": [
       "<div>\n",
       "<style scoped>\n",
       "    .dataframe tbody tr th:only-of-type {\n",
       "        vertical-align: middle;\n",
       "    }\n",
       "\n",
       "    .dataframe tbody tr th {\n",
       "        vertical-align: top;\n",
       "    }\n",
       "\n",
       "    .dataframe thead th {\n",
       "        text-align: right;\n",
       "    }\n",
       "</style>\n",
       "<table border=\"1\" class=\"dataframe\">\n",
       "  <thead>\n",
       "    <tr style=\"text-align: right;\">\n",
       "      <th>7、开放性关系</th>\n",
       "      <th>不太认同</th>\n",
       "      <th>不认同</th>\n",
       "      <th>认同</th>\n",
       "      <th>较认同</th>\n",
       "      <th>All</th>\n",
       "    </tr>\n",
       "    <tr>\n",
       "      <th>21、您的性别</th>\n",
       "      <th></th>\n",
       "      <th></th>\n",
       "      <th></th>\n",
       "      <th></th>\n",
       "      <th></th>\n",
       "    </tr>\n",
       "  </thead>\n",
       "  <tbody>\n",
       "    <tr>\n",
       "      <th>女</th>\n",
       "      <td>66</td>\n",
       "      <td>70</td>\n",
       "      <td>30</td>\n",
       "      <td>34</td>\n",
       "      <td>200</td>\n",
       "    </tr>\n",
       "    <tr>\n",
       "      <th>男</th>\n",
       "      <td>50</td>\n",
       "      <td>94</td>\n",
       "      <td>34</td>\n",
       "      <td>22</td>\n",
       "      <td>200</td>\n",
       "    </tr>\n",
       "    <tr>\n",
       "      <th>All</th>\n",
       "      <td>116</td>\n",
       "      <td>164</td>\n",
       "      <td>64</td>\n",
       "      <td>56</td>\n",
       "      <td>400</td>\n",
       "    </tr>\n",
       "  </tbody>\n",
       "</table>\n",
       "</div>"
      ],
      "text/plain": [
       "7、开放性关系  不太认同  不认同  认同  较认同  All\n",
       "21、您的性别                         \n",
       "女          66   70  30   34  200\n",
       "男          50   94  34   22  200\n",
       "All       116  164  64   56  400"
      ]
     },
     "execution_count": 74,
     "metadata": {},
     "output_type": "execute_result"
    }
   ],
   "source": [
    "df5_9_res"
   ]
  },
  {
   "cell_type": "code",
   "execution_count": 75,
   "id": "34610588",
   "metadata": {},
   "outputs": [
    {
     "data": {
      "text/plain": [
       "array([[66, 70, 30, 34],\n",
       "       [50, 94, 34, 22]], dtype=int64)"
      ]
     },
     "execution_count": 75,
     "metadata": {},
     "output_type": "execute_result"
    }
   ],
   "source": [
    "df5_9_chi"
   ]
  },
  {
   "cell_type": "code",
   "execution_count": 76,
   "id": "ff4b4862",
   "metadata": {},
   "outputs": [
    {
     "data": {
      "text/plain": [
       "(8.540520245103929, 0.036066824875185435, 3)"
      ]
     },
     "execution_count": 76,
     "metadata": {},
     "output_type": "execute_result"
    }
   ],
   "source": [
    "df5_9_ana"
   ]
  },
  {
   "cell_type": "markdown",
   "id": "73e74a99",
   "metadata": {},
   "source": [
    "## 6.1 意愿子女数"
   ]
  },
  {
   "cell_type": "code",
   "execution_count": 77,
   "id": "cd15b704",
   "metadata": {},
   "outputs": [],
   "source": [
    "df6_1_res,df6_1_chi,df6_1_ana = cross_ananlysis(\"8、请填写您的理想及意愿的子女数—意愿子女数（考虑物质经济等因素）\")"
   ]
  },
  {
   "cell_type": "code",
   "execution_count": 78,
   "id": "0def86c5",
   "metadata": {},
   "outputs": [
    {
     "data": {
      "text/html": [
       "<div>\n",
       "<style scoped>\n",
       "    .dataframe tbody tr th:only-of-type {\n",
       "        vertical-align: middle;\n",
       "    }\n",
       "\n",
       "    .dataframe tbody tr th {\n",
       "        vertical-align: top;\n",
       "    }\n",
       "\n",
       "    .dataframe thead th {\n",
       "        text-align: right;\n",
       "    }\n",
       "</style>\n",
       "<table border=\"1\" class=\"dataframe\">\n",
       "  <thead>\n",
       "    <tr style=\"text-align: right;\">\n",
       "      <th>8、请填写您的理想及意愿的子女数—意愿子女数（考虑物质经济等因素）</th>\n",
       "      <th>0</th>\n",
       "      <th>1</th>\n",
       "      <th>2</th>\n",
       "      <th>3</th>\n",
       "      <th>4个及以上</th>\n",
       "      <th>All</th>\n",
       "    </tr>\n",
       "    <tr>\n",
       "      <th>21、您的性别</th>\n",
       "      <th></th>\n",
       "      <th></th>\n",
       "      <th></th>\n",
       "      <th></th>\n",
       "      <th></th>\n",
       "      <th></th>\n",
       "    </tr>\n",
       "  </thead>\n",
       "  <tbody>\n",
       "    <tr>\n",
       "      <th>女</th>\n",
       "      <td>71</td>\n",
       "      <td>87</td>\n",
       "      <td>39</td>\n",
       "      <td>0</td>\n",
       "      <td>3</td>\n",
       "      <td>200</td>\n",
       "    </tr>\n",
       "    <tr>\n",
       "      <th>男</th>\n",
       "      <td>38</td>\n",
       "      <td>78</td>\n",
       "      <td>78</td>\n",
       "      <td>3</td>\n",
       "      <td>3</td>\n",
       "      <td>200</td>\n",
       "    </tr>\n",
       "    <tr>\n",
       "      <th>All</th>\n",
       "      <td>109</td>\n",
       "      <td>165</td>\n",
       "      <td>117</td>\n",
       "      <td>3</td>\n",
       "      <td>6</td>\n",
       "      <td>400</td>\n",
       "    </tr>\n",
       "  </tbody>\n",
       "</table>\n",
       "</div>"
      ],
      "text/plain": [
       "8、请填写您的理想及意愿的子女数—意愿子女数（考虑物质经济等因素）    0    1    2  3  4个及以上  All\n",
       "21、您的性别                                                        \n",
       "女                                   71   87   39  0      3  200\n",
       "男                                   38   78   78  3      3  200\n",
       "All                                109  165  117  3      6  400"
      ]
     },
     "execution_count": 78,
     "metadata": {},
     "output_type": "execute_result"
    }
   ],
   "source": [
    "df6_1_res"
   ]
  },
  {
   "cell_type": "code",
   "execution_count": 79,
   "id": "3c0d6418",
   "metadata": {},
   "outputs": [
    {
     "data": {
      "text/plain": [
       "array([[71, 87, 39,  0,  3],\n",
       "       [38, 78, 78,  3,  3]], dtype=int64)"
      ]
     },
     "execution_count": 79,
     "metadata": {},
     "output_type": "execute_result"
    }
   ],
   "source": [
    "df6_1_chi"
   ]
  },
  {
   "cell_type": "code",
   "execution_count": 80,
   "id": "14c0e22d",
   "metadata": {},
   "outputs": [
    {
     "data": {
      "text/plain": [
       "(26.481734778982485, 2.5298851129093586e-05, 4)"
      ]
     },
     "execution_count": 80,
     "metadata": {},
     "output_type": "execute_result"
    }
   ],
   "source": [
    "df6_1_ana"
   ]
  },
  {
   "cell_type": "markdown",
   "id": "d1686796",
   "metadata": {},
   "source": [
    "## 6.2 理想子女数"
   ]
  },
  {
   "cell_type": "code",
   "execution_count": 81,
   "id": "9e698de8",
   "metadata": {},
   "outputs": [],
   "source": [
    "df6_2_res,df6_2_chi,df6_2_ana = cross_ananlysis(\"8、理想子女数（不考虑任何因素时）\")"
   ]
  },
  {
   "cell_type": "code",
   "execution_count": 82,
   "id": "098fdf14",
   "metadata": {},
   "outputs": [
    {
     "data": {
      "text/html": [
       "<div>\n",
       "<style scoped>\n",
       "    .dataframe tbody tr th:only-of-type {\n",
       "        vertical-align: middle;\n",
       "    }\n",
       "\n",
       "    .dataframe tbody tr th {\n",
       "        vertical-align: top;\n",
       "    }\n",
       "\n",
       "    .dataframe thead th {\n",
       "        text-align: right;\n",
       "    }\n",
       "</style>\n",
       "<table border=\"1\" class=\"dataframe\">\n",
       "  <thead>\n",
       "    <tr style=\"text-align: right;\">\n",
       "      <th>8、理想子女数（不考虑任何因素时）</th>\n",
       "      <th>0</th>\n",
       "      <th>1</th>\n",
       "      <th>2</th>\n",
       "      <th>3</th>\n",
       "      <th>4个及以上</th>\n",
       "      <th>All</th>\n",
       "    </tr>\n",
       "    <tr>\n",
       "      <th>21、您的性别</th>\n",
       "      <th></th>\n",
       "      <th></th>\n",
       "      <th></th>\n",
       "      <th></th>\n",
       "      <th></th>\n",
       "      <th></th>\n",
       "    </tr>\n",
       "  </thead>\n",
       "  <tbody>\n",
       "    <tr>\n",
       "      <th>女</th>\n",
       "      <td>58</td>\n",
       "      <td>42</td>\n",
       "      <td>91</td>\n",
       "      <td>4</td>\n",
       "      <td>5</td>\n",
       "      <td>200</td>\n",
       "    </tr>\n",
       "    <tr>\n",
       "      <th>男</th>\n",
       "      <td>24</td>\n",
       "      <td>34</td>\n",
       "      <td>121</td>\n",
       "      <td>15</td>\n",
       "      <td>6</td>\n",
       "      <td>200</td>\n",
       "    </tr>\n",
       "    <tr>\n",
       "      <th>All</th>\n",
       "      <td>82</td>\n",
       "      <td>76</td>\n",
       "      <td>212</td>\n",
       "      <td>19</td>\n",
       "      <td>11</td>\n",
       "      <td>400</td>\n",
       "    </tr>\n",
       "  </tbody>\n",
       "</table>\n",
       "</div>"
      ],
      "text/plain": [
       "8、理想子女数（不考虑任何因素时）   0   1    2   3  4个及以上  All\n",
       "21、您的性别                                       \n",
       "女                  58  42   91   4      5  200\n",
       "男                  24  34  121  15      6  200\n",
       "All                82  76  212  19     11  400"
      ]
     },
     "execution_count": 82,
     "metadata": {},
     "output_type": "execute_result"
    }
   ],
   "source": [
    "df6_2_res"
   ]
  },
  {
   "cell_type": "code",
   "execution_count": 83,
   "id": "8a2925a8",
   "metadata": {},
   "outputs": [
    {
     "data": {
      "text/plain": [
       "array([[ 58,  42,  91,   4,   5],\n",
       "       [ 24,  34, 121,  15,   6]], dtype=int64)"
      ]
     },
     "execution_count": 83,
     "metadata": {},
     "output_type": "execute_result"
    }
   ],
   "source": [
    "df6_2_chi"
   ]
  },
  {
   "cell_type": "code",
   "execution_count": 84,
   "id": "85f988e7",
   "metadata": {},
   "outputs": [
    {
     "data": {
      "text/plain": [
       "(25.64427940117625, 3.732422165821706e-05, 4)"
      ]
     },
     "execution_count": 84,
     "metadata": {},
     "output_type": "execute_result"
    }
   ],
   "source": [
    "df6_2_ana"
   ]
  },
  {
   "cell_type": "markdown",
   "id": "33788ac6",
   "metadata": {},
   "source": [
    "## 6.3 理想儿子数"
   ]
  },
  {
   "cell_type": "code",
   "execution_count": 85,
   "id": "9134c28b",
   "metadata": {},
   "outputs": [],
   "source": [
    "df6_3_res,df6_3_chi,df6_3_ana = cross_ananlysis(\"8、理想生儿子的个数\")"
   ]
  },
  {
   "cell_type": "code",
   "execution_count": 86,
   "id": "432a61a3",
   "metadata": {},
   "outputs": [
    {
     "data": {
      "text/html": [
       "<div>\n",
       "<style scoped>\n",
       "    .dataframe tbody tr th:only-of-type {\n",
       "        vertical-align: middle;\n",
       "    }\n",
       "\n",
       "    .dataframe tbody tr th {\n",
       "        vertical-align: top;\n",
       "    }\n",
       "\n",
       "    .dataframe thead th {\n",
       "        text-align: right;\n",
       "    }\n",
       "</style>\n",
       "<table border=\"1\" class=\"dataframe\">\n",
       "  <thead>\n",
       "    <tr style=\"text-align: right;\">\n",
       "      <th>8、理想生儿子的个数</th>\n",
       "      <th>0</th>\n",
       "      <th>1</th>\n",
       "      <th>2</th>\n",
       "      <th>3</th>\n",
       "      <th>4个及以上</th>\n",
       "      <th>All</th>\n",
       "    </tr>\n",
       "    <tr>\n",
       "      <th>21、您的性别</th>\n",
       "      <th></th>\n",
       "      <th></th>\n",
       "      <th></th>\n",
       "      <th></th>\n",
       "      <th></th>\n",
       "      <th></th>\n",
       "    </tr>\n",
       "  </thead>\n",
       "  <tbody>\n",
       "    <tr>\n",
       "      <th>女</th>\n",
       "      <td>95</td>\n",
       "      <td>103</td>\n",
       "      <td>0</td>\n",
       "      <td>1</td>\n",
       "      <td>1</td>\n",
       "      <td>200</td>\n",
       "    </tr>\n",
       "    <tr>\n",
       "      <th>男</th>\n",
       "      <td>43</td>\n",
       "      <td>145</td>\n",
       "      <td>8</td>\n",
       "      <td>0</td>\n",
       "      <td>4</td>\n",
       "      <td>200</td>\n",
       "    </tr>\n",
       "    <tr>\n",
       "      <th>All</th>\n",
       "      <td>138</td>\n",
       "      <td>248</td>\n",
       "      <td>8</td>\n",
       "      <td>1</td>\n",
       "      <td>5</td>\n",
       "      <td>400</td>\n",
       "    </tr>\n",
       "  </tbody>\n",
       "</table>\n",
       "</div>"
      ],
      "text/plain": [
       "8、理想生儿子的个数    0    1  2  3  4个及以上  All\n",
       "21、您的性别                               \n",
       "女            95  103  0  1      1  200\n",
       "男            43  145  8  0      4  200\n",
       "All         138  248  8  1      5  400"
      ]
     },
     "execution_count": 86,
     "metadata": {},
     "output_type": "execute_result"
    }
   ],
   "source": [
    "df6_3_res"
   ]
  },
  {
   "cell_type": "code",
   "execution_count": 87,
   "id": "8437f34c",
   "metadata": {},
   "outputs": [
    {
     "data": {
      "text/plain": [
       "array([[ 95, 103,   0,   1,   1],\n",
       "       [ 43, 145,   8,   0,   4]], dtype=int64)"
      ]
     },
     "execution_count": 87,
     "metadata": {},
     "output_type": "execute_result"
    }
   ],
   "source": [
    "df6_3_chi"
   ]
  },
  {
   "cell_type": "code",
   "execution_count": 88,
   "id": "8111ca38",
   "metadata": {},
   "outputs": [
    {
     "data": {
      "text/plain": [
       "(37.50710612435718, 1.4160565994404123e-07, 4)"
      ]
     },
     "execution_count": 88,
     "metadata": {},
     "output_type": "execute_result"
    }
   ],
   "source": [
    "df6_3_ana"
   ]
  },
  {
   "cell_type": "markdown",
   "id": "e7d6ee0d",
   "metadata": {},
   "source": [
    "## 6.4 理想女儿数"
   ]
  },
  {
   "cell_type": "code",
   "execution_count": 90,
   "id": "cb0a15f2",
   "metadata": {},
   "outputs": [],
   "source": [
    "df6_4_res,df6_4_chi,df6_4_ana = cross_ananlysis(\"8、理想生女儿的个数\")"
   ]
  },
  {
   "cell_type": "code",
   "execution_count": 91,
   "id": "b7a9f838",
   "metadata": {},
   "outputs": [
    {
     "data": {
      "text/html": [
       "<div>\n",
       "<style scoped>\n",
       "    .dataframe tbody tr th:only-of-type {\n",
       "        vertical-align: middle;\n",
       "    }\n",
       "\n",
       "    .dataframe tbody tr th {\n",
       "        vertical-align: top;\n",
       "    }\n",
       "\n",
       "    .dataframe thead th {\n",
       "        text-align: right;\n",
       "    }\n",
       "</style>\n",
       "<table border=\"1\" class=\"dataframe\">\n",
       "  <thead>\n",
       "    <tr style=\"text-align: right;\">\n",
       "      <th>8、理想生女儿的个数</th>\n",
       "      <th>0</th>\n",
       "      <th>1</th>\n",
       "      <th>2</th>\n",
       "      <th>3</th>\n",
       "      <th>4个及以上</th>\n",
       "      <th>All</th>\n",
       "    </tr>\n",
       "    <tr>\n",
       "      <th>21、您的性别</th>\n",
       "      <th></th>\n",
       "      <th></th>\n",
       "      <th></th>\n",
       "      <th></th>\n",
       "      <th></th>\n",
       "      <th></th>\n",
       "    </tr>\n",
       "  </thead>\n",
       "  <tbody>\n",
       "    <tr>\n",
       "      <th>女</th>\n",
       "      <td>57</td>\n",
       "      <td>134</td>\n",
       "      <td>5</td>\n",
       "      <td>1</td>\n",
       "      <td>3</td>\n",
       "      <td>200</td>\n",
       "    </tr>\n",
       "    <tr>\n",
       "      <th>男</th>\n",
       "      <td>26</td>\n",
       "      <td>161</td>\n",
       "      <td>11</td>\n",
       "      <td>0</td>\n",
       "      <td>2</td>\n",
       "      <td>200</td>\n",
       "    </tr>\n",
       "    <tr>\n",
       "      <th>All</th>\n",
       "      <td>83</td>\n",
       "      <td>295</td>\n",
       "      <td>16</td>\n",
       "      <td>1</td>\n",
       "      <td>5</td>\n",
       "      <td>400</td>\n",
       "    </tr>\n",
       "  </tbody>\n",
       "</table>\n",
       "</div>"
      ],
      "text/plain": [
       "8、理想生女儿的个数   0    1   2  3  4个及以上  All\n",
       "21、您的性别                               \n",
       "女           57  134   5  1      3  200\n",
       "男           26  161  11  0      2  200\n",
       "All         83  295  16  1      5  400"
      ]
     },
     "execution_count": 91,
     "metadata": {},
     "output_type": "execute_result"
    }
   ],
   "source": [
    "df6_4_res"
   ]
  },
  {
   "cell_type": "code",
   "execution_count": 92,
   "id": "b2a1c246",
   "metadata": {},
   "outputs": [
    {
     "data": {
      "text/plain": [
       "array([[ 57, 134,   5,   1,   3],\n",
       "       [ 26, 161,  11,   0,   2]], dtype=int64)"
      ]
     },
     "execution_count": 92,
     "metadata": {},
     "output_type": "execute_result"
    }
   ],
   "source": [
    "df6_4_chi"
   ]
  },
  {
   "cell_type": "code",
   "execution_count": 93,
   "id": "dd0477d3",
   "metadata": {},
   "outputs": [
    {
     "data": {
      "text/plain": [
       "(17.499499693690016, 0.0015453448048094454, 4)"
      ]
     },
     "execution_count": 93,
     "metadata": {},
     "output_type": "execute_result"
    }
   ],
   "source": [
    "df6_4_ana"
   ]
  },
  {
   "cell_type": "markdown",
   "id": "7052e793",
   "metadata": {},
   "source": [
    "## 7、见到的阻碍生育的因素"
   ]
  },
  {
   "cell_type": "code",
   "execution_count": 5,
   "id": "de339064",
   "metadata": {},
   "outputs": [],
   "source": [
    "def cross_analysis2(var,useless,splitt):\n",
    "    dff = df[[\"21、您的性别\",var,\"所用时间\"]]\n",
    "    dic = {\"性别\":[],var:[],\"所用时间\":[]}\n",
    "    for i in range(dff.shape[0]):\n",
    "        if useless not in dff.iloc[i,1]:\n",
    "            alis = dff.iloc[i,1].split(splitt)\n",
    "            for a in alis:\n",
    "                dic[\"性别\"].append(dff.iloc[i,0])\n",
    "                dic[var].append(a)\n",
    "                dic[\"所用时间\"].append(dff.iloc[i,2])\n",
    "    dff_ = pd.DataFrame(dic)\n",
    "    dff_res = pd.crosstab(dff_[\"性别\"],dff_[var],margins=True)\n",
    "    dff_chi = np.array([dff_res.iloc[0][0:(dff_res.shape[1]-1)],dff_res.iloc[1][0:(dff_res.shape[1]-1)]])\n",
    "    return dff_res,dff_chi,stats.chi2_contingency(dff_chi)[:3],dff_"
   ]
  },
  {
   "cell_type": "code",
   "execution_count": 6,
   "id": "eca63910",
   "metadata": {},
   "outputs": [],
   "source": [
    "df_7_res,df_7_chi,df_7_ana,dff_ = cross_analysis2(\"10、请问您见到的或认为的阻碍生育的因素有哪些\",\"(跳过)\",\"┋\")"
   ]
  },
  {
   "cell_type": "code",
   "execution_count": 7,
   "id": "9d0162ff",
   "metadata": {},
   "outputs": [],
   "source": [
    "dff_.to_csv(\"阻碍生育.csv\")"
   ]
  },
  {
   "cell_type": "code",
   "execution_count": 8,
   "id": "a3fe31bc",
   "metadata": {},
   "outputs": [
    {
     "data": {
      "text/html": [
       "<div>\n",
       "<style scoped>\n",
       "    .dataframe tbody tr th:only-of-type {\n",
       "        vertical-align: middle;\n",
       "    }\n",
       "\n",
       "    .dataframe tbody tr th {\n",
       "        vertical-align: top;\n",
       "    }\n",
       "\n",
       "    .dataframe thead th {\n",
       "        text-align: right;\n",
       "    }\n",
       "</style>\n",
       "<table border=\"1\" class=\"dataframe\">\n",
       "  <thead>\n",
       "    <tr style=\"text-align: right;\">\n",
       "      <th>10、请问您见到的或认为的阻碍生育的因素有哪些</th>\n",
       "      <th>其他〖职场歧视（很伤心这居然不是选项之一）〗</th>\n",
       "      <th>其他〖胎儿畸形或者小孩先天性疾病〗</th>\n",
       "      <th>对孩子成长环境的担忧</th>\n",
       "      <th>居住环境压力</th>\n",
       "      <th>抚养压力</th>\n",
       "      <th>教育、培训费用导致经济负担</th>\n",
       "      <th>生育会影响自己实现人生价值</th>\n",
       "      <th>生育痛苦与生育风险</th>\n",
       "      <th>社会上的丁克现象（不生孩子）越来越多</th>\n",
       "      <th>社会政策因素</th>\n",
       "      <th>缺乏家庭照料资源</th>\n",
       "      <th>All</th>\n",
       "    </tr>\n",
       "    <tr>\n",
       "      <th>性别</th>\n",
       "      <th></th>\n",
       "      <th></th>\n",
       "      <th></th>\n",
       "      <th></th>\n",
       "      <th></th>\n",
       "      <th></th>\n",
       "      <th></th>\n",
       "      <th></th>\n",
       "      <th></th>\n",
       "      <th></th>\n",
       "      <th></th>\n",
       "      <th></th>\n",
       "    </tr>\n",
       "  </thead>\n",
       "  <tbody>\n",
       "    <tr>\n",
       "      <th>女</th>\n",
       "      <td>1</td>\n",
       "      <td>1</td>\n",
       "      <td>70</td>\n",
       "      <td>73</td>\n",
       "      <td>116</td>\n",
       "      <td>68</td>\n",
       "      <td>49</td>\n",
       "      <td>117</td>\n",
       "      <td>8</td>\n",
       "      <td>11</td>\n",
       "      <td>58</td>\n",
       "      <td>572</td>\n",
       "    </tr>\n",
       "    <tr>\n",
       "      <th>男</th>\n",
       "      <td>0</td>\n",
       "      <td>0</td>\n",
       "      <td>85</td>\n",
       "      <td>123</td>\n",
       "      <td>145</td>\n",
       "      <td>93</td>\n",
       "      <td>35</td>\n",
       "      <td>80</td>\n",
       "      <td>22</td>\n",
       "      <td>17</td>\n",
       "      <td>64</td>\n",
       "      <td>664</td>\n",
       "    </tr>\n",
       "    <tr>\n",
       "      <th>All</th>\n",
       "      <td>1</td>\n",
       "      <td>1</td>\n",
       "      <td>155</td>\n",
       "      <td>196</td>\n",
       "      <td>261</td>\n",
       "      <td>161</td>\n",
       "      <td>84</td>\n",
       "      <td>197</td>\n",
       "      <td>30</td>\n",
       "      <td>28</td>\n",
       "      <td>122</td>\n",
       "      <td>1236</td>\n",
       "    </tr>\n",
       "  </tbody>\n",
       "</table>\n",
       "</div>"
      ],
      "text/plain": [
       "10、请问您见到的或认为的阻碍生育的因素有哪些  其他〖职场歧视（很伤心这居然不是选项之一）〗  其他〖胎儿畸形或者小孩先天性疾病〗  \\\n",
       "性别                                                                   \n",
       "女                                             1                  1   \n",
       "男                                             0                  0   \n",
       "All                                           1                  1   \n",
       "\n",
       "10、请问您见到的或认为的阻碍生育的因素有哪些  对孩子成长环境的担忧  居住环境压力  抚养压力  教育、培训费用导致经济负担  \\\n",
       "性别                                                                 \n",
       "女                                70      73   116             68   \n",
       "男                                85     123   145             93   \n",
       "All                             155     196   261            161   \n",
       "\n",
       "10、请问您见到的或认为的阻碍生育的因素有哪些  生育会影响自己实现人生价值  生育痛苦与生育风险  社会上的丁克现象（不生孩子）越来越多  社会政策因素  \\\n",
       "性别                                                                              \n",
       "女                                   49        117                   8      11   \n",
       "男                                   35         80                  22      17   \n",
       "All                                 84        197                  30      28   \n",
       "\n",
       "10、请问您见到的或认为的阻碍生育的因素有哪些  缺乏家庭照料资源   All  \n",
       "性别                                       \n",
       "女                              58   572  \n",
       "男                              64   664  \n",
       "All                           122  1236  "
      ]
     },
     "execution_count": 8,
     "metadata": {},
     "output_type": "execute_result"
    }
   ],
   "source": [
    "df_7_res"
   ]
  },
  {
   "cell_type": "code",
   "execution_count": 9,
   "id": "df67e203",
   "metadata": {},
   "outputs": [
    {
     "data": {
      "text/plain": [
       "array([[  1,   1,  70,  73, 116,  68,  49, 117,   8,  11,  58],\n",
       "       [  0,   0,  85, 123, 145,  93,  35,  80,  22,  17,  64]],\n",
       "      dtype=int64)"
      ]
     },
     "execution_count": 9,
     "metadata": {},
     "output_type": "execute_result"
    }
   ],
   "source": [
    "df_7_chi"
   ]
  },
  {
   "cell_type": "code",
   "execution_count": 10,
   "id": "30d6f10a",
   "metadata": {},
   "outputs": [
    {
     "data": {
      "text/plain": [
       "(34.04837034743273, 0.00018124577881895748, 10)"
      ]
     },
     "execution_count": 10,
     "metadata": {},
     "output_type": "execute_result"
    }
   ],
   "source": [
    "df_7_ana"
   ]
  },
  {
   "cell_type": "markdown",
   "id": "e55db247",
   "metadata": {},
   "source": [
    "## 8、认为提高生育政策"
   ]
  },
  {
   "cell_type": "code",
   "execution_count": 33,
   "id": "c29f3b1d",
   "metadata": {},
   "outputs": [],
   "source": [
    "df_8_res,df_8_chi,df_8_ana,dff_ = cross_analysis2(\"11、请问您认为的可以提高生育意愿的政策有哪些\",\"(跳过)\",\"┋\")"
   ]
  },
  {
   "cell_type": "code",
   "execution_count": 101,
   "id": "644ce1de",
   "metadata": {},
   "outputs": [
    {
     "data": {
      "text/html": [
       "<div>\n",
       "<style scoped>\n",
       "    .dataframe tbody tr th:only-of-type {\n",
       "        vertical-align: middle;\n",
       "    }\n",
       "\n",
       "    .dataframe tbody tr th {\n",
       "        vertical-align: top;\n",
       "    }\n",
       "\n",
       "    .dataframe thead th {\n",
       "        text-align: right;\n",
       "    }\n",
       "</style>\n",
       "<table border=\"1\" class=\"dataframe\">\n",
       "  <thead>\n",
       "    <tr style=\"text-align: right;\">\n",
       "      <th>11、请问您认为的可以提高生育意愿的政策有哪些</th>\n",
       "      <th>保障女性的充足带薪产假</th>\n",
       "      <th>保障男性的充足带薪育儿假</th>\n",
       "      <th>健全财税政策，加大社会福利补贴力度</th>\n",
       "      <th>其他</th>\n",
       "      <th>其他〖促进男女职场平等〗</th>\n",
       "      <th>加强社会舆论对恋爱、婚姻、亲情、家庭的正面宣传</th>\n",
       "      <th>增强社会养老保障与福利</th>\n",
       "      <th>提升社会公共服务质量</th>\n",
       "      <th>降低买房成本（例如对多孩家庭给予买房上的优惠）</th>\n",
       "      <th>降低医疗成本</th>\n",
       "      <th>降低托育成本，给与足够的社会照料资源</th>\n",
       "      <th>降低教育成本</th>\n",
       "      <th>All</th>\n",
       "    </tr>\n",
       "    <tr>\n",
       "      <th>性别</th>\n",
       "      <th></th>\n",
       "      <th></th>\n",
       "      <th></th>\n",
       "      <th></th>\n",
       "      <th></th>\n",
       "      <th></th>\n",
       "      <th></th>\n",
       "      <th></th>\n",
       "      <th></th>\n",
       "      <th></th>\n",
       "      <th></th>\n",
       "      <th></th>\n",
       "      <th></th>\n",
       "    </tr>\n",
       "  </thead>\n",
       "  <tbody>\n",
       "    <tr>\n",
       "      <th>女</th>\n",
       "      <td>97</td>\n",
       "      <td>77</td>\n",
       "      <td>47</td>\n",
       "      <td>0</td>\n",
       "      <td>1</td>\n",
       "      <td>21</td>\n",
       "      <td>14</td>\n",
       "      <td>23</td>\n",
       "      <td>101</td>\n",
       "      <td>50</td>\n",
       "      <td>72</td>\n",
       "      <td>102</td>\n",
       "      <td>605</td>\n",
       "    </tr>\n",
       "    <tr>\n",
       "      <th>男</th>\n",
       "      <td>68</td>\n",
       "      <td>56</td>\n",
       "      <td>54</td>\n",
       "      <td>4</td>\n",
       "      <td>0</td>\n",
       "      <td>42</td>\n",
       "      <td>30</td>\n",
       "      <td>38</td>\n",
       "      <td>132</td>\n",
       "      <td>100</td>\n",
       "      <td>82</td>\n",
       "      <td>138</td>\n",
       "      <td>744</td>\n",
       "    </tr>\n",
       "    <tr>\n",
       "      <th>All</th>\n",
       "      <td>165</td>\n",
       "      <td>133</td>\n",
       "      <td>101</td>\n",
       "      <td>4</td>\n",
       "      <td>1</td>\n",
       "      <td>63</td>\n",
       "      <td>44</td>\n",
       "      <td>61</td>\n",
       "      <td>233</td>\n",
       "      <td>150</td>\n",
       "      <td>154</td>\n",
       "      <td>240</td>\n",
       "      <td>1349</td>\n",
       "    </tr>\n",
       "  </tbody>\n",
       "</table>\n",
       "</div>"
      ],
      "text/plain": [
       "11、请问您认为的可以提高生育意愿的政策有哪些  保障女性的充足带薪产假  保障男性的充足带薪育儿假  健全财税政策，加大社会福利补贴力度  其他  \\\n",
       "性别                                                                          \n",
       "女                                 97            77                 47   0   \n",
       "男                                 68            56                 54   4   \n",
       "All                              165           133                101   4   \n",
       "\n",
       "11、请问您认为的可以提高生育意愿的政策有哪些  其他〖促进男女职场平等〗  加强社会舆论对恋爱、婚姻、亲情、家庭的正面宣传  增强社会养老保障与福利  \\\n",
       "性别                                                                            \n",
       "女                                   1                       21           14   \n",
       "男                                   0                       42           30   \n",
       "All                                 1                       63           44   \n",
       "\n",
       "11、请问您认为的可以提高生育意愿的政策有哪些  提升社会公共服务质量  降低买房成本（例如对多孩家庭给予买房上的优惠）  降低医疗成本  \\\n",
       "性别                                                                     \n",
       "女                                23                      101      50   \n",
       "男                                38                      132     100   \n",
       "All                              61                      233     150   \n",
       "\n",
       "11、请问您认为的可以提高生育意愿的政策有哪些  降低托育成本，给与足够的社会照料资源  降低教育成本   All  \n",
       "性别                                                         \n",
       "女                                        72     102   605  \n",
       "男                                        82     138   744  \n",
       "All                                     154     240  1349  "
      ]
     },
     "execution_count": 101,
     "metadata": {},
     "output_type": "execute_result"
    }
   ],
   "source": [
    "df_8_res"
   ]
  },
  {
   "cell_type": "code",
   "execution_count": 35,
   "id": "793e0f01",
   "metadata": {},
   "outputs": [],
   "source": [
    "dff_.to_csv(\"提高生育意愿政策.csv\")"
   ]
  },
  {
   "cell_type": "code",
   "execution_count": 102,
   "id": "9c0a2b16",
   "metadata": {},
   "outputs": [
    {
     "data": {
      "text/plain": [
       "array([[ 97,  77,  47,   0,   1,  21,  14,  23, 101,  50,  72, 102],\n",
       "       [ 68,  56,  54,   4,   0,  42,  30,  38, 132, 100,  82, 138]],\n",
       "      dtype=int64)"
      ]
     },
     "execution_count": 102,
     "metadata": {},
     "output_type": "execute_result"
    }
   ],
   "source": [
    "df_8_chi"
   ]
  },
  {
   "cell_type": "code",
   "execution_count": 103,
   "id": "7737a1ca",
   "metadata": {},
   "outputs": [
    {
     "data": {
      "text/plain": [
       "(43.38323780170838, 9.313136867718684e-06, 11)"
      ]
     },
     "execution_count": 103,
     "metadata": {},
     "output_type": "execute_result"
    }
   ],
   "source": [
    "df_8_ana"
   ]
  },
  {
   "cell_type": "markdown",
   "id": "f5142c5a",
   "metadata": {},
   "source": [
    "## 9、请问您认为阻碍您生育的因素有哪些"
   ]
  },
  {
   "cell_type": "code",
   "execution_count": 105,
   "id": "0373bd71",
   "metadata": {},
   "outputs": [],
   "source": [
    "df_9_res,df_9_chi,df_9_ana = cross_analysis2(\"12、请问您认为阻碍您生育的因素有哪些\",\"(跳过)\",\"┋\")"
   ]
  },
  {
   "cell_type": "code",
   "execution_count": 106,
   "id": "9d5a74d1",
   "metadata": {},
   "outputs": [
    {
     "data": {
      "text/html": [
       "<div>\n",
       "<style scoped>\n",
       "    .dataframe tbody tr th:only-of-type {\n",
       "        vertical-align: middle;\n",
       "    }\n",
       "\n",
       "    .dataframe tbody tr th {\n",
       "        vertical-align: top;\n",
       "    }\n",
       "\n",
       "    .dataframe thead th {\n",
       "        text-align: right;\n",
       "    }\n",
       "</style>\n",
       "<table border=\"1\" class=\"dataframe\">\n",
       "  <thead>\n",
       "    <tr style=\"text-align: right;\">\n",
       "      <th>12、请问您认为阻碍您生育的因素有哪些</th>\n",
       "      <th>其他</th>\n",
       "      <th>其他〖不想和异性接触〗</th>\n",
       "      <th>其他〖为什么会有年轻人觉得自己能对另一个人生发展负责〗</th>\n",
       "      <th>其他〖同性婚姻不合法〗</th>\n",
       "      <th>其他〖害怕自己有可能会无法避免的像自己的父母一样对待孩子〗</th>\n",
       "      <th>其他〖懒得养〗</th>\n",
       "      <th>其他〖我妈妈为了生我放弃当时能更进一步的职位 后来为了照顾我自己出来开店 而且因为婆媳关系导致产后没有得到多好的照顾 我自己是及其担心生孩子的身体负担和潜在危险的 我并不愿意为了生孩子付出自己 但确实妈妈会担心我的养老问题〗</th>\n",
       "      <th>其他〖男女不平等〗</th>\n",
       "      <th>其他〖讨厌小孩〗</th>\n",
       "      <th>对孩子成长环境的担忧</th>\n",
       "      <th>居住环境压力</th>\n",
       "      <th>抚养压力</th>\n",
       "      <th>教育、培训费用导致经济负担</th>\n",
       "      <th>生育会影响自己实现人生价值</th>\n",
       "      <th>生育痛苦与生育风险</th>\n",
       "      <th>社会上的丁克现象（不生孩子）越来越多</th>\n",
       "      <th>社会政策因素</th>\n",
       "      <th>缺乏家庭照料资源</th>\n",
       "      <th>All</th>\n",
       "    </tr>\n",
       "    <tr>\n",
       "      <th>性别</th>\n",
       "      <th></th>\n",
       "      <th></th>\n",
       "      <th></th>\n",
       "      <th></th>\n",
       "      <th></th>\n",
       "      <th></th>\n",
       "      <th></th>\n",
       "      <th></th>\n",
       "      <th></th>\n",
       "      <th></th>\n",
       "      <th></th>\n",
       "      <th></th>\n",
       "      <th></th>\n",
       "      <th></th>\n",
       "      <th></th>\n",
       "      <th></th>\n",
       "      <th></th>\n",
       "      <th></th>\n",
       "      <th></th>\n",
       "    </tr>\n",
       "  </thead>\n",
       "  <tbody>\n",
       "    <tr>\n",
       "      <th>女</th>\n",
       "      <td>2</td>\n",
       "      <td>0</td>\n",
       "      <td>1</td>\n",
       "      <td>0</td>\n",
       "      <td>1</td>\n",
       "      <td>0</td>\n",
       "      <td>1</td>\n",
       "      <td>1</td>\n",
       "      <td>0</td>\n",
       "      <td>23</td>\n",
       "      <td>15</td>\n",
       "      <td>37</td>\n",
       "      <td>23</td>\n",
       "      <td>42</td>\n",
       "      <td>52</td>\n",
       "      <td>2</td>\n",
       "      <td>10</td>\n",
       "      <td>6</td>\n",
       "      <td>216</td>\n",
       "    </tr>\n",
       "    <tr>\n",
       "      <th>男</th>\n",
       "      <td>0</td>\n",
       "      <td>1</td>\n",
       "      <td>0</td>\n",
       "      <td>1</td>\n",
       "      <td>0</td>\n",
       "      <td>1</td>\n",
       "      <td>0</td>\n",
       "      <td>0</td>\n",
       "      <td>1</td>\n",
       "      <td>13</td>\n",
       "      <td>11</td>\n",
       "      <td>15</td>\n",
       "      <td>8</td>\n",
       "      <td>9</td>\n",
       "      <td>13</td>\n",
       "      <td>3</td>\n",
       "      <td>2</td>\n",
       "      <td>5</td>\n",
       "      <td>83</td>\n",
       "    </tr>\n",
       "    <tr>\n",
       "      <th>All</th>\n",
       "      <td>2</td>\n",
       "      <td>1</td>\n",
       "      <td>1</td>\n",
       "      <td>1</td>\n",
       "      <td>1</td>\n",
       "      <td>1</td>\n",
       "      <td>1</td>\n",
       "      <td>1</td>\n",
       "      <td>1</td>\n",
       "      <td>36</td>\n",
       "      <td>26</td>\n",
       "      <td>52</td>\n",
       "      <td>31</td>\n",
       "      <td>51</td>\n",
       "      <td>65</td>\n",
       "      <td>5</td>\n",
       "      <td>12</td>\n",
       "      <td>11</td>\n",
       "      <td>299</td>\n",
       "    </tr>\n",
       "  </tbody>\n",
       "</table>\n",
       "</div>"
      ],
      "text/plain": [
       "12、请问您认为阻碍您生育的因素有哪些  其他  其他〖不想和异性接触〗  其他〖为什么会有年轻人觉得自己能对另一个人生发展负责〗  \\\n",
       "性别                                                                  \n",
       "女                     2            0                            1   \n",
       "男                     0            1                            0   \n",
       "All                   2            1                            1   \n",
       "\n",
       "12、请问您认为阻碍您生育的因素有哪些  其他〖同性婚姻不合法〗  其他〖害怕自己有可能会无法避免的像自己的父母一样对待孩子〗  其他〖懒得养〗  \\\n",
       "性别                                                                         \n",
       "女                              0                              1        0   \n",
       "男                              1                              0        1   \n",
       "All                            1                              1        1   \n",
       "\n",
       "12、请问您认为阻碍您生育的因素有哪些  其他〖我妈妈为了生我放弃当时能更进一步的职位 后来为了照顾我自己出来开店 而且因为婆媳关系导致产后没有得到多好的照顾 我自己是及其担心生孩子的身体负担和潜在危险的 我并不愿意为了生孩子付出自己 但确实妈妈会担心我的养老问题〗  \\\n",
       "性别                                                                                                                                      \n",
       "女                                                                    1                                                                  \n",
       "男                                                                    0                                                                  \n",
       "All                                                                  1                                                                  \n",
       "\n",
       "12、请问您认为阻碍您生育的因素有哪些  其他〖男女不平等〗  其他〖讨厌小孩〗  对孩子成长环境的担忧  居住环境压力  抚养压力  \\\n",
       "性别                                                                   \n",
       "女                            1         0          23      15    37   \n",
       "男                            0         1          13      11    15   \n",
       "All                          1         1          36      26    52   \n",
       "\n",
       "12、请问您认为阻碍您生育的因素有哪些  教育、培训费用导致经济负担  生育会影响自己实现人生价值  生育痛苦与生育风险  \\\n",
       "性别                                                             \n",
       "女                               23             42         52   \n",
       "男                                8              9         13   \n",
       "All                             31             51         65   \n",
       "\n",
       "12、请问您认为阻碍您生育的因素有哪些  社会上的丁克现象（不生孩子）越来越多  社会政策因素  缺乏家庭照料资源  All  \n",
       "性别                                                              \n",
       "女                                     2      10         6  216  \n",
       "男                                     3       2         5   83  \n",
       "All                                   5      12        11  299  "
      ]
     },
     "execution_count": 106,
     "metadata": {},
     "output_type": "execute_result"
    }
   ],
   "source": [
    "df_9_res"
   ]
  },
  {
   "cell_type": "code",
   "execution_count": 110,
   "id": "f6f2f36a",
   "metadata": {},
   "outputs": [
    {
     "data": {
      "text/plain": [
       "array([[23, 15, 37, 23, 42, 52,  2, 10,  6],\n",
       "       [13, 11, 15,  8,  9, 13,  3,  2,  5]], dtype=int64)"
      ]
     },
     "execution_count": 110,
     "metadata": {},
     "output_type": "execute_result"
    }
   ],
   "source": [
    "df_9_chi = np.array([df_9_res.iloc[0][9:18],df_9_res.iloc[1][9:18]])\n",
    "df_9_chi"
   ]
  },
  {
   "cell_type": "code",
   "execution_count": 111,
   "id": "abc3ba06",
   "metadata": {},
   "outputs": [
    {
     "data": {
      "text/plain": [
       "(13.78861729109177, 0.08744414269799018, 8)"
      ]
     },
     "execution_count": 111,
     "metadata": {},
     "output_type": "execute_result"
    }
   ],
   "source": [
    "stats.chi2_contingency(df_9_chi)[:3]"
   ]
  },
  {
   "cell_type": "markdown",
   "id": "9893040b",
   "metadata": {},
   "source": [
    "## 10.请问您认为的可以提高生育意愿的政策有哪些"
   ]
  },
  {
   "cell_type": "code",
   "execution_count": 113,
   "id": "9052ec6c",
   "metadata": {},
   "outputs": [],
   "source": [
    "df_10_res,df_10_chi,df_10_ana = cross_analysis2(\"13、请问您认为的可以提高生育意愿的政策有哪些\",\"(跳过)\",\"┋\")"
   ]
  },
  {
   "cell_type": "code",
   "execution_count": 117,
   "id": "9bea9bbe",
   "metadata": {},
   "outputs": [
    {
     "data": {
      "text/html": [
       "<div>\n",
       "<style scoped>\n",
       "    .dataframe tbody tr th:only-of-type {\n",
       "        vertical-align: middle;\n",
       "    }\n",
       "\n",
       "    .dataframe tbody tr th {\n",
       "        vertical-align: top;\n",
       "    }\n",
       "\n",
       "    .dataframe thead th {\n",
       "        text-align: right;\n",
       "    }\n",
       "</style>\n",
       "<table border=\"1\" class=\"dataframe\">\n",
       "  <thead>\n",
       "    <tr style=\"text-align: right;\">\n",
       "      <th>13、请问您认为的可以提高生育意愿的政策有哪些</th>\n",
       "      <th>保障女性的充足带薪产假</th>\n",
       "      <th>保障男性的充足带薪育儿假</th>\n",
       "      <th>健全财税政策，加大社会福利补贴力度</th>\n",
       "      <th>其他</th>\n",
       "      <th>其他〖人造子宫普及〗</th>\n",
       "      <th>其他〖以上所有〗</th>\n",
       "      <th>其他〖保障女性工作〗</th>\n",
       "      <th>其他〖其实我感觉像我和身边人这一代女生心里已经想好了不生孩子的不管有多好的政策我们也不会生 还不如多弄点养老保障〗</th>\n",
       "      <th>其他〖减少加班现象，有足够的时间可以扶养子女〗</th>\n",
       "      <th>其他〖同性婚姻合法化〗</th>\n",
       "      <th>...</th>\n",
       "      <th>其他〖没有〗</th>\n",
       "      <th>其他〖继续限制对女性的教育〗</th>\n",
       "      <th>加强社会舆论对恋爱、婚姻、亲情、家庭的正面宣传</th>\n",
       "      <th>增强社会养老保障与福利</th>\n",
       "      <th>提升社会公共服务质量</th>\n",
       "      <th>降低买房成本（例如对多孩家庭给予买房上的优惠）</th>\n",
       "      <th>降低医疗成本</th>\n",
       "      <th>降低托育成本，给与足够的社会照料资源</th>\n",
       "      <th>降低教育成本</th>\n",
       "      <th>All</th>\n",
       "    </tr>\n",
       "    <tr>\n",
       "      <th>性别</th>\n",
       "      <th></th>\n",
       "      <th></th>\n",
       "      <th></th>\n",
       "      <th></th>\n",
       "      <th></th>\n",
       "      <th></th>\n",
       "      <th></th>\n",
       "      <th></th>\n",
       "      <th></th>\n",
       "      <th></th>\n",
       "      <th></th>\n",
       "      <th></th>\n",
       "      <th></th>\n",
       "      <th></th>\n",
       "      <th></th>\n",
       "      <th></th>\n",
       "      <th></th>\n",
       "      <th></th>\n",
       "      <th></th>\n",
       "      <th></th>\n",
       "      <th></th>\n",
       "    </tr>\n",
       "  </thead>\n",
       "  <tbody>\n",
       "    <tr>\n",
       "      <th>女</th>\n",
       "      <td>43</td>\n",
       "      <td>31</td>\n",
       "      <td>14</td>\n",
       "      <td>1</td>\n",
       "      <td>1</td>\n",
       "      <td>1</td>\n",
       "      <td>1</td>\n",
       "      <td>1</td>\n",
       "      <td>1</td>\n",
       "      <td>0</td>\n",
       "      <td>...</td>\n",
       "      <td>1</td>\n",
       "      <td>1</td>\n",
       "      <td>5</td>\n",
       "      <td>11</td>\n",
       "      <td>18</td>\n",
       "      <td>17</td>\n",
       "      <td>14</td>\n",
       "      <td>20</td>\n",
       "      <td>28</td>\n",
       "      <td>211</td>\n",
       "    </tr>\n",
       "    <tr>\n",
       "      <th>男</th>\n",
       "      <td>7</td>\n",
       "      <td>7</td>\n",
       "      <td>4</td>\n",
       "      <td>0</td>\n",
       "      <td>0</td>\n",
       "      <td>0</td>\n",
       "      <td>0</td>\n",
       "      <td>0</td>\n",
       "      <td>0</td>\n",
       "      <td>1</td>\n",
       "      <td>...</td>\n",
       "      <td>0</td>\n",
       "      <td>0</td>\n",
       "      <td>5</td>\n",
       "      <td>3</td>\n",
       "      <td>3</td>\n",
       "      <td>10</td>\n",
       "      <td>7</td>\n",
       "      <td>9</td>\n",
       "      <td>13</td>\n",
       "      <td>73</td>\n",
       "    </tr>\n",
       "    <tr>\n",
       "      <th>All</th>\n",
       "      <td>50</td>\n",
       "      <td>38</td>\n",
       "      <td>18</td>\n",
       "      <td>1</td>\n",
       "      <td>1</td>\n",
       "      <td>1</td>\n",
       "      <td>1</td>\n",
       "      <td>1</td>\n",
       "      <td>1</td>\n",
       "      <td>1</td>\n",
       "      <td>...</td>\n",
       "      <td>1</td>\n",
       "      <td>1</td>\n",
       "      <td>10</td>\n",
       "      <td>14</td>\n",
       "      <td>21</td>\n",
       "      <td>27</td>\n",
       "      <td>21</td>\n",
       "      <td>29</td>\n",
       "      <td>41</td>\n",
       "      <td>284</td>\n",
       "    </tr>\n",
       "  </tbody>\n",
       "</table>\n",
       "<p>3 rows × 25 columns</p>\n",
       "</div>"
      ],
      "text/plain": [
       "13、请问您认为的可以提高生育意愿的政策有哪些  保障女性的充足带薪产假  保障男性的充足带薪育儿假  健全财税政策，加大社会福利补贴力度  其他  \\\n",
       "性别                                                                          \n",
       "女                                 43            31                 14   1   \n",
       "男                                  7             7                  4   0   \n",
       "All                               50            38                 18   1   \n",
       "\n",
       "13、请问您认为的可以提高生育意愿的政策有哪些  其他〖人造子宫普及〗  其他〖以上所有〗  其他〖保障女性工作〗  \\\n",
       "性别                                                          \n",
       "女                                 1         1           1   \n",
       "男                                 0         0           0   \n",
       "All                               1         1           1   \n",
       "\n",
       "13、请问您认为的可以提高生育意愿的政策有哪些  其他〖其实我感觉像我和身边人这一代女生心里已经想好了不生孩子的不管有多好的政策我们也不会生 还不如多弄点养老保障〗  \\\n",
       "性别                                                                                   \n",
       "女                                                                        1           \n",
       "男                                                                        0           \n",
       "All                                                                      1           \n",
       "\n",
       "13、请问您认为的可以提高生育意愿的政策有哪些  其他〖减少加班现象，有足够的时间可以扶养子女〗  其他〖同性婚姻合法化〗  ...  其他〖没有〗  \\\n",
       "性别                                                             ...           \n",
       "女                                              1            0  ...       1   \n",
       "男                                              0            1  ...       0   \n",
       "All                                            1            1  ...       1   \n",
       "\n",
       "13、请问您认为的可以提高生育意愿的政策有哪些  其他〖继续限制对女性的教育〗  加强社会舆论对恋爱、婚姻、亲情、家庭的正面宣传  增强社会养老保障与福利  \\\n",
       "性别                                                                              \n",
       "女                                     1                        5           11   \n",
       "男                                     0                        5            3   \n",
       "All                                   1                       10           14   \n",
       "\n",
       "13、请问您认为的可以提高生育意愿的政策有哪些  提升社会公共服务质量  降低买房成本（例如对多孩家庭给予买房上的优惠）  降低医疗成本  \\\n",
       "性别                                                                     \n",
       "女                                18                       17      14   \n",
       "男                                 3                       10       7   \n",
       "All                              21                       27      21   \n",
       "\n",
       "13、请问您认为的可以提高生育意愿的政策有哪些  降低托育成本，给与足够的社会照料资源  降低教育成本  All  \n",
       "性别                                                        \n",
       "女                                        20      28  211  \n",
       "男                                         9      13   73  \n",
       "All                                      29      41  284  \n",
       "\n",
       "[3 rows x 25 columns]"
      ]
     },
     "execution_count": 117,
     "metadata": {},
     "output_type": "execute_result"
    }
   ],
   "source": [
    "df_10_res"
   ]
  },
  {
   "cell_type": "code",
   "execution_count": 119,
   "id": "c22660d1",
   "metadata": {},
   "outputs": [
    {
     "data": {
      "text/plain": [
       "array([[ 43,  31,  14,   5,  11,  18,  17,  14,  20,  28, 211],\n",
       "       [  7,   7,   4,   5,   3,   3,  10,   7,   9,  13,  73]],\n",
       "      dtype=int64)"
      ]
     },
     "execution_count": 119,
     "metadata": {},
     "output_type": "execute_result"
    }
   ],
   "source": [
    "df_10_chi = np.array([df_10_res.iloc[0][[0,1,2,17,18,19,20,21,22,23,24]],df_10_res.iloc[1][[0,1,2,17,18,19,20,21,22,23,24]]])\n",
    "df_10_chi"
   ]
  },
  {
   "cell_type": "code",
   "execution_count": 120,
   "id": "84b861ef",
   "metadata": {},
   "outputs": [
    {
     "data": {
      "text/plain": [
       "(13.133130745918558, 0.21632331426352105, 10)"
      ]
     },
     "execution_count": 120,
     "metadata": {},
     "output_type": "execute_result"
    }
   ],
   "source": [
    "stats.chi2_contingency(df_10_chi)[:3]"
   ]
  },
  {
   "cell_type": "markdown",
   "id": "dac69a4e",
   "metadata": {},
   "source": [
    "## 11.1请问您认为自己的婚育观受到下列行为的影响—朋友圈秀恩爱晒娃"
   ]
  },
  {
   "cell_type": "code",
   "execution_count": 121,
   "id": "23f2cc00",
   "metadata": {},
   "outputs": [],
   "source": [
    "df_11_1_res,df_11_1_chi,df_11_1_ana = cross_ananlysis(\"17、请问您认为自己的婚育观受到下列行为的影响—朋友圈秀恩爱晒娃\")"
   ]
  },
  {
   "cell_type": "code",
   "execution_count": 122,
   "id": "b0938973",
   "metadata": {},
   "outputs": [
    {
     "data": {
      "text/html": [
       "<div>\n",
       "<style scoped>\n",
       "    .dataframe tbody tr th:only-of-type {\n",
       "        vertical-align: middle;\n",
       "    }\n",
       "\n",
       "    .dataframe tbody tr th {\n",
       "        vertical-align: top;\n",
       "    }\n",
       "\n",
       "    .dataframe thead th {\n",
       "        text-align: right;\n",
       "    }\n",
       "</style>\n",
       "<table border=\"1\" class=\"dataframe\">\n",
       "  <thead>\n",
       "    <tr style=\"text-align: right;\">\n",
       "      <th>17、请问您认为自己的婚育观受到下列行为的影响—朋友圈秀恩爱晒娃</th>\n",
       "      <th>完全不影响</th>\n",
       "      <th>影响极大</th>\n",
       "      <th>影响较大</th>\n",
       "      <th>影响较少</th>\n",
       "      <th>All</th>\n",
       "    </tr>\n",
       "    <tr>\n",
       "      <th>21、您的性别</th>\n",
       "      <th></th>\n",
       "      <th></th>\n",
       "      <th></th>\n",
       "      <th></th>\n",
       "      <th></th>\n",
       "    </tr>\n",
       "  </thead>\n",
       "  <tbody>\n",
       "    <tr>\n",
       "      <th>女</th>\n",
       "      <td>88</td>\n",
       "      <td>2</td>\n",
       "      <td>26</td>\n",
       "      <td>84</td>\n",
       "      <td>200</td>\n",
       "    </tr>\n",
       "    <tr>\n",
       "      <th>男</th>\n",
       "      <td>99</td>\n",
       "      <td>9</td>\n",
       "      <td>27</td>\n",
       "      <td>65</td>\n",
       "      <td>200</td>\n",
       "    </tr>\n",
       "    <tr>\n",
       "      <th>All</th>\n",
       "      <td>187</td>\n",
       "      <td>11</td>\n",
       "      <td>53</td>\n",
       "      <td>149</td>\n",
       "      <td>400</td>\n",
       "    </tr>\n",
       "  </tbody>\n",
       "</table>\n",
       "</div>"
      ],
      "text/plain": [
       "17、请问您认为自己的婚育观受到下列行为的影响—朋友圈秀恩爱晒娃  完全不影响  影响极大  影响较大  影响较少  All\n",
       "21、您的性别                                                       \n",
       "女                                    88     2    26    84  200\n",
       "男                                    99     9    27    65  200\n",
       "All                                 187    11    53   149  400"
      ]
     },
     "execution_count": 122,
     "metadata": {},
     "output_type": "execute_result"
    }
   ],
   "source": [
    "df_11_1_res"
   ]
  },
  {
   "cell_type": "code",
   "execution_count": 123,
   "id": "051782b6",
   "metadata": {},
   "outputs": [
    {
     "data": {
      "text/plain": [
       "array([[88,  2, 26, 84],\n",
       "       [99,  9, 27, 65]], dtype=int64)"
      ]
     },
     "execution_count": 123,
     "metadata": {},
     "output_type": "execute_result"
    }
   ],
   "source": [
    "df_11_1_chi"
   ]
  },
  {
   "cell_type": "code",
   "execution_count": 124,
   "id": "af07de2b",
   "metadata": {},
   "outputs": [
    {
     "data": {
      "text/plain": [
       "(7.543290994549477, 0.056456492642532684, 3)"
      ]
     },
     "execution_count": 124,
     "metadata": {},
     "output_type": "execute_result"
    }
   ],
   "source": [
    "df_11_1_ana"
   ]
  },
  {
   "cell_type": "markdown",
   "id": "d40a23db",
   "metadata": {},
   "source": [
    "## 11.2 恋爱相亲育儿综艺"
   ]
  },
  {
   "cell_type": "code",
   "execution_count": 125,
   "id": "2b3b691d",
   "metadata": {},
   "outputs": [],
   "source": [
    "df_11_2_res,df_11_2_chi,df_11_2_ana = cross_ananlysis(\"17、恋爱相亲育儿综艺\")"
   ]
  },
  {
   "cell_type": "code",
   "execution_count": 126,
   "id": "8b90bb0c",
   "metadata": {},
   "outputs": [
    {
     "data": {
      "text/html": [
       "<div>\n",
       "<style scoped>\n",
       "    .dataframe tbody tr th:only-of-type {\n",
       "        vertical-align: middle;\n",
       "    }\n",
       "\n",
       "    .dataframe tbody tr th {\n",
       "        vertical-align: top;\n",
       "    }\n",
       "\n",
       "    .dataframe thead th {\n",
       "        text-align: right;\n",
       "    }\n",
       "</style>\n",
       "<table border=\"1\" class=\"dataframe\">\n",
       "  <thead>\n",
       "    <tr style=\"text-align: right;\">\n",
       "      <th>17、恋爱相亲育儿综艺</th>\n",
       "      <th>完全不影响</th>\n",
       "      <th>影响极大</th>\n",
       "      <th>影响较大</th>\n",
       "      <th>影响较少</th>\n",
       "      <th>All</th>\n",
       "    </tr>\n",
       "    <tr>\n",
       "      <th>21、您的性别</th>\n",
       "      <th></th>\n",
       "      <th></th>\n",
       "      <th></th>\n",
       "      <th></th>\n",
       "      <th></th>\n",
       "    </tr>\n",
       "  </thead>\n",
       "  <tbody>\n",
       "    <tr>\n",
       "      <th>女</th>\n",
       "      <td>92</td>\n",
       "      <td>4</td>\n",
       "      <td>21</td>\n",
       "      <td>83</td>\n",
       "      <td>200</td>\n",
       "    </tr>\n",
       "    <tr>\n",
       "      <th>男</th>\n",
       "      <td>145</td>\n",
       "      <td>4</td>\n",
       "      <td>8</td>\n",
       "      <td>43</td>\n",
       "      <td>200</td>\n",
       "    </tr>\n",
       "    <tr>\n",
       "      <th>All</th>\n",
       "      <td>237</td>\n",
       "      <td>8</td>\n",
       "      <td>29</td>\n",
       "      <td>126</td>\n",
       "      <td>400</td>\n",
       "    </tr>\n",
       "  </tbody>\n",
       "</table>\n",
       "</div>"
      ],
      "text/plain": [
       "17、恋爱相亲育儿综艺  完全不影响  影响极大  影响较大  影响较少  All\n",
       "21、您的性别                                  \n",
       "女               92     4    21    83  200\n",
       "男              145     4     8    43  200\n",
       "All            237     8    29   126  400"
      ]
     },
     "execution_count": 126,
     "metadata": {},
     "output_type": "execute_result"
    }
   ],
   "source": [
    "df_11_2_res"
   ]
  },
  {
   "cell_type": "code",
   "execution_count": 127,
   "id": "0069c72c",
   "metadata": {},
   "outputs": [
    {
     "data": {
      "text/plain": [
       "array([[ 92,   4,  21,  83],\n",
       "       [145,   4,   8,  43]], dtype=int64)"
      ]
     },
     "execution_count": 127,
     "metadata": {},
     "output_type": "execute_result"
    }
   ],
   "source": [
    "df_11_2_chi"
   ]
  },
  {
   "cell_type": "code",
   "execution_count": 128,
   "id": "fbc88189",
   "metadata": {},
   "outputs": [
    {
     "data": {
      "text/plain": [
       "(30.378319580414736, 1.1489541536104486e-06, 3)"
      ]
     },
     "execution_count": 128,
     "metadata": {},
     "output_type": "execute_result"
    }
   ],
   "source": [
    "df_11_2_ana"
   ]
  },
  {
   "cell_type": "markdown",
   "id": "0a4eba13",
   "metadata": {},
   "source": [
    "## 11.3 国家的生育政策"
   ]
  },
  {
   "cell_type": "code",
   "execution_count": 130,
   "id": "7b86cd44",
   "metadata": {},
   "outputs": [],
   "source": [
    "df_11_3_res,df_11_3_chi,df_11_3_ana = cross_ananlysis(\"17、国家的生育政策\")"
   ]
  },
  {
   "cell_type": "code",
   "execution_count": 131,
   "id": "b5cf6e68",
   "metadata": {},
   "outputs": [
    {
     "data": {
      "text/html": [
       "<div>\n",
       "<style scoped>\n",
       "    .dataframe tbody tr th:only-of-type {\n",
       "        vertical-align: middle;\n",
       "    }\n",
       "\n",
       "    .dataframe tbody tr th {\n",
       "        vertical-align: top;\n",
       "    }\n",
       "\n",
       "    .dataframe thead th {\n",
       "        text-align: right;\n",
       "    }\n",
       "</style>\n",
       "<table border=\"1\" class=\"dataframe\">\n",
       "  <thead>\n",
       "    <tr style=\"text-align: right;\">\n",
       "      <th>17、国家的生育政策</th>\n",
       "      <th>完全不影响</th>\n",
       "      <th>影响极大</th>\n",
       "      <th>影响较大</th>\n",
       "      <th>影响较少</th>\n",
       "      <th>All</th>\n",
       "    </tr>\n",
       "    <tr>\n",
       "      <th>21、您的性别</th>\n",
       "      <th></th>\n",
       "      <th></th>\n",
       "      <th></th>\n",
       "      <th></th>\n",
       "      <th></th>\n",
       "    </tr>\n",
       "  </thead>\n",
       "  <tbody>\n",
       "    <tr>\n",
       "      <th>女</th>\n",
       "      <td>56</td>\n",
       "      <td>16</td>\n",
       "      <td>45</td>\n",
       "      <td>83</td>\n",
       "      <td>200</td>\n",
       "    </tr>\n",
       "    <tr>\n",
       "      <th>男</th>\n",
       "      <td>94</td>\n",
       "      <td>15</td>\n",
       "      <td>35</td>\n",
       "      <td>56</td>\n",
       "      <td>200</td>\n",
       "    </tr>\n",
       "    <tr>\n",
       "      <th>All</th>\n",
       "      <td>150</td>\n",
       "      <td>31</td>\n",
       "      <td>80</td>\n",
       "      <td>139</td>\n",
       "      <td>400</td>\n",
       "    </tr>\n",
       "  </tbody>\n",
       "</table>\n",
       "</div>"
      ],
      "text/plain": [
       "17、国家的生育政策  完全不影响  影响极大  影响较大  影响较少  All\n",
       "21、您的性别                                 \n",
       "女              56    16    45    83  200\n",
       "男              94    15    35    56  200\n",
       "All           150    31    80   139  400"
      ]
     },
     "execution_count": 131,
     "metadata": {},
     "output_type": "execute_result"
    }
   ],
   "source": [
    "df_11_3_res"
   ]
  },
  {
   "cell_type": "code",
   "execution_count": 132,
   "id": "b0567595",
   "metadata": {},
   "outputs": [
    {
     "data": {
      "text/plain": [
       "array([[56, 16, 45, 83],\n",
       "       [94, 15, 35, 56]], dtype=int64)"
      ]
     },
     "execution_count": 132,
     "metadata": {},
     "output_type": "execute_result"
    }
   ],
   "source": [
    "df_11_3_chi"
   ]
  },
  {
   "cell_type": "code",
   "execution_count": 133,
   "id": "b010c696",
   "metadata": {},
   "outputs": [
    {
     "data": {
      "text/plain": [
       "(16.15352904772956, 0.0010546852663857653, 3)"
      ]
     },
     "execution_count": 133,
     "metadata": {},
     "output_type": "execute_result"
    }
   ],
   "source": [
    "df_11_3_ana"
   ]
  },
  {
   "cell_type": "markdown",
   "id": "295c93d1",
   "metadata": {},
   "source": [
    "## 11.4 专家教授发表看法"
   ]
  },
  {
   "cell_type": "code",
   "execution_count": 134,
   "id": "7bfaa64d",
   "metadata": {},
   "outputs": [],
   "source": [
    "df_11_4_res,df_11_4_chi,df_11_4_ana = cross_ananlysis(\"17、专家教授发表看法\")"
   ]
  },
  {
   "cell_type": "code",
   "execution_count": 135,
   "id": "01ee3dd0",
   "metadata": {},
   "outputs": [
    {
     "data": {
      "text/html": [
       "<div>\n",
       "<style scoped>\n",
       "    .dataframe tbody tr th:only-of-type {\n",
       "        vertical-align: middle;\n",
       "    }\n",
       "\n",
       "    .dataframe tbody tr th {\n",
       "        vertical-align: top;\n",
       "    }\n",
       "\n",
       "    .dataframe thead th {\n",
       "        text-align: right;\n",
       "    }\n",
       "</style>\n",
       "<table border=\"1\" class=\"dataframe\">\n",
       "  <thead>\n",
       "    <tr style=\"text-align: right;\">\n",
       "      <th>17、专家教授发表看法</th>\n",
       "      <th>完全不影响</th>\n",
       "      <th>影响极大</th>\n",
       "      <th>影响较大</th>\n",
       "      <th>影响较少</th>\n",
       "      <th>All</th>\n",
       "    </tr>\n",
       "    <tr>\n",
       "      <th>21、您的性别</th>\n",
       "      <th></th>\n",
       "      <th></th>\n",
       "      <th></th>\n",
       "      <th></th>\n",
       "      <th></th>\n",
       "    </tr>\n",
       "  </thead>\n",
       "  <tbody>\n",
       "    <tr>\n",
       "      <th>女</th>\n",
       "      <td>114</td>\n",
       "      <td>1</td>\n",
       "      <td>9</td>\n",
       "      <td>76</td>\n",
       "      <td>200</td>\n",
       "    </tr>\n",
       "    <tr>\n",
       "      <th>男</th>\n",
       "      <td>148</td>\n",
       "      <td>3</td>\n",
       "      <td>7</td>\n",
       "      <td>42</td>\n",
       "      <td>200</td>\n",
       "    </tr>\n",
       "    <tr>\n",
       "      <th>All</th>\n",
       "      <td>262</td>\n",
       "      <td>4</td>\n",
       "      <td>16</td>\n",
       "      <td>118</td>\n",
       "      <td>400</td>\n",
       "    </tr>\n",
       "  </tbody>\n",
       "</table>\n",
       "</div>"
      ],
      "text/plain": [
       "17、专家教授发表看法  完全不影响  影响极大  影响较大  影响较少  All\n",
       "21、您的性别                                  \n",
       "女              114     1     9    76  200\n",
       "男              148     3     7    42  200\n",
       "All            262     4    16   118  400"
      ]
     },
     "execution_count": 135,
     "metadata": {},
     "output_type": "execute_result"
    }
   ],
   "source": [
    "df_11_4_res"
   ]
  },
  {
   "cell_type": "code",
   "execution_count": 136,
   "id": "3d0219e4",
   "metadata": {},
   "outputs": [
    {
     "data": {
      "text/plain": [
       "array([[114,   1,   9,  76],\n",
       "       [148,   3,   7,  42]], dtype=int64)"
      ]
     },
     "execution_count": 136,
     "metadata": {},
     "output_type": "execute_result"
    }
   ],
   "source": [
    "df_11_4_chi"
   ]
  },
  {
   "cell_type": "code",
   "execution_count": 137,
   "id": "a0c1ba48",
   "metadata": {},
   "outputs": [
    {
     "data": {
      "text/plain": [
       "(15.45882390994954, 0.0014637131417765108, 3)"
      ]
     },
     "execution_count": 137,
     "metadata": {},
     "output_type": "execute_result"
    }
   ],
   "source": [
    "df_11_4_ana"
   ]
  },
  {
   "cell_type": "markdown",
   "id": "d895e29c",
   "metadata": {},
   "source": [
    "## 11.5 娱乐圈情感八卦"
   ]
  },
  {
   "cell_type": "code",
   "execution_count": 139,
   "id": "044fc1ca",
   "metadata": {},
   "outputs": [],
   "source": [
    "df_11_5_res,df_11_5_chi,df_11_5_ana = cross_ananlysis(\"17、娱乐圈情感八卦\")"
   ]
  },
  {
   "cell_type": "code",
   "execution_count": 140,
   "id": "6f92efcc",
   "metadata": {},
   "outputs": [
    {
     "data": {
      "text/html": [
       "<div>\n",
       "<style scoped>\n",
       "    .dataframe tbody tr th:only-of-type {\n",
       "        vertical-align: middle;\n",
       "    }\n",
       "\n",
       "    .dataframe tbody tr th {\n",
       "        vertical-align: top;\n",
       "    }\n",
       "\n",
       "    .dataframe thead th {\n",
       "        text-align: right;\n",
       "    }\n",
       "</style>\n",
       "<table border=\"1\" class=\"dataframe\">\n",
       "  <thead>\n",
       "    <tr style=\"text-align: right;\">\n",
       "      <th>17、娱乐圈情感八卦</th>\n",
       "      <th>完全不影响</th>\n",
       "      <th>影响极大</th>\n",
       "      <th>影响较大</th>\n",
       "      <th>影响较少</th>\n",
       "      <th>All</th>\n",
       "    </tr>\n",
       "    <tr>\n",
       "      <th>21、您的性别</th>\n",
       "      <th></th>\n",
       "      <th></th>\n",
       "      <th></th>\n",
       "      <th></th>\n",
       "      <th></th>\n",
       "    </tr>\n",
       "  </thead>\n",
       "  <tbody>\n",
       "    <tr>\n",
       "      <th>女</th>\n",
       "      <td>99</td>\n",
       "      <td>4</td>\n",
       "      <td>22</td>\n",
       "      <td>75</td>\n",
       "      <td>200</td>\n",
       "    </tr>\n",
       "    <tr>\n",
       "      <th>男</th>\n",
       "      <td>155</td>\n",
       "      <td>2</td>\n",
       "      <td>5</td>\n",
       "      <td>38</td>\n",
       "      <td>200</td>\n",
       "    </tr>\n",
       "    <tr>\n",
       "      <th>All</th>\n",
       "      <td>254</td>\n",
       "      <td>6</td>\n",
       "      <td>27</td>\n",
       "      <td>113</td>\n",
       "      <td>400</td>\n",
       "    </tr>\n",
       "  </tbody>\n",
       "</table>\n",
       "</div>"
      ],
      "text/plain": [
       "17、娱乐圈情感八卦  完全不影响  影响极大  影响较大  影响较少  All\n",
       "21、您的性别                                 \n",
       "女              99     4    22    75  200\n",
       "男             155     2     5    38  200\n",
       "All           254     6    27   113  400"
      ]
     },
     "execution_count": 140,
     "metadata": {},
     "output_type": "execute_result"
    }
   ],
   "source": [
    "df_11_5_res"
   ]
  },
  {
   "cell_type": "code",
   "execution_count": 141,
   "id": "e60b428f",
   "metadata": {},
   "outputs": [
    {
     "data": {
      "text/plain": [
       "array([[ 99,   4,  22,  75],\n",
       "       [155,   2,   5,  38]], dtype=int64)"
      ]
     },
     "execution_count": 141,
     "metadata": {},
     "output_type": "execute_result"
    }
   ],
   "source": [
    "df_11_5_chi"
   ]
  },
  {
   "cell_type": "code",
   "execution_count": 142,
   "id": "0985ed33",
   "metadata": {},
   "outputs": [
    {
     "data": {
      "text/plain": [
       "(35.83187131107137, 8.12703707455261e-08, 3)"
      ]
     },
     "execution_count": 142,
     "metadata": {},
     "output_type": "execute_result"
    }
   ],
   "source": [
    "df_11_5_ana"
   ]
  },
  {
   "cell_type": "markdown",
   "id": "54c7811f",
   "metadata": {},
   "source": [
    "## 11.6 身边人的经历"
   ]
  },
  {
   "cell_type": "code",
   "execution_count": 143,
   "id": "33e43dee",
   "metadata": {},
   "outputs": [],
   "source": [
    "df_11_6_res,df_11_6_chi,df_11_6_ana = cross_ananlysis(\"17、身边人的经历\")"
   ]
  },
  {
   "cell_type": "code",
   "execution_count": 144,
   "id": "2664e0bc",
   "metadata": {},
   "outputs": [
    {
     "data": {
      "text/html": [
       "<div>\n",
       "<style scoped>\n",
       "    .dataframe tbody tr th:only-of-type {\n",
       "        vertical-align: middle;\n",
       "    }\n",
       "\n",
       "    .dataframe tbody tr th {\n",
       "        vertical-align: top;\n",
       "    }\n",
       "\n",
       "    .dataframe thead th {\n",
       "        text-align: right;\n",
       "    }\n",
       "</style>\n",
       "<table border=\"1\" class=\"dataframe\">\n",
       "  <thead>\n",
       "    <tr style=\"text-align: right;\">\n",
       "      <th>17、身边人的经历</th>\n",
       "      <th>完全不影响</th>\n",
       "      <th>影响极大</th>\n",
       "      <th>影响较大</th>\n",
       "      <th>影响较少</th>\n",
       "      <th>All</th>\n",
       "    </tr>\n",
       "    <tr>\n",
       "      <th>21、您的性别</th>\n",
       "      <th></th>\n",
       "      <th></th>\n",
       "      <th></th>\n",
       "      <th></th>\n",
       "      <th></th>\n",
       "    </tr>\n",
       "  </thead>\n",
       "  <tbody>\n",
       "    <tr>\n",
       "      <th>女</th>\n",
       "      <td>21</td>\n",
       "      <td>43</td>\n",
       "      <td>90</td>\n",
       "      <td>46</td>\n",
       "      <td>200</td>\n",
       "    </tr>\n",
       "    <tr>\n",
       "      <th>男</th>\n",
       "      <td>60</td>\n",
       "      <td>17</td>\n",
       "      <td>77</td>\n",
       "      <td>46</td>\n",
       "      <td>200</td>\n",
       "    </tr>\n",
       "    <tr>\n",
       "      <th>All</th>\n",
       "      <td>81</td>\n",
       "      <td>60</td>\n",
       "      <td>167</td>\n",
       "      <td>92</td>\n",
       "      <td>400</td>\n",
       "    </tr>\n",
       "  </tbody>\n",
       "</table>\n",
       "</div>"
      ],
      "text/plain": [
       "17、身边人的经历  完全不影响  影响极大  影响较大  影响较少  All\n",
       "21、您的性别                                \n",
       "女             21    43    90    46  200\n",
       "男             60    17    77    46  200\n",
       "All           81    60   167    92  400"
      ]
     },
     "execution_count": 144,
     "metadata": {},
     "output_type": "execute_result"
    }
   ],
   "source": [
    "df_11_6_res"
   ]
  },
  {
   "cell_type": "code",
   "execution_count": 145,
   "id": "778b4364",
   "metadata": {},
   "outputs": [
    {
     "data": {
      "text/plain": [
       "array([[21, 43, 90, 46],\n",
       "       [60, 17, 77, 46]], dtype=int64)"
      ]
     },
     "execution_count": 145,
     "metadata": {},
     "output_type": "execute_result"
    }
   ],
   "source": [
    "df_11_6_chi"
   ]
  },
  {
   "cell_type": "code",
   "execution_count": 146,
   "id": "26f3b0d8",
   "metadata": {},
   "outputs": [
    {
     "data": {
      "text/plain": [
       "(31.056420492348636, 8.271104378713629e-07, 3)"
      ]
     },
     "execution_count": 146,
     "metadata": {},
     "output_type": "execute_result"
    }
   ],
   "source": [
    "df_11_6_ana"
   ]
  },
  {
   "cell_type": "markdown",
   "id": "23b234e2",
   "metadata": {},
   "source": [
    "## 11.7书籍、音乐、绘画等艺术作品"
   ]
  },
  {
   "cell_type": "code",
   "execution_count": 148,
   "id": "74b2f3a1",
   "metadata": {},
   "outputs": [],
   "source": [
    "df_11_7_res,df_11_7_chi,df_11_7_ana = cross_ananlysis(\"17、书籍、音乐、绘画等艺术作品\")"
   ]
  },
  {
   "cell_type": "code",
   "execution_count": 149,
   "id": "c774b552",
   "metadata": {},
   "outputs": [
    {
     "data": {
      "text/html": [
       "<div>\n",
       "<style scoped>\n",
       "    .dataframe tbody tr th:only-of-type {\n",
       "        vertical-align: middle;\n",
       "    }\n",
       "\n",
       "    .dataframe tbody tr th {\n",
       "        vertical-align: top;\n",
       "    }\n",
       "\n",
       "    .dataframe thead th {\n",
       "        text-align: right;\n",
       "    }\n",
       "</style>\n",
       "<table border=\"1\" class=\"dataframe\">\n",
       "  <thead>\n",
       "    <tr style=\"text-align: right;\">\n",
       "      <th>17、书籍、音乐、绘画等艺术作品</th>\n",
       "      <th>完全不影响</th>\n",
       "      <th>影响极大</th>\n",
       "      <th>影响较大</th>\n",
       "      <th>影响较少</th>\n",
       "      <th>All</th>\n",
       "    </tr>\n",
       "    <tr>\n",
       "      <th>21、您的性别</th>\n",
       "      <th></th>\n",
       "      <th></th>\n",
       "      <th></th>\n",
       "      <th></th>\n",
       "      <th></th>\n",
       "    </tr>\n",
       "  </thead>\n",
       "  <tbody>\n",
       "    <tr>\n",
       "      <th>女</th>\n",
       "      <td>52</td>\n",
       "      <td>11</td>\n",
       "      <td>54</td>\n",
       "      <td>83</td>\n",
       "      <td>200</td>\n",
       "    </tr>\n",
       "    <tr>\n",
       "      <th>男</th>\n",
       "      <td>80</td>\n",
       "      <td>13</td>\n",
       "      <td>48</td>\n",
       "      <td>59</td>\n",
       "      <td>200</td>\n",
       "    </tr>\n",
       "    <tr>\n",
       "      <th>All</th>\n",
       "      <td>132</td>\n",
       "      <td>24</td>\n",
       "      <td>102</td>\n",
       "      <td>142</td>\n",
       "      <td>400</td>\n",
       "    </tr>\n",
       "  </tbody>\n",
       "</table>\n",
       "</div>"
      ],
      "text/plain": [
       "17、书籍、音乐、绘画等艺术作品  完全不影响  影响极大  影响较大  影响较少  All\n",
       "21、您的性别                                       \n",
       "女                    52    11    54    83  200\n",
       "男                    80    13    48    59  200\n",
       "All                 132    24   102   142  400"
      ]
     },
     "execution_count": 149,
     "metadata": {},
     "output_type": "execute_result"
    }
   ],
   "source": [
    "df_11_7_res"
   ]
  },
  {
   "cell_type": "code",
   "execution_count": 150,
   "id": "aa82eeba",
   "metadata": {},
   "outputs": [
    {
     "data": {
      "text/plain": [
       "array([[52, 11, 54, 83],\n",
       "       [80, 13, 48, 59]], dtype=int64)"
      ]
     },
     "execution_count": 150,
     "metadata": {},
     "output_type": "execute_result"
    }
   ],
   "source": [
    "df_11_7_chi"
   ]
  },
  {
   "cell_type": "code",
   "execution_count": 151,
   "id": "05efc061",
   "metadata": {},
   "outputs": [
    {
     "data": {
      "text/plain": [
       "(10.515339810700208, 0.014657198613959425, 3)"
      ]
     },
     "execution_count": 151,
     "metadata": {},
     "output_type": "execute_result"
    }
   ],
   "source": [
    "df_11_7_ana"
   ]
  },
  {
   "cell_type": "markdown",
   "id": "febc2004",
   "metadata": {},
   "source": [
    "## 12.请问您上网时是否会分享自己的情感、恋爱及婚育观点？"
   ]
  },
  {
   "cell_type": "code",
   "execution_count": 158,
   "id": "57abac0e",
   "metadata": {},
   "outputs": [
    {
     "ename": "TypeError",
     "evalue": "cross_analysis2() missing 2 required positional arguments: 'useless' and 'splitt'",
     "output_type": "error",
     "traceback": [
      "\u001b[1;31m---------------------------------------------------------------------------\u001b[0m",
      "\u001b[1;31mTypeError\u001b[0m                                 Traceback (most recent call last)",
      "\u001b[1;32m<ipython-input-158-5db1fab1b947>\u001b[0m in \u001b[0;36m<module>\u001b[1;34m\u001b[0m\n\u001b[1;32m----> 1\u001b[1;33m \u001b[0mdf_12_res\u001b[0m\u001b[1;33m,\u001b[0m\u001b[0mdf_12_chi\u001b[0m\u001b[1;33m,\u001b[0m\u001b[0mdf_12_ana\u001b[0m \u001b[1;33m=\u001b[0m \u001b[0mcross_analysis2\u001b[0m\u001b[1;33m(\u001b[0m\u001b[1;34m\"18、请问您上网时是否会分享自己的情感、恋爱及婚育观点？\"\u001b[0m\u001b[1;33m)\u001b[0m\u001b[1;33m\u001b[0m\u001b[1;33m\u001b[0m\u001b[0m\n\u001b[0m",
      "\u001b[1;31mTypeError\u001b[0m: cross_analysis2() missing 2 required positional arguments: 'useless' and 'splitt'"
     ]
    }
   ],
   "source": [
    "df_12_res,df_12_chi,df_12_ana = cross_ananlysis(\"17、书籍、音乐、绘画等艺术作品\")"
   ]
  },
  {
   "cell_type": "code",
   "execution_count": 154,
   "id": "ec3eb941",
   "metadata": {},
   "outputs": [
    {
     "data": {
      "text/html": [
       "<div>\n",
       "<style scoped>\n",
       "    .dataframe tbody tr th:only-of-type {\n",
       "        vertical-align: middle;\n",
       "    }\n",
       "\n",
       "    .dataframe tbody tr th {\n",
       "        vertical-align: top;\n",
       "    }\n",
       "\n",
       "    .dataframe thead th {\n",
       "        text-align: right;\n",
       "    }\n",
       "</style>\n",
       "<table border=\"1\" class=\"dataframe\">\n",
       "  <thead>\n",
       "    <tr style=\"text-align: right;\">\n",
       "      <th>18、请问您上网时是否会分享自己的情感、恋爱及婚育观点？</th>\n",
       "      <th>不会分享</th>\n",
       "      <th>会公开分享</th>\n",
       "      <th>只和熟悉的朋友分享</th>\n",
       "      <th>All</th>\n",
       "    </tr>\n",
       "    <tr>\n",
       "      <th>21、您的性别</th>\n",
       "      <th></th>\n",
       "      <th></th>\n",
       "      <th></th>\n",
       "      <th></th>\n",
       "    </tr>\n",
       "  </thead>\n",
       "  <tbody>\n",
       "    <tr>\n",
       "      <th>女</th>\n",
       "      <td>39</td>\n",
       "      <td>26</td>\n",
       "      <td>135</td>\n",
       "      <td>200</td>\n",
       "    </tr>\n",
       "    <tr>\n",
       "      <th>男</th>\n",
       "      <td>55</td>\n",
       "      <td>36</td>\n",
       "      <td>109</td>\n",
       "      <td>200</td>\n",
       "    </tr>\n",
       "    <tr>\n",
       "      <th>All</th>\n",
       "      <td>94</td>\n",
       "      <td>62</td>\n",
       "      <td>244</td>\n",
       "      <td>400</td>\n",
       "    </tr>\n",
       "  </tbody>\n",
       "</table>\n",
       "</div>"
      ],
      "text/plain": [
       "18、请问您上网时是否会分享自己的情感、恋爱及婚育观点？  不会分享  会公开分享  只和熟悉的朋友分享  All\n",
       "21、您的性别                                                  \n",
       "女                               39     26        135  200\n",
       "男                               55     36        109  200\n",
       "All                             94     62        244  400"
      ]
     },
     "execution_count": 154,
     "metadata": {},
     "output_type": "execute_result"
    }
   ],
   "source": [
    "df_12_res"
   ]
  },
  {
   "cell_type": "code",
   "execution_count": 155,
   "id": "257664e1",
   "metadata": {},
   "outputs": [
    {
     "data": {
      "text/plain": [
       "array([[ 39,  26, 135],\n",
       "       [ 55,  36, 109]], dtype=int64)"
      ]
     },
     "execution_count": 155,
     "metadata": {},
     "output_type": "execute_result"
    }
   ],
   "source": [
    "df_12_chi"
   ]
  },
  {
   "cell_type": "code",
   "execution_count": 156,
   "id": "5a3eef43",
   "metadata": {},
   "outputs": [
    {
     "data": {
      "text/plain": [
       "(7.106799284404289, 0.028627151962558262, 2)"
      ]
     },
     "execution_count": 156,
     "metadata": {},
     "output_type": "execute_result"
    }
   ],
   "source": [
    "df_12_ana"
   ]
  },
  {
   "cell_type": "markdown",
   "id": "050c3ee8",
   "metadata": {},
   "source": [
    "## 13.请问您是否会在朋友圈或社交媒体上秀恩爱？"
   ]
  },
  {
   "cell_type": "code",
   "execution_count": 159,
   "id": "615938d6",
   "metadata": {},
   "outputs": [],
   "source": [
    "df_13_res,df_13_chi,df_13_ana = cross_analysis2(\"19、请问您是否会在朋友圈或社交媒体上秀恩爱？\",\"(跳过)\",\"┋\")"
   ]
  },
  {
   "cell_type": "code",
   "execution_count": 160,
   "id": "1826a08e",
   "metadata": {},
   "outputs": [
    {
     "data": {
      "text/html": [
       "<div>\n",
       "<style scoped>\n",
       "    .dataframe tbody tr th:only-of-type {\n",
       "        vertical-align: middle;\n",
       "    }\n",
       "\n",
       "    .dataframe tbody tr th {\n",
       "        vertical-align: top;\n",
       "    }\n",
       "\n",
       "    .dataframe thead th {\n",
       "        text-align: right;\n",
       "    }\n",
       "</style>\n",
       "<table border=\"1\" class=\"dataframe\">\n",
       "  <thead>\n",
       "    <tr style=\"text-align: right;\">\n",
       "      <th>19、请问您是否会在朋友圈或社交媒体上秀恩爱？</th>\n",
       "      <th>从不</th>\n",
       "      <th>偶尔</th>\n",
       "      <th>经常</th>\n",
       "      <th>All</th>\n",
       "    </tr>\n",
       "    <tr>\n",
       "      <th>性别</th>\n",
       "      <th></th>\n",
       "      <th></th>\n",
       "      <th></th>\n",
       "      <th></th>\n",
       "    </tr>\n",
       "  </thead>\n",
       "  <tbody>\n",
       "    <tr>\n",
       "      <th>女</th>\n",
       "      <td>15</td>\n",
       "      <td>45</td>\n",
       "      <td>6</td>\n",
       "      <td>66</td>\n",
       "    </tr>\n",
       "    <tr>\n",
       "      <th>男</th>\n",
       "      <td>8</td>\n",
       "      <td>33</td>\n",
       "      <td>6</td>\n",
       "      <td>47</td>\n",
       "    </tr>\n",
       "    <tr>\n",
       "      <th>All</th>\n",
       "      <td>23</td>\n",
       "      <td>78</td>\n",
       "      <td>12</td>\n",
       "      <td>113</td>\n",
       "    </tr>\n",
       "  </tbody>\n",
       "</table>\n",
       "</div>"
      ],
      "text/plain": [
       "19、请问您是否会在朋友圈或社交媒体上秀恩爱？  从不  偶尔  经常  All\n",
       "性别                                      \n",
       "女                        15  45   6   66\n",
       "男                         8  33   6   47\n",
       "All                      23  78  12  113"
      ]
     },
     "execution_count": 160,
     "metadata": {},
     "output_type": "execute_result"
    }
   ],
   "source": [
    "df_13_res"
   ]
  },
  {
   "cell_type": "code",
   "execution_count": 161,
   "id": "95b79749",
   "metadata": {},
   "outputs": [
    {
     "data": {
      "text/plain": [
       "array([[15, 45,  6],\n",
       "       [ 8, 33,  6]], dtype=int64)"
      ]
     },
     "execution_count": 161,
     "metadata": {},
     "output_type": "execute_result"
    }
   ],
   "source": [
    "df_13_chi"
   ]
  },
  {
   "cell_type": "code",
   "execution_count": 162,
   "id": "8cd0920e",
   "metadata": {},
   "outputs": [
    {
     "data": {
      "text/plain": [
       "(0.8046470181067781, 0.6687643593659276, 2)"
      ]
     },
     "execution_count": 162,
     "metadata": {},
     "output_type": "execute_result"
    }
   ],
   "source": [
    "df_13_ana"
   ]
  },
  {
   "cell_type": "markdown",
   "id": "3019f6e4",
   "metadata": {},
   "source": [
    "## 14.请问如果您有孩子（或者您已经有），您会在朋友圈或社交媒体上晒娃吗？"
   ]
  },
  {
   "cell_type": "code",
   "execution_count": 163,
   "id": "7bf60e4d",
   "metadata": {},
   "outputs": [],
   "source": [
    "df_14_res,df_14_chi,df_14_ana = cross_analysis2(\"20、请问如果您有孩子（或者您已经有），您会在朋友圈或社交媒体上晒娃吗？\",\"(跳过)\",\"┋\")"
   ]
  },
  {
   "cell_type": "code",
   "execution_count": 164,
   "id": "cffda163",
   "metadata": {},
   "outputs": [
    {
     "data": {
      "text/html": [
       "<div>\n",
       "<style scoped>\n",
       "    .dataframe tbody tr th:only-of-type {\n",
       "        vertical-align: middle;\n",
       "    }\n",
       "\n",
       "    .dataframe tbody tr th {\n",
       "        vertical-align: top;\n",
       "    }\n",
       "\n",
       "    .dataframe thead th {\n",
       "        text-align: right;\n",
       "    }\n",
       "</style>\n",
       "<table border=\"1\" class=\"dataframe\">\n",
       "  <thead>\n",
       "    <tr style=\"text-align: right;\">\n",
       "      <th>20、请问如果您有孩子（或者您已经有），您会在朋友圈或社交媒体上晒娃吗？</th>\n",
       "      <th>不会</th>\n",
       "      <th>会</th>\n",
       "      <th>All</th>\n",
       "    </tr>\n",
       "    <tr>\n",
       "      <th>性别</th>\n",
       "      <th></th>\n",
       "      <th></th>\n",
       "      <th></th>\n",
       "    </tr>\n",
       "  </thead>\n",
       "  <tbody>\n",
       "    <tr>\n",
       "      <th>女</th>\n",
       "      <td>61</td>\n",
       "      <td>81</td>\n",
       "      <td>142</td>\n",
       "    </tr>\n",
       "    <tr>\n",
       "      <th>男</th>\n",
       "      <td>70</td>\n",
       "      <td>106</td>\n",
       "      <td>176</td>\n",
       "    </tr>\n",
       "    <tr>\n",
       "      <th>All</th>\n",
       "      <td>131</td>\n",
       "      <td>187</td>\n",
       "      <td>318</td>\n",
       "    </tr>\n",
       "  </tbody>\n",
       "</table>\n",
       "</div>"
      ],
      "text/plain": [
       "20、请问如果您有孩子（或者您已经有），您会在朋友圈或社交媒体上晒娃吗？   不会    会  All\n",
       "性别                                                 \n",
       "女                                      61   81  142\n",
       "男                                      70  106  176\n",
       "All                                   131  187  318"
      ]
     },
     "execution_count": 164,
     "metadata": {},
     "output_type": "execute_result"
    }
   ],
   "source": [
    "df_14_res"
   ]
  },
  {
   "cell_type": "code",
   "execution_count": 165,
   "id": "6120e931",
   "metadata": {},
   "outputs": [
    {
     "data": {
      "text/plain": [
       "array([[ 61,  81],\n",
       "       [ 70, 106]], dtype=int64)"
      ]
     },
     "execution_count": 165,
     "metadata": {},
     "output_type": "execute_result"
    }
   ],
   "source": [
    "df_14_chi"
   ]
  },
  {
   "cell_type": "code",
   "execution_count": 166,
   "id": "60ff2cb3",
   "metadata": {},
   "outputs": [
    {
     "data": {
      "text/plain": [
       "(0.21076188312169894, 0.646170902168097, 1)"
      ]
     },
     "execution_count": 166,
     "metadata": {},
     "output_type": "execute_result"
    }
   ],
   "source": [
    "df_14_ana"
   ]
  },
  {
   "cell_type": "code",
   "execution_count": null,
   "id": "100d6ad8",
   "metadata": {},
   "outputs": [],
   "source": []
  }
 ],
 "metadata": {
  "kernelspec": {
   "display_name": "Python 3",
   "language": "python",
   "name": "python3"
  },
  "language_info": {
   "codemirror_mode": {
    "name": "ipython",
    "version": 3
   },
   "file_extension": ".py",
   "mimetype": "text/x-python",
   "name": "python",
   "nbconvert_exporter": "python",
   "pygments_lexer": "ipython3",
   "version": "3.8.8"
  }
 },
 "nbformat": 4,
 "nbformat_minor": 5
}
