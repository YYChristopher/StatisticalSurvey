{
 "cells": [
  {
   "cell_type": "code",
   "execution_count": 1,
   "metadata": {},
   "outputs": [],
   "source": [
    "import pandas as pd\n",
    "import numpy as np\n",
    "from matplotlib import pyplot as plt\n",
    "plt.rcParams[\"axes.unicode_minus\"]=False #用于显示负号\n",
    "plt.rcParams['font.sans-serif']=['SimHei'] #用于显示中文"
   ]
  },
  {
   "cell_type": "code",
   "execution_count": 2,
   "metadata": {},
   "outputs": [],
   "source": [
    "data = pd.read_csv(\"surveydata.csv\",sep=',',header=0)"
   ]
  },
  {
   "cell_type": "code",
   "execution_count": 3,
   "metadata": {},
   "outputs": [
    {
     "data": {
      "text/html": [
       "<div>\n",
       "<style scoped>\n",
       "    .dataframe tbody tr th:only-of-type {\n",
       "        vertical-align: middle;\n",
       "    }\n",
       "\n",
       "    .dataframe tbody tr th {\n",
       "        vertical-align: top;\n",
       "    }\n",
       "\n",
       "    .dataframe thead th {\n",
       "        text-align: right;\n",
       "    }\n",
       "</style>\n",
       "<table border=\"1\" class=\"dataframe\">\n",
       "  <thead>\n",
       "    <tr style=\"text-align: right;\">\n",
       "      <th></th>\n",
       "      <th>id</th>\n",
       "      <th>提交答卷时间</th>\n",
       "      <th>所用时间</th>\n",
       "      <th>来源</th>\n",
       "      <th>来源详情</th>\n",
       "      <th>来自IP</th>\n",
       "      <th>目前恋爱状态</th>\n",
       "      <th>恋爱次数</th>\n",
       "      <th>结婚意愿</th>\n",
       "      <th>4、您的理想结婚年龄为</th>\n",
       "      <th>...</th>\n",
       "      <th>性别</th>\n",
       "      <th>年龄</th>\n",
       "      <th>来自</th>\n",
       "      <th>户口</th>\n",
       "      <th>25、请问您目前从事的职业为</th>\n",
       "      <th>26、请问您的最高学历是（包括在读）</th>\n",
       "      <th>27、请问您是否为独生子女</th>\n",
       "      <th>28、请问您的月消费区间为</th>\n",
       "      <th>29、如果您对我们的调查结果感兴趣，可以留下您的电子邮箱地址，我们将在课题完成后向您发送研究报告</th>\n",
       "      <th>总分</th>\n",
       "    </tr>\n",
       "  </thead>\n",
       "  <tbody>\n",
       "    <tr>\n",
       "      <th>0</th>\n",
       "      <td>1</td>\n",
       "      <td>2022/11/10 12:54</td>\n",
       "      <td>250秒</td>\n",
       "      <td>微信</td>\n",
       "      <td>NaN</td>\n",
       "      <td>202.120.235.202(上海-上海)</td>\n",
       "      <td>单身，无恋爱打算</td>\n",
       "      <td>3</td>\n",
       "      <td>不知道，顺其自然</td>\n",
       "      <td>26-30</td>\n",
       "      <td>...</td>\n",
       "      <td>男</td>\n",
       "      <td>23</td>\n",
       "      <td>山东</td>\n",
       "      <td>城镇</td>\n",
       "      <td>全日制学生</td>\n",
       "      <td>硕士</td>\n",
       "      <td>是</td>\n",
       "      <td>5000-1万</td>\n",
       "      <td>(空)</td>\n",
       "      <td>0</td>\n",
       "    </tr>\n",
       "    <tr>\n",
       "      <th>1</th>\n",
       "      <td>2</td>\n",
       "      <td>2022/11/10 12:54</td>\n",
       "      <td>183秒</td>\n",
       "      <td>微信</td>\n",
       "      <td>NaN</td>\n",
       "      <td>202.120.235.88(上海-上海)</td>\n",
       "      <td>单身，无恋爱打算</td>\n",
       "      <td>0</td>\n",
       "      <td>不知道，顺其自然</td>\n",
       "      <td>26-30</td>\n",
       "      <td>...</td>\n",
       "      <td>男</td>\n",
       "      <td>21</td>\n",
       "      <td>上海</td>\n",
       "      <td>城镇</td>\n",
       "      <td>全日制学生</td>\n",
       "      <td>硕士</td>\n",
       "      <td>是</td>\n",
       "      <td>1000-3000</td>\n",
       "      <td>(空)</td>\n",
       "      <td>0</td>\n",
       "    </tr>\n",
       "    <tr>\n",
       "      <th>2</th>\n",
       "      <td>3</td>\n",
       "      <td>2022/11/10 12:55</td>\n",
       "      <td>166秒</td>\n",
       "      <td>微信</td>\n",
       "      <td>NaN</td>\n",
       "      <td>223.104.210.217(上海-上海)</td>\n",
       "      <td>单身，有恋爱打算</td>\n",
       "      <td>1</td>\n",
       "      <td>有结婚打算</td>\n",
       "      <td>26-30</td>\n",
       "      <td>...</td>\n",
       "      <td>男</td>\n",
       "      <td>23</td>\n",
       "      <td>上海</td>\n",
       "      <td>城镇</td>\n",
       "      <td>全日制学生</td>\n",
       "      <td>硕士</td>\n",
       "      <td>是</td>\n",
       "      <td>1000-3000</td>\n",
       "      <td>(空)</td>\n",
       "      <td>0</td>\n",
       "    </tr>\n",
       "    <tr>\n",
       "      <th>3</th>\n",
       "      <td>4</td>\n",
       "      <td>2022/11/10 12:55</td>\n",
       "      <td>170秒</td>\n",
       "      <td>手机提交</td>\n",
       "      <td>直接访问</td>\n",
       "      <td>183.192.11.120(上海-上海)</td>\n",
       "      <td>单身，有恋爱打算</td>\n",
       "      <td>3</td>\n",
       "      <td>有结婚打算</td>\n",
       "      <td>26-30</td>\n",
       "      <td>...</td>\n",
       "      <td>男</td>\n",
       "      <td>22</td>\n",
       "      <td>上海</td>\n",
       "      <td>城镇</td>\n",
       "      <td>全日制学生</td>\n",
       "      <td>本科</td>\n",
       "      <td>是</td>\n",
       "      <td>3000-5000</td>\n",
       "      <td>(空)</td>\n",
       "      <td>0</td>\n",
       "    </tr>\n",
       "    <tr>\n",
       "      <th>4</th>\n",
       "      <td>5</td>\n",
       "      <td>2022/11/10 12:56</td>\n",
       "      <td>254秒</td>\n",
       "      <td>微信</td>\n",
       "      <td>NaN</td>\n",
       "      <td>101.82.242.152(上海-上海)</td>\n",
       "      <td>单身，无恋爱打算</td>\n",
       "      <td>1</td>\n",
       "      <td>不知道，顺其自然</td>\n",
       "      <td>26-30</td>\n",
       "      <td>...</td>\n",
       "      <td>女</td>\n",
       "      <td>22</td>\n",
       "      <td>湖北</td>\n",
       "      <td>城镇</td>\n",
       "      <td>全日制学生</td>\n",
       "      <td>硕士</td>\n",
       "      <td>是</td>\n",
       "      <td>1000-3000</td>\n",
       "      <td>(空)</td>\n",
       "      <td>0</td>\n",
       "    </tr>\n",
       "    <tr>\n",
       "      <th>...</th>\n",
       "      <td>...</td>\n",
       "      <td>...</td>\n",
       "      <td>...</td>\n",
       "      <td>...</td>\n",
       "      <td>...</td>\n",
       "      <td>...</td>\n",
       "      <td>...</td>\n",
       "      <td>...</td>\n",
       "      <td>...</td>\n",
       "      <td>...</td>\n",
       "      <td>...</td>\n",
       "      <td>...</td>\n",
       "      <td>...</td>\n",
       "      <td>...</td>\n",
       "      <td>...</td>\n",
       "      <td>...</td>\n",
       "      <td>...</td>\n",
       "      <td>...</td>\n",
       "      <td>...</td>\n",
       "      <td>...</td>\n",
       "      <td>...</td>\n",
       "    </tr>\n",
       "    <tr>\n",
       "      <th>540</th>\n",
       "      <td>541</td>\n",
       "      <td>2022/11/27 20:31</td>\n",
       "      <td>185秒</td>\n",
       "      <td>手机提交</td>\n",
       "      <td>直接访问</td>\n",
       "      <td>202.200.238.130(陕西-西安)</td>\n",
       "      <td>正在恋爱中</td>\n",
       "      <td>2</td>\n",
       "      <td>有结婚打算</td>\n",
       "      <td>26-30</td>\n",
       "      <td>...</td>\n",
       "      <td>男</td>\n",
       "      <td>23</td>\n",
       "      <td>河南</td>\n",
       "      <td>农村</td>\n",
       "      <td>全日制学生</td>\n",
       "      <td>硕士</td>\n",
       "      <td>否</td>\n",
       "      <td>1000-3000</td>\n",
       "      <td>(空)</td>\n",
       "      <td>0</td>\n",
       "    </tr>\n",
       "    <tr>\n",
       "      <th>541</th>\n",
       "      <td>542</td>\n",
       "      <td>2022/11/27 21:17</td>\n",
       "      <td>179秒</td>\n",
       "      <td>手机提交</td>\n",
       "      <td>直接访问</td>\n",
       "      <td>1.85.33.73(陕西-西安)</td>\n",
       "      <td>单身，有恋爱打算</td>\n",
       "      <td>2</td>\n",
       "      <td>有结婚打算</td>\n",
       "      <td>26-30</td>\n",
       "      <td>...</td>\n",
       "      <td>男</td>\n",
       "      <td>20</td>\n",
       "      <td>河南</td>\n",
       "      <td>城镇</td>\n",
       "      <td>全日制学生</td>\n",
       "      <td>本科</td>\n",
       "      <td>是</td>\n",
       "      <td>1000-3000</td>\n",
       "      <td>(空)</td>\n",
       "      <td>0</td>\n",
       "    </tr>\n",
       "    <tr>\n",
       "      <th>542</th>\n",
       "      <td>543</td>\n",
       "      <td>2022/11/29 0:37</td>\n",
       "      <td>269秒</td>\n",
       "      <td>手机提交</td>\n",
       "      <td>直接访问</td>\n",
       "      <td>61.185.212.153(陕西-西安)</td>\n",
       "      <td>正在恋爱中</td>\n",
       "      <td>2</td>\n",
       "      <td>有结婚打算</td>\n",
       "      <td>26-30</td>\n",
       "      <td>...</td>\n",
       "      <td>男</td>\n",
       "      <td>24</td>\n",
       "      <td>河北</td>\n",
       "      <td>城镇</td>\n",
       "      <td>全日制学生</td>\n",
       "      <td>硕士</td>\n",
       "      <td>是</td>\n",
       "      <td>1000-3000</td>\n",
       "      <td>835981083@qq.com</td>\n",
       "      <td>0</td>\n",
       "    </tr>\n",
       "    <tr>\n",
       "      <th>543</th>\n",
       "      <td>544</td>\n",
       "      <td>2022/11/29 9:08</td>\n",
       "      <td>237秒</td>\n",
       "      <td>手机提交</td>\n",
       "      <td>直接访问</td>\n",
       "      <td>113.201.132.189(陕西-西安)</td>\n",
       "      <td>正在恋爱中</td>\n",
       "      <td>1</td>\n",
       "      <td>有结婚打算</td>\n",
       "      <td>26-30</td>\n",
       "      <td>...</td>\n",
       "      <td>男</td>\n",
       "      <td>22</td>\n",
       "      <td>河北</td>\n",
       "      <td>农村</td>\n",
       "      <td>全日制学生</td>\n",
       "      <td>本科</td>\n",
       "      <td>否</td>\n",
       "      <td>1000-3000</td>\n",
       "      <td>2463021186@qq.com</td>\n",
       "      <td>0</td>\n",
       "    </tr>\n",
       "    <tr>\n",
       "      <th>544</th>\n",
       "      <td>545</td>\n",
       "      <td>2022/11/29 10:59</td>\n",
       "      <td>315秒</td>\n",
       "      <td>手机提交</td>\n",
       "      <td>直接访问</td>\n",
       "      <td>202.200.233.61(陕西-西安)</td>\n",
       "      <td>单身，有恋爱打算</td>\n",
       "      <td>1</td>\n",
       "      <td>不会，但接受同居</td>\n",
       "      <td>(跳过)</td>\n",
       "      <td>...</td>\n",
       "      <td>男</td>\n",
       "      <td>22</td>\n",
       "      <td>河北</td>\n",
       "      <td>城镇</td>\n",
       "      <td>全日制学生</td>\n",
       "      <td>硕士</td>\n",
       "      <td>否</td>\n",
       "      <td>1000-3000</td>\n",
       "      <td>ztw17330277102@163.com</td>\n",
       "      <td>0</td>\n",
       "    </tr>\n",
       "  </tbody>\n",
       "</table>\n",
       "<p>545 rows × 66 columns</p>\n",
       "</div>"
      ],
      "text/plain": [
       "      id            提交答卷时间  所用时间    来源  来源详情                    来自IP  \\\n",
       "0      1  2022/11/10 12:54  250秒    微信   NaN  202.120.235.202(上海-上海)   \n",
       "1      2  2022/11/10 12:54  183秒    微信   NaN   202.120.235.88(上海-上海)   \n",
       "2      3  2022/11/10 12:55  166秒    微信   NaN  223.104.210.217(上海-上海)   \n",
       "3      4  2022/11/10 12:55  170秒  手机提交  直接访问   183.192.11.120(上海-上海)   \n",
       "4      5  2022/11/10 12:56  254秒    微信   NaN   101.82.242.152(上海-上海)   \n",
       "..   ...               ...   ...   ...   ...                     ...   \n",
       "540  541  2022/11/27 20:31  185秒  手机提交  直接访问  202.200.238.130(陕西-西安)   \n",
       "541  542  2022/11/27 21:17  179秒  手机提交  直接访问       1.85.33.73(陕西-西安)   \n",
       "542  543   2022/11/29 0:37  269秒  手机提交  直接访问   61.185.212.153(陕西-西安)   \n",
       "543  544   2022/11/29 9:08  237秒  手机提交  直接访问  113.201.132.189(陕西-西安)   \n",
       "544  545  2022/11/29 10:59  315秒  手机提交  直接访问   202.200.233.61(陕西-西安)   \n",
       "\n",
       "       目前恋爱状态 恋爱次数      结婚意愿 4、您的理想结婚年龄为  ... 性别  年龄  来自  户口 25、请问您目前从事的职业为  \\\n",
       "0    单身，无恋爱打算    3  不知道，顺其自然       26-30  ...  男  23  山东  城镇          全日制学生   \n",
       "1    单身，无恋爱打算    0  不知道，顺其自然       26-30  ...  男  21  上海  城镇          全日制学生   \n",
       "2    单身，有恋爱打算    1     有结婚打算       26-30  ...  男  23  上海  城镇          全日制学生   \n",
       "3    单身，有恋爱打算    3     有结婚打算       26-30  ...  男  22  上海  城镇          全日制学生   \n",
       "4    单身，无恋爱打算    1  不知道，顺其自然       26-30  ...  女  22  湖北  城镇          全日制学生   \n",
       "..        ...  ...       ...         ...  ... ..  ..  ..  ..            ...   \n",
       "540     正在恋爱中    2     有结婚打算       26-30  ...  男  23  河南  农村          全日制学生   \n",
       "541  单身，有恋爱打算    2     有结婚打算       26-30  ...  男  20  河南  城镇          全日制学生   \n",
       "542     正在恋爱中    2     有结婚打算       26-30  ...  男  24  河北  城镇          全日制学生   \n",
       "543     正在恋爱中    1     有结婚打算       26-30  ...  男  22  河北  农村          全日制学生   \n",
       "544  单身，有恋爱打算    1  不会，但接受同居        (跳过)  ...  男  22  河北  城镇          全日制学生   \n",
       "\n",
       "    26、请问您的最高学历是（包括在读） 27、请问您是否为独生子女 28、请问您的月消费区间为  \\\n",
       "0                   硕士             是       5000-1万   \n",
       "1                   硕士             是     1000-3000   \n",
       "2                   硕士             是     1000-3000   \n",
       "3                   本科             是     3000-5000   \n",
       "4                   硕士             是     1000-3000   \n",
       "..                 ...           ...           ...   \n",
       "540                 硕士             否     1000-3000   \n",
       "541                 本科             是     1000-3000   \n",
       "542                 硕士             是     1000-3000   \n",
       "543                 本科             否     1000-3000   \n",
       "544                 硕士             否     1000-3000   \n",
       "\n",
       "    29、如果您对我们的调查结果感兴趣，可以留下您的电子邮箱地址，我们将在课题完成后向您发送研究报告 总分  \n",
       "0                                                (空)  0  \n",
       "1                                                (空)  0  \n",
       "2                                                (空)  0  \n",
       "3                                                (空)  0  \n",
       "4                                                (空)  0  \n",
       "..                                               ... ..  \n",
       "540                                              (空)  0  \n",
       "541                                              (空)  0  \n",
       "542                                 835981083@qq.com  0  \n",
       "543                                2463021186@qq.com  0  \n",
       "544                           ztw17330277102@163.com  0  \n",
       "\n",
       "[545 rows x 66 columns]"
      ]
     },
     "execution_count": 3,
     "metadata": {},
     "output_type": "execute_result"
    }
   ],
   "source": [
    "data"
   ]
  },
  {
   "attachments": {},
   "cell_type": "markdown",
   "metadata": {},
   "source": [
    "### 截取需要分析的数据"
   ]
  },
  {
   "cell_type": "code",
   "execution_count": 4,
   "metadata": {},
   "outputs": [
    {
     "data": {
      "text/plain": [
       "性别          0\n",
       "年龄          0\n",
       "户口          0\n",
       "上网时长        0\n",
       "目前恋爱状态      0\n",
       "恋爱次数        0\n",
       "结婚意愿        0\n",
       "意愿子女数       0\n",
       "理想子女数       0\n",
       "理想儿子        0\n",
       "理想女儿        0\n",
       "动漫          0\n",
       "综艺          0\n",
       "体育/电竞       0\n",
       "明星          0\n",
       "科技/数码       0\n",
       "网文          0\n",
       "游戏          0\n",
       "微博          0\n",
       "知乎          0\n",
       "豆瓣          0\n",
       "虎扑          0\n",
       "百度贴吧        0\n",
       "小红书         0\n",
       "B站          0\n",
       "短视频         0\n",
       "朋友圈秀恩爱晒娃    0\n",
       "恋爱相亲育儿综艺    0\n",
       "国家生育政策      0\n",
       "专家教授发表看法    0\n",
       "娱乐圈情感八卦     0\n",
       "身边人经历       0\n",
       "艺术作品        0\n",
       "dtype: int64"
      ]
     },
     "execution_count": 4,
     "metadata": {},
     "output_type": "execute_result"
    }
   ],
   "source": [
    "#截取出需要用于机器学习算法分析的数据\n",
    "df = data[['性别','年龄','户口','上网时长',\n",
    "           '目前恋爱状态','恋爱次数','结婚意愿','意愿子女数','理想子女数','理想儿子','理想女儿',\n",
    "           '动漫','综艺','体育/电竞','明星','科技/数码','网文','游戏',\n",
    "           '微博','知乎','豆瓣','虎扑','百度贴吧','小红书','B站','短视频',\n",
    "           '朋友圈秀恩爱晒娃','恋爱相亲育儿综艺','国家生育政策','专家教授发表看法','娱乐圈情感八卦','身边人经历','艺术作品']]\n",
    "\n",
    "df.isnull().sum() #检查有无缺失值。发现没有"
   ]
  },
  {
   "cell_type": "code",
   "execution_count": 5,
   "metadata": {},
   "outputs": [
    {
     "name": "stderr",
     "output_type": "stream",
     "text": [
      "C:\\Users\\24561\\AppData\\Local\\Temp\\ipykernel_18128\\1635946789.py:15: SettingWithCopyWarning: \n",
      "A value is trying to be set on a copy of a slice from a DataFrame.\n",
      "Try using .loc[row_indexer,col_indexer] = value instead\n",
      "\n",
      "See the caveats in the documentation: https://pandas.pydata.org/pandas-docs/stable/user_guide/indexing.html#returning-a-view-versus-a-copy\n",
      "  df[['恋爱次数','意愿子女数','理想子女数','理想儿子','理想女儿']] = df[['恋爱次数','意愿子女数','理想子女数','理想儿子','理想女儿']].astype(int) #将数值字段全变为Int类型\n"
     ]
    }
   ],
   "source": [
    "df.loc[df['恋爱次数']=='4及以上','恋爱次数'] = 4 #设定恋爱次数为4及以上的统统变为4\n",
    "df.loc[df['意愿子女数']=='4个及以上','意愿子女数'] = 4 #设定意愿子女数为4及以上的统统变为4\n",
    "df.loc[df['理想子女数']=='4个及以上','理想子女数'] = 4 #设定理想子女数为4及以上的统统变为4\n",
    "df.loc[df['理想儿子']=='4个及以上','理想儿子'] = 4\n",
    "df.loc[df['理想女儿']=='4个及以上','理想女儿'] = 4\n",
    "\n",
    "df.loc[df['上网时长']=='2小时及以下','上网时长'] = 1\n",
    "df.loc[df['上网时长']=='2-4小时','上网时长'] = 3\n",
    "df.loc[df['上网时长']=='4-6小时','上网时长'] = 5\n",
    "df.loc[df['上网时长']=='6-8小时','上网时长'] = 7\n",
    "df.loc[df['上网时长']=='8小时及以上','上网时长'] = 9\n",
    "df_inttime = df['上网时长'].astype(int)\n",
    "df_inttime.columns = ['上网时长']\n",
    "\n",
    "df[['恋爱次数','意愿子女数','理想子女数','理想儿子','理想女儿']] = df[['恋爱次数','意愿子女数','理想子女数','理想儿子','理想女儿']].astype(int) #将数值字段全变为Int类型\n",
    "df_y = df[['恋爱次数','意愿子女数','理想子女数','理想儿子','理想女儿']]  #这些可以认为是回归的因变量\n",
    "df_y.columns = ['恋爱次数','意愿子女数','理想子女数','理想儿子','理想女儿']  #给因变量y附上列名\n",
    "\n",
    "df_child = df[['意愿子女数','理想子女数','理想儿子','理想女儿']]\n",
    "df_child.columns = ['意愿子女数','理想子女数','理想儿子','理想女儿']\n",
    "\n",
    "df_sex = df['性别']"
   ]
  },
  {
   "cell_type": "code",
   "execution_count": 6,
   "metadata": {},
   "outputs": [
    {
     "data": {
      "text/plain": [
       "性别          object\n",
       "年龄           int64\n",
       "户口          object\n",
       "上网时长        object\n",
       "目前恋爱状态      object\n",
       "恋爱次数         int32\n",
       "结婚意愿        object\n",
       "意愿子女数        int32\n",
       "理想子女数        int32\n",
       "理想儿子         int32\n",
       "理想女儿         int32\n",
       "动漫          object\n",
       "综艺          object\n",
       "体育/电竞       object\n",
       "明星          object\n",
       "科技/数码       object\n",
       "网文          object\n",
       "游戏          object\n",
       "微博          object\n",
       "知乎          object\n",
       "豆瓣          object\n",
       "虎扑          object\n",
       "百度贴吧        object\n",
       "小红书         object\n",
       "B站          object\n",
       "短视频         object\n",
       "朋友圈秀恩爱晒娃    object\n",
       "恋爱相亲育儿综艺    object\n",
       "国家生育政策      object\n",
       "专家教授发表看法    object\n",
       "娱乐圈情感八卦     object\n",
       "身边人经历       object\n",
       "艺术作品        object\n",
       "dtype: object"
      ]
     },
     "execution_count": 6,
     "metadata": {},
     "output_type": "execute_result"
    }
   ],
   "source": [
    "df.dtypes #查看字段属性，发现全为object属性。需要将其中的一些变为int属性"
   ]
  },
  {
   "attachments": {},
   "cell_type": "markdown",
   "metadata": {},
   "source": [
    "### 数据预处理"
   ]
  },
  {
   "cell_type": "code",
   "execution_count": 7,
   "metadata": {},
   "outputs": [],
   "source": [
    "#数据预处理导库（主要针对类别数据）\n",
    "from sklearn.preprocessing import LabelEncoder\n",
    "from sklearn.preprocessing import OrdinalEncoder\n",
    "from sklearn.preprocessing import OneHotEncoder\n",
    "from sklearn.preprocessing import Binarizer\n",
    "from sklearn.preprocessing import KBinsDiscretizer"
   ]
  },
  {
   "cell_type": "code",
   "execution_count": 8,
   "metadata": {},
   "outputs": [],
   "source": [
    "le = LabelEncoder()\n",
    "le_f = le.fit(df['性别'])\n",
    "sex_label = le_f.transform(df['性别']) #性别：男生为1，女生为0\n",
    "df_sex = pd.DataFrame(sex_label)\n",
    "df_sex.columns = ['性别']"
   ]
  },
  {
   "cell_type": "code",
   "execution_count": 9,
   "metadata": {},
   "outputs": [],
   "source": [
    "le = LabelEncoder()\n",
    "le_resid = le.fit(df['户口'])\n",
    "resid_label = le_resid.transform(df['户口'])\n",
    "df_resid = pd.DataFrame(resid_label)\n",
    "df_resid.columns = ['户口']"
   ]
  },
  {
   "cell_type": "code",
   "execution_count": 10,
   "metadata": {},
   "outputs": [],
   "source": [
    "le = LabelEncoder()\n",
    "le_love = le.fit(df['目前恋爱状态'])\n",
    "love_label = le_love.transform(df['目前恋爱状态'])\n",
    "df_love = pd.DataFrame(love_label)\n",
    "df_love.columns = ['恋爱状态']\n",
    "\n",
    "ohe = OneHotEncoder(categories='auto')\n",
    "ohe_love = ohe.fit(df_love)\n",
    "ohe_res = ohe_love.transform(df_love).toarray()\n",
    "df_ohe_love = pd.DataFrame(ohe_res)\n",
    "df_ohe_love.columns = ['单身无恋爱','单身想恋爱','恋爱中']"
   ]
  },
  {
   "cell_type": "code",
   "execution_count": 11,
   "metadata": {},
   "outputs": [
    {
     "data": {
      "text/html": [
       "<div>\n",
       "<style scoped>\n",
       "    .dataframe tbody tr th:only-of-type {\n",
       "        vertical-align: middle;\n",
       "    }\n",
       "\n",
       "    .dataframe tbody tr th {\n",
       "        vertical-align: top;\n",
       "    }\n",
       "\n",
       "    .dataframe thead th {\n",
       "        text-align: right;\n",
       "    }\n",
       "</style>\n",
       "<table border=\"1\" class=\"dataframe\">\n",
       "  <thead>\n",
       "    <tr style=\"text-align: right;\">\n",
       "      <th></th>\n",
       "      <th>恋爱状态</th>\n",
       "    </tr>\n",
       "  </thead>\n",
       "  <tbody>\n",
       "    <tr>\n",
       "      <th>0</th>\n",
       "      <td>0</td>\n",
       "    </tr>\n",
       "    <tr>\n",
       "      <th>1</th>\n",
       "      <td>0</td>\n",
       "    </tr>\n",
       "    <tr>\n",
       "      <th>2</th>\n",
       "      <td>1</td>\n",
       "    </tr>\n",
       "    <tr>\n",
       "      <th>3</th>\n",
       "      <td>1</td>\n",
       "    </tr>\n",
       "    <tr>\n",
       "      <th>4</th>\n",
       "      <td>0</td>\n",
       "    </tr>\n",
       "    <tr>\n",
       "      <th>...</th>\n",
       "      <td>...</td>\n",
       "    </tr>\n",
       "    <tr>\n",
       "      <th>540</th>\n",
       "      <td>2</td>\n",
       "    </tr>\n",
       "    <tr>\n",
       "      <th>541</th>\n",
       "      <td>1</td>\n",
       "    </tr>\n",
       "    <tr>\n",
       "      <th>542</th>\n",
       "      <td>2</td>\n",
       "    </tr>\n",
       "    <tr>\n",
       "      <th>543</th>\n",
       "      <td>2</td>\n",
       "    </tr>\n",
       "    <tr>\n",
       "      <th>544</th>\n",
       "      <td>1</td>\n",
       "    </tr>\n",
       "  </tbody>\n",
       "</table>\n",
       "<p>545 rows × 1 columns</p>\n",
       "</div>"
      ],
      "text/plain": [
       "     恋爱状态\n",
       "0       0\n",
       "1       0\n",
       "2       1\n",
       "3       1\n",
       "4       0\n",
       "..    ...\n",
       "540     2\n",
       "541     1\n",
       "542     2\n",
       "543     2\n",
       "544     1\n",
       "\n",
       "[545 rows x 1 columns]"
      ]
     },
     "execution_count": 11,
     "metadata": {},
     "output_type": "execute_result"
    }
   ],
   "source": [
    "df_love"
   ]
  },
  {
   "cell_type": "code",
   "execution_count": 12,
   "metadata": {},
   "outputs": [],
   "source": [
    "oe_marri = OrdinalEncoder(categories=[['不会，打算单身','不会，但接受同居','不知道，顺其自然','有结婚打算']]) #结婚意愿为一个分类的指标\n",
    "oe_marriage = oe_marri.fit(np.array(df.loc[:,'结婚意愿']).reshape(-1,1))\n",
    "marriage_intent = oe_marriage.transform(np.array(df.loc[:,'结婚意愿']).reshape(-1,1)) #结婚意愿：0:不会，打算单身 1:不会，接受同居 2：不知道，顺其自然 3:打算结婚\n",
    "df_marriageintent = pd.DataFrame(marriage_intent)\n",
    "df_marriageintent.columns = ['结婚意愿']"
   ]
  },
  {
   "cell_type": "code",
   "execution_count": 13,
   "metadata": {},
   "outputs": [],
   "source": [
    "column_num = len(df.loc[:,'动漫':'游戏'].columns)\n",
    "cates1 = [\"不参与\",\"参与较少\",\"参与较多\",\"参与程度极高\"]\n",
    "oe_part = OrdinalEncoder(categories=[cates1]*column_num) #对圈层参与程度进行程度的等级化,此刻需要按照一定顺序\n",
    "oe_participate = oe_part.fit(df.loc[:,'动漫':'游戏'])\n",
    "participation = oe_participate.transform(df.loc[:,'动漫':'游戏'])  #0：不参与 1：参与较少 2：参与较多 3：参与程度极高\n",
    "df_participation = pd.DataFrame(participation)\n",
    "df_participation.columns = ['动漫','综艺','体育/电竞','明星','科技/数码','网文','游戏']"
   ]
  },
  {
   "cell_type": "code",
   "execution_count": 14,
   "metadata": {},
   "outputs": [],
   "source": [
    "column_num = len(df.loc[:,'微博':'短视频'].columns)\n",
    "cates2 = [\"完全不使用\",\"使用较少\",\"使用较多\",\"使用频率极高\"]\n",
    "oe_use = OrdinalEncoder(categories=[cates2]*column_num) #对APP使用程度进行程度的等级化,此刻需要按照一定顺序\n",
    "oe_usage = oe_use.fit(df.loc[:,'微博':'短视频'])\n",
    "usage = oe_usage.transform(df.loc[:,'微博':'短视频'])  #0：完全不使用 1：使用较少 2：使用较多 3：使用频率极高\n",
    "df_usage = pd.DataFrame(usage)\n",
    "df_usage.columns = ['微博','知乎','豆瓣','虎扑','百度贴吧','小红书','B站','短视频']"
   ]
  },
  {
   "cell_type": "code",
   "execution_count": 15,
   "metadata": {},
   "outputs": [],
   "source": [
    "column_num = len(df.loc[:,'朋友圈秀恩爱晒娃':'艺术作品'].columns)\n",
    "cates3 = [\"完全不影响\",\"影响较少\",\"影响较大\",\"影响极大\"]\n",
    "oe_influ = OrdinalEncoder(categories=[cates3]*column_num) #对受互联网影响程度进行程度的等级化,此刻需要按照一定顺序\n",
    "oe_influence = oe_influ.fit(df.loc[:,'朋友圈秀恩爱晒娃':'艺术作品'])\n",
    "influence = oe_influence.transform(df.loc[:,'朋友圈秀恩爱晒娃':'艺术作品'])  #0：完全不影响 1：影响较少 2：影响较大 3：影响极大\n",
    "df_influence = pd.DataFrame(influence)\n",
    "df_influence.columns = ['朋友圈秀恩爱晒娃','恋爱相亲育儿综艺','国家生育政策','专家教授发表看法','娱乐圈情感八卦','身边人经历','艺术作品']"
   ]
  },
  {
   "cell_type": "code",
   "execution_count": 16,
   "metadata": {},
   "outputs": [
    {
     "data": {
      "text/html": [
       "<div>\n",
       "<style scoped>\n",
       "    .dataframe tbody tr th:only-of-type {\n",
       "        vertical-align: middle;\n",
       "    }\n",
       "\n",
       "    .dataframe tbody tr th {\n",
       "        vertical-align: top;\n",
       "    }\n",
       "\n",
       "    .dataframe thead th {\n",
       "        text-align: right;\n",
       "    }\n",
       "</style>\n",
       "<table border=\"1\" class=\"dataframe\">\n",
       "  <thead>\n",
       "    <tr style=\"text-align: right;\">\n",
       "      <th></th>\n",
       "      <th>朋友圈秀恩爱晒娃</th>\n",
       "      <th>恋爱相亲育儿综艺</th>\n",
       "      <th>国家生育政策</th>\n",
       "      <th>专家教授发表看法</th>\n",
       "      <th>娱乐圈情感八卦</th>\n",
       "      <th>身边人经历</th>\n",
       "      <th>艺术作品</th>\n",
       "    </tr>\n",
       "  </thead>\n",
       "  <tbody>\n",
       "    <tr>\n",
       "      <th>0</th>\n",
       "      <td>2.0</td>\n",
       "      <td>0.0</td>\n",
       "      <td>1.0</td>\n",
       "      <td>1.0</td>\n",
       "      <td>1.0</td>\n",
       "      <td>3.0</td>\n",
       "      <td>2.0</td>\n",
       "    </tr>\n",
       "    <tr>\n",
       "      <th>1</th>\n",
       "      <td>2.0</td>\n",
       "      <td>1.0</td>\n",
       "      <td>1.0</td>\n",
       "      <td>0.0</td>\n",
       "      <td>0.0</td>\n",
       "      <td>2.0</td>\n",
       "      <td>1.0</td>\n",
       "    </tr>\n",
       "    <tr>\n",
       "      <th>2</th>\n",
       "      <td>1.0</td>\n",
       "      <td>0.0</td>\n",
       "      <td>2.0</td>\n",
       "      <td>0.0</td>\n",
       "      <td>0.0</td>\n",
       "      <td>2.0</td>\n",
       "      <td>0.0</td>\n",
       "    </tr>\n",
       "    <tr>\n",
       "      <th>3</th>\n",
       "      <td>1.0</td>\n",
       "      <td>1.0</td>\n",
       "      <td>0.0</td>\n",
       "      <td>0.0</td>\n",
       "      <td>0.0</td>\n",
       "      <td>1.0</td>\n",
       "      <td>0.0</td>\n",
       "    </tr>\n",
       "    <tr>\n",
       "      <th>4</th>\n",
       "      <td>0.0</td>\n",
       "      <td>0.0</td>\n",
       "      <td>3.0</td>\n",
       "      <td>0.0</td>\n",
       "      <td>0.0</td>\n",
       "      <td>2.0</td>\n",
       "      <td>0.0</td>\n",
       "    </tr>\n",
       "    <tr>\n",
       "      <th>...</th>\n",
       "      <td>...</td>\n",
       "      <td>...</td>\n",
       "      <td>...</td>\n",
       "      <td>...</td>\n",
       "      <td>...</td>\n",
       "      <td>...</td>\n",
       "      <td>...</td>\n",
       "    </tr>\n",
       "    <tr>\n",
       "      <th>540</th>\n",
       "      <td>0.0</td>\n",
       "      <td>0.0</td>\n",
       "      <td>0.0</td>\n",
       "      <td>0.0</td>\n",
       "      <td>0.0</td>\n",
       "      <td>0.0</td>\n",
       "      <td>0.0</td>\n",
       "    </tr>\n",
       "    <tr>\n",
       "      <th>541</th>\n",
       "      <td>1.0</td>\n",
       "      <td>1.0</td>\n",
       "      <td>3.0</td>\n",
       "      <td>1.0</td>\n",
       "      <td>1.0</td>\n",
       "      <td>2.0</td>\n",
       "      <td>2.0</td>\n",
       "    </tr>\n",
       "    <tr>\n",
       "      <th>542</th>\n",
       "      <td>0.0</td>\n",
       "      <td>0.0</td>\n",
       "      <td>1.0</td>\n",
       "      <td>0.0</td>\n",
       "      <td>1.0</td>\n",
       "      <td>2.0</td>\n",
       "      <td>1.0</td>\n",
       "    </tr>\n",
       "    <tr>\n",
       "      <th>543</th>\n",
       "      <td>1.0</td>\n",
       "      <td>0.0</td>\n",
       "      <td>0.0</td>\n",
       "      <td>0.0</td>\n",
       "      <td>0.0</td>\n",
       "      <td>2.0</td>\n",
       "      <td>1.0</td>\n",
       "    </tr>\n",
       "    <tr>\n",
       "      <th>544</th>\n",
       "      <td>2.0</td>\n",
       "      <td>0.0</td>\n",
       "      <td>1.0</td>\n",
       "      <td>0.0</td>\n",
       "      <td>0.0</td>\n",
       "      <td>2.0</td>\n",
       "      <td>2.0</td>\n",
       "    </tr>\n",
       "  </tbody>\n",
       "</table>\n",
       "<p>545 rows × 7 columns</p>\n",
       "</div>"
      ],
      "text/plain": [
       "     朋友圈秀恩爱晒娃  恋爱相亲育儿综艺  国家生育政策  专家教授发表看法  娱乐圈情感八卦  身边人经历  艺术作品\n",
       "0         2.0       0.0     1.0       1.0      1.0    3.0   2.0\n",
       "1         2.0       1.0     1.0       0.0      0.0    2.0   1.0\n",
       "2         1.0       0.0     2.0       0.0      0.0    2.0   0.0\n",
       "3         1.0       1.0     0.0       0.0      0.0    1.0   0.0\n",
       "4         0.0       0.0     3.0       0.0      0.0    2.0   0.0\n",
       "..        ...       ...     ...       ...      ...    ...   ...\n",
       "540       0.0       0.0     0.0       0.0      0.0    0.0   0.0\n",
       "541       1.0       1.0     3.0       1.0      1.0    2.0   2.0\n",
       "542       0.0       0.0     1.0       0.0      1.0    2.0   1.0\n",
       "543       1.0       0.0     0.0       0.0      0.0    2.0   1.0\n",
       "544       2.0       0.0     1.0       0.0      0.0    2.0   2.0\n",
       "\n",
       "[545 rows x 7 columns]"
      ]
     },
     "execution_count": 16,
     "metadata": {},
     "output_type": "execute_result"
    }
   ],
   "source": [
    "df_influence"
   ]
  },
  {
   "cell_type": "code",
   "execution_count": 17,
   "metadata": {},
   "outputs": [],
   "source": [
    "df_pro = pd.concat([df_y,df_sex,df_resid,df_ohe_love,df_marriageintent,df_inttime,df_participation,df_usage,df_influence],axis=1)"
   ]
  },
  {
   "cell_type": "code",
   "execution_count": 18,
   "metadata": {},
   "outputs": [
    {
     "data": {
      "text/html": [
       "<div>\n",
       "<style scoped>\n",
       "    .dataframe tbody tr th:only-of-type {\n",
       "        vertical-align: middle;\n",
       "    }\n",
       "\n",
       "    .dataframe tbody tr th {\n",
       "        vertical-align: top;\n",
       "    }\n",
       "\n",
       "    .dataframe thead th {\n",
       "        text-align: right;\n",
       "    }\n",
       "</style>\n",
       "<table border=\"1\" class=\"dataframe\">\n",
       "  <thead>\n",
       "    <tr style=\"text-align: right;\">\n",
       "      <th></th>\n",
       "      <th>恋爱次数</th>\n",
       "      <th>意愿子女数</th>\n",
       "      <th>理想子女数</th>\n",
       "      <th>理想儿子</th>\n",
       "      <th>理想女儿</th>\n",
       "      <th>性别</th>\n",
       "      <th>户口</th>\n",
       "      <th>单身无恋爱</th>\n",
       "      <th>单身想恋爱</th>\n",
       "      <th>恋爱中</th>\n",
       "      <th>...</th>\n",
       "      <th>小红书</th>\n",
       "      <th>B站</th>\n",
       "      <th>短视频</th>\n",
       "      <th>朋友圈秀恩爱晒娃</th>\n",
       "      <th>恋爱相亲育儿综艺</th>\n",
       "      <th>国家生育政策</th>\n",
       "      <th>专家教授发表看法</th>\n",
       "      <th>娱乐圈情感八卦</th>\n",
       "      <th>身边人经历</th>\n",
       "      <th>艺术作品</th>\n",
       "    </tr>\n",
       "  </thead>\n",
       "  <tbody>\n",
       "    <tr>\n",
       "      <th>0</th>\n",
       "      <td>3</td>\n",
       "      <td>2</td>\n",
       "      <td>2</td>\n",
       "      <td>1</td>\n",
       "      <td>1</td>\n",
       "      <td>1</td>\n",
       "      <td>1</td>\n",
       "      <td>1.0</td>\n",
       "      <td>0.0</td>\n",
       "      <td>0.0</td>\n",
       "      <td>...</td>\n",
       "      <td>1.0</td>\n",
       "      <td>3.0</td>\n",
       "      <td>0.0</td>\n",
       "      <td>2.0</td>\n",
       "      <td>0.0</td>\n",
       "      <td>1.0</td>\n",
       "      <td>1.0</td>\n",
       "      <td>1.0</td>\n",
       "      <td>3.0</td>\n",
       "      <td>2.0</td>\n",
       "    </tr>\n",
       "    <tr>\n",
       "      <th>1</th>\n",
       "      <td>0</td>\n",
       "      <td>1</td>\n",
       "      <td>1</td>\n",
       "      <td>0</td>\n",
       "      <td>1</td>\n",
       "      <td>1</td>\n",
       "      <td>1</td>\n",
       "      <td>1.0</td>\n",
       "      <td>0.0</td>\n",
       "      <td>0.0</td>\n",
       "      <td>...</td>\n",
       "      <td>1.0</td>\n",
       "      <td>1.0</td>\n",
       "      <td>0.0</td>\n",
       "      <td>2.0</td>\n",
       "      <td>1.0</td>\n",
       "      <td>1.0</td>\n",
       "      <td>0.0</td>\n",
       "      <td>0.0</td>\n",
       "      <td>2.0</td>\n",
       "      <td>1.0</td>\n",
       "    </tr>\n",
       "    <tr>\n",
       "      <th>2</th>\n",
       "      <td>1</td>\n",
       "      <td>2</td>\n",
       "      <td>1</td>\n",
       "      <td>0</td>\n",
       "      <td>1</td>\n",
       "      <td>1</td>\n",
       "      <td>1</td>\n",
       "      <td>0.0</td>\n",
       "      <td>1.0</td>\n",
       "      <td>0.0</td>\n",
       "      <td>...</td>\n",
       "      <td>0.0</td>\n",
       "      <td>3.0</td>\n",
       "      <td>1.0</td>\n",
       "      <td>1.0</td>\n",
       "      <td>0.0</td>\n",
       "      <td>2.0</td>\n",
       "      <td>0.0</td>\n",
       "      <td>0.0</td>\n",
       "      <td>2.0</td>\n",
       "      <td>0.0</td>\n",
       "    </tr>\n",
       "    <tr>\n",
       "      <th>3</th>\n",
       "      <td>3</td>\n",
       "      <td>2</td>\n",
       "      <td>2</td>\n",
       "      <td>1</td>\n",
       "      <td>1</td>\n",
       "      <td>1</td>\n",
       "      <td>1</td>\n",
       "      <td>0.0</td>\n",
       "      <td>1.0</td>\n",
       "      <td>0.0</td>\n",
       "      <td>...</td>\n",
       "      <td>1.0</td>\n",
       "      <td>3.0</td>\n",
       "      <td>0.0</td>\n",
       "      <td>1.0</td>\n",
       "      <td>1.0</td>\n",
       "      <td>0.0</td>\n",
       "      <td>0.0</td>\n",
       "      <td>0.0</td>\n",
       "      <td>1.0</td>\n",
       "      <td>0.0</td>\n",
       "    </tr>\n",
       "    <tr>\n",
       "      <th>4</th>\n",
       "      <td>1</td>\n",
       "      <td>0</td>\n",
       "      <td>0</td>\n",
       "      <td>0</td>\n",
       "      <td>0</td>\n",
       "      <td>0</td>\n",
       "      <td>1</td>\n",
       "      <td>1.0</td>\n",
       "      <td>0.0</td>\n",
       "      <td>0.0</td>\n",
       "      <td>...</td>\n",
       "      <td>3.0</td>\n",
       "      <td>3.0</td>\n",
       "      <td>0.0</td>\n",
       "      <td>0.0</td>\n",
       "      <td>0.0</td>\n",
       "      <td>3.0</td>\n",
       "      <td>0.0</td>\n",
       "      <td>0.0</td>\n",
       "      <td>2.0</td>\n",
       "      <td>0.0</td>\n",
       "    </tr>\n",
       "    <tr>\n",
       "      <th>...</th>\n",
       "      <td>...</td>\n",
       "      <td>...</td>\n",
       "      <td>...</td>\n",
       "      <td>...</td>\n",
       "      <td>...</td>\n",
       "      <td>...</td>\n",
       "      <td>...</td>\n",
       "      <td>...</td>\n",
       "      <td>...</td>\n",
       "      <td>...</td>\n",
       "      <td>...</td>\n",
       "      <td>...</td>\n",
       "      <td>...</td>\n",
       "      <td>...</td>\n",
       "      <td>...</td>\n",
       "      <td>...</td>\n",
       "      <td>...</td>\n",
       "      <td>...</td>\n",
       "      <td>...</td>\n",
       "      <td>...</td>\n",
       "      <td>...</td>\n",
       "    </tr>\n",
       "    <tr>\n",
       "      <th>540</th>\n",
       "      <td>2</td>\n",
       "      <td>1</td>\n",
       "      <td>0</td>\n",
       "      <td>0</td>\n",
       "      <td>0</td>\n",
       "      <td>1</td>\n",
       "      <td>0</td>\n",
       "      <td>0.0</td>\n",
       "      <td>0.0</td>\n",
       "      <td>1.0</td>\n",
       "      <td>...</td>\n",
       "      <td>0.0</td>\n",
       "      <td>2.0</td>\n",
       "      <td>0.0</td>\n",
       "      <td>0.0</td>\n",
       "      <td>0.0</td>\n",
       "      <td>0.0</td>\n",
       "      <td>0.0</td>\n",
       "      <td>0.0</td>\n",
       "      <td>0.0</td>\n",
       "      <td>0.0</td>\n",
       "    </tr>\n",
       "    <tr>\n",
       "      <th>541</th>\n",
       "      <td>2</td>\n",
       "      <td>0</td>\n",
       "      <td>0</td>\n",
       "      <td>0</td>\n",
       "      <td>0</td>\n",
       "      <td>1</td>\n",
       "      <td>1</td>\n",
       "      <td>0.0</td>\n",
       "      <td>1.0</td>\n",
       "      <td>0.0</td>\n",
       "      <td>...</td>\n",
       "      <td>0.0</td>\n",
       "      <td>3.0</td>\n",
       "      <td>0.0</td>\n",
       "      <td>1.0</td>\n",
       "      <td>1.0</td>\n",
       "      <td>3.0</td>\n",
       "      <td>1.0</td>\n",
       "      <td>1.0</td>\n",
       "      <td>2.0</td>\n",
       "      <td>2.0</td>\n",
       "    </tr>\n",
       "    <tr>\n",
       "      <th>542</th>\n",
       "      <td>2</td>\n",
       "      <td>1</td>\n",
       "      <td>2</td>\n",
       "      <td>1</td>\n",
       "      <td>1</td>\n",
       "      <td>1</td>\n",
       "      <td>1</td>\n",
       "      <td>0.0</td>\n",
       "      <td>0.0</td>\n",
       "      <td>1.0</td>\n",
       "      <td>...</td>\n",
       "      <td>2.0</td>\n",
       "      <td>3.0</td>\n",
       "      <td>1.0</td>\n",
       "      <td>0.0</td>\n",
       "      <td>0.0</td>\n",
       "      <td>1.0</td>\n",
       "      <td>0.0</td>\n",
       "      <td>1.0</td>\n",
       "      <td>2.0</td>\n",
       "      <td>1.0</td>\n",
       "    </tr>\n",
       "    <tr>\n",
       "      <th>543</th>\n",
       "      <td>1</td>\n",
       "      <td>1</td>\n",
       "      <td>1</td>\n",
       "      <td>0</td>\n",
       "      <td>1</td>\n",
       "      <td>1</td>\n",
       "      <td>0</td>\n",
       "      <td>0.0</td>\n",
       "      <td>0.0</td>\n",
       "      <td>1.0</td>\n",
       "      <td>...</td>\n",
       "      <td>0.0</td>\n",
       "      <td>2.0</td>\n",
       "      <td>1.0</td>\n",
       "      <td>1.0</td>\n",
       "      <td>0.0</td>\n",
       "      <td>0.0</td>\n",
       "      <td>0.0</td>\n",
       "      <td>0.0</td>\n",
       "      <td>2.0</td>\n",
       "      <td>1.0</td>\n",
       "    </tr>\n",
       "    <tr>\n",
       "      <th>544</th>\n",
       "      <td>1</td>\n",
       "      <td>1</td>\n",
       "      <td>2</td>\n",
       "      <td>1</td>\n",
       "      <td>1</td>\n",
       "      <td>1</td>\n",
       "      <td>1</td>\n",
       "      <td>0.0</td>\n",
       "      <td>1.0</td>\n",
       "      <td>0.0</td>\n",
       "      <td>...</td>\n",
       "      <td>1.0</td>\n",
       "      <td>3.0</td>\n",
       "      <td>1.0</td>\n",
       "      <td>2.0</td>\n",
       "      <td>0.0</td>\n",
       "      <td>1.0</td>\n",
       "      <td>0.0</td>\n",
       "      <td>0.0</td>\n",
       "      <td>2.0</td>\n",
       "      <td>2.0</td>\n",
       "    </tr>\n",
       "  </tbody>\n",
       "</table>\n",
       "<p>545 rows × 34 columns</p>\n",
       "</div>"
      ],
      "text/plain": [
       "     恋爱次数  意愿子女数  理想子女数  理想儿子  理想女儿  性别  户口  单身无恋爱  单身想恋爱  恋爱中  ...  小红书   B站  \\\n",
       "0       3      2      2     1     1   1   1    1.0    0.0  0.0  ...  1.0  3.0   \n",
       "1       0      1      1     0     1   1   1    1.0    0.0  0.0  ...  1.0  1.0   \n",
       "2       1      2      1     0     1   1   1    0.0    1.0  0.0  ...  0.0  3.0   \n",
       "3       3      2      2     1     1   1   1    0.0    1.0  0.0  ...  1.0  3.0   \n",
       "4       1      0      0     0     0   0   1    1.0    0.0  0.0  ...  3.0  3.0   \n",
       "..    ...    ...    ...   ...   ...  ..  ..    ...    ...  ...  ...  ...  ...   \n",
       "540     2      1      0     0     0   1   0    0.0    0.0  1.0  ...  0.0  2.0   \n",
       "541     2      0      0     0     0   1   1    0.0    1.0  0.0  ...  0.0  3.0   \n",
       "542     2      1      2     1     1   1   1    0.0    0.0  1.0  ...  2.0  3.0   \n",
       "543     1      1      1     0     1   1   0    0.0    0.0  1.0  ...  0.0  2.0   \n",
       "544     1      1      2     1     1   1   1    0.0    1.0  0.0  ...  1.0  3.0   \n",
       "\n",
       "     短视频  朋友圈秀恩爱晒娃  恋爱相亲育儿综艺  国家生育政策  专家教授发表看法  娱乐圈情感八卦  身边人经历  艺术作品  \n",
       "0    0.0       2.0       0.0     1.0       1.0      1.0    3.0   2.0  \n",
       "1    0.0       2.0       1.0     1.0       0.0      0.0    2.0   1.0  \n",
       "2    1.0       1.0       0.0     2.0       0.0      0.0    2.0   0.0  \n",
       "3    0.0       1.0       1.0     0.0       0.0      0.0    1.0   0.0  \n",
       "4    0.0       0.0       0.0     3.0       0.0      0.0    2.0   0.0  \n",
       "..   ...       ...       ...     ...       ...      ...    ...   ...  \n",
       "540  0.0       0.0       0.0     0.0       0.0      0.0    0.0   0.0  \n",
       "541  0.0       1.0       1.0     3.0       1.0      1.0    2.0   2.0  \n",
       "542  1.0       0.0       0.0     1.0       0.0      1.0    2.0   1.0  \n",
       "543  1.0       1.0       0.0     0.0       0.0      0.0    2.0   1.0  \n",
       "544  1.0       2.0       0.0     1.0       0.0      0.0    2.0   2.0  \n",
       "\n",
       "[545 rows x 34 columns]"
      ]
     },
     "execution_count": 18,
     "metadata": {},
     "output_type": "execute_result"
    }
   ],
   "source": [
    "df_pro"
   ]
  },
  {
   "cell_type": "code",
   "execution_count": 19,
   "metadata": {},
   "outputs": [
    {
     "data": {
      "text/plain": [
       "恋爱次数          int32\n",
       "意愿子女数         int32\n",
       "理想子女数         int32\n",
       "理想儿子          int32\n",
       "理想女儿          int32\n",
       "性别            int32\n",
       "户口            int32\n",
       "单身无恋爱       float64\n",
       "单身想恋爱       float64\n",
       "恋爱中         float64\n",
       "结婚意愿        float64\n",
       "上网时长          int32\n",
       "动漫          float64\n",
       "综艺          float64\n",
       "体育/电竞       float64\n",
       "明星          float64\n",
       "科技/数码       float64\n",
       "网文          float64\n",
       "游戏          float64\n",
       "微博          float64\n",
       "知乎          float64\n",
       "豆瓣          float64\n",
       "虎扑          float64\n",
       "百度贴吧        float64\n",
       "小红书         float64\n",
       "B站          float64\n",
       "短视频         float64\n",
       "朋友圈秀恩爱晒娃    float64\n",
       "恋爱相亲育儿综艺    float64\n",
       "国家生育政策      float64\n",
       "专家教授发表看法    float64\n",
       "娱乐圈情感八卦     float64\n",
       "身边人经历       float64\n",
       "艺术作品        float64\n",
       "dtype: object"
      ]
     },
     "execution_count": 19,
     "metadata": {},
     "output_type": "execute_result"
    }
   ],
   "source": [
    "df_pro.dtypes #查看每个字段的类型"
   ]
  },
  {
   "attachments": {},
   "cell_type": "markdown",
   "metadata": {},
   "source": [
    "### 分析男女性别差异抽样"
   ]
  },
  {
   "cell_type": "code",
   "execution_count": 20,
   "metadata": {},
   "outputs": [],
   "source": [
    "#单拎出男性与女性的数据用于分析性别差异\n",
    "df_male = df_pro[df_pro['性别']==1]\n",
    "df_female = df_pro[df_pro['性别']==0]\n",
    "df_male = df_male.reset_index(drop = True)\n",
    "df_female = df_female.reset_index(drop = True)\n",
    "\n",
    "#对男性与女性进行抽样，保证样本的平衡性\n",
    "import random\n",
    "index_choice_male = random.sample(list(df_male.index.values),200)\n",
    "index_choice_female = random.sample(list(df_female.index.values),200)\n",
    "df_male_chose = df_male.iloc[index_choice_male,:]\n",
    "df_female_chose = df_female.iloc[index_choice_female,:]\n",
    "df_male_chose = df_male_chose.reset_index(drop = True) #抽样后重新设定Index\n",
    "df_female_chose = df_female_chose.reset_index(drop = True)"
   ]
  },
  {
   "attachments": {},
   "cell_type": "markdown",
   "metadata": {},
   "source": [
    "### 取出要研究的特征与标签"
   ]
  },
  {
   "cell_type": "code",
   "execution_count": 21,
   "metadata": {},
   "outputs": [],
   "source": [
    "#先探究整体的情况。取出圈层、APP使用情况与互联网受影响因素的特征\n",
    "df_circle = df_pro.loc[:,'动漫':'游戏']\n",
    "df_app = df_pro.loc[:,'微博':'短视频']\n",
    "df_exposure = df_pro.loc[:,'朋友圈秀恩爱晒娃':'艺术作品']\n",
    "df_sex = df_pro.loc[:,'性别']\n",
    "df_resid = df_pro.loc[:,'户口']\n",
    "df_love = df_pro.loc[:,'单身无恋爱':'恋爱中']\n",
    "df_age = df.loc[:,'年龄']\n",
    "df_lovetime = df.loc[:,'恋爱次数']\n",
    "\n",
    "#取出结婚意愿作为Label\n",
    "label_time = df_pro.loc[:,'恋爱次数']\n",
    "label_marry = df_pro.loc[:,'结婚意愿']\n",
    "label_idealchild = df_pro.loc[:,'理想子女数']\n",
    "label_desirechild = df_pro.loc[:,'意愿子女数']"
   ]
  },
  {
   "cell_type": "code",
   "execution_count": 22,
   "metadata": {},
   "outputs": [],
   "source": [
    "#对于抽样出的男性与女性，同样取出特征与标签\n",
    "df_circle_male = df_male_chose.loc[:,'动漫':'游戏']\n",
    "df_app_male = df_male_chose.loc[:,'微博':'短视频']\n",
    "df_exposure_male = df_male_chose.loc[:,'朋友圈秀恩爱晒娃':'艺术作品']\n",
    "label_marry_male = df_male_chose.loc[:,'结婚意愿']\n",
    "label_idealchild_male = df_male_chose.loc[:,'理想子女数']\n",
    "label_desirechild_male = df_male_chose.loc[:,'意愿子女数']\n",
    "\n",
    "df_circle_female = df_female_chose.loc[:,'动漫':'游戏']\n",
    "df_app_female = df_female_chose.loc[:,'微博':'短视频']\n",
    "df_exposure_female = df_female_chose.loc[:,'朋友圈秀恩爱晒娃':'艺术作品']\n",
    "label_marry_female = df_female_chose.loc[:,'结婚意愿']\n",
    "label_idealchild_female = df_female_chose.loc[:,'理想子女数']\n",
    "label_desirechild_female = df_female_chose.loc[:,'意愿子女数']"
   ]
  },
  {
   "attachments": {},
   "cell_type": "markdown",
   "metadata": {},
   "source": [
    "### 将所有信息整合起来的聚类"
   ]
  },
  {
   "cell_type": "code",
   "execution_count": 23,
   "metadata": {},
   "outputs": [],
   "source": [
    "from sklearn.cluster import KMeans"
   ]
  },
  {
   "cell_type": "code",
   "execution_count": 24,
   "metadata": {},
   "outputs": [],
   "source": [
    "df_cluster = pd.concat([df_sex,df_age,df_resid,df_love,df_circle,df_app,df_exposure],axis=1)  "
   ]
  },
  {
   "cell_type": "code",
   "execution_count": 25,
   "metadata": {},
   "outputs": [
    {
     "name": "stderr",
     "output_type": "stream",
     "text": [
      "C:\\Users\\24561\\AppData\\Roaming\\Python\\Python39\\site-packages\\sklearn\\cluster\\_kmeans.py:1334: UserWarning: KMeans is known to have a memory leak on Windows with MKL, when there are less chunks than available threads. You can avoid it by setting the environment variable OMP_NUM_THREADS=3.\n",
      "  warnings.warn(\n"
     ]
    }
   ],
   "source": [
    "n_cluster = 5  #聚类的簇数\n",
    "cluster = KMeans(n_clusters=n_cluster,random_state=63)\n",
    "cluster_f = cluster.fit(df_cluster)\n",
    "\n",
    "ypred = cluster_f.labels_  #返回每个样本所返回的标签\n",
    "ypred = pd.DataFrame(ypred)\n",
    "ypred.columns = ['聚类所在簇']"
   ]
  },
  {
   "cell_type": "code",
   "execution_count": 26,
   "metadata": {},
   "outputs": [
    {
     "name": "stdout",
     "output_type": "stream",
     "text": [
      "<bound method _BaseKMeans.score of KMeans(n_clusters=5, random_state=63)>\n"
     ]
    }
   ],
   "source": [
    "print(cluster_f.score)"
   ]
  },
  {
   "cell_type": "code",
   "execution_count": null,
   "metadata": {},
   "outputs": [],
   "source": [
    "df_res = pd.concat([ypred,df_marriageintent,df_y],axis=1)\n",
    "df_res.columns = ['聚类所在簇','结婚意愿','恋爱次数','意愿子女数','理想子女数']"
   ]
  },
  {
   "cell_type": "code",
   "execution_count": 83,
   "metadata": {},
   "outputs": [
    {
     "data": {
      "text/html": [
       "<div>\n",
       "<style scoped>\n",
       "    .dataframe tbody tr th:only-of-type {\n",
       "        vertical-align: middle;\n",
       "    }\n",
       "\n",
       "    .dataframe tbody tr th {\n",
       "        vertical-align: top;\n",
       "    }\n",
       "\n",
       "    .dataframe thead th {\n",
       "        text-align: right;\n",
       "    }\n",
       "</style>\n",
       "<table border=\"1\" class=\"dataframe\">\n",
       "  <thead>\n",
       "    <tr style=\"text-align: right;\">\n",
       "      <th></th>\n",
       "      <th>聚类所在簇</th>\n",
       "      <th>结婚意愿</th>\n",
       "      <th>恋爱次数</th>\n",
       "      <th>意愿子女数</th>\n",
       "      <th>理想子女数</th>\n",
       "    </tr>\n",
       "  </thead>\n",
       "  <tbody>\n",
       "    <tr>\n",
       "      <th>0</th>\n",
       "      <td>2</td>\n",
       "      <td>2.0</td>\n",
       "      <td>3</td>\n",
       "      <td>2</td>\n",
       "      <td>2</td>\n",
       "    </tr>\n",
       "    <tr>\n",
       "      <th>1</th>\n",
       "      <td>2</td>\n",
       "      <td>2.0</td>\n",
       "      <td>0</td>\n",
       "      <td>1</td>\n",
       "      <td>1</td>\n",
       "    </tr>\n",
       "    <tr>\n",
       "      <th>2</th>\n",
       "      <td>4</td>\n",
       "      <td>3.0</td>\n",
       "      <td>1</td>\n",
       "      <td>2</td>\n",
       "      <td>1</td>\n",
       "    </tr>\n",
       "    <tr>\n",
       "      <th>3</th>\n",
       "      <td>4</td>\n",
       "      <td>3.0</td>\n",
       "      <td>3</td>\n",
       "      <td>2</td>\n",
       "      <td>2</td>\n",
       "    </tr>\n",
       "    <tr>\n",
       "      <th>4</th>\n",
       "      <td>2</td>\n",
       "      <td>2.0</td>\n",
       "      <td>1</td>\n",
       "      <td>0</td>\n",
       "      <td>0</td>\n",
       "    </tr>\n",
       "    <tr>\n",
       "      <th>...</th>\n",
       "      <td>...</td>\n",
       "      <td>...</td>\n",
       "      <td>...</td>\n",
       "      <td>...</td>\n",
       "      <td>...</td>\n",
       "    </tr>\n",
       "    <tr>\n",
       "      <th>540</th>\n",
       "      <td>4</td>\n",
       "      <td>3.0</td>\n",
       "      <td>2</td>\n",
       "      <td>1</td>\n",
       "      <td>0</td>\n",
       "    </tr>\n",
       "    <tr>\n",
       "      <th>541</th>\n",
       "      <td>1</td>\n",
       "      <td>3.0</td>\n",
       "      <td>2</td>\n",
       "      <td>0</td>\n",
       "      <td>0</td>\n",
       "    </tr>\n",
       "    <tr>\n",
       "      <th>542</th>\n",
       "      <td>2</td>\n",
       "      <td>3.0</td>\n",
       "      <td>2</td>\n",
       "      <td>1</td>\n",
       "      <td>2</td>\n",
       "    </tr>\n",
       "    <tr>\n",
       "      <th>543</th>\n",
       "      <td>4</td>\n",
       "      <td>3.0</td>\n",
       "      <td>1</td>\n",
       "      <td>1</td>\n",
       "      <td>1</td>\n",
       "    </tr>\n",
       "    <tr>\n",
       "      <th>544</th>\n",
       "      <td>4</td>\n",
       "      <td>1.0</td>\n",
       "      <td>1</td>\n",
       "      <td>1</td>\n",
       "      <td>2</td>\n",
       "    </tr>\n",
       "  </tbody>\n",
       "</table>\n",
       "<p>545 rows × 5 columns</p>\n",
       "</div>"
      ],
      "text/plain": [
       "     聚类所在簇  结婚意愿  恋爱次数  意愿子女数  理想子女数\n",
       "0        2   2.0     3      2      2\n",
       "1        2   2.0     0      1      1\n",
       "2        4   3.0     1      2      1\n",
       "3        4   3.0     3      2      2\n",
       "4        2   2.0     1      0      0\n",
       "..     ...   ...   ...    ...    ...\n",
       "540      4   3.0     2      1      0\n",
       "541      1   3.0     2      0      0\n",
       "542      2   3.0     2      1      2\n",
       "543      4   3.0     1      1      1\n",
       "544      4   1.0     1      1      2\n",
       "\n",
       "[545 rows x 5 columns]"
      ]
     },
     "execution_count": 83,
     "metadata": {},
     "output_type": "execute_result"
    }
   ],
   "source": [
    "df_res"
   ]
  },
  {
   "cell_type": "code",
   "execution_count": 84,
   "metadata": {},
   "outputs": [],
   "source": [
    "df_clu0 = df_res[df_res['聚类所在簇']==0]\n",
    "df_clu1 = df_res[df_res['聚类所在簇']==1]\n",
    "df_clu2 = df_res[df_res['聚类所在簇']==2]\n",
    "df_clu4 = df_res[df_res['聚类所在簇']==4]\n",
    "#第三个簇的样本数过小，仅有3个，故在这里直接抛去"
   ]
  },
  {
   "cell_type": "code",
   "execution_count": 85,
   "metadata": {},
   "outputs": [],
   "source": [
    "df_mean0 = df_clu0.mean(axis=0)\n",
    "df_mean1 = df_clu1.mean(axis=0)\n",
    "df_mean2 = df_clu2.mean(axis=0)\n",
    "df_mean4 = df_clu4.mean(axis=0)"
   ]
  },
  {
   "cell_type": "code",
   "execution_count": 86,
   "metadata": {},
   "outputs": [
    {
     "data": {
      "text/plain": [
       "聚类所在簇    0.00000\n",
       "结婚意愿     2.43750\n",
       "恋爱次数     2.15625\n",
       "意愿子女数    1.09375\n",
       "理想子女数    1.59375\n",
       "dtype: float64"
      ]
     },
     "execution_count": 86,
     "metadata": {},
     "output_type": "execute_result"
    }
   ],
   "source": [
    "df_mean0"
   ]
  },
  {
   "cell_type": "code",
   "execution_count": 87,
   "metadata": {},
   "outputs": [],
   "source": [
    "#发现效果并不好\n",
    "marrintent_clu = [df_mean0[1],df_mean1[1],df_mean2[1],df_mean4[1]]\n",
    "lovetime_clu = [df_mean0[2],df_mean1[2],df_mean2[2],df_mean4[2]]\n",
    "desirechild_clu = [df_mean0[3],df_mean1[3],df_mean2[3],df_mean4[3]]\n",
    "idealchild_clu = [df_mean0[4],df_mean1[4],df_mean2[4],df_mean4[4]]"
   ]
  },
  {
   "cell_type": "code",
   "execution_count": 88,
   "metadata": {},
   "outputs": [
    {
     "name": "stdout",
     "output_type": "stream",
     "text": [
      "[2.4375, 2.366336633663366, 2.13986013986014, 2.2109375]\n",
      "[2.15625, 1.495049504950495, 1.3216783216783217, 1.2265625]\n",
      "[1.09375, 1.3465346534653466, 0.9790209790209791, 1.1640625]\n",
      "[1.59375, 1.603960396039604, 1.4685314685314685, 1.59375]\n"
     ]
    }
   ],
   "source": [
    "print(marrintent_clu)\n",
    "print(lovetime_clu)\n",
    "print(desirechild_clu)\n",
    "print(idealchild_clu)"
   ]
  },
  {
   "attachments": {},
   "cell_type": "markdown",
   "metadata": {},
   "source": [
    "### 将年龄、性别、恋爱次数、圈层和APP使用作为因素聚类"
   ]
  },
  {
   "cell_type": "code",
   "execution_count": 89,
   "metadata": {},
   "outputs": [],
   "source": [
    "df_cluster2 = pd.concat([df_sex,df_age,df_lovetime,df_circle,df_app],axis=1)  "
   ]
  },
  {
   "cell_type": "code",
   "execution_count": 90,
   "metadata": {},
   "outputs": [
    {
     "name": "stderr",
     "output_type": "stream",
     "text": [
      "C:\\Users\\24561\\AppData\\Roaming\\Python\\Python39\\site-packages\\sklearn\\cluster\\_kmeans.py:1334: UserWarning: KMeans is known to have a memory leak on Windows with MKL, when there are less chunks than available threads. You can avoid it by setting the environment variable OMP_NUM_THREADS=3.\n",
      "  warnings.warn(\n"
     ]
    }
   ],
   "source": [
    "n_cluster = 4  #聚类的簇数\n",
    "cluster2 = KMeans(n_clusters=n_cluster,random_state=63)\n",
    "cluster_f = cluster2.fit(df_cluster2)\n",
    "\n",
    "ypred2 = cluster_f.labels_  #返回每个样本所返回的标签\n",
    "ypred2 = pd.DataFrame(ypred2)\n",
    "ypred2.columns = ['聚类所在簇']"
   ]
  },
  {
   "cell_type": "code",
   "execution_count": 91,
   "metadata": {},
   "outputs": [],
   "source": [
    "df_res2 = pd.concat([ypred2,df_marriageintent,df_child],axis=1)\n",
    "df_res2.columns = ['聚类所在簇','结婚意愿','意愿子女数','理想子女数']\n",
    "\n",
    "df_clu0 = df_res2[df_res2['聚类所在簇']==0]\n",
    "df_clu1 = df_res2[df_res2['聚类所在簇']==1]\n",
    "df_clu2 = df_res2[df_res2['聚类所在簇']==2]\n",
    "df_clu3 = df_res2[df_res2['聚类所在簇']==3]\n",
    "\n",
    "df_mean0 = df_clu0.mean(axis=0)\n",
    "df_mean1 = df_clu1.mean(axis=0)\n",
    "df_mean2 = df_clu2.mean(axis=0)\n",
    "df_mean3 = df_clu3.mean(axis=0)\n",
    "\n",
    "marrintent_clu = [df_mean0[1],df_mean1[1],df_mean2[1],df_mean3[1]]\n",
    "desirechild_clu = [df_mean0[2],df_mean1[2],df_mean2[2],df_mean3[2]]\n",
    "idealchild_clu = [df_mean0[3],df_mean1[3],df_mean2[3],df_mean3[3]]"
   ]
  },
  {
   "cell_type": "code",
   "execution_count": 92,
   "metadata": {},
   "outputs": [
    {
     "name": "stdout",
     "output_type": "stream",
     "text": [
      "[2.201492537313433, 2.160839160839161, 2.1481481481481484, 2.3544303797468356]\n",
      "[1.2388059701492538, 1.0, 1.1216931216931216, 1.1772151898734178]\n",
      "[1.6044776119402986, 1.4615384615384615, 1.4973544973544974, 1.6329113924050633]\n"
     ]
    }
   ],
   "source": [
    "print(marrintent_clu)\n",
    "print(desirechild_clu)\n",
    "print(idealchild_clu)"
   ]
  },
  {
   "attachments": {},
   "cell_type": "markdown",
   "metadata": {},
   "source": [
    "#### 将圈层和APP使用作为因素聚类"
   ]
  },
  {
   "cell_type": "code",
   "execution_count": 29,
   "metadata": {},
   "outputs": [],
   "source": [
    "df_cluster3 = pd.concat([df_inttime,df_lovetime,df_circle,df_app],axis=1)  "
   ]
  },
  {
   "cell_type": "code",
   "execution_count": 30,
   "metadata": {},
   "outputs": [
    {
     "name": "stderr",
     "output_type": "stream",
     "text": [
      "C:\\Users\\24561\\AppData\\Roaming\\Python\\Python39\\site-packages\\sklearn\\cluster\\_kmeans.py:1334: UserWarning: KMeans is known to have a memory leak on Windows with MKL, when there are less chunks than available threads. You can avoid it by setting the environment variable OMP_NUM_THREADS=3.\n",
      "  warnings.warn(\n"
     ]
    }
   ],
   "source": [
    "n_cluster = 4  #聚类的簇数\n",
    "cluster3 = KMeans(n_clusters=n_cluster,random_state=63)\n",
    "cluster_f = cluster3.fit(df_cluster3)\n",
    "\n",
    "ypred3 = cluster_f.labels_  #返回每个样本所返回的标签\n",
    "ypred3 = pd.DataFrame(ypred3)\n",
    "ypred3.columns = ['聚类所在簇']"
   ]
  },
  {
   "cell_type": "code",
   "execution_count": 31,
   "metadata": {},
   "outputs": [],
   "source": [
    "df_res3 = pd.concat([ypred3,df_lovetime,df_marriageintent,df_child,df_sex],axis=1)\n",
    "df_res3.columns = ['聚类所在簇','恋爱次数','结婚意愿','意愿子女数','理想子女数','理想儿子','理想女儿','性别']\n",
    "\n",
    "df_clu0 = df_res3[df_res3['聚类所在簇']==0]\n",
    "df_clu1 = df_res3[df_res3['聚类所在簇']==1]\n",
    "df_clu2 = df_res3[df_res3['聚类所在簇']==2]\n",
    "df_clu3 = df_res3[df_res3['聚类所在簇']==3]\n",
    "\n",
    "df_mean0 = df_clu0.mean(axis=0)\n",
    "df_mean1 = df_clu1.mean(axis=0)\n",
    "df_mean2 = df_clu2.mean(axis=0)\n",
    "df_mean3 = df_clu3.mean(axis=0)\n",
    "\n",
    "df_clu0_sex = df_clu0.loc[:,'性别']\n",
    "df_clu1_sex = df_clu1.loc[:,'性别']\n",
    "df_clu2_sex = df_clu2.loc[:,'性别']\n",
    "df_clu3_sex = df_clu3.loc[:,'性别']\n",
    "\n",
    "lovetime_clu = [df_mean0[1],df_mean1[1],df_mean2[1],df_mean3[1]]\n",
    "marrintent_clu = [df_mean0[2],df_mean1[2],df_mean2[2],df_mean3[2]]\n",
    "desirechild_clu = [df_mean0[3],df_mean1[3],df_mean2[3],df_mean3[3]]\n",
    "idealchild_clu = [df_mean0[4],df_mean1[4],df_mean2[4],df_mean3[4]]\n",
    "idealboy_clu = [df_mean0[5],df_mean1[5],df_mean2[5],df_mean3[5]]\n",
    "idealgirl_clu = [df_mean0[6],df_mean1[6],df_mean2[6],df_mean3[6]]"
   ]
  },
  {
   "cell_type": "code",
   "execution_count": 32,
   "metadata": {},
   "outputs": [
    {
     "data": {
      "text/html": [
       "<div>\n",
       "<style scoped>\n",
       "    .dataframe tbody tr th:only-of-type {\n",
       "        vertical-align: middle;\n",
       "    }\n",
       "\n",
       "    .dataframe tbody tr th {\n",
       "        vertical-align: top;\n",
       "    }\n",
       "\n",
       "    .dataframe thead th {\n",
       "        text-align: right;\n",
       "    }\n",
       "</style>\n",
       "<table border=\"1\" class=\"dataframe\">\n",
       "  <thead>\n",
       "    <tr style=\"text-align: right;\">\n",
       "      <th></th>\n",
       "      <th>聚类所在簇</th>\n",
       "      <th>恋爱次数</th>\n",
       "      <th>结婚意愿</th>\n",
       "      <th>意愿子女数</th>\n",
       "      <th>理想子女数</th>\n",
       "      <th>理想儿子</th>\n",
       "      <th>理想女儿</th>\n",
       "      <th>性别</th>\n",
       "    </tr>\n",
       "  </thead>\n",
       "  <tbody>\n",
       "    <tr>\n",
       "      <th>0</th>\n",
       "      <td>3</td>\n",
       "      <td>3</td>\n",
       "      <td>2.0</td>\n",
       "      <td>2</td>\n",
       "      <td>2</td>\n",
       "      <td>1</td>\n",
       "      <td>1</td>\n",
       "      <td>1</td>\n",
       "    </tr>\n",
       "    <tr>\n",
       "      <th>7</th>\n",
       "      <td>3</td>\n",
       "      <td>1</td>\n",
       "      <td>1.0</td>\n",
       "      <td>0</td>\n",
       "      <td>0</td>\n",
       "      <td>0</td>\n",
       "      <td>0</td>\n",
       "      <td>1</td>\n",
       "    </tr>\n",
       "    <tr>\n",
       "      <th>10</th>\n",
       "      <td>3</td>\n",
       "      <td>2</td>\n",
       "      <td>3.0</td>\n",
       "      <td>1</td>\n",
       "      <td>1</td>\n",
       "      <td>1</td>\n",
       "      <td>1</td>\n",
       "      <td>1</td>\n",
       "    </tr>\n",
       "    <tr>\n",
       "      <th>13</th>\n",
       "      <td>3</td>\n",
       "      <td>1</td>\n",
       "      <td>3.0</td>\n",
       "      <td>2</td>\n",
       "      <td>4</td>\n",
       "      <td>1</td>\n",
       "      <td>1</td>\n",
       "      <td>0</td>\n",
       "    </tr>\n",
       "    <tr>\n",
       "      <th>15</th>\n",
       "      <td>3</td>\n",
       "      <td>1</td>\n",
       "      <td>2.0</td>\n",
       "      <td>1</td>\n",
       "      <td>2</td>\n",
       "      <td>0</td>\n",
       "      <td>2</td>\n",
       "      <td>1</td>\n",
       "    </tr>\n",
       "    <tr>\n",
       "      <th>...</th>\n",
       "      <td>...</td>\n",
       "      <td>...</td>\n",
       "      <td>...</td>\n",
       "      <td>...</td>\n",
       "      <td>...</td>\n",
       "      <td>...</td>\n",
       "      <td>...</td>\n",
       "      <td>...</td>\n",
       "    </tr>\n",
       "    <tr>\n",
       "      <th>520</th>\n",
       "      <td>3</td>\n",
       "      <td>4</td>\n",
       "      <td>2.0</td>\n",
       "      <td>2</td>\n",
       "      <td>2</td>\n",
       "      <td>1</td>\n",
       "      <td>1</td>\n",
       "      <td>0</td>\n",
       "    </tr>\n",
       "    <tr>\n",
       "      <th>533</th>\n",
       "      <td>3</td>\n",
       "      <td>4</td>\n",
       "      <td>2.0</td>\n",
       "      <td>1</td>\n",
       "      <td>2</td>\n",
       "      <td>3</td>\n",
       "      <td>3</td>\n",
       "      <td>1</td>\n",
       "    </tr>\n",
       "    <tr>\n",
       "      <th>535</th>\n",
       "      <td>3</td>\n",
       "      <td>1</td>\n",
       "      <td>1.0</td>\n",
       "      <td>0</td>\n",
       "      <td>0</td>\n",
       "      <td>0</td>\n",
       "      <td>0</td>\n",
       "      <td>0</td>\n",
       "    </tr>\n",
       "    <tr>\n",
       "      <th>539</th>\n",
       "      <td>3</td>\n",
       "      <td>0</td>\n",
       "      <td>3.0</td>\n",
       "      <td>1</td>\n",
       "      <td>2</td>\n",
       "      <td>1</td>\n",
       "      <td>1</td>\n",
       "      <td>1</td>\n",
       "    </tr>\n",
       "    <tr>\n",
       "      <th>542</th>\n",
       "      <td>3</td>\n",
       "      <td>2</td>\n",
       "      <td>3.0</td>\n",
       "      <td>1</td>\n",
       "      <td>2</td>\n",
       "      <td>1</td>\n",
       "      <td>1</td>\n",
       "      <td>1</td>\n",
       "    </tr>\n",
       "  </tbody>\n",
       "</table>\n",
       "<p>146 rows × 8 columns</p>\n",
       "</div>"
      ],
      "text/plain": [
       "     聚类所在簇  恋爱次数  结婚意愿  意愿子女数  理想子女数  理想儿子  理想女儿  性别\n",
       "0        3     3   2.0      2      2     1     1   1\n",
       "7        3     1   1.0      0      0     0     0   1\n",
       "10       3     2   3.0      1      1     1     1   1\n",
       "13       3     1   3.0      2      4     1     1   0\n",
       "15       3     1   2.0      1      2     0     2   1\n",
       "..     ...   ...   ...    ...    ...   ...   ...  ..\n",
       "520      3     4   2.0      2      2     1     1   0\n",
       "533      3     4   2.0      1      2     3     3   1\n",
       "535      3     1   1.0      0      0     0     0   0\n",
       "539      3     0   3.0      1      2     1     1   1\n",
       "542      3     2   3.0      1      2     1     1   1\n",
       "\n",
       "[146 rows x 8 columns]"
      ]
     },
     "execution_count": 32,
     "metadata": {},
     "output_type": "execute_result"
    }
   ],
   "source": [
    "df_clu3"
   ]
  },
  {
   "cell_type": "code",
   "execution_count": 33,
   "metadata": {},
   "outputs": [
    {
     "name": "stdout",
     "output_type": "stream",
     "text": [
      "[1.617391304347826, 0.8035714285714286, 1.1810344827586208, 1.547945205479452]\n",
      "[2.2956521739130435, 2.1726190476190474, 1.9913793103448276, 2.3013698630136985]\n",
      "[1.208695652173913, 1.1607142857142858, 1.043103448275862, 1.0890410958904109]\n",
      "[1.6521739130434783, 1.5773809523809523, 1.3879310344827587, 1.5068493150684932]\n",
      "[0.8347826086956521, 0.7738095238095238, 0.6896551724137931, 0.726027397260274]\n",
      "[0.9217391304347826, 0.9226190476190477, 0.7931034482758621, 0.9246575342465754]\n"
     ]
    }
   ],
   "source": [
    "print(lovetime_clu)\n",
    "print(marrintent_clu)\n",
    "print(desirechild_clu)\n",
    "print(idealchild_clu)\n",
    "print(idealboy_clu)\n",
    "print(idealgirl_clu)"
   ]
  },
  {
   "cell_type": "code",
   "execution_count": 34,
   "metadata": {},
   "outputs": [],
   "source": [
    "df_factor3 = pd.concat([ypred3,df_inttime,df_circle,df_app],axis=1)\n",
    "df_factor3.columns = ['聚类所在簇','上网时长','动漫','综艺','体育/电竞','明星','科技/数码','网文','游戏','微博','知乎','豆瓣','虎扑','百度贴吧','小红书','B站','短视频']\n",
    "\n",
    "df_clu0_factor = df_factor3[df_factor3['聚类所在簇']==0]\n",
    "df_clu1_factor = df_factor3[df_factor3['聚类所在簇']==1]\n",
    "df_clu2_factor = df_factor3[df_factor3['聚类所在簇']==2]\n",
    "df_clu3_factor = df_factor3[df_factor3['聚类所在簇']==3]\n",
    "\n",
    "df_mean0_factor = df_clu0_factor.mean(axis=0)[1:]\n",
    "df_mean1_factor = df_clu1_factor.mean(axis=0)[1:]\n",
    "df_mean2_factor = df_clu2_factor.mean(axis=0)[1:]\n",
    "df_mean3_factor = df_clu3_factor.mean(axis=0)[1:]"
   ]
  },
  {
   "cell_type": "code",
   "execution_count": 36,
   "metadata": {},
   "outputs": [
    {
     "data": {
      "text/plain": [
       "上网时长     2.217391\n",
       "动漫       0.634783\n",
       "综艺       0.278261\n",
       "体育/电竞    0.939130\n",
       "明星       0.313043\n",
       "科技/数码    0.982609\n",
       "网文       0.321739\n",
       "游戏       0.965217\n",
       "微博       0.747826\n",
       "知乎       1.113043\n",
       "豆瓣       0.400000\n",
       "虎扑       0.286957\n",
       "百度贴吧     0.295652\n",
       "小红书      0.756522\n",
       "B站       2.095652\n",
       "短视频      0.521739\n",
       "dtype: float64"
      ]
     },
     "execution_count": 36,
     "metadata": {},
     "output_type": "execute_result"
    }
   ],
   "source": [
    "df_mean0_factor"
   ]
  },
  {
   "cell_type": "code",
   "execution_count": 37,
   "metadata": {},
   "outputs": [
    {
     "data": {
      "text/plain": [
       "上网时长     3.666667\n",
       "动漫       1.761905\n",
       "综艺       0.607143\n",
       "体育/电竞    1.648810\n",
       "明星       0.434524\n",
       "科技/数码    1.553571\n",
       "网文       1.023810\n",
       "游戏       2.196429\n",
       "微博       0.750000\n",
       "知乎       1.357143\n",
       "豆瓣       0.285714\n",
       "虎扑       0.220238\n",
       "百度贴吧     1.071429\n",
       "小红书      0.428571\n",
       "B站       2.630952\n",
       "短视频      0.815476\n",
       "dtype: float64"
      ]
     },
     "execution_count": 37,
     "metadata": {},
     "output_type": "execute_result"
    }
   ],
   "source": [
    "df_mean1_factor"
   ]
  },
  {
   "cell_type": "code",
   "execution_count": 38,
   "metadata": {},
   "outputs": [
    {
     "data": {
      "text/plain": [
       "上网时长     8.086207\n",
       "动漫       1.396552\n",
       "综艺       0.784483\n",
       "体育/电竞    1.543103\n",
       "明星       0.724138\n",
       "科技/数码    1.336207\n",
       "网文       1.086207\n",
       "游戏       1.931034\n",
       "微博       1.267241\n",
       "知乎       1.284483\n",
       "豆瓣       0.577586\n",
       "虎扑       0.431034\n",
       "百度贴吧     0.870690\n",
       "小红书      1.103448\n",
       "B站       2.327586\n",
       "短视频      1.094828\n",
       "dtype: float64"
      ]
     },
     "execution_count": 38,
     "metadata": {},
     "output_type": "execute_result"
    }
   ],
   "source": [
    "df_mean2_factor"
   ]
  },
  {
   "cell_type": "code",
   "execution_count": 39,
   "metadata": {},
   "outputs": [
    {
     "data": {
      "text/plain": [
       "上网时长     3.767123\n",
       "动漫       0.773973\n",
       "综艺       1.356164\n",
       "体育/电竞    0.897260\n",
       "明星       1.342466\n",
       "科技/数码    0.897260\n",
       "网文       1.068493\n",
       "游戏       1.027397\n",
       "微博       1.986301\n",
       "知乎       1.369863\n",
       "豆瓣       0.856164\n",
       "虎扑       0.239726\n",
       "百度贴吧     0.616438\n",
       "小红书      1.979452\n",
       "B站       2.109589\n",
       "短视频      1.342466\n",
       "dtype: float64"
      ]
     },
     "execution_count": 39,
     "metadata": {},
     "output_type": "execute_result"
    }
   ],
   "source": [
    "df_mean3_factor"
   ]
  },
  {
   "cell_type": "code",
   "execution_count": 35,
   "metadata": {},
   "outputs": [
    {
     "name": "stdout",
     "output_type": "stream",
     "text": [
      "       cluster1  cluster2  cluster3  cluster4\n",
      "上网时长   2.217391  3.666667  8.086207  3.767123\n",
      "动漫     0.634783  1.761905  1.396552  0.773973\n",
      "综艺     0.278261  0.607143  0.784483  1.356164\n",
      "体育/电竞  0.939130  1.648810  1.543103  0.897260\n",
      "明星     0.313043  0.434524  0.724138  1.342466\n",
      "科技/数码  0.982609  1.553571  1.336207  0.897260\n",
      "网文     0.321739  1.023810  1.086207  1.068493\n",
      "游戏     0.965217  2.196429  1.931034  1.027397\n",
      "微博     0.747826  0.750000  1.267241  1.986301\n",
      "知乎     1.113043  1.357143  1.284483  1.369863\n",
      "豆瓣     0.400000  0.285714  0.577586  0.856164\n",
      "虎扑     0.286957  0.220238  0.431034  0.239726\n",
      "百度贴吧   0.295652  1.071429  0.870690  0.616438\n",
      "小红书    0.756522  0.428571  1.103448  1.979452\n",
      "B站     2.095652  2.630952  2.327586  2.109589\n",
      "短视频    0.521739  0.815476  1.094828  1.342466\n"
     ]
    }
   ],
   "source": [
    "df_mean_factor = pd.concat([pd.DataFrame(df_mean0_factor),pd.DataFrame(df_mean1_factor),pd.DataFrame(df_mean2_factor),pd.DataFrame(df_mean3_factor)],axis=1)\n",
    "df_mean_factor.columns = ['cluster1','cluster2','cluster3','cluster4']\n",
    "print(df_mean_factor)"
   ]
  },
  {
   "cell_type": "code",
   "execution_count": 40,
   "metadata": {},
   "outputs": [],
   "source": [
    "def plot_pie_sex(df,title):\n",
    "    plt.figure(figsize=(6,9))\n",
    "    #定义饼状图的标签，标签是列表\n",
    "    labels = [\"female\",\"male\"]\n",
    "    #每个标签占多大，会自动去算百分比\n",
    "    sizes = df.value_counts().sort_index()\n",
    "    colors = ['red','blue']\n",
    "    patches,l_text,p_text = plt.pie(sizes,labels=labels,colors=colors,\n",
    "                                    labeldistance = 1.1,autopct = '%3.1f%%',shadow = False,\n",
    "                                    startangle = 90,pctdistance = 0.6)\n",
    "    for t in l_text:\n",
    "        t.set_size(20)\n",
    "    for t in p_text:\n",
    "        t.set_size(20)\n",
    "    # 设置x，y轴刻度一致，这样饼图才能是圆的\n",
    "    plt.axis('equal')\n",
    "    plt.legend()\n",
    "    plt.title(title)\n",
    "    plt.show()"
   ]
  },
  {
   "cell_type": "code",
   "execution_count": 41,
   "metadata": {},
   "outputs": [
    {
     "data": {
      "image/png": "[encoded data removed]",
      "text/plain": [
       "<Figure size 432x648 with 1 Axes>"
      ]
     },
     "metadata": {},
     "output_type": "display_data"
    },
    {
     "data": {
      "image/png": "[encoded data removed]",
      "text/plain": [
       "<Figure size 432x648 with 1 Axes>"
      ]
     },
     "metadata": {},
     "output_type": "display_data"
    },
    {
     "data": {
      "image/png": "[encoded data removed]",
      "text/plain": [
       "<Figure size 432x648 with 1 Axes>"
      ]
     },
     "metadata": {},
     "output_type": "display_data"
    },
    {
     "data": {
      "image/png": "[encoded data removed]",
      "text/plain": [
       "<Figure size 432x648 with 1 Axes>"
      ]
     },
     "metadata": {},
     "output_type": "display_data"
    }
   ],
   "source": [
    "plot_pie_sex(df_clu0_sex,'cluster1的性别占比')\n",
    "plot_pie_sex(df_clu1_sex,'cluster2的性别占比')\n",
    "plot_pie_sex(df_clu2_sex,'cluster3的性别占比')\n",
    "plot_pie_sex(df_clu3_sex,'cluster4的性别占比')"
   ]
  },
  {
   "cell_type": "code",
   "execution_count": 44,
   "metadata": {},
   "outputs": [
    {
     "name": "stdout",
     "output_type": "stream",
     "text": [
      "[115, 168, 116, 146]\n"
     ]
    },
    {
     "data": {
      "image/png": "[encoded data removed]",
      "text/plain": [
       "<Figure size 432x648 with 1 Axes>"
      ]
     },
     "metadata": {},
     "output_type": "display_data"
    }
   ],
   "source": [
    "sample_num = [df_clu0.shape[0],df_clu1.shape[0],df_clu2.shape[0],df_clu3.shape[0]]\n",
    "print(sample_num)\n",
    "\n",
    "plt.figure(figsize=(6,9))\n",
    "#定义饼状图的标签，标签是列表\n",
    "labels = [\"cluster1\",\"cluster2\",\"cluster3\",\"cluster4\"]\n",
    "#每个标签占多大，会自动去算百分比\n",
    "sizes = sample_num\n",
    "colors = ['blue','red','green','orange']\n",
    "patches,l_text,p_text = plt.pie(sizes,labels=labels,colors=colors,\n",
    "                                labeldistance = 1.1,autopct = '%3.1f%%',shadow = False,\n",
    "                                startangle = 90,pctdistance = 0.6)\n",
    "for t in l_text:\n",
    "    t.set_size(20)\n",
    "for t in p_text:\n",
    "    t.set_size(20)\n",
    "# 设置x，y轴刻度一致，这样饼图才能是圆的\n",
    "plt.axis('equal')\n",
    "plt.legend()\n",
    "plt.title(\"各聚类中的抽样样本量占比\")\n",
    "plt.show()"
   ]
  },
  {
   "cell_type": "code",
   "execution_count": 43,
   "metadata": {},
   "outputs": [],
   "source": [
    "def plot_bar(X,Y,xlabel,ylabel,title):\n",
    "    fig = plt.figure()\n",
    "    plt.bar(X,Y,0.4,color=['blue','red','green','orange'])\n",
    "    plt.xlabel(xlabel)\n",
    "    plt.ylabel(ylabel)\n",
    "    plt.title(title)\n",
    "    plt.show() "
   ]
  },
  {
   "cell_type": "code",
   "execution_count": 45,
   "metadata": {},
   "outputs": [
    {
     "data": {
      "image/png": "[encoded data removed]",
      "text/plain": [
       "<Figure size 432x288 with 1 Axes>"
      ]
     },
     "metadata": {
      "needs_background": "light"
     },
     "output_type": "display_data"
    }
   ],
   "source": [
    "X=['cluster1','cluster2','cluster3','cluster4']\n",
    "Y=lovetime_clu \n",
    "plot_bar(X,Y,\"聚类索引\",\"恋爱次数\",\"不同聚类的恋爱次数\")"
   ]
  },
  {
   "cell_type": "code",
   "execution_count": 46,
   "metadata": {},
   "outputs": [
    {
     "data": {
      "image/png": "[encoded data removed]",
      "text/plain": [
       "<Figure size 432x288 with 1 Axes>"
      ]
     },
     "metadata": {
      "needs_background": "light"
     },
     "output_type": "display_data"
    }
   ],
   "source": [
    "Y=marrintent_clu \n",
    "plot_bar(X,Y,\"聚类索引\",\"结婚意愿\",\"不同聚类的结婚意愿\")"
   ]
  },
  {
   "cell_type": "code",
   "execution_count": 47,
   "metadata": {},
   "outputs": [
    {
     "data": {
      "image/png": "[encoded data removed]",
      "text/plain": [
       "<Figure size 432x288 with 1 Axes>"
      ]
     },
     "metadata": {
      "needs_background": "light"
     },
     "output_type": "display_data"
    }
   ],
   "source": [
    "Y = desirechild_clu\n",
    "plot_bar(X,Y,\"聚类索引\",\"意愿子女数\",\"不同聚类的意愿子女数\")"
   ]
  },
  {
   "cell_type": "code",
   "execution_count": 48,
   "metadata": {},
   "outputs": [
    {
     "data": {
      "image/png": "[encoded data removed]",
      "text/plain": [
       "<Figure size 432x288 with 1 Axes>"
      ]
     },
     "metadata": {
      "needs_background": "light"
     },
     "output_type": "display_data"
    }
   ],
   "source": [
    "Y = idealchild_clu\n",
    "plot_bar(X,Y,\"聚类索引\",\"理想子女数\",\"不同聚类的理想子女数\")"
   ]
  },
  {
   "cell_type": "code",
   "execution_count": 49,
   "metadata": {},
   "outputs": [
    {
     "data": {
      "image/png": "[encoded data removed]",
      "text/plain": [
       "<Figure size 432x288 with 1 Axes>"
      ]
     },
     "metadata": {
      "needs_background": "light"
     },
     "output_type": "display_data"
    }
   ],
   "source": [
    "Y = idealboy_clu\n",
    "plot_bar(X,Y,\"聚类索引\",\"理想儿子数\",\"不同聚类的理想儿子数\")"
   ]
  },
  {
   "cell_type": "code",
   "execution_count": 50,
   "metadata": {},
   "outputs": [
    {
     "data": {
      "image/png": "[encoded data removed]",
      "text/plain": [
       "<Figure size 432x288 with 1 Axes>"
      ]
     },
     "metadata": {
      "needs_background": "light"
     },
     "output_type": "display_data"
    }
   ],
   "source": [
    "Y = idealgirl_clu\n",
    "plot_bar(X,Y,\"聚类索引\",\"理想女儿数\",\"不同聚类的理想女儿数\")"
   ]
  },
  {
   "cell_type": "code",
   "execution_count": 335,
   "metadata": {},
   "outputs": [
    {
     "data": {
      "image/png": "[encoded data removed]",
      "text/plain": [
       "<Figure size 864x576 with 1 Axes>"
      ]
     },
     "metadata": {
      "needs_background": "light"
     },
     "output_type": "display_data"
    }
   ],
   "source": [
    "factor_X = ['上网时长','动漫','综艺','体育/电竞','明星','科技/数码','网文','游戏','微博','知乎','豆瓣','虎扑','百度贴吧','小红书','B站','短视频']\n",
    "factor_Y = df_mean0_factor\n",
    "fig = plt.figure(figsize=(12,8))\n",
    "plt.bar(factor_X,factor_Y,0.4,color=\"green\")\n",
    "plt.xlabel(\"聚类的不同特征\")\n",
    "plt.ylabel(\"该特征的参与度或使用程度\")\n",
    "plt.ylim(0,3)\n",
    "plt.xticks(rotation=45)\n",
    "plt.title(\"cluster0用于聚类的不同特征的参与度\")\n",
    "plt.show() "
   ]
  },
  {
   "cell_type": "code",
   "execution_count": 133,
   "metadata": {},
   "outputs": [
    {
     "data": {
      "image/png": "[encoded data removed]",
      "text/plain": [
       "<Figure size 864x576 with 1 Axes>"
      ]
     },
     "metadata": {
      "needs_background": "light"
     },
     "output_type": "display_data"
    }
   ],
   "source": [
    "factor_Y = df_mean1_factor\n",
    "fig = plt.figure(figsize=(12,8))\n",
    "plt.bar(factor_X,factor_Y,0.4,color=\"green\")\n",
    "plt.xlabel(\"聚类的不同特征\")\n",
    "plt.ylabel(\"该特征的参与度或使用程度\")\n",
    "plt.ylim(0,3)\n",
    "plt.xticks(rotation=45)\n",
    "plt.title(\"cluster1用于聚类的不同特征的参与度\")\n",
    "plt.show() "
   ]
  },
  {
   "cell_type": "code",
   "execution_count": 134,
   "metadata": {},
   "outputs": [
    {
     "data": {
      "image/png": "[encoded data removed]",
      "text/plain": [
       "<Figure size 864x576 with 1 Axes>"
      ]
     },
     "metadata": {
      "needs_background": "light"
     },
     "output_type": "display_data"
    }
   ],
   "source": [
    "factor_Y = df_mean2_factor\n",
    "fig = plt.figure(figsize=(12,8))\n",
    "plt.bar(factor_X,factor_Y,0.4,color=\"green\")\n",
    "plt.xlabel(\"聚类的不同特征\")\n",
    "plt.ylabel(\"该特征的参与度或使用程度\")\n",
    "plt.ylim(0,3)\n",
    "plt.xticks(rotation=45)\n",
    "plt.title(\"cluster2用于聚类的不同特征的参与度\")\n",
    "plt.show() "
   ]
  },
  {
   "cell_type": "code",
   "execution_count": 135,
   "metadata": {},
   "outputs": [
    {
     "data": {
      "image/png": "[encoded data removed]",
      "text/plain": [
       "<Figure size 864x576 with 1 Axes>"
      ]
     },
     "metadata": {
      "needs_background": "light"
     },
     "output_type": "display_data"
    }
   ],
   "source": [
    "factor_Y = df_mean3_factor\n",
    "fig = plt.figure(figsize=(12,8))\n",
    "plt.bar(factor_X,factor_Y,0.4,color=\"green\")\n",
    "plt.xlabel(\"聚类的不同特征\")\n",
    "plt.ylabel(\"该特征的参与度或使用程度\")\n",
    "plt.ylim(0,3)\n",
    "plt.xticks(rotation=45)\n",
    "plt.title(\"cluster3用于聚类的不同特征的参与度\")\n",
    "plt.show() "
   ]
  },
  {
   "attachments": {},
   "cell_type": "markdown",
   "metadata": {},
   "source": [
    "#### 附带性别抽样的分析"
   ]
  },
  {
   "cell_type": "code",
   "execution_count": 200,
   "metadata": {},
   "outputs": [
    {
     "data": {
      "text/html": [
       "<div>\n",
       "<style scoped>\n",
       "    .dataframe tbody tr th:only-of-type {\n",
       "        vertical-align: middle;\n",
       "    }\n",
       "\n",
       "    .dataframe tbody tr th {\n",
       "        vertical-align: top;\n",
       "    }\n",
       "\n",
       "    .dataframe thead th {\n",
       "        text-align: right;\n",
       "    }\n",
       "</style>\n",
       "<table border=\"1\" class=\"dataframe\">\n",
       "  <thead>\n",
       "    <tr style=\"text-align: right;\">\n",
       "      <th></th>\n",
       "      <th>恋爱次数</th>\n",
       "      <th>意愿子女数</th>\n",
       "      <th>理想子女数</th>\n",
       "      <th>理想儿子</th>\n",
       "      <th>理想女儿</th>\n",
       "      <th>性别</th>\n",
       "      <th>户口</th>\n",
       "      <th>单身无恋爱</th>\n",
       "      <th>单身想恋爱</th>\n",
       "      <th>恋爱中</th>\n",
       "      <th>...</th>\n",
       "      <th>小红书</th>\n",
       "      <th>B站</th>\n",
       "      <th>短视频</th>\n",
       "      <th>朋友圈秀恩爱晒娃</th>\n",
       "      <th>恋爱相亲育儿综艺</th>\n",
       "      <th>国家生育政策</th>\n",
       "      <th>专家教授发表看法</th>\n",
       "      <th>娱乐圈情感八卦</th>\n",
       "      <th>身边人经历</th>\n",
       "      <th>艺术作品</th>\n",
       "    </tr>\n",
       "  </thead>\n",
       "  <tbody>\n",
       "    <tr>\n",
       "      <th>0</th>\n",
       "      <td>0</td>\n",
       "      <td>1</td>\n",
       "      <td>2</td>\n",
       "      <td>1</td>\n",
       "      <td>1</td>\n",
       "      <td>1</td>\n",
       "      <td>0</td>\n",
       "      <td>1.0</td>\n",
       "      <td>0.0</td>\n",
       "      <td>0.0</td>\n",
       "      <td>...</td>\n",
       "      <td>1.0</td>\n",
       "      <td>2.0</td>\n",
       "      <td>2.0</td>\n",
       "      <td>1.0</td>\n",
       "      <td>1.0</td>\n",
       "      <td>2.0</td>\n",
       "      <td>1.0</td>\n",
       "      <td>1.0</td>\n",
       "      <td>1.0</td>\n",
       "      <td>1.0</td>\n",
       "    </tr>\n",
       "    <tr>\n",
       "      <th>1</th>\n",
       "      <td>0</td>\n",
       "      <td>1</td>\n",
       "      <td>2</td>\n",
       "      <td>1</td>\n",
       "      <td>1</td>\n",
       "      <td>1</td>\n",
       "      <td>0</td>\n",
       "      <td>0.0</td>\n",
       "      <td>1.0</td>\n",
       "      <td>0.0</td>\n",
       "      <td>...</td>\n",
       "      <td>0.0</td>\n",
       "      <td>3.0</td>\n",
       "      <td>0.0</td>\n",
       "      <td>1.0</td>\n",
       "      <td>0.0</td>\n",
       "      <td>0.0</td>\n",
       "      <td>0.0</td>\n",
       "      <td>0.0</td>\n",
       "      <td>2.0</td>\n",
       "      <td>1.0</td>\n",
       "    </tr>\n",
       "    <tr>\n",
       "      <th>2</th>\n",
       "      <td>2</td>\n",
       "      <td>2</td>\n",
       "      <td>2</td>\n",
       "      <td>1</td>\n",
       "      <td>1</td>\n",
       "      <td>1</td>\n",
       "      <td>0</td>\n",
       "      <td>0.0</td>\n",
       "      <td>1.0</td>\n",
       "      <td>0.0</td>\n",
       "      <td>...</td>\n",
       "      <td>0.0</td>\n",
       "      <td>3.0</td>\n",
       "      <td>1.0</td>\n",
       "      <td>3.0</td>\n",
       "      <td>0.0</td>\n",
       "      <td>2.0</td>\n",
       "      <td>0.0</td>\n",
       "      <td>0.0</td>\n",
       "      <td>2.0</td>\n",
       "      <td>2.0</td>\n",
       "    </tr>\n",
       "    <tr>\n",
       "      <th>3</th>\n",
       "      <td>2</td>\n",
       "      <td>2</td>\n",
       "      <td>2</td>\n",
       "      <td>1</td>\n",
       "      <td>1</td>\n",
       "      <td>1</td>\n",
       "      <td>1</td>\n",
       "      <td>1.0</td>\n",
       "      <td>0.0</td>\n",
       "      <td>0.0</td>\n",
       "      <td>...</td>\n",
       "      <td>0.0</td>\n",
       "      <td>3.0</td>\n",
       "      <td>1.0</td>\n",
       "      <td>0.0</td>\n",
       "      <td>0.0</td>\n",
       "      <td>0.0</td>\n",
       "      <td>0.0</td>\n",
       "      <td>0.0</td>\n",
       "      <td>1.0</td>\n",
       "      <td>0.0</td>\n",
       "    </tr>\n",
       "    <tr>\n",
       "      <th>4</th>\n",
       "      <td>1</td>\n",
       "      <td>2</td>\n",
       "      <td>2</td>\n",
       "      <td>1</td>\n",
       "      <td>1</td>\n",
       "      <td>1</td>\n",
       "      <td>1</td>\n",
       "      <td>0.0</td>\n",
       "      <td>0.0</td>\n",
       "      <td>1.0</td>\n",
       "      <td>...</td>\n",
       "      <td>1.0</td>\n",
       "      <td>3.0</td>\n",
       "      <td>2.0</td>\n",
       "      <td>2.0</td>\n",
       "      <td>0.0</td>\n",
       "      <td>2.0</td>\n",
       "      <td>0.0</td>\n",
       "      <td>0.0</td>\n",
       "      <td>2.0</td>\n",
       "      <td>2.0</td>\n",
       "    </tr>\n",
       "    <tr>\n",
       "      <th>...</th>\n",
       "      <td>...</td>\n",
       "      <td>...</td>\n",
       "      <td>...</td>\n",
       "      <td>...</td>\n",
       "      <td>...</td>\n",
       "      <td>...</td>\n",
       "      <td>...</td>\n",
       "      <td>...</td>\n",
       "      <td>...</td>\n",
       "      <td>...</td>\n",
       "      <td>...</td>\n",
       "      <td>...</td>\n",
       "      <td>...</td>\n",
       "      <td>...</td>\n",
       "      <td>...</td>\n",
       "      <td>...</td>\n",
       "      <td>...</td>\n",
       "      <td>...</td>\n",
       "      <td>...</td>\n",
       "      <td>...</td>\n",
       "      <td>...</td>\n",
       "    </tr>\n",
       "    <tr>\n",
       "      <th>195</th>\n",
       "      <td>1</td>\n",
       "      <td>1</td>\n",
       "      <td>2</td>\n",
       "      <td>1</td>\n",
       "      <td>1</td>\n",
       "      <td>1</td>\n",
       "      <td>1</td>\n",
       "      <td>0.0</td>\n",
       "      <td>1.0</td>\n",
       "      <td>0.0</td>\n",
       "      <td>...</td>\n",
       "      <td>1.0</td>\n",
       "      <td>3.0</td>\n",
       "      <td>1.0</td>\n",
       "      <td>2.0</td>\n",
       "      <td>0.0</td>\n",
       "      <td>1.0</td>\n",
       "      <td>0.0</td>\n",
       "      <td>0.0</td>\n",
       "      <td>2.0</td>\n",
       "      <td>2.0</td>\n",
       "    </tr>\n",
       "    <tr>\n",
       "      <th>196</th>\n",
       "      <td>2</td>\n",
       "      <td>1</td>\n",
       "      <td>1</td>\n",
       "      <td>0</td>\n",
       "      <td>1</td>\n",
       "      <td>1</td>\n",
       "      <td>1</td>\n",
       "      <td>0.0</td>\n",
       "      <td>1.0</td>\n",
       "      <td>0.0</td>\n",
       "      <td>...</td>\n",
       "      <td>1.0</td>\n",
       "      <td>2.0</td>\n",
       "      <td>3.0</td>\n",
       "      <td>2.0</td>\n",
       "      <td>1.0</td>\n",
       "      <td>2.0</td>\n",
       "      <td>1.0</td>\n",
       "      <td>0.0</td>\n",
       "      <td>2.0</td>\n",
       "      <td>1.0</td>\n",
       "    </tr>\n",
       "    <tr>\n",
       "      <th>197</th>\n",
       "      <td>0</td>\n",
       "      <td>2</td>\n",
       "      <td>2</td>\n",
       "      <td>1</td>\n",
       "      <td>1</td>\n",
       "      <td>1</td>\n",
       "      <td>1</td>\n",
       "      <td>0.0</td>\n",
       "      <td>1.0</td>\n",
       "      <td>0.0</td>\n",
       "      <td>...</td>\n",
       "      <td>0.0</td>\n",
       "      <td>3.0</td>\n",
       "      <td>1.0</td>\n",
       "      <td>1.0</td>\n",
       "      <td>0.0</td>\n",
       "      <td>2.0</td>\n",
       "      <td>1.0</td>\n",
       "      <td>0.0</td>\n",
       "      <td>2.0</td>\n",
       "      <td>1.0</td>\n",
       "    </tr>\n",
       "    <tr>\n",
       "      <th>198</th>\n",
       "      <td>1</td>\n",
       "      <td>1</td>\n",
       "      <td>1</td>\n",
       "      <td>1</td>\n",
       "      <td>1</td>\n",
       "      <td>1</td>\n",
       "      <td>1</td>\n",
       "      <td>1.0</td>\n",
       "      <td>0.0</td>\n",
       "      <td>0.0</td>\n",
       "      <td>...</td>\n",
       "      <td>1.0</td>\n",
       "      <td>3.0</td>\n",
       "      <td>0.0</td>\n",
       "      <td>0.0</td>\n",
       "      <td>0.0</td>\n",
       "      <td>0.0</td>\n",
       "      <td>0.0</td>\n",
       "      <td>0.0</td>\n",
       "      <td>2.0</td>\n",
       "      <td>1.0</td>\n",
       "    </tr>\n",
       "    <tr>\n",
       "      <th>199</th>\n",
       "      <td>0</td>\n",
       "      <td>0</td>\n",
       "      <td>0</td>\n",
       "      <td>0</td>\n",
       "      <td>0</td>\n",
       "      <td>1</td>\n",
       "      <td>1</td>\n",
       "      <td>1.0</td>\n",
       "      <td>0.0</td>\n",
       "      <td>0.0</td>\n",
       "      <td>...</td>\n",
       "      <td>0.0</td>\n",
       "      <td>3.0</td>\n",
       "      <td>0.0</td>\n",
       "      <td>0.0</td>\n",
       "      <td>0.0</td>\n",
       "      <td>0.0</td>\n",
       "      <td>0.0</td>\n",
       "      <td>0.0</td>\n",
       "      <td>0.0</td>\n",
       "      <td>0.0</td>\n",
       "    </tr>\n",
       "  </tbody>\n",
       "</table>\n",
       "<p>200 rows × 34 columns</p>\n",
       "</div>"
      ],
      "text/plain": [
       "     恋爱次数  意愿子女数  理想子女数  理想儿子  理想女儿  性别  户口  单身无恋爱  单身想恋爱  恋爱中  ...  小红书   B站  \\\n",
       "0       0      1      2     1     1   1   0    1.0    0.0  0.0  ...  1.0  2.0   \n",
       "1       0      1      2     1     1   1   0    0.0    1.0  0.0  ...  0.0  3.0   \n",
       "2       2      2      2     1     1   1   0    0.0    1.0  0.0  ...  0.0  3.0   \n",
       "3       2      2      2     1     1   1   1    1.0    0.0  0.0  ...  0.0  3.0   \n",
       "4       1      2      2     1     1   1   1    0.0    0.0  1.0  ...  1.0  3.0   \n",
       "..    ...    ...    ...   ...   ...  ..  ..    ...    ...  ...  ...  ...  ...   \n",
       "195     1      1      2     1     1   1   1    0.0    1.0  0.0  ...  1.0  3.0   \n",
       "196     2      1      1     0     1   1   1    0.0    1.0  0.0  ...  1.0  2.0   \n",
       "197     0      2      2     1     1   1   1    0.0    1.0  0.0  ...  0.0  3.0   \n",
       "198     1      1      1     1     1   1   1    1.0    0.0  0.0  ...  1.0  3.0   \n",
       "199     0      0      0     0     0   1   1    1.0    0.0  0.0  ...  0.0  3.0   \n",
       "\n",
       "     短视频  朋友圈秀恩爱晒娃  恋爱相亲育儿综艺  国家生育政策  专家教授发表看法  娱乐圈情感八卦  身边人经历  艺术作品  \n",
       "0    2.0       1.0       1.0     2.0       1.0      1.0    1.0   1.0  \n",
       "1    0.0       1.0       0.0     0.0       0.0      0.0    2.0   1.0  \n",
       "2    1.0       3.0       0.0     2.0       0.0      0.0    2.0   2.0  \n",
       "3    1.0       0.0       0.0     0.0       0.0      0.0    1.0   0.0  \n",
       "4    2.0       2.0       0.0     2.0       0.0      0.0    2.0   2.0  \n",
       "..   ...       ...       ...     ...       ...      ...    ...   ...  \n",
       "195  1.0       2.0       0.0     1.0       0.0      0.0    2.0   2.0  \n",
       "196  3.0       2.0       1.0     2.0       1.0      0.0    2.0   1.0  \n",
       "197  1.0       1.0       0.0     2.0       1.0      0.0    2.0   1.0  \n",
       "198  0.0       0.0       0.0     0.0       0.0      0.0    2.0   1.0  \n",
       "199  0.0       0.0       0.0     0.0       0.0      0.0    0.0   0.0  \n",
       "\n",
       "[200 rows x 34 columns]"
      ]
     },
     "execution_count": 200,
     "metadata": {},
     "output_type": "execute_result"
    }
   ],
   "source": [
    "df_male_chose"
   ]
  },
  {
   "cell_type": "code",
   "execution_count": 201,
   "metadata": {},
   "outputs": [
    {
     "data": {
      "text/html": [
       "<div>\n",
       "<style scoped>\n",
       "    .dataframe tbody tr th:only-of-type {\n",
       "        vertical-align: middle;\n",
       "    }\n",
       "\n",
       "    .dataframe tbody tr th {\n",
       "        vertical-align: top;\n",
       "    }\n",
       "\n",
       "    .dataframe thead th {\n",
       "        text-align: right;\n",
       "    }\n",
       "</style>\n",
       "<table border=\"1\" class=\"dataframe\">\n",
       "  <thead>\n",
       "    <tr style=\"text-align: right;\">\n",
       "      <th></th>\n",
       "      <th>恋爱次数</th>\n",
       "      <th>意愿子女数</th>\n",
       "      <th>理想子女数</th>\n",
       "      <th>理想儿子</th>\n",
       "      <th>理想女儿</th>\n",
       "      <th>性别</th>\n",
       "      <th>户口</th>\n",
       "      <th>单身无恋爱</th>\n",
       "      <th>单身想恋爱</th>\n",
       "      <th>恋爱中</th>\n",
       "      <th>...</th>\n",
       "      <th>小红书</th>\n",
       "      <th>B站</th>\n",
       "      <th>短视频</th>\n",
       "      <th>朋友圈秀恩爱晒娃</th>\n",
       "      <th>恋爱相亲育儿综艺</th>\n",
       "      <th>国家生育政策</th>\n",
       "      <th>专家教授发表看法</th>\n",
       "      <th>娱乐圈情感八卦</th>\n",
       "      <th>身边人经历</th>\n",
       "      <th>艺术作品</th>\n",
       "    </tr>\n",
       "  </thead>\n",
       "  <tbody>\n",
       "    <tr>\n",
       "      <th>0</th>\n",
       "      <td>1</td>\n",
       "      <td>1</td>\n",
       "      <td>1</td>\n",
       "      <td>0</td>\n",
       "      <td>1</td>\n",
       "      <td>0</td>\n",
       "      <td>1</td>\n",
       "      <td>0.0</td>\n",
       "      <td>1.0</td>\n",
       "      <td>0.0</td>\n",
       "      <td>...</td>\n",
       "      <td>2.0</td>\n",
       "      <td>3.0</td>\n",
       "      <td>0.0</td>\n",
       "      <td>0.0</td>\n",
       "      <td>1.0</td>\n",
       "      <td>0.0</td>\n",
       "      <td>0.0</td>\n",
       "      <td>0.0</td>\n",
       "      <td>2.0</td>\n",
       "      <td>1.0</td>\n",
       "    </tr>\n",
       "    <tr>\n",
       "      <th>1</th>\n",
       "      <td>2</td>\n",
       "      <td>1</td>\n",
       "      <td>0</td>\n",
       "      <td>0</td>\n",
       "      <td>1</td>\n",
       "      <td>0</td>\n",
       "      <td>1</td>\n",
       "      <td>0.0</td>\n",
       "      <td>0.0</td>\n",
       "      <td>1.0</td>\n",
       "      <td>...</td>\n",
       "      <td>0.0</td>\n",
       "      <td>1.0</td>\n",
       "      <td>1.0</td>\n",
       "      <td>0.0</td>\n",
       "      <td>0.0</td>\n",
       "      <td>0.0</td>\n",
       "      <td>0.0</td>\n",
       "      <td>0.0</td>\n",
       "      <td>0.0</td>\n",
       "      <td>0.0</td>\n",
       "    </tr>\n",
       "    <tr>\n",
       "      <th>2</th>\n",
       "      <td>0</td>\n",
       "      <td>1</td>\n",
       "      <td>2</td>\n",
       "      <td>1</td>\n",
       "      <td>1</td>\n",
       "      <td>0</td>\n",
       "      <td>1</td>\n",
       "      <td>1.0</td>\n",
       "      <td>0.0</td>\n",
       "      <td>0.0</td>\n",
       "      <td>...</td>\n",
       "      <td>0.0</td>\n",
       "      <td>2.0</td>\n",
       "      <td>0.0</td>\n",
       "      <td>0.0</td>\n",
       "      <td>0.0</td>\n",
       "      <td>1.0</td>\n",
       "      <td>1.0</td>\n",
       "      <td>0.0</td>\n",
       "      <td>1.0</td>\n",
       "      <td>3.0</td>\n",
       "    </tr>\n",
       "    <tr>\n",
       "      <th>3</th>\n",
       "      <td>1</td>\n",
       "      <td>0</td>\n",
       "      <td>0</td>\n",
       "      <td>0</td>\n",
       "      <td>0</td>\n",
       "      <td>0</td>\n",
       "      <td>0</td>\n",
       "      <td>0.0</td>\n",
       "      <td>1.0</td>\n",
       "      <td>0.0</td>\n",
       "      <td>...</td>\n",
       "      <td>2.0</td>\n",
       "      <td>2.0</td>\n",
       "      <td>3.0</td>\n",
       "      <td>0.0</td>\n",
       "      <td>0.0</td>\n",
       "      <td>0.0</td>\n",
       "      <td>0.0</td>\n",
       "      <td>1.0</td>\n",
       "      <td>2.0</td>\n",
       "      <td>3.0</td>\n",
       "    </tr>\n",
       "    <tr>\n",
       "      <th>4</th>\n",
       "      <td>1</td>\n",
       "      <td>1</td>\n",
       "      <td>1</td>\n",
       "      <td>0</td>\n",
       "      <td>1</td>\n",
       "      <td>0</td>\n",
       "      <td>1</td>\n",
       "      <td>0.0</td>\n",
       "      <td>1.0</td>\n",
       "      <td>0.0</td>\n",
       "      <td>...</td>\n",
       "      <td>2.0</td>\n",
       "      <td>3.0</td>\n",
       "      <td>1.0</td>\n",
       "      <td>0.0</td>\n",
       "      <td>0.0</td>\n",
       "      <td>1.0</td>\n",
       "      <td>0.0</td>\n",
       "      <td>0.0</td>\n",
       "      <td>2.0</td>\n",
       "      <td>1.0</td>\n",
       "    </tr>\n",
       "    <tr>\n",
       "      <th>...</th>\n",
       "      <td>...</td>\n",
       "      <td>...</td>\n",
       "      <td>...</td>\n",
       "      <td>...</td>\n",
       "      <td>...</td>\n",
       "      <td>...</td>\n",
       "      <td>...</td>\n",
       "      <td>...</td>\n",
       "      <td>...</td>\n",
       "      <td>...</td>\n",
       "      <td>...</td>\n",
       "      <td>...</td>\n",
       "      <td>...</td>\n",
       "      <td>...</td>\n",
       "      <td>...</td>\n",
       "      <td>...</td>\n",
       "      <td>...</td>\n",
       "      <td>...</td>\n",
       "      <td>...</td>\n",
       "      <td>...</td>\n",
       "      <td>...</td>\n",
       "    </tr>\n",
       "    <tr>\n",
       "      <th>195</th>\n",
       "      <td>1</td>\n",
       "      <td>2</td>\n",
       "      <td>2</td>\n",
       "      <td>1</td>\n",
       "      <td>1</td>\n",
       "      <td>0</td>\n",
       "      <td>1</td>\n",
       "      <td>0.0</td>\n",
       "      <td>1.0</td>\n",
       "      <td>0.0</td>\n",
       "      <td>...</td>\n",
       "      <td>2.0</td>\n",
       "      <td>2.0</td>\n",
       "      <td>0.0</td>\n",
       "      <td>1.0</td>\n",
       "      <td>1.0</td>\n",
       "      <td>2.0</td>\n",
       "      <td>1.0</td>\n",
       "      <td>2.0</td>\n",
       "      <td>2.0</td>\n",
       "      <td>1.0</td>\n",
       "    </tr>\n",
       "    <tr>\n",
       "      <th>196</th>\n",
       "      <td>0</td>\n",
       "      <td>1</td>\n",
       "      <td>1</td>\n",
       "      <td>1</td>\n",
       "      <td>1</td>\n",
       "      <td>0</td>\n",
       "      <td>0</td>\n",
       "      <td>1.0</td>\n",
       "      <td>0.0</td>\n",
       "      <td>0.0</td>\n",
       "      <td>...</td>\n",
       "      <td>2.0</td>\n",
       "      <td>2.0</td>\n",
       "      <td>0.0</td>\n",
       "      <td>1.0</td>\n",
       "      <td>2.0</td>\n",
       "      <td>1.0</td>\n",
       "      <td>1.0</td>\n",
       "      <td>1.0</td>\n",
       "      <td>2.0</td>\n",
       "      <td>1.0</td>\n",
       "    </tr>\n",
       "    <tr>\n",
       "      <th>197</th>\n",
       "      <td>0</td>\n",
       "      <td>0</td>\n",
       "      <td>0</td>\n",
       "      <td>0</td>\n",
       "      <td>0</td>\n",
       "      <td>0</td>\n",
       "      <td>0</td>\n",
       "      <td>0.0</td>\n",
       "      <td>1.0</td>\n",
       "      <td>0.0</td>\n",
       "      <td>...</td>\n",
       "      <td>2.0</td>\n",
       "      <td>3.0</td>\n",
       "      <td>2.0</td>\n",
       "      <td>0.0</td>\n",
       "      <td>0.0</td>\n",
       "      <td>2.0</td>\n",
       "      <td>0.0</td>\n",
       "      <td>0.0</td>\n",
       "      <td>1.0</td>\n",
       "      <td>1.0</td>\n",
       "    </tr>\n",
       "    <tr>\n",
       "      <th>198</th>\n",
       "      <td>0</td>\n",
       "      <td>0</td>\n",
       "      <td>3</td>\n",
       "      <td>0</td>\n",
       "      <td>0</td>\n",
       "      <td>0</td>\n",
       "      <td>1</td>\n",
       "      <td>1.0</td>\n",
       "      <td>0.0</td>\n",
       "      <td>0.0</td>\n",
       "      <td>...</td>\n",
       "      <td>1.0</td>\n",
       "      <td>0.0</td>\n",
       "      <td>2.0</td>\n",
       "      <td>0.0</td>\n",
       "      <td>0.0</td>\n",
       "      <td>3.0</td>\n",
       "      <td>0.0</td>\n",
       "      <td>0.0</td>\n",
       "      <td>0.0</td>\n",
       "      <td>0.0</td>\n",
       "    </tr>\n",
       "    <tr>\n",
       "      <th>199</th>\n",
       "      <td>1</td>\n",
       "      <td>2</td>\n",
       "      <td>3</td>\n",
       "      <td>1</td>\n",
       "      <td>2</td>\n",
       "      <td>0</td>\n",
       "      <td>0</td>\n",
       "      <td>0.0</td>\n",
       "      <td>1.0</td>\n",
       "      <td>0.0</td>\n",
       "      <td>...</td>\n",
       "      <td>3.0</td>\n",
       "      <td>1.0</td>\n",
       "      <td>3.0</td>\n",
       "      <td>3.0</td>\n",
       "      <td>3.0</td>\n",
       "      <td>3.0</td>\n",
       "      <td>2.0</td>\n",
       "      <td>2.0</td>\n",
       "      <td>3.0</td>\n",
       "      <td>1.0</td>\n",
       "    </tr>\n",
       "  </tbody>\n",
       "</table>\n",
       "<p>200 rows × 34 columns</p>\n",
       "</div>"
      ],
      "text/plain": [
       "     恋爱次数  意愿子女数  理想子女数  理想儿子  理想女儿  性别  户口  单身无恋爱  单身想恋爱  恋爱中  ...  小红书   B站  \\\n",
       "0       1      1      1     0     1   0   1    0.0    1.0  0.0  ...  2.0  3.0   \n",
       "1       2      1      0     0     1   0   1    0.0    0.0  1.0  ...  0.0  1.0   \n",
       "2       0      1      2     1     1   0   1    1.0    0.0  0.0  ...  0.0  2.0   \n",
       "3       1      0      0     0     0   0   0    0.0    1.0  0.0  ...  2.0  2.0   \n",
       "4       1      1      1     0     1   0   1    0.0    1.0  0.0  ...  2.0  3.0   \n",
       "..    ...    ...    ...   ...   ...  ..  ..    ...    ...  ...  ...  ...  ...   \n",
       "195     1      2      2     1     1   0   1    0.0    1.0  0.0  ...  2.0  2.0   \n",
       "196     0      1      1     1     1   0   0    1.0    0.0  0.0  ...  2.0  2.0   \n",
       "197     0      0      0     0     0   0   0    0.0    1.0  0.0  ...  2.0  3.0   \n",
       "198     0      0      3     0     0   0   1    1.0    0.0  0.0  ...  1.0  0.0   \n",
       "199     1      2      3     1     2   0   0    0.0    1.0  0.0  ...  3.0  1.0   \n",
       "\n",
       "     短视频  朋友圈秀恩爱晒娃  恋爱相亲育儿综艺  国家生育政策  专家教授发表看法  娱乐圈情感八卦  身边人经历  艺术作品  \n",
       "0    0.0       0.0       1.0     0.0       0.0      0.0    2.0   1.0  \n",
       "1    1.0       0.0       0.0     0.0       0.0      0.0    0.0   0.0  \n",
       "2    0.0       0.0       0.0     1.0       1.0      0.0    1.0   3.0  \n",
       "3    3.0       0.0       0.0     0.0       0.0      1.0    2.0   3.0  \n",
       "4    1.0       0.0       0.0     1.0       0.0      0.0    2.0   1.0  \n",
       "..   ...       ...       ...     ...       ...      ...    ...   ...  \n",
       "195  0.0       1.0       1.0     2.0       1.0      2.0    2.0   1.0  \n",
       "196  0.0       1.0       2.0     1.0       1.0      1.0    2.0   1.0  \n",
       "197  2.0       0.0       0.0     2.0       0.0      0.0    1.0   1.0  \n",
       "198  2.0       0.0       0.0     3.0       0.0      0.0    0.0   0.0  \n",
       "199  3.0       3.0       3.0     3.0       2.0      2.0    3.0   1.0  \n",
       "\n",
       "[200 rows x 34 columns]"
      ]
     },
     "execution_count": 201,
     "metadata": {},
     "output_type": "execute_result"
    }
   ],
   "source": [
    "df_female_chose"
   ]
  },
  {
   "cell_type": "code",
   "execution_count": 144,
   "metadata": {},
   "outputs": [
    {
     "data": {
      "text/plain": [
       "恋爱次数          int32\n",
       "意愿子女数         int32\n",
       "理想子女数         int32\n",
       "性别            int32\n",
       "户口            int32\n",
       "单身无恋爱       float64\n",
       "单身想恋爱       float64\n",
       "恋爱中         float64\n",
       "结婚意愿        float64\n",
       "上网时长          int32\n",
       "动漫          float64\n",
       "综艺          float64\n",
       "体育/电竞       float64\n",
       "明星          float64\n",
       "科技/数码       float64\n",
       "网文          float64\n",
       "游戏          float64\n",
       "微博          float64\n",
       "知乎          float64\n",
       "豆瓣          float64\n",
       "虎扑          float64\n",
       "百度贴吧        float64\n",
       "小红书         float64\n",
       "B站          float64\n",
       "短视频         float64\n",
       "朋友圈秀恩爱晒娃    float64\n",
       "恋爱相亲育儿综艺    float64\n",
       "国家生育政策      float64\n",
       "专家教授发表看法    float64\n",
       "娱乐圈情感八卦     float64\n",
       "身边人经历       float64\n",
       "艺术作品        float64\n",
       "dtype: object"
      ]
     },
     "execution_count": 144,
     "metadata": {},
     "output_type": "execute_result"
    }
   ],
   "source": [
    "df_male_chose.dtypes"
   ]
  },
  {
   "cell_type": "code",
   "execution_count": 247,
   "metadata": {},
   "outputs": [],
   "source": [
    "df_male_cluster = df_male_chose.loc[:,'上网时长':'短视频']\n",
    "df_male_y = df_male_chose.loc[:,['恋爱次数','结婚意愿','意愿子女数','理想子女数','理想儿子','理想女儿']]\n",
    "df_female_cluster = df_female_chose.loc[:,'上网时长':'短视频']\n",
    "df_female_y = df_female_chose.loc[:,['恋爱次数','结婚意愿','意愿子女数','理想子女数','理想儿子','理想女儿']]\n",
    "df_male_sex = df_male_chose.loc[:,'性别']\n",
    "df_female_sex = df_female_chose.loc[:,'性别']\n",
    "\n",
    "df_cluster = pd.concat([df_male_cluster,df_female_cluster],axis=0)\n",
    "df_cluster_y = pd.concat([df_male_y,df_female_y],axis=0)\n",
    "df_cluster_y = df_cluster_y.reset_index(drop = True)\n",
    "df_sex = pd.concat([df_male_sex,df_female_sex],axis=0) #抽取出性别，用于聚类的性别分析\n",
    "df_sex = df_sex.reset_index(drop=True)"
   ]
  },
  {
   "cell_type": "code",
   "execution_count": 263,
   "metadata": {},
   "outputs": [
    {
     "data": {
      "text/plain": [
       "1    200\n",
       "0    200\n",
       "Name: 性别, dtype: int64"
      ]
     },
     "execution_count": 263,
     "metadata": {},
     "output_type": "execute_result"
    }
   ],
   "source": [
    "df_sex.value_counts()"
   ]
  },
  {
   "cell_type": "code",
   "execution_count": 207,
   "metadata": {},
   "outputs": [
    {
     "data": {
      "text/html": [
       "<div>\n",
       "<style scoped>\n",
       "    .dataframe tbody tr th:only-of-type {\n",
       "        vertical-align: middle;\n",
       "    }\n",
       "\n",
       "    .dataframe tbody tr th {\n",
       "        vertical-align: top;\n",
       "    }\n",
       "\n",
       "    .dataframe thead th {\n",
       "        text-align: right;\n",
       "    }\n",
       "</style>\n",
       "<table border=\"1\" class=\"dataframe\">\n",
       "  <thead>\n",
       "    <tr style=\"text-align: right;\">\n",
       "      <th></th>\n",
       "      <th>恋爱次数</th>\n",
       "      <th>结婚意愿</th>\n",
       "      <th>意愿子女数</th>\n",
       "      <th>理想子女数</th>\n",
       "      <th>理想儿子</th>\n",
       "      <th>理想女儿</th>\n",
       "    </tr>\n",
       "  </thead>\n",
       "  <tbody>\n",
       "    <tr>\n",
       "      <th>0</th>\n",
       "      <td>0</td>\n",
       "      <td>3.0</td>\n",
       "      <td>1</td>\n",
       "      <td>2</td>\n",
       "      <td>1</td>\n",
       "      <td>1</td>\n",
       "    </tr>\n",
       "    <tr>\n",
       "      <th>1</th>\n",
       "      <td>0</td>\n",
       "      <td>3.0</td>\n",
       "      <td>1</td>\n",
       "      <td>2</td>\n",
       "      <td>1</td>\n",
       "      <td>1</td>\n",
       "    </tr>\n",
       "    <tr>\n",
       "      <th>2</th>\n",
       "      <td>2</td>\n",
       "      <td>3.0</td>\n",
       "      <td>2</td>\n",
       "      <td>2</td>\n",
       "      <td>1</td>\n",
       "      <td>1</td>\n",
       "    </tr>\n",
       "    <tr>\n",
       "      <th>3</th>\n",
       "      <td>2</td>\n",
       "      <td>3.0</td>\n",
       "      <td>2</td>\n",
       "      <td>2</td>\n",
       "      <td>1</td>\n",
       "      <td>1</td>\n",
       "    </tr>\n",
       "    <tr>\n",
       "      <th>4</th>\n",
       "      <td>1</td>\n",
       "      <td>3.0</td>\n",
       "      <td>2</td>\n",
       "      <td>2</td>\n",
       "      <td>1</td>\n",
       "      <td>1</td>\n",
       "    </tr>\n",
       "    <tr>\n",
       "      <th>...</th>\n",
       "      <td>...</td>\n",
       "      <td>...</td>\n",
       "      <td>...</td>\n",
       "      <td>...</td>\n",
       "      <td>...</td>\n",
       "      <td>...</td>\n",
       "    </tr>\n",
       "    <tr>\n",
       "      <th>395</th>\n",
       "      <td>1</td>\n",
       "      <td>3.0</td>\n",
       "      <td>2</td>\n",
       "      <td>2</td>\n",
       "      <td>1</td>\n",
       "      <td>1</td>\n",
       "    </tr>\n",
       "    <tr>\n",
       "      <th>396</th>\n",
       "      <td>0</td>\n",
       "      <td>3.0</td>\n",
       "      <td>1</td>\n",
       "      <td>1</td>\n",
       "      <td>1</td>\n",
       "      <td>1</td>\n",
       "    </tr>\n",
       "    <tr>\n",
       "      <th>397</th>\n",
       "      <td>0</td>\n",
       "      <td>2.0</td>\n",
       "      <td>0</td>\n",
       "      <td>0</td>\n",
       "      <td>0</td>\n",
       "      <td>0</td>\n",
       "    </tr>\n",
       "    <tr>\n",
       "      <th>398</th>\n",
       "      <td>0</td>\n",
       "      <td>2.0</td>\n",
       "      <td>0</td>\n",
       "      <td>3</td>\n",
       "      <td>0</td>\n",
       "      <td>0</td>\n",
       "    </tr>\n",
       "    <tr>\n",
       "      <th>399</th>\n",
       "      <td>1</td>\n",
       "      <td>3.0</td>\n",
       "      <td>2</td>\n",
       "      <td>3</td>\n",
       "      <td>1</td>\n",
       "      <td>2</td>\n",
       "    </tr>\n",
       "  </tbody>\n",
       "</table>\n",
       "<p>400 rows × 6 columns</p>\n",
       "</div>"
      ],
      "text/plain": [
       "     恋爱次数  结婚意愿  意愿子女数  理想子女数  理想儿子  理想女儿\n",
       "0       0   3.0      1      2     1     1\n",
       "1       0   3.0      1      2     1     1\n",
       "2       2   3.0      2      2     1     1\n",
       "3       2   3.0      2      2     1     1\n",
       "4       1   3.0      2      2     1     1\n",
       "..    ...   ...    ...    ...   ...   ...\n",
       "395     1   3.0      2      2     1     1\n",
       "396     0   3.0      1      1     1     1\n",
       "397     0   2.0      0      0     0     0\n",
       "398     0   2.0      0      3     0     0\n",
       "399     1   3.0      2      3     1     2\n",
       "\n",
       "[400 rows x 6 columns]"
      ]
     },
     "execution_count": 207,
     "metadata": {},
     "output_type": "execute_result"
    }
   ],
   "source": [
    "df_cluster_y"
   ]
  },
  {
   "attachments": {},
   "cell_type": "markdown",
   "metadata": {},
   "source": [
    "#### 聚类n_cluster = 4"
   ]
  },
  {
   "cell_type": "code",
   "execution_count": 298,
   "metadata": {},
   "outputs": [
    {
     "name": "stderr",
     "output_type": "stream",
     "text": [
      "C:\\Users\\24561\\AppData\\Roaming\\Python\\Python39\\site-packages\\sklearn\\cluster\\_kmeans.py:1334: UserWarning: KMeans is known to have a memory leak on Windows with MKL, when there are less chunks than available threads. You can avoid it by setting the environment variable OMP_NUM_THREADS=2.\n",
      "  warnings.warn(\n"
     ]
    }
   ],
   "source": [
    "n_cluster = 4  #聚类的簇数\n",
    "cluster = KMeans(n_clusters=n_cluster,random_state=63)\n",
    "cluster_f = cluster.fit(df_cluster)\n",
    "\n",
    "ypred = cluster_f.labels_  #返回每个样本所返回的标签\n",
    "ypred = pd.DataFrame(ypred)\n",
    "ypred.columns = ['聚类所在簇']"
   ]
  },
  {
   "cell_type": "code",
   "execution_count": 299,
   "metadata": {},
   "outputs": [
    {
     "name": "stdout",
     "output_type": "stream",
     "text": [
      "[1.0740740740740742, 1.3796296296296295, 1.1944444444444444, 1.1764705882352942]\n",
      "[2.2444444444444445, 2.2685185185185186, 2.125, 1.9411764705882353]\n",
      "[1.162962962962963, 1.037037037037037, 1.0416666666666667, 1.011764705882353]\n",
      "[1.5925925925925926, 1.5277777777777777, 1.4861111111111112, 1.2823529411764707]\n",
      "[0.7851851851851852, 0.7037037037037037, 0.7638888888888888, 0.5882352941176471]\n",
      "[0.9037037037037037, 0.9259259259259259, 0.9166666666666666, 0.7647058823529411]\n"
     ]
    }
   ],
   "source": [
    "df_res = pd.concat([ypred,df_cluster_y,df_sex],axis=1)\n",
    "df_res.columns = ['聚类所在簇','恋爱次数','结婚意愿','意愿子女数','理想子女数','理想儿子','理想女儿','性别']\n",
    "\n",
    "df_clu0 = df_res[df_res['聚类所在簇']==0]\n",
    "df_clu1 = df_res[df_res['聚类所在簇']==1]\n",
    "df_clu2 = df_res[df_res['聚类所在簇']==2]\n",
    "df_clu3 = df_res[df_res['聚类所在簇']==3]\n",
    "\n",
    "df_clu0_sex = df_clu0.loc[:,'性别']\n",
    "df_clu1_sex = df_clu1.loc[:,'性别']\n",
    "df_clu2_sex = df_clu2.loc[:,'性别']\n",
    "df_clu3_sex = df_clu3.loc[:,'性别']\n",
    "\n",
    "df_mean0 = df_clu0.mean(axis=0)\n",
    "df_mean1 = df_clu1.mean(axis=0)\n",
    "df_mean2 = df_clu2.mean(axis=0)\n",
    "df_mean3 = df_clu3.mean(axis=0)\n",
    "\n",
    "lovetime_clu = [df_mean0[1],df_mean1[1],df_mean2[1],df_mean3[1]]\n",
    "marrintent_clu = [df_mean0[2],df_mean1[2],df_mean2[2],df_mean3[2]]\n",
    "desirechild_clu = [df_mean0[3],df_mean1[3],df_mean2[3],df_mean3[3]]\n",
    "idealchild_clu = [df_mean0[4],df_mean1[4],df_mean2[4],df_mean3[4]]\n",
    "idealboy_clu = [df_mean0[5],df_mean1[5],df_mean2[5],df_mean3[5]]\n",
    "idealgirl_clu = [df_mean0[6],df_mean1[6],df_mean2[6],df_mean3[6]]\n",
    "\n",
    "print(lovetime_clu)\n",
    "print(marrintent_clu)\n",
    "print(desirechild_clu)\n",
    "print(idealchild_clu)\n",
    "print(idealboy_clu)\n",
    "print(idealgirl_clu)"
   ]
  },
  {
   "cell_type": "code",
   "execution_count": 300,
   "metadata": {},
   "outputs": [],
   "source": [
    "def plot_pie_sex(df,title):\n",
    "    plt.figure(figsize=(6,9))\n",
    "    #定义饼状图的标签，标签是列表\n",
    "    labels = [\"female\",\"male\"]\n",
    "    #每个标签占多大，会自动去算百分比\n",
    "    sizes = df.value_counts().sort_index()\n",
    "    colors = ['red','blue']\n",
    "    patches,l_text,p_text = plt.pie(sizes,labels=labels,colors=colors,\n",
    "                                    labeldistance = 1.1,autopct = '%3.1f%%',shadow = False,\n",
    "                                    startangle = 90,pctdistance = 0.6)\n",
    "    for t in l_text:\n",
    "        t.set_size(20)\n",
    "    for t in p_text:\n",
    "        t.set_size(20)\n",
    "    # 设置x，y轴刻度一致，这样饼图才能是圆的\n",
    "    plt.axis('equal')\n",
    "    plt.legend()\n",
    "    plt.title(title)\n",
    "    plt.show()"
   ]
  },
  {
   "cell_type": "code",
   "execution_count": 301,
   "metadata": {},
   "outputs": [
    {
     "data": {
      "image/png": "[encoded data removed]",
      "text/plain": [
       "<Figure size 432x648 with 1 Axes>"
      ]
     },
     "metadata": {},
     "output_type": "display_data"
    },
    {
     "data": {
      "image/png": "[encoded data removed]",
      "text/plain": [
       "<Figure size 432x648 with 1 Axes>"
      ]
     },
     "metadata": {},
     "output_type": "display_data"
    },
    {
     "data": {
      "image/png": "[encoded data removed]",
      "text/plain": [
       "<Figure size 432x648 with 1 Axes>"
      ]
     },
     "metadata": {},
     "output_type": "display_data"
    },
    {
     "data": {
      "image/png": "[encoded data removed]",
      "text/plain": [
       "<Figure size 432x648 with 1 Axes>"
      ]
     },
     "metadata": {},
     "output_type": "display_data"
    }
   ],
   "source": [
    "plot_pie_sex(df_clu0_sex,'聚类1的性别占比')\n",
    "plot_pie_sex(df_clu1_sex,'聚类2的性别占比')\n",
    "plot_pie_sex(df_clu2_sex,'聚类3的性别占比')\n",
    "plot_pie_sex(df_clu3_sex,'聚类4的性别占比')"
   ]
  },
  {
   "cell_type": "code",
   "execution_count": 302,
   "metadata": {},
   "outputs": [
    {
     "name": "stdout",
     "output_type": "stream",
     "text": [
      "[135, 108, 72, 85]\n"
     ]
    },
    {
     "data": {
      "image/png": "[encoded data removed]",
      "text/plain": [
       "<Figure size 432x648 with 1 Axes>"
      ]
     },
     "metadata": {},
     "output_type": "display_data"
    }
   ],
   "source": [
    "sample_num = [df_clu0.shape[0],df_clu1.shape[0],df_clu2.shape[0],df_clu3.shape[0]]\n",
    "print(sample_num)\n",
    "\n",
    "plt.figure(figsize=(6,9))\n",
    "#定义饼状图的标签，标签是列表\n",
    "labels = [\"cluster1\",\"cluster2\",\"cluster3\",\"cluster4\"]\n",
    "#每个标签占多大，会自动去算百分比\n",
    "sizes = sample_num\n",
    "colors = ['blue','red','green','orange']\n",
    "patches,l_text,p_text = plt.pie(sizes,labels=labels,colors=colors,\n",
    "                                labeldistance = 1.1,autopct = '%3.1f%%',shadow = False,\n",
    "                                startangle = 90,pctdistance = 0.6)\n",
    "for t in l_text:\n",
    "    t.set_size(20)\n",
    "for t in p_text:\n",
    "    t.set_size(20)\n",
    "# 设置x，y轴刻度一致，这样饼图才能是圆的\n",
    "plt.axis('equal')\n",
    "plt.legend()\n",
    "plt.title(\"各聚类中的抽样样本量占比\")\n",
    "plt.show()"
   ]
  },
  {
   "cell_type": "code",
   "execution_count": 304,
   "metadata": {},
   "outputs": [],
   "source": [
    "df_factor = pd.concat([ypred,df_inttime,df_circle,df_app],axis=1)\n",
    "df_factor.columns = ['聚类所在簇','上网时长','动漫','综艺','体育/电竞','明星','科技/数码','网文','游戏','微博','知乎','豆瓣','虎扑','百度贴吧','小红书','B站','短视频']\n",
    "\n",
    "df_clu0_factor = df_factor[df_factor['聚类所在簇']==0]\n",
    "df_clu1_factor = df_factor[df_factor['聚类所在簇']==1]\n",
    "df_clu2_factor = df_factor[df_factor['聚类所在簇']==2]\n",
    "df_clu3_factor = df_factor[df_factor['聚类所在簇']==3]\n",
    "\n",
    "df_mean0_factor = pd.DataFrame(df_clu0_factor.mean(axis=0)[1:])\n",
    "df_mean1_factor = pd.DataFrame(df_clu1_factor.mean(axis=0)[1:])\n",
    "df_mean2_factor = pd.DataFrame(df_clu2_factor.mean(axis=0)[1:])\n",
    "df_mean3_factor = pd.DataFrame(df_clu3_factor.mean(axis=0)[1:])\n",
    "\n",
    "df_mean = pd.concat([df_mean0_factor,df_mean1_factor,df_mean2_factor,df_mean3_factor],axis=1)\n",
    "df_mean.columns = ['cluster1','cluster2','cluster3','cluster4']"
   ]
  },
  {
   "cell_type": "code",
   "execution_count": 305,
   "metadata": {},
   "outputs": [
    {
     "data": {
      "text/html": [
       "<div>\n",
       "<style scoped>\n",
       "    .dataframe tbody tr th:only-of-type {\n",
       "        vertical-align: middle;\n",
       "    }\n",
       "\n",
       "    .dataframe tbody tr th {\n",
       "        vertical-align: top;\n",
       "    }\n",
       "\n",
       "    .dataframe thead th {\n",
       "        text-align: right;\n",
       "    }\n",
       "</style>\n",
       "<table border=\"1\" class=\"dataframe\">\n",
       "  <thead>\n",
       "    <tr style=\"text-align: right;\">\n",
       "      <th></th>\n",
       "      <th>cluster1</th>\n",
       "      <th>cluster2</th>\n",
       "      <th>cluster3</th>\n",
       "      <th>cluster4</th>\n",
       "    </tr>\n",
       "  </thead>\n",
       "  <tbody>\n",
       "    <tr>\n",
       "      <th>上网时长</th>\n",
       "      <td>4.125926</td>\n",
       "      <td>4.129630</td>\n",
       "      <td>4.472222</td>\n",
       "      <td>4.247059</td>\n",
       "    </tr>\n",
       "    <tr>\n",
       "      <th>动漫</th>\n",
       "      <td>1.214815</td>\n",
       "      <td>1.148148</td>\n",
       "      <td>1.083333</td>\n",
       "      <td>1.094118</td>\n",
       "    </tr>\n",
       "    <tr>\n",
       "      <th>综艺</th>\n",
       "      <td>0.711111</td>\n",
       "      <td>0.833333</td>\n",
       "      <td>0.805556</td>\n",
       "      <td>0.941176</td>\n",
       "    </tr>\n",
       "    <tr>\n",
       "      <th>体育/电竞</th>\n",
       "      <td>1.325926</td>\n",
       "      <td>1.259259</td>\n",
       "      <td>1.208333</td>\n",
       "      <td>1.423529</td>\n",
       "    </tr>\n",
       "    <tr>\n",
       "      <th>明星</th>\n",
       "      <td>0.592593</td>\n",
       "      <td>0.750000</td>\n",
       "      <td>0.791667</td>\n",
       "      <td>0.847059</td>\n",
       "    </tr>\n",
       "    <tr>\n",
       "      <th>科技/数码</th>\n",
       "      <td>1.096296</td>\n",
       "      <td>1.203704</td>\n",
       "      <td>1.291667</td>\n",
       "      <td>1.270588</td>\n",
       "    </tr>\n",
       "    <tr>\n",
       "      <th>网文</th>\n",
       "      <td>0.725926</td>\n",
       "      <td>0.962963</td>\n",
       "      <td>1.055556</td>\n",
       "      <td>0.835294</td>\n",
       "    </tr>\n",
       "    <tr>\n",
       "      <th>游戏</th>\n",
       "      <td>1.459259</td>\n",
       "      <td>1.546296</td>\n",
       "      <td>1.583333</td>\n",
       "      <td>1.647059</td>\n",
       "    </tr>\n",
       "    <tr>\n",
       "      <th>微博</th>\n",
       "      <td>1.148148</td>\n",
       "      <td>1.296296</td>\n",
       "      <td>1.416667</td>\n",
       "      <td>1.376471</td>\n",
       "    </tr>\n",
       "    <tr>\n",
       "      <th>知乎</th>\n",
       "      <td>1.303704</td>\n",
       "      <td>1.379630</td>\n",
       "      <td>1.472222</td>\n",
       "      <td>1.164706</td>\n",
       "    </tr>\n",
       "    <tr>\n",
       "      <th>豆瓣</th>\n",
       "      <td>0.592593</td>\n",
       "      <td>0.537037</td>\n",
       "      <td>0.500000</td>\n",
       "      <td>0.552941</td>\n",
       "    </tr>\n",
       "    <tr>\n",
       "      <th>虎扑</th>\n",
       "      <td>0.340741</td>\n",
       "      <td>0.259259</td>\n",
       "      <td>0.166667</td>\n",
       "      <td>0.435294</td>\n",
       "    </tr>\n",
       "    <tr>\n",
       "      <th>百度贴吧</th>\n",
       "      <td>0.807407</td>\n",
       "      <td>0.731481</td>\n",
       "      <td>0.763889</td>\n",
       "      <td>0.717647</td>\n",
       "    </tr>\n",
       "    <tr>\n",
       "      <th>小红书</th>\n",
       "      <td>1.029630</td>\n",
       "      <td>1.148148</td>\n",
       "      <td>1.222222</td>\n",
       "      <td>1.152941</td>\n",
       "    </tr>\n",
       "    <tr>\n",
       "      <th>B站</th>\n",
       "      <td>2.266667</td>\n",
       "      <td>2.379630</td>\n",
       "      <td>2.250000</td>\n",
       "      <td>2.329412</td>\n",
       "    </tr>\n",
       "    <tr>\n",
       "      <th>短视频</th>\n",
       "      <td>0.888889</td>\n",
       "      <td>0.861111</td>\n",
       "      <td>1.000000</td>\n",
       "      <td>1.141176</td>\n",
       "    </tr>\n",
       "  </tbody>\n",
       "</table>\n",
       "</div>"
      ],
      "text/plain": [
       "       cluster1  cluster2  cluster3  cluster4\n",
       "上网时长   4.125926  4.129630  4.472222  4.247059\n",
       "动漫     1.214815  1.148148  1.083333  1.094118\n",
       "综艺     0.711111  0.833333  0.805556  0.941176\n",
       "体育/电竞  1.325926  1.259259  1.208333  1.423529\n",
       "明星     0.592593  0.750000  0.791667  0.847059\n",
       "科技/数码  1.096296  1.203704  1.291667  1.270588\n",
       "网文     0.725926  0.962963  1.055556  0.835294\n",
       "游戏     1.459259  1.546296  1.583333  1.647059\n",
       "微博     1.148148  1.296296  1.416667  1.376471\n",
       "知乎     1.303704  1.379630  1.472222  1.164706\n",
       "豆瓣     0.592593  0.537037  0.500000  0.552941\n",
       "虎扑     0.340741  0.259259  0.166667  0.435294\n",
       "百度贴吧   0.807407  0.731481  0.763889  0.717647\n",
       "小红书    1.029630  1.148148  1.222222  1.152941\n",
       "B站     2.266667  2.379630  2.250000  2.329412\n",
       "短视频    0.888889  0.861111  1.000000  1.141176"
      ]
     },
     "execution_count": 305,
     "metadata": {},
     "output_type": "execute_result"
    }
   ],
   "source": [
    "df_mean"
   ]
  },
  {
   "cell_type": "code",
   "execution_count": 306,
   "metadata": {},
   "outputs": [],
   "source": [
    "def plot_bar(X,Y,xlabel,ylabel,title,ylim):\n",
    "    fig = plt.figure()\n",
    "    plt.bar(X,Y,0.4,color=['blue','red','green','orange','purple'])\n",
    "    plt.xlabel(xlabel)\n",
    "    plt.ylabel(ylabel)\n",
    "    plt.ylim(0,ylim)\n",
    "    plt.title(title)\n",
    "    plt.show()"
   ]
  },
  {
   "cell_type": "code",
   "execution_count": 307,
   "metadata": {},
   "outputs": [
    {
     "data": {
      "image/png": "[encoded data removed]",
      "text/plain": [
       "<Figure size 432x288 with 1 Axes>"
      ]
     },
     "metadata": {
      "needs_background": "light"
     },
     "output_type": "display_data"
    },
    {
     "data": {
      "image/png": "[encoded data removed]",
      "text/plain": [
       "<Figure size 432x288 with 1 Axes>"
      ]
     },
     "metadata": {
      "needs_background": "light"
     },
     "output_type": "display_data"
    },
    {
     "data": {
      "image/png": "[encoded data removed]",
      "text/plain": [
       "<Figure size 432x288 with 1 Axes>"
      ]
     },
     "metadata": {
      "needs_background": "light"
     },
     "output_type": "display_data"
    },
    {
     "data": {
      "image/png": "[encoded data removed]",
      "text/plain": [
       "<Figure size 432x288 with 1 Axes>"
      ]
     },
     "metadata": {
      "needs_background": "light"
     },
     "output_type": "display_data"
    },
    {
     "data": {
      "image/png": "[encoded data removed]",
      "text/plain": [
       "<Figure size 432x288 with 1 Axes>"
      ]
     },
     "metadata": {
      "needs_background": "light"
     },
     "output_type": "display_data"
    },
    {
     "data": {
      "image/png": "[encoded data removed]",
      "text/plain": [
       "<Figure size 432x288 with 1 Axes>"
      ]
     },
     "metadata": {
      "needs_background": "light"
     },
     "output_type": "display_data"
    }
   ],
   "source": [
    "X=['cluster1','cluster2','cluster3','cluster4']\n",
    "Ym=marrintent_clu \n",
    "plot_bar(X,Ym,\"聚类索引\",\"结婚意愿\",\"不同聚类的结婚意愿\",3)\n",
    "Yl=lovetime_clu \n",
    "plot_bar(X,Yl,\"聚类索引\",\"恋爱次数\",\"不同聚类的恋爱次数\",2)\n",
    "Yd=desirechild_clu\n",
    "plot_bar(X,Yd,\"聚类索引\",\"意愿子女数\",\"不同聚类的意愿子女数\",1.5)\n",
    "Yi=idealchild_clu\n",
    "plot_bar(X,Yi,\"聚类索引\",\"理想子女数\",\"不同聚类的理想子女数\",2)\n",
    "Yb=idealboy_clu\n",
    "plot_bar(X,Yb,\"聚类索引\",\"理想儿子数\",\"不同聚类的理想儿子数\",1)\n",
    "Yg=idealgirl_clu\n",
    "plot_bar(X,Yg,\"聚类索引\",\"理想女儿数\",\"不同聚类的理想女儿数\",1)"
   ]
  },
  {
   "attachments": {},
   "cell_type": "markdown",
   "metadata": {},
   "source": [
    "#### 聚类n_cluster = 3"
   ]
  },
  {
   "cell_type": "code",
   "execution_count": 169,
   "metadata": {},
   "outputs": [
    {
     "name": "stderr",
     "output_type": "stream",
     "text": [
      "C:\\Users\\24561\\AppData\\Roaming\\Python\\Python39\\site-packages\\sklearn\\cluster\\_kmeans.py:1334: UserWarning: KMeans is known to have a memory leak on Windows with MKL, when there are less chunks than available threads. You can avoid it by setting the environment variable OMP_NUM_THREADS=2.\n",
      "  warnings.warn(\n"
     ]
    }
   ],
   "source": [
    "n_cluster = 3  #聚类的簇数\n",
    "cluster = KMeans(n_clusters=n_cluster,random_state=63)\n",
    "cluster_f = cluster.fit(df_cluster)\n",
    "\n",
    "ypred = cluster_f.labels_  #返回每个样本所返回的标签\n",
    "ypred = pd.DataFrame(ypred)\n",
    "ypred.columns = ['聚类所在簇']"
   ]
  },
  {
   "cell_type": "code",
   "execution_count": 171,
   "metadata": {},
   "outputs": [
    {
     "name": "stdout",
     "output_type": "stream",
     "text": [
      "[1.392156862745098, 1.2138364779874213, 1.1818181818181819]\n",
      "[2.2549019607843137, 2.2138364779874213, 1.9090909090909092]\n",
      "[1.0130718954248366, 1.1886792452830188, 0.9545454545454546]\n",
      "[1.4901960784313726, 1.559748427672956, 1.3068181818181819]\n"
     ]
    }
   ],
   "source": [
    "df_res = pd.concat([ypred,df_cluster_y],axis=1)\n",
    "df_res.columns = ['聚类所在簇','恋爱次数','结婚意愿','意愿子女数','理想子女数']\n",
    "\n",
    "df_clu0 = df_res[df_res['聚类所在簇']==0]\n",
    "df_clu1 = df_res[df_res['聚类所在簇']==1]\n",
    "df_clu2 = df_res[df_res['聚类所在簇']==2]\n",
    "\n",
    "df_mean0 = df_clu0.mean(axis=0)\n",
    "df_mean1 = df_clu1.mean(axis=0)\n",
    "df_mean2 = df_clu2.mean(axis=0)\n",
    "\n",
    "lovetime_clu = [df_mean0[1],df_mean1[1],df_mean2[1]]\n",
    "marrintent_clu = [df_mean0[2],df_mean1[2],df_mean2[2]]\n",
    "desirechild_clu = [df_mean0[3],df_mean1[3],df_mean2[3]]\n",
    "idealchild_clu = [df_mean0[4],df_mean1[4],df_mean2[4]]\n",
    "\n",
    "print(lovetime_clu)\n",
    "print(marrintent_clu)\n",
    "print(desirechild_clu)\n",
    "print(idealchild_clu)"
   ]
  },
  {
   "attachments": {},
   "cell_type": "markdown",
   "metadata": {},
   "source": [
    "#### 聚类n_cluster = 5"
   ]
  },
  {
   "cell_type": "code",
   "execution_count": 229,
   "metadata": {},
   "outputs": [
    {
     "name": "stderr",
     "output_type": "stream",
     "text": [
      "C:\\Users\\24561\\AppData\\Roaming\\Python\\Python39\\site-packages\\sklearn\\cluster\\_kmeans.py:1334: UserWarning: KMeans is known to have a memory leak on Windows with MKL, when there are less chunks than available threads. You can avoid it by setting the environment variable OMP_NUM_THREADS=2.\n",
      "  warnings.warn(\n"
     ]
    }
   ],
   "source": [
    "n_cluster = 5  #聚类的簇数\n",
    "cluster = KMeans(n_clusters=n_cluster,random_state=63)\n",
    "cluster_f = cluster.fit(df_cluster)\n",
    "\n",
    "ypred = cluster_f.labels_  #返回每个样本所返回的标签\n",
    "ypred = pd.DataFrame(ypred)\n",
    "ypred.columns = ['聚类所在簇']"
   ]
  },
  {
   "cell_type": "code",
   "execution_count": 257,
   "metadata": {},
   "outputs": [
    {
     "name": "stdout",
     "output_type": "stream",
     "text": [
      "[1.121212121212121, 1.1686746987951808, 1.0275229357798166, 1.626865671641791, 1.1733333333333333]\n",
      "[2.1363636363636362, 1.927710843373494, 2.18348623853211, 2.4029850746268657, 2.2133333333333334]\n",
      "[1.0606060606060606, 1.0240963855421688, 1.1009174311926606, 1.1940298507462686, 1.0]\n",
      "[1.5151515151515151, 1.2891566265060241, 1.5321100917431192, 1.7164179104477613, 1.4266666666666667]\n",
      "[0.7878787878787878, 0.5903614457831325, 0.7339449541284404, 0.835820895522388, 0.6666666666666666]\n",
      "[0.9090909090909091, 0.7710843373493976, 0.8899082568807339, 0.9850746268656716, 0.88]\n"
     ]
    }
   ],
   "source": [
    "df_res = pd.concat([ypred,df_cluster_y,df_sex],axis=1)\n",
    "df_res.columns = ['聚类所在簇','恋爱次数','结婚意愿','意愿子女数','理想子女数','理想儿子','理想女儿','性别']\n",
    "\n",
    "df_clu0 = df_res[df_res['聚类所在簇']==0]\n",
    "df_clu1 = df_res[df_res['聚类所在簇']==1]\n",
    "df_clu2 = df_res[df_res['聚类所在簇']==2]\n",
    "df_clu3 = df_res[df_res['聚类所在簇']==3]\n",
    "df_clu4 = df_res[df_res['聚类所在簇']==4]\n",
    "\n",
    "df_clu0_sex = df_clu0.loc[:,'性别']\n",
    "df_clu1_sex = df_clu1.loc[:,'性别']\n",
    "df_clu2_sex = df_clu2.loc[:,'性别']\n",
    "df_clu3_sex = df_clu3.loc[:,'性别']\n",
    "df_clu4_sex = df_clu4.loc[:,'性别']\n",
    "\n",
    "df_mean0 = df_clu0.mean(axis=0)\n",
    "df_mean1 = df_clu1.mean(axis=0)\n",
    "df_mean2 = df_clu2.mean(axis=0)\n",
    "df_mean3 = df_clu3.mean(axis=0)\n",
    "df_mean4 = df_clu4.mean(axis=0)\n",
    "\n",
    "lovetime_clu = [df_mean0[1],df_mean1[1],df_mean2[1],df_mean3[1],df_mean4[1]]\n",
    "marrintent_clu = [df_mean0[2],df_mean1[2],df_mean2[2],df_mean3[2],df_mean4[2]]\n",
    "desirechild_clu = [df_mean0[3],df_mean1[3],df_mean2[3],df_mean3[3],df_mean4[3]]\n",
    "idealchild_clu = [df_mean0[4],df_mean1[4],df_mean2[4],df_mean3[4],df_mean4[4]]\n",
    "idealboy_clu = [df_mean0[5],df_mean1[5],df_mean2[5],df_mean3[5],df_mean4[5]]\n",
    "idealgirl_clu = [df_mean0[6],df_mean1[6],df_mean2[6],df_mean3[6],df_mean4[6]]\n",
    "\n",
    "print(lovetime_clu)\n",
    "print(marrintent_clu)\n",
    "print(desirechild_clu)\n",
    "print(idealchild_clu)\n",
    "print(idealboy_clu)\n",
    "print(idealgirl_clu)"
   ]
  },
  {
   "attachments": {},
   "cell_type": "markdown",
   "metadata": {},
   "source": [
    "#### 每个聚类的性别分析"
   ]
  },
  {
   "cell_type": "code",
   "execution_count": 295,
   "metadata": {},
   "outputs": [],
   "source": [
    "def plot_pie_sex(df,title):\n",
    "    plt.figure(figsize=(6,9))\n",
    "    #定义饼状图的标签，标签是列表\n",
    "    labels = [\"female\",\"male\"]\n",
    "    #每个标签占多大，会自动去算百分比\n",
    "    sizes = df.value_counts().sort_index()\n",
    "    colors = ['red','blue']\n",
    "    patches,l_text,p_text = plt.pie(sizes,labels=labels,colors=colors,\n",
    "                                    labeldistance = 1.1,autopct = '%3.1f%%',shadow = False,\n",
    "                                    startangle = 90,pctdistance = 0.6)\n",
    "    for t in l_text:\n",
    "        t.set_size(20)\n",
    "    for t in p_text:\n",
    "        t.set_size(20)\n",
    "    # 设置x，y轴刻度一致，这样饼图才能是圆的\n",
    "    plt.axis('equal')\n",
    "    plt.legend()\n",
    "    plt.title(title)\n",
    "    plt.show()"
   ]
  },
  {
   "cell_type": "code",
   "execution_count": 296,
   "metadata": {},
   "outputs": [
    {
     "data": {
      "image/png": "[encoded data removed]",
      "text/plain": [
       "<Figure size 432x648 with 1 Axes>"
      ]
     },
     "metadata": {},
     "output_type": "display_data"
    },
    {
     "data": {
      "image/png": "[encoded data removed]",
      "text/plain": [
       "<Figure size 432x648 with 1 Axes>"
      ]
     },
     "metadata": {},
     "output_type": "display_data"
    },
    {
     "data": {
      "image/png": "[encoded data removed]",
      "text/plain": [
       "<Figure size 432x648 with 1 Axes>"
      ]
     },
     "metadata": {},
     "output_type": "display_data"
    },
    {
     "data": {
      "image/png": "[encoded data removed]",
      "text/plain": [
       "<Figure size 432x648 with 1 Axes>"
      ]
     },
     "metadata": {},
     "output_type": "display_data"
    },
    {
     "data": {
      "image/png": "[encoded data removed]",
      "text/plain": [
       "<Figure size 432x648 with 1 Axes>"
      ]
     },
     "metadata": {},
     "output_type": "display_data"
    }
   ],
   "source": [
    "plot_pie_sex(df_clu0_sex,'聚类1的性别占比')\n",
    "plot_pie_sex(df_clu1_sex,'聚类2的性别占比')\n",
    "plot_pie_sex(df_clu2_sex,'聚类3的性别占比')\n",
    "plot_pie_sex(df_clu3_sex,'聚类4的性别占比')\n",
    "plot_pie_sex(df_clu4_sex,'聚类5的性别占比')"
   ]
  },
  {
   "attachments": {},
   "cell_type": "markdown",
   "metadata": {},
   "source": [
    "#### 聚类的样本量分析"
   ]
  },
  {
   "cell_type": "code",
   "execution_count": 231,
   "metadata": {},
   "outputs": [
    {
     "name": "stdout",
     "output_type": "stream",
     "text": [
      "[66, 83, 109, 67, 75]\n"
     ]
    }
   ],
   "source": [
    "sample_num = [df_clu0.shape[0],df_clu1.shape[0],df_clu2.shape[0],df_clu3.shape[0],df_clu4.shape[0]]\n",
    "print(sample_num)"
   ]
  },
  {
   "cell_type": "code",
   "execution_count": 297,
   "metadata": {},
   "outputs": [
    {
     "data": {
      "image/png": "[encoded data removed]",
      "text/plain": [
       "<Figure size 432x648 with 1 Axes>"
      ]
     },
     "metadata": {},
     "output_type": "display_data"
    }
   ],
   "source": [
    "plt.figure(figsize=(6,9))\n",
    "#定义饼状图的标签，标签是列表\n",
    "labels = [\"cluster1\",\"cluster2\",\"cluster3\",\"cluster4\",\"cluster5\"]\n",
    "#每个标签占多大，会自动去算百分比\n",
    "sizes = sample_num\n",
    "colors = ['blue','red','green','orange','purple']\n",
    "patches,l_text,p_text = plt.pie(sizes,labels=labels,colors=colors,\n",
    "                                labeldistance = 1.1,autopct = '%3.1f%%',shadow = False,\n",
    "                                startangle = 90,pctdistance = 0.6)\n",
    "for t in l_text:\n",
    "    t.set_size(20)\n",
    "for t in p_text:\n",
    "    t.set_size(20)\n",
    "# 设置x，y轴刻度一致，这样饼图才能是圆的\n",
    "plt.axis('equal')\n",
    "plt.legend()\n",
    "plt.title(\"各聚类中的抽样样本量占比\")\n",
    "plt.show()"
   ]
  },
  {
   "attachments": {},
   "cell_type": "markdown",
   "metadata": {},
   "source": [
    "#### 每个聚类的特征分析"
   ]
  },
  {
   "cell_type": "code",
   "execution_count": 244,
   "metadata": {},
   "outputs": [],
   "source": [
    "df_factor = pd.concat([ypred,df_inttime,df_circle,df_app],axis=1)\n",
    "df_factor.columns = ['聚类所在簇','上网时长','动漫','综艺','体育/电竞','明星','科技/数码','网文','游戏','微博','知乎','豆瓣','虎扑','百度贴吧','小红书','B站','短视频']\n",
    "\n",
    "df_clu0_factor = df_factor[df_factor['聚类所在簇']==0]\n",
    "df_clu1_factor = df_factor[df_factor['聚类所在簇']==1]\n",
    "df_clu2_factor = df_factor[df_factor['聚类所在簇']==2]\n",
    "df_clu3_factor = df_factor[df_factor['聚类所在簇']==3]\n",
    "df_clu4_factor = df_factor[df_factor['聚类所在簇']==4]\n",
    "\n",
    "df_mean0_factor = pd.DataFrame(df_clu0_factor.mean(axis=0)[1:])\n",
    "df_mean1_factor = pd.DataFrame(df_clu1_factor.mean(axis=0)[1:])\n",
    "df_mean2_factor = pd.DataFrame(df_clu2_factor.mean(axis=0)[1:])\n",
    "df_mean3_factor = pd.DataFrame(df_clu3_factor.mean(axis=0)[1:])\n",
    "df_mean4_factor = pd.DataFrame(df_clu4_factor.mean(axis=0)[1:])\n",
    "\n",
    "df_mean = pd.concat([df_mean0_factor,df_mean1_factor,df_mean2_factor,df_mean3_factor,df_mean4_factor],axis=1)\n",
    "df_mean.columns = ['cluster1','cluster2','cluster3','cluster4','cluster5']"
   ]
  },
  {
   "cell_type": "code",
   "execution_count": 245,
   "metadata": {},
   "outputs": [
    {
     "data": {
      "text/html": [
       "<div>\n",
       "<style scoped>\n",
       "    .dataframe tbody tr th:only-of-type {\n",
       "        vertical-align: middle;\n",
       "    }\n",
       "\n",
       "    .dataframe tbody tr th {\n",
       "        vertical-align: top;\n",
       "    }\n",
       "\n",
       "    .dataframe thead th {\n",
       "        text-align: right;\n",
       "    }\n",
       "</style>\n",
       "<table border=\"1\" class=\"dataframe\">\n",
       "  <thead>\n",
       "    <tr style=\"text-align: right;\">\n",
       "      <th></th>\n",
       "      <th>cluster1</th>\n",
       "      <th>cluster2</th>\n",
       "      <th>cluster3</th>\n",
       "      <th>cluster4</th>\n",
       "      <th>cluster5</th>\n",
       "    </tr>\n",
       "  </thead>\n",
       "  <tbody>\n",
       "    <tr>\n",
       "      <th>上网时长</th>\n",
       "      <td>4.515152</td>\n",
       "      <td>4.277108</td>\n",
       "      <td>4.211009</td>\n",
       "      <td>4.134328</td>\n",
       "      <td>3.960000</td>\n",
       "    </tr>\n",
       "    <tr>\n",
       "      <th>动漫</th>\n",
       "      <td>1.060606</td>\n",
       "      <td>1.096386</td>\n",
       "      <td>1.137615</td>\n",
       "      <td>1.313433</td>\n",
       "      <td>1.146667</td>\n",
       "    </tr>\n",
       "    <tr>\n",
       "      <th>综艺</th>\n",
       "      <td>0.803030</td>\n",
       "      <td>0.927711</td>\n",
       "      <td>0.715596</td>\n",
       "      <td>0.940299</td>\n",
       "      <td>0.706667</td>\n",
       "    </tr>\n",
       "    <tr>\n",
       "      <th>体育/电竞</th>\n",
       "      <td>1.227273</td>\n",
       "      <td>1.421687</td>\n",
       "      <td>1.266055</td>\n",
       "      <td>1.253731</td>\n",
       "      <td>1.360000</td>\n",
       "    </tr>\n",
       "    <tr>\n",
       "      <th>明星</th>\n",
       "      <td>0.833333</td>\n",
       "      <td>0.855422</td>\n",
       "      <td>0.559633</td>\n",
       "      <td>0.776119</td>\n",
       "      <td>0.680000</td>\n",
       "    </tr>\n",
       "    <tr>\n",
       "      <th>科技/数码</th>\n",
       "      <td>1.212121</td>\n",
       "      <td>1.265060</td>\n",
       "      <td>1.146789</td>\n",
       "      <td>1.119403</td>\n",
       "      <td>1.253333</td>\n",
       "    </tr>\n",
       "    <tr>\n",
       "      <th>网文</th>\n",
       "      <td>1.075758</td>\n",
       "      <td>0.855422</td>\n",
       "      <td>0.724771</td>\n",
       "      <td>0.925373</td>\n",
       "      <td>0.880000</td>\n",
       "    </tr>\n",
       "    <tr>\n",
       "      <th>游戏</th>\n",
       "      <td>1.590909</td>\n",
       "      <td>1.650602</td>\n",
       "      <td>1.467890</td>\n",
       "      <td>1.388060</td>\n",
       "      <td>1.640000</td>\n",
       "    </tr>\n",
       "    <tr>\n",
       "      <th>微博</th>\n",
       "      <td>1.500000</td>\n",
       "      <td>1.337349</td>\n",
       "      <td>1.119266</td>\n",
       "      <td>1.253731</td>\n",
       "      <td>1.306667</td>\n",
       "    </tr>\n",
       "    <tr>\n",
       "      <th>知乎</th>\n",
       "      <td>1.500000</td>\n",
       "      <td>1.168675</td>\n",
       "      <td>1.275229</td>\n",
       "      <td>1.358209</td>\n",
       "      <td>1.386667</td>\n",
       "    </tr>\n",
       "    <tr>\n",
       "      <th>豆瓣</th>\n",
       "      <td>0.530303</td>\n",
       "      <td>0.542169</td>\n",
       "      <td>0.568807</td>\n",
       "      <td>0.641791</td>\n",
       "      <td>0.480000</td>\n",
       "    </tr>\n",
       "    <tr>\n",
       "      <th>虎扑</th>\n",
       "      <td>0.181818</td>\n",
       "      <td>0.421687</td>\n",
       "      <td>0.321101</td>\n",
       "      <td>0.223881</td>\n",
       "      <td>0.346667</td>\n",
       "    </tr>\n",
       "    <tr>\n",
       "      <th>百度贴吧</th>\n",
       "      <td>0.818182</td>\n",
       "      <td>0.722892</td>\n",
       "      <td>0.807339</td>\n",
       "      <td>0.776119</td>\n",
       "      <td>0.666667</td>\n",
       "    </tr>\n",
       "    <tr>\n",
       "      <th>小红书</th>\n",
       "      <td>1.257576</td>\n",
       "      <td>1.168675</td>\n",
       "      <td>1.036697</td>\n",
       "      <td>1.074627</td>\n",
       "      <td>1.120000</td>\n",
       "    </tr>\n",
       "    <tr>\n",
       "      <th>B站</th>\n",
       "      <td>2.212121</td>\n",
       "      <td>2.337349</td>\n",
       "      <td>2.293578</td>\n",
       "      <td>2.313433</td>\n",
       "      <td>2.373333</td>\n",
       "    </tr>\n",
       "    <tr>\n",
       "      <th>短视频</th>\n",
       "      <td>1.075758</td>\n",
       "      <td>1.144578</td>\n",
       "      <td>0.926606</td>\n",
       "      <td>0.701493</td>\n",
       "      <td>0.906667</td>\n",
       "    </tr>\n",
       "  </tbody>\n",
       "</table>\n",
       "</div>"
      ],
      "text/plain": [
       "       cluster1  cluster2  cluster3  cluster4  cluster5\n",
       "上网时长   4.515152  4.277108  4.211009  4.134328  3.960000\n",
       "动漫     1.060606  1.096386  1.137615  1.313433  1.146667\n",
       "综艺     0.803030  0.927711  0.715596  0.940299  0.706667\n",
       "体育/电竞  1.227273  1.421687  1.266055  1.253731  1.360000\n",
       "明星     0.833333  0.855422  0.559633  0.776119  0.680000\n",
       "科技/数码  1.212121  1.265060  1.146789  1.119403  1.253333\n",
       "网文     1.075758  0.855422  0.724771  0.925373  0.880000\n",
       "游戏     1.590909  1.650602  1.467890  1.388060  1.640000\n",
       "微博     1.500000  1.337349  1.119266  1.253731  1.306667\n",
       "知乎     1.500000  1.168675  1.275229  1.358209  1.386667\n",
       "豆瓣     0.530303  0.542169  0.568807  0.641791  0.480000\n",
       "虎扑     0.181818  0.421687  0.321101  0.223881  0.346667\n",
       "百度贴吧   0.818182  0.722892  0.807339  0.776119  0.666667\n",
       "小红书    1.257576  1.168675  1.036697  1.074627  1.120000\n",
       "B站     2.212121  2.337349  2.293578  2.313433  2.373333\n",
       "短视频    1.075758  1.144578  0.926606  0.701493  0.906667"
      ]
     },
     "execution_count": 245,
     "metadata": {},
     "output_type": "execute_result"
    }
   ],
   "source": [
    "df_mean"
   ]
  },
  {
   "cell_type": "code",
   "execution_count": 239,
   "metadata": {},
   "outputs": [
    {
     "data": {
      "text/plain": [
       "pandas.core.series.Series"
      ]
     },
     "execution_count": 239,
     "metadata": {},
     "output_type": "execute_result"
    }
   ],
   "source": [
    "type(df_mean0_factor)"
   ]
  },
  {
   "attachments": {},
   "cell_type": "markdown",
   "metadata": {},
   "source": [
    "#### 每个聚类的标签分析"
   ]
  },
  {
   "cell_type": "code",
   "execution_count": 291,
   "metadata": {},
   "outputs": [],
   "source": [
    "def plot_bar(X,Y,xlabel,ylabel,title,ylim):\n",
    "    fig = plt.figure()\n",
    "    plt.bar(X,Y,0.4,color=['blue','red','green','orange','purple'])\n",
    "    plt.xlabel(xlabel)\n",
    "    plt.ylabel(ylabel)\n",
    "    plt.ylim(0,ylim)\n",
    "    plt.title(title)\n",
    "    plt.show()"
   ]
  },
  {
   "cell_type": "code",
   "execution_count": 292,
   "metadata": {},
   "outputs": [
    {
     "data": {
      "image/png": "[encoded data removed]",
      "text/plain": [
       "<Figure size 432x288 with 1 Axes>"
      ]
     },
     "metadata": {
      "needs_background": "light"
     },
     "output_type": "display_data"
    },
    {
     "data": {
      "image/png": "[encoded data removed]",
      "text/plain": [
       "<Figure size 432x288 with 1 Axes>"
      ]
     },
     "metadata": {
      "needs_background": "light"
     },
     "output_type": "display_data"
    },
    {
     "data": {
      "image/png": "[encoded data removed]",
      "text/plain": [
       "<Figure size 432x288 with 1 Axes>"
      ]
     },
     "metadata": {
      "needs_background": "light"
     },
     "output_type": "display_data"
    },
    {
     "data": {
      "image/png": "[encoded data removed]",
      "text/plain": [
       "<Figure size 432x288 with 1 Axes>"
      ]
     },
     "metadata": {
      "needs_background": "light"
     },
     "output_type": "display_data"
    },
    {
     "data": {
      "image/png": "[encoded data removed]",
      "text/plain": [
       "<Figure size 432x288 with 1 Axes>"
      ]
     },
     "metadata": {
      "needs_background": "light"
     },
     "output_type": "display_data"
    },
    {
     "data": {
      "image/png": "[encoded data removed]",
      "text/plain": [
       "<Figure size 432x288 with 1 Axes>"
      ]
     },
     "metadata": {
      "needs_background": "light"
     },
     "output_type": "display_data"
    }
   ],
   "source": [
    "X=['cluster1','cluster2','cluster3','cluster4','cluster_5']\n",
    "Ym=marrintent_clu \n",
    "plot_bar(X,Ym,\"聚类索引\",\"结婚意愿\",\"不同聚类的结婚意愿\",3)\n",
    "Yl=lovetime_clu \n",
    "plot_bar(X,Yl,\"聚类索引\",\"恋爱次数\",\"不同聚类的恋爱次数\",2)\n",
    "Yd=desirechild_clu\n",
    "plot_bar(X,Yd,\"聚类索引\",\"意愿子女数\",\"不同聚类的意愿子女数\",1.5)\n",
    "Yi=idealchild_clu\n",
    "plot_bar(X,Yi,\"聚类索引\",\"理想子女数\",\"不同聚类的理想子女数\",2)\n",
    "Yb=idealboy_clu\n",
    "plot_bar(X,Yb,\"聚类索引\",\"理想儿子数\",\"不同聚类的理想儿子数\",1)\n",
    "Yg=idealgirl_clu\n",
    "plot_bar(X,Yg,\"聚类索引\",\"理想女儿数\",\"不同聚类的理想女儿数\",1)"
   ]
  },
  {
   "cell_type": "code",
   "execution_count": null,
   "metadata": {},
   "outputs": [],
   "source": []
  }
 ],
 "metadata": {
  "kernelspec": {
   "display_name": "Python 3",
   "language": "python",
   "name": "python3"
  },
  "language_info": {
   "codemirror_mode": {
    "name": "ipython",
    "version": 3
   },
   "file_extension": ".py",
   "mimetype": "text/x-python",
   "name": "python",
   "nbconvert_exporter": "python",
   "pygments_lexer": "ipython3",
   "version": "3.10.5 (tags/v3.10.5:f377153, Jun  6 2022, 16:14:13) [MSC v.1929 64 bit (AMD64)]"
  },
  "orig_nbformat": 4,
  "vscode": {
   "interpreter": {
    "hash": "47e86d731e077963188d400b641a1f5cee6401b89b8a1175acb1a082248e2517"
   }
  }
 },
 "nbformat": 4,
 "nbformat_minor": 2
}
